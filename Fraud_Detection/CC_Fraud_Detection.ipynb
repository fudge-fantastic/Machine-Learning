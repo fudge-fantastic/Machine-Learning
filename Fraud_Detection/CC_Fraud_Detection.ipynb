{
 "cells": [
  {
   "cell_type": "markdown",
   "id": "cf6e49f4",
   "metadata": {},
   "source": [
    "---\n",
    "\n",
    "# Credit Card Fraud Detection\n",
    "---"
   ]
  },
  {
   "cell_type": "markdown",
   "id": "a8f9c9d8",
   "metadata": {},
   "source": [
    "https://www.kaggle.com/datasets/willianoliveiragibin/high-fidelity-fraudulent-activity-2023/data"
   ]
  },
  {
   "cell_type": "markdown",
   "id": "07ef23a5",
   "metadata": {},
   "source": [
    "| **Column Name** | **Description**                                             |\n",
    "| --------------- | ----------------------------------------------------------- |\n",
    "| ID              | Likely a unique identifier for a specific credit card transaction. |\n",
    "| V1 - V28        | Features or attributes associated with the credit card transaction, potentially including information such as time, amount, location, and transaction type. |\n",
    "| Amount          | The monetary value involved in the credit card transaction, indicating the amount of money charged or credited to the card. |\n",
    "| Class           | Indicates the category or type of the transaction, classifying it as 'fraudulent' or 'legitimate' for fraud detection. |"
   ]
  },
  {
   "cell_type": "markdown",
   "id": "88fb876b",
   "metadata": {},
   "source": [
    "# Import Libraries"
   ]
  },
  {
   "cell_type": "code",
   "execution_count": 14,
   "id": "8c3a5aa0",
   "metadata": {},
   "outputs": [],
   "source": [
    "import pandas as pd\n",
    "import numpy as np \n",
    "\n",
    "# Data Visualization\n",
    "import seaborn as sns\n",
    "import matplotlib.pyplot as plt\n",
    "%matplotlib inline\n",
    "\n",
    "# Deep Learning stuff\n",
    "import tensorflow as tf\n",
    "from tensorflow import keras\n",
    "\n",
    "# Classifiers\n",
    "from sklearn.model_selection import train_test_split, GridSearchCV, RandomizedSearchCV, cross_val_score\n",
    "from sklearn.ensemble import GradientBoostingClassifier, RandomForestClassifier\n",
    "from sklearn.preprocessing import MinMaxScaler, StandardScaler\n",
    "from sklearn.linear_model import LogisticRegression\n",
    "from sklearn.model_selection import cross_validate\n",
    "from sklearn.tree import DecisionTreeClassifier\n",
    "from sklearn.svm import SVC\n",
    "\n",
    "# Metrics\n",
    "from sklearn.metrics import classification_report, confusion_matrix\n",
    "from sklearn.metrics import recall_score, f1_score, precision_score"
   ]
  },
  {
   "cell_type": "markdown",
   "id": "62689df5",
   "metadata": {},
   "source": [
    "# Explore the Data"
   ]
  },
  {
   "cell_type": "code",
   "execution_count": 15,
   "id": "2c3b0edf",
   "metadata": {},
   "outputs": [
    {
     "name": "stdout",
     "output_type": "stream",
     "text": [
      "CPU times: total: 453 ms\n",
      "Wall time: 1.68 s\n"
     ]
    },
    {
     "data": {
      "text/html": [
       "<div>\n",
       "<style scoped>\n",
       "    .dataframe tbody tr th:only-of-type {\n",
       "        vertical-align: middle;\n",
       "    }\n",
       "\n",
       "    .dataframe tbody tr th {\n",
       "        vertical-align: top;\n",
       "    }\n",
       "\n",
       "    .dataframe thead th {\n",
       "        text-align: right;\n",
       "    }\n",
       "</style>\n",
       "<table border=\"1\" class=\"dataframe\">\n",
       "  <thead>\n",
       "    <tr style=\"text-align: right;\">\n",
       "      <th></th>\n",
       "      <th>id</th>\n",
       "      <th>V1</th>\n",
       "      <th>V2</th>\n",
       "      <th>V3</th>\n",
       "      <th>V4</th>\n",
       "      <th>V5</th>\n",
       "      <th>V6</th>\n",
       "      <th>V7</th>\n",
       "      <th>V8</th>\n",
       "      <th>V9</th>\n",
       "      <th>...</th>\n",
       "      <th>V21</th>\n",
       "      <th>V22</th>\n",
       "      <th>V23</th>\n",
       "      <th>V24</th>\n",
       "      <th>V25</th>\n",
       "      <th>V26</th>\n",
       "      <th>V27</th>\n",
       "      <th>V28</th>\n",
       "      <th>Amount</th>\n",
       "      <th>Class</th>\n",
       "    </tr>\n",
       "  </thead>\n",
       "  <tbody>\n",
       "    <tr>\n",
       "      <th>470464</th>\n",
       "      <td>470464</td>\n",
       "      <td>-0.689345</td>\n",
       "      <td>-0.601922</td>\n",
       "      <td>-0.597841</td>\n",
       "      <td>0.429308</td>\n",
       "      <td>0.031936</td>\n",
       "      <td>-0.247819</td>\n",
       "      <td>-0.447187</td>\n",
       "      <td>0.169215</td>\n",
       "      <td>-0.373029</td>\n",
       "      <td>...</td>\n",
       "      <td>0.205628</td>\n",
       "      <td>0.883336</td>\n",
       "      <td>0.868387</td>\n",
       "      <td>0.058087</td>\n",
       "      <td>-1.803576</td>\n",
       "      <td>-1.667009</td>\n",
       "      <td>0.970919</td>\n",
       "      <td>0.128327</td>\n",
       "      <td>23226.79</td>\n",
       "      <td>1</td>\n",
       "    </tr>\n",
       "    <tr>\n",
       "      <th>330205</th>\n",
       "      <td>330205</td>\n",
       "      <td>-1.531546</td>\n",
       "      <td>1.238541</td>\n",
       "      <td>-1.414628</td>\n",
       "      <td>1.580299</td>\n",
       "      <td>-1.750551</td>\n",
       "      <td>-1.614500</td>\n",
       "      <td>-1.767727</td>\n",
       "      <td>1.747585</td>\n",
       "      <td>-2.145211</td>\n",
       "      <td>...</td>\n",
       "      <td>0.805380</td>\n",
       "      <td>-0.177371</td>\n",
       "      <td>-0.492072</td>\n",
       "      <td>1.132597</td>\n",
       "      <td>0.020497</td>\n",
       "      <td>0.717270</td>\n",
       "      <td>-0.382576</td>\n",
       "      <td>-0.754067</td>\n",
       "      <td>5928.52</td>\n",
       "      <td>1</td>\n",
       "    </tr>\n",
       "    <tr>\n",
       "      <th>564896</th>\n",
       "      <td>564896</td>\n",
       "      <td>0.048199</td>\n",
       "      <td>-0.384719</td>\n",
       "      <td>-0.400880</td>\n",
       "      <td>-0.119725</td>\n",
       "      <td>-0.052704</td>\n",
       "      <td>-0.521743</td>\n",
       "      <td>0.358823</td>\n",
       "      <td>-0.108098</td>\n",
       "      <td>0.180335</td>\n",
       "      <td>...</td>\n",
       "      <td>0.080351</td>\n",
       "      <td>-0.245716</td>\n",
       "      <td>0.214379</td>\n",
       "      <td>-0.465808</td>\n",
       "      <td>0.297418</td>\n",
       "      <td>0.270773</td>\n",
       "      <td>-0.057477</td>\n",
       "      <td>0.169542</td>\n",
       "      <td>4181.66</td>\n",
       "      <td>1</td>\n",
       "    </tr>\n",
       "    <tr>\n",
       "      <th>64798</th>\n",
       "      <td>64798</td>\n",
       "      <td>-0.532043</td>\n",
       "      <td>0.256071</td>\n",
       "      <td>0.267721</td>\n",
       "      <td>-1.725219</td>\n",
       "      <td>0.012135</td>\n",
       "      <td>0.284635</td>\n",
       "      <td>0.272207</td>\n",
       "      <td>0.158996</td>\n",
       "      <td>0.937395</td>\n",
       "      <td>...</td>\n",
       "      <td>-0.196927</td>\n",
       "      <td>-0.468203</td>\n",
       "      <td>-0.022014</td>\n",
       "      <td>-1.353130</td>\n",
       "      <td>0.301204</td>\n",
       "      <td>1.597170</td>\n",
       "      <td>0.074143</td>\n",
       "      <td>-0.089595</td>\n",
       "      <td>1082.50</td>\n",
       "      <td>0</td>\n",
       "    </tr>\n",
       "    <tr>\n",
       "      <th>118360</th>\n",
       "      <td>118360</td>\n",
       "      <td>1.007141</td>\n",
       "      <td>-0.210198</td>\n",
       "      <td>0.295314</td>\n",
       "      <td>-0.163071</td>\n",
       "      <td>0.412453</td>\n",
       "      <td>0.051119</td>\n",
       "      <td>0.527252</td>\n",
       "      <td>-0.180990</td>\n",
       "      <td>0.236790</td>\n",
       "      <td>...</td>\n",
       "      <td>-0.114270</td>\n",
       "      <td>-0.041511</td>\n",
       "      <td>-0.210869</td>\n",
       "      <td>-0.161855</td>\n",
       "      <td>1.155124</td>\n",
       "      <td>-0.782696</td>\n",
       "      <td>-0.195600</td>\n",
       "      <td>0.010778</td>\n",
       "      <td>13185.48</td>\n",
       "      <td>0</td>\n",
       "    </tr>\n",
       "  </tbody>\n",
       "</table>\n",
       "<p>5 rows × 31 columns</p>\n",
       "</div>"
      ],
      "text/plain": [
       "            id        V1        V2        V3        V4        V5        V6  \\\n",
       "470464  470464 -0.689345 -0.601922 -0.597841  0.429308  0.031936 -0.247819   \n",
       "330205  330205 -1.531546  1.238541 -1.414628  1.580299 -1.750551 -1.614500   \n",
       "564896  564896  0.048199 -0.384719 -0.400880 -0.119725 -0.052704 -0.521743   \n",
       "64798    64798 -0.532043  0.256071  0.267721 -1.725219  0.012135  0.284635   \n",
       "118360  118360  1.007141 -0.210198  0.295314 -0.163071  0.412453  0.051119   \n",
       "\n",
       "              V7        V8        V9  ...       V21       V22       V23  \\\n",
       "470464 -0.447187  0.169215 -0.373029  ...  0.205628  0.883336  0.868387   \n",
       "330205 -1.767727  1.747585 -2.145211  ...  0.805380 -0.177371 -0.492072   \n",
       "564896  0.358823 -0.108098  0.180335  ...  0.080351 -0.245716  0.214379   \n",
       "64798   0.272207  0.158996  0.937395  ... -0.196927 -0.468203 -0.022014   \n",
       "118360  0.527252 -0.180990  0.236790  ... -0.114270 -0.041511 -0.210869   \n",
       "\n",
       "             V24       V25       V26       V27       V28    Amount  Class  \n",
       "470464  0.058087 -1.803576 -1.667009  0.970919  0.128327  23226.79      1  \n",
       "330205  1.132597  0.020497  0.717270 -0.382576 -0.754067   5928.52      1  \n",
       "564896 -0.465808  0.297418  0.270773 -0.057477  0.169542   4181.66      1  \n",
       "64798  -1.353130  0.301204  1.597170  0.074143 -0.089595   1082.50      0  \n",
       "118360 -0.161855  1.155124 -0.782696 -0.195600  0.010778  13185.48      0  \n",
       "\n",
       "[5 rows x 31 columns]"
      ]
     },
     "execution_count": 15,
     "metadata": {},
     "output_type": "execute_result"
    }
   ],
   "source": [
    "%%time\n",
    "fd = pd.read_csv('creditcard_2023.csv')\n",
    "fd.sample(5)"
   ]
  },
  {
   "cell_type": "code",
   "execution_count": 16,
   "id": "6ba48551",
   "metadata": {},
   "outputs": [
    {
     "name": "stdout",
     "output_type": "stream",
     "text": [
      "<class 'pandas.core.frame.DataFrame'>\n",
      "RangeIndex: 568630 entries, 0 to 568629\n",
      "Data columns (total 31 columns):\n",
      " #   Column  Non-Null Count   Dtype  \n",
      "---  ------  --------------   -----  \n",
      " 0   id      568630 non-null  int64  \n",
      " 1   V1      568630 non-null  float64\n",
      " 2   V2      568630 non-null  float64\n",
      " 3   V3      568630 non-null  float64\n",
      " 4   V4      568630 non-null  float64\n",
      " 5   V5      568630 non-null  float64\n",
      " 6   V6      568630 non-null  float64\n",
      " 7   V7      568630 non-null  float64\n",
      " 8   V8      568630 non-null  float64\n",
      " 9   V9      568630 non-null  float64\n",
      " 10  V10     568630 non-null  float64\n",
      " 11  V11     568630 non-null  float64\n",
      " 12  V12     568630 non-null  float64\n",
      " 13  V13     568630 non-null  float64\n",
      " 14  V14     568630 non-null  float64\n",
      " 15  V15     568630 non-null  float64\n",
      " 16  V16     568630 non-null  float64\n",
      " 17  V17     568630 non-null  float64\n",
      " 18  V18     568630 non-null  float64\n",
      " 19  V19     568630 non-null  float64\n",
      " 20  V20     568630 non-null  float64\n",
      " 21  V21     568630 non-null  float64\n",
      " 22  V22     568630 non-null  float64\n",
      " 23  V23     568630 non-null  float64\n",
      " 24  V24     568630 non-null  float64\n",
      " 25  V25     568630 non-null  float64\n",
      " 26  V26     568630 non-null  float64\n",
      " 27  V27     568630 non-null  float64\n",
      " 28  V28     568630 non-null  float64\n",
      " 29  Amount  568630 non-null  float64\n",
      " 30  Class   568630 non-null  int64  \n",
      "dtypes: float64(29), int64(2)\n",
      "memory usage: 134.5 MB\n"
     ]
    }
   ],
   "source": [
    "fd.info()"
   ]
  },
  {
   "cell_type": "code",
   "execution_count": 17,
   "id": "b4ba4874",
   "metadata": {},
   "outputs": [
    {
     "data": {
      "text/plain": [
       "id        0\n",
       "V1        0\n",
       "V2        0\n",
       "V3        0\n",
       "V4        0\n",
       "V5        0\n",
       "V6        0\n",
       "V7        0\n",
       "V8        0\n",
       "V9        0\n",
       "V10       0\n",
       "V11       0\n",
       "V12       0\n",
       "V13       0\n",
       "V14       0\n",
       "V15       0\n",
       "V16       0\n",
       "V17       0\n",
       "V18       0\n",
       "V19       0\n",
       "V20       0\n",
       "V21       0\n",
       "V22       0\n",
       "V23       0\n",
       "V24       0\n",
       "V25       0\n",
       "V26       0\n",
       "V27       0\n",
       "V28       0\n",
       "Amount    0\n",
       "Class     0\n",
       "dtype: int64"
      ]
     },
     "execution_count": 17,
     "metadata": {},
     "output_type": "execute_result"
    }
   ],
   "source": [
    "fd.isnull().sum()\n",
    "# no null values"
   ]
  },
  {
   "cell_type": "code",
   "execution_count": 18,
   "id": "ab86006c",
   "metadata": {},
   "outputs": [
    {
     "data": {
      "image/png": "[encoded data removed]",
      "text/plain": [
       "<Figure size 1000x600 with 1 Axes>"
      ]
     },
     "metadata": {},
     "output_type": "display_data"
    }
   ],
   "source": [
    "plt.figure(figsize=(10,6))\n",
    "sns.kdeplot(data = fd, x = 'Amount', fill = True)\n",
    "plt.show()"
   ]
  },
  {
   "cell_type": "markdown",
   "id": "12d9d3ef",
   "metadata": {},
   "source": [
    "# Data Split and Scaling"
   ]
  },
  {
   "cell_type": "code",
   "execution_count": 19,
   "id": "ed887455",
   "metadata": {},
   "outputs": [],
   "source": [
    "X = fd.drop(['id', 'Class'], axis = 1)\n",
    "y = fd.Class"
   ]
  },
  {
   "cell_type": "code",
   "execution_count": 20,
   "id": "e5c44b59",
   "metadata": {},
   "outputs": [
    {
     "data": {
      "text/plain": [
       "Class\n",
       "0    284315\n",
       "1    284315\n",
       "Name: count, dtype: int64"
      ]
     },
     "execution_count": 20,
     "metadata": {},
     "output_type": "execute_result"
    }
   ],
   "source": [
    "y.value_counts()"
   ]
  },
  {
   "cell_type": "code",
   "execution_count": 21,
   "id": "147738c9",
   "metadata": {},
   "outputs": [],
   "source": [
    "scaler1 = MinMaxScaler()\n",
    "X_scaled_MM = scaler1.fit_transform(X)\n",
    "\n",
    "scaler2 = StandardScaler()\n",
    "X_scaled_SS = scaler2.fit_transform(X)"
   ]
  },
  {
   "cell_type": "code",
   "execution_count": 22,
   "id": "4a6655c3",
   "metadata": {},
   "outputs": [],
   "source": [
    "X_train, X_test, y_train, y_test = train_test_split(X_scaled_MM, y, test_size=0.25, random_state=42)"
   ]
  },
  {
   "cell_type": "markdown",
   "id": "2c75c0df",
   "metadata": {},
   "source": [
    "# Cross-Validation"
   ]
  },
  {
   "cell_type": "code",
   "execution_count": 23,
   "id": "0e4957bc",
   "metadata": {},
   "outputs": [],
   "source": [
    "# %%time\n",
    "# models = [\n",
    "#     ('Logistic Regression', LogisticRegression(max_iter=1000)),\n",
    "#     ('Random Forest', RandomForestClassifier()),\n",
    "#     ('SVM', SVC()),\n",
    "#     ('Gradient Boosting', GradientBoostingClassifier()),\n",
    "#     ('Decision Tree', DecisionTreeClassifier())\n",
    "# ]\n",
    "\n",
    "# # Metrics to be calculated\n",
    "# scoring = ['accuracy', 'precision', 'recall', 'f1', 'roc_auc']\n",
    "\n",
    "# # Iterating through each model and performing cross-validation\n",
    "# for name, model in models:\n",
    "#     results = cross_validate(model, X_train, y_train, cv=5, scoring=scoring)\n",
    "    \n",
    "#     print(\"====================\")\n",
    "#     print(f'{name}:')\n",
    "#     print(f\"  Accuracy: {results['test_accuracy'].mean():.2f}\")\n",
    "#     print(f\"  Precision: {results['test_precision'].mean():.2f}\")\n",
    "#     print(f\"  Recall: {results['test_recall'].mean():.2f}\")\n",
    "#     print(f\"  F1 Score: {results['test_f1'].mean():.2f}\")\n",
    "#     print(f\"  ROC AUC: {results['test_roc_auc'].mean():.2f}\")\n",
    "#     print(\"====================\")"
   ]
  },
  {
   "cell_type": "markdown",
   "id": "b65235f9",
   "metadata": {},
   "source": [
    "---\n",
    "#### Logistic Regression:\n",
    "- Accuracy: 0.96\n",
    "- Precision: 0.98\n",
    "- Recall: 0.94\n",
    "- F1 Score: 0.96\n",
    "- ROC AUC: 0.99\n",
    "---\n",
    "#### Random Forest:\n",
    "- Accuracy: 1.00\n",
    "- Precision: 1.00\n",
    "- Recall: 1.00\n",
    "- F1 Score: 1.00\n",
    "- ROC AUC: 1.00\n",
    "---\n",
    "#### SVM:\n",
    "- Accuracy: 0.97\n",
    "- Precision: 0.99\n",
    "- Recall: 0.96\n",
    "- F1 Score: 0.97\n",
    "- ROC AUC: 1.00\n",
    "---\n",
    "#### Gradient Boosting:\n",
    "- Accuracy: 0.98\n",
    "- Precision: 0.99\n",
    "- Recall: 0.97\n",
    "- F1 Score: 0.98\n",
    "- ROC AUC: 1.00\n",
    "---\n",
    "#### Decision Tree:\n",
    "- Accuracy: 1.00\n",
    "- Precision: 1.00\n",
    "- Recall: 1.00\n",
    "- F1 Score: 1.00\n",
    "- ROC AUC: 1.00\n",
    "---\n",
    "CPU times: total: 2h 44min 52s <br>\n",
    "Wall time: 3h 42min 13s"
   ]
  },
  {
   "cell_type": "code",
   "execution_count": 24,
   "id": "45c4ca7e",
   "metadata": {},
   "outputs": [
    {
     "data": {
      "text/plain": [
       "V1        False\n",
       "V2        False\n",
       "V3        False\n",
       "V4        False\n",
       "V5        False\n",
       "V6        False\n",
       "V7        False\n",
       "V8        False\n",
       "V9        False\n",
       "V10       False\n",
       "V11       False\n",
       "V12       False\n",
       "V13       False\n",
       "V14       False\n",
       "V15       False\n",
       "V16       False\n",
       "V17       False\n",
       "V18       False\n",
       "V19       False\n",
       "V20       False\n",
       "V21       False\n",
       "V22       False\n",
       "V23       False\n",
       "V24       False\n",
       "V25       False\n",
       "V26       False\n",
       "V27       False\n",
       "V28       False\n",
       "Amount    False\n",
       "dtype: bool"
      ]
     },
     "execution_count": 24,
     "metadata": {},
     "output_type": "execute_result"
    }
   ],
   "source": [
    "X.isnull().any()"
   ]
  },
  {
   "cell_type": "code",
   "execution_count": 25,
   "id": "f47fc9a0",
   "metadata": {},
   "outputs": [],
   "source": [
    "model_1 = RandomForestClassifier()\n",
    "# model_2 = DecisionTreeClassifier()"
   ]
  },
  {
   "cell_type": "code",
   "execution_count": 26,
   "id": "c5676bcf",
   "metadata": {},
   "outputs": [
    {
     "name": "stdout",
     "output_type": "stream",
     "text": [
      "CPU times: total: 2min 21s\n",
      "Wall time: 7min 44s\n"
     ]
    },
    {
     "data": {
      "text/html": [
       "<style>#sk-container-id-1 {color: black;}#sk-container-id-1 pre{padding: 0;}#sk-container-id-1 div.sk-toggleable {background-color: white;}#sk-container-id-1 label.sk-toggleable__label {cursor: pointer;display: block;width: 100%;margin-bottom: 0;padding: 0.3em;box-sizing: border-box;text-align: center;}#sk-container-id-1 label.sk-toggleable__label-arrow:before {content: \"▸\";float: left;margin-right: 0.25em;color: #696969;}#sk-container-id-1 label.sk-toggleable__label-arrow:hover:before {color: black;}#sk-container-id-1 div.sk-estimator:hover label.sk-toggleable__label-arrow:before {color: black;}#sk-container-id-1 div.sk-toggleable__content {max-height: 0;max-width: 0;overflow: hidden;text-align: left;background-color: #f0f8ff;}#sk-container-id-1 div.sk-toggleable__content pre {margin: 0.2em;color: black;border-radius: 0.25em;background-color: #f0f8ff;}#sk-container-id-1 input.sk-toggleable__control:checked~div.sk-toggleable__content {max-height: 200px;max-width: 100%;overflow: auto;}#sk-container-id-1 input.sk-toggleable__control:checked~label.sk-toggleable__label-arrow:before {content: \"▾\";}#sk-container-id-1 div.sk-estimator input.sk-toggleable__control:checked~label.sk-toggleable__label {background-color: #d4ebff;}#sk-container-id-1 div.sk-label input.sk-toggleable__control:checked~label.sk-toggleable__label {background-color: #d4ebff;}#sk-container-id-1 input.sk-hidden--visually {border: 0;clip: rect(1px 1px 1px 1px);clip: rect(1px, 1px, 1px, 1px);height: 1px;margin: -1px;overflow: hidden;padding: 0;position: absolute;width: 1px;}#sk-container-id-1 div.sk-estimator {font-family: monospace;background-color: #f0f8ff;border: 1px dotted black;border-radius: 0.25em;box-sizing: border-box;margin-bottom: 0.5em;}#sk-container-id-1 div.sk-estimator:hover {background-color: #d4ebff;}#sk-container-id-1 div.sk-parallel-item::after {content: \"\";width: 100%;border-bottom: 1px solid gray;flex-grow: 1;}#sk-container-id-1 div.sk-label:hover label.sk-toggleable__label {background-color: #d4ebff;}#sk-container-id-1 div.sk-serial::before {content: \"\";position: absolute;border-left: 1px solid gray;box-sizing: border-box;top: 0;bottom: 0;left: 50%;z-index: 0;}#sk-container-id-1 div.sk-serial {display: flex;flex-direction: column;align-items: center;background-color: white;padding-right: 0.2em;padding-left: 0.2em;position: relative;}#sk-container-id-1 div.sk-item {position: relative;z-index: 1;}#sk-container-id-1 div.sk-parallel {display: flex;align-items: stretch;justify-content: center;background-color: white;position: relative;}#sk-container-id-1 div.sk-item::before, #sk-container-id-1 div.sk-parallel-item::before {content: \"\";position: absolute;border-left: 1px solid gray;box-sizing: border-box;top: 0;bottom: 0;left: 50%;z-index: -1;}#sk-container-id-1 div.sk-parallel-item {display: flex;flex-direction: column;z-index: 1;position: relative;background-color: white;}#sk-container-id-1 div.sk-parallel-item:first-child::after {align-self: flex-end;width: 50%;}#sk-container-id-1 div.sk-parallel-item:last-child::after {align-self: flex-start;width: 50%;}#sk-container-id-1 div.sk-parallel-item:only-child::after {width: 0;}#sk-container-id-1 div.sk-dashed-wrapped {border: 1px dashed gray;margin: 0 0.4em 0.5em 0.4em;box-sizing: border-box;padding-bottom: 0.4em;background-color: white;}#sk-container-id-1 div.sk-label label {font-family: monospace;font-weight: bold;display: inline-block;line-height: 1.2em;}#sk-container-id-1 div.sk-label-container {text-align: center;}#sk-container-id-1 div.sk-container {/* jupyter's `normalize.less` sets `[hidden] { display: none; }` but bootstrap.min.css set `[hidden] { display: none !important; }` so we also need the `!important` here to be able to override the default hidden behavior on the sphinx rendered scikit-learn.org. See: https://github.com/scikit-learn/scikit-learn/issues/21755 */display: inline-block !important;position: relative;}#sk-container-id-1 div.sk-text-repr-fallback {display: none;}</style><div id=\"sk-container-id-1\" class=\"sk-top-container\"><div class=\"sk-text-repr-fallback\"><pre>RandomForestClassifier()</pre><b>In a Jupyter environment, please rerun this cell to show the HTML representation or trust the notebook. <br />On GitHub, the HTML representation is unable to render, please try loading this page with nbviewer.org.</b></div><div class=\"sk-container\" hidden><div class=\"sk-item\"><div class=\"sk-estimator sk-toggleable\"><input class=\"sk-toggleable__control sk-hidden--visually\" id=\"sk-estimator-id-1\" type=\"checkbox\" checked><label for=\"sk-estimator-id-1\" class=\"sk-toggleable__label sk-toggleable__label-arrow\">RandomForestClassifier</label><div class=\"sk-toggleable__content\"><pre>RandomForestClassifier()</pre></div></div></div></div></div>"
      ],
      "text/plain": [
       "RandomForestClassifier()"
      ]
     },
     "execution_count": 26,
     "metadata": {},
     "output_type": "execute_result"
    }
   ],
   "source": [
    "%%time\n",
    "model_1.fit(X_train, y_train)\n",
    "\n",
    "# Accidently pressed M on this cell, it takes 8 mins to fit the model"
   ]
  },
  {
   "cell_type": "code",
   "execution_count": 27,
   "id": "d9a129a7",
   "metadata": {},
   "outputs": [
    {
     "name": "stdout",
     "output_type": "stream",
     "text": [
      "Accuracy: 100.0\n",
      "Classification Report:\n",
      "              precision    recall  f1-score   support\n",
      "\n",
      "           0       1.00      1.00      1.00     71023\n",
      "           1       1.00      1.00      1.00     71135\n",
      "\n",
      "    accuracy                           1.00    142158\n",
      "   macro avg       1.00      1.00      1.00    142158\n",
      "weighted avg       1.00      1.00      1.00    142158\n",
      "\n",
      "CPU times: total: 125 ms\n",
      "Wall time: 1.28 s\n"
     ]
    }
   ],
   "source": [
    "%%time\n",
    "from sklearn.metrics import accuracy_score\n",
    "y_pred = model_1.predict(X_test)\n",
    "accuracy = accuracy_score(y_test, y_pred)\n",
    "print(\"Accuracy:\", round(accuracy,2)*100)\n",
    "\n",
    "print(\"Classification Report:\")\n",
    "print(classification_report(y_test, y_pred))"
   ]
  },
  {
   "cell_type": "code",
   "execution_count": 28,
   "id": "24a6cf22",
   "metadata": {},
   "outputs": [
    {
     "name": "stdout",
     "output_type": "stream",
     "text": [
      "[[71004    19]\n",
      " [    0 71135]]\n"
     ]
    }
   ],
   "source": [
    "print(confusion_matrix(y_test, y_pred))"
   ]
  },
  {
   "cell_type": "code",
   "execution_count": 29,
   "id": "8f8cb15e",
   "metadata": {
    "scrolled": true
   },
   "outputs": [
    {
     "data": {
      "image/png": "[encoded data removed]",
      "text/plain": [
       "<Figure size 640x480 with 2 Axes>"
      ]
     },
     "metadata": {},
     "output_type": "display_data"
    }
   ],
   "source": [
    "cm = tf.math.confusion_matrix(labels = y_test, predictions= y_pred)\n",
    "sns.heatmap(cm, annot=True, fmt='d')\n",
    "plt.xlabel(\"Predicted\")\n",
    "plt.ylabel(\"Truth\")\n",
    "plt.show()"
   ]
  },
  {
   "cell_type": "markdown",
   "id": "0e39970c",
   "metadata": {},
   "source": [
    "The results are tight, achieving high accuracy and effectively identifying both positive and negative instances. The absence of false negatives is particularly noteworthy."
   ]
  }
 ],
 "metadata": {
  "kernelspec": {
   "display_name": "Python 3 (ipykernel)",
   "language": "python",
   "name": "python3"
  },
  "language_info": {
   "codemirror_mode": {
    "name": "ipython",
    "version": 3
   },
   "file_extension": ".py",
   "mimetype": "text/x-python",
   "name": "python",
   "nbconvert_exporter": "python",
   "pygments_lexer": "ipython3",
   "version": "3.10.13"
  }
 },
 "nbformat": 4,
 "nbformat_minor": 5
}
