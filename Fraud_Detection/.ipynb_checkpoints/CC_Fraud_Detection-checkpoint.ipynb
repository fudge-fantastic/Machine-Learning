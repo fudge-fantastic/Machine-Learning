{
 "cells": [
  {
   "cell_type": "markdown",
   "id": "cf6e49f4",
   "metadata": {},
   "source": [
    "---\n",
    "\n",
    "# Credit Card Fraud Detection\n",
    "---"
   ]
  },
  {
   "cell_type": "markdown",
   "id": "a8f9c9d8",
   "metadata": {},
   "source": [
    "https://www.kaggle.com/datasets/willianoliveiragibin/high-fidelity-fraudulent-activity-2023/data"
   ]
  },
  {
   "cell_type": "markdown",
   "id": "07ef23a5",
   "metadata": {},
   "source": [
    "| **Column Name** | **Description**                                             |\n",
    "| --------------- | ----------------------------------------------------------- |\n",
    "| ID              | Likely a unique identifier for a specific credit card transaction. |\n",
    "| V1 - V28        | Features or attributes associated with the credit card transaction, potentially including information such as time, amount, location, and transaction type. |\n",
    "| Amount          | The monetary value involved in the credit card transaction, indicating the amount of money charged or credited to the card. |\n",
    "| Class           | Indicates the category or type of the transaction, classifying it as 'fraudulent' or 'legitimate' for fraud detection. |"
   ]
  },
  {
   "cell_type": "markdown",
   "id": "88fb876b",
   "metadata": {},
   "source": [
    "# Import Libraries"
   ]
  },
  {
   "cell_type": "code",
   "execution_count": 4,
   "id": "019b6977",
   "metadata": {},
   "outputs": [
    {
     "name": "stderr",
     "output_type": "stream",
     "text": [
      "UsageError: Line magic function `%%time` not found.\n"
     ]
    }
   ],
   "source": [
    "# Measure the time taken to complete the execution of a cell\n",
    "%%time"
   ]
  },
  {
   "cell_type": "code",
   "execution_count": null,
   "id": "8c3a5aa0",
   "metadata": {},
   "outputs": [
    {
     "name": "stdout",
     "output_type": "stream",
     "text": [
      "CPU times: total: 1.09 s\n",
      "Wall time: 3.26 s\n"
     ]
    }
   ],
   "source": [
    "import pandas as pd\n",
    "import numpy as np \n",
    "\n",
    "# Data Visualization\n",
    "import seaborn as sns\n",
    "import matplotlib.pyplot as plt\n",
    "%matplotlib inline\n",
    "\n",
    "# Deep Learning stuff\n",
    "import tensorflow as tf\n",
    "from tensorflow import keras\n",
    "\n",
    "# Classifiers\n",
    "from sklearn.model_selection import train_test_split, GridSearchCV, RandomizedSearchCV, cross_val_score\n",
    "from sklearn.ensemble import GradientBoostingClassifier, RandomForestClassifier\n",
    "from sklearn.preprocessing import MinMaxScaler, StandardScaler\n",
    "from sklearn.linear_model import LogisticRegression\n",
    "from sklearn.model_selection import cross_validate\n",
    "from sklearn.tree import DecisionTreeClassifier\n",
    "from sklearn.svm import SVC\n",
    "\n",
    "# Metrics\n",
    "from sklearn.metrics import classification_report, confusion_matrix\n",
    "from sklearn.metrics import recall_score, f1_score, precision_score"
   ]
  },
  {
   "cell_type": "markdown",
   "id": "62689df5",
   "metadata": {},
   "source": [
    "# Explore the Data"
   ]
  },
  {
   "cell_type": "code",
   "execution_count": 2,
   "id": "2c3b0edf",
   "metadata": {},
   "outputs": [
    {
     "name": "stdout",
     "output_type": "stream",
     "text": [
      "CPU times: total: 953 ms\n",
      "Wall time: 1.64 s\n"
     ]
    },
    {
     "data": {
      "text/html": [
       "<div>\n",
       "<style scoped>\n",
       "    .dataframe tbody tr th:only-of-type {\n",
       "        vertical-align: middle;\n",
       "    }\n",
       "\n",
       "    .dataframe tbody tr th {\n",
       "        vertical-align: top;\n",
       "    }\n",
       "\n",
       "    .dataframe thead th {\n",
       "        text-align: right;\n",
       "    }\n",
       "</style>\n",
       "<table border=\"1\" class=\"dataframe\">\n",
       "  <thead>\n",
       "    <tr style=\"text-align: right;\">\n",
       "      <th></th>\n",
       "      <th>id</th>\n",
       "      <th>V1</th>\n",
       "      <th>V2</th>\n",
       "      <th>V3</th>\n",
       "      <th>V4</th>\n",
       "      <th>V5</th>\n",
       "      <th>V6</th>\n",
       "      <th>V7</th>\n",
       "      <th>V8</th>\n",
       "      <th>V9</th>\n",
       "      <th>...</th>\n",
       "      <th>V21</th>\n",
       "      <th>V22</th>\n",
       "      <th>V23</th>\n",
       "      <th>V24</th>\n",
       "      <th>V25</th>\n",
       "      <th>V26</th>\n",
       "      <th>V27</th>\n",
       "      <th>V28</th>\n",
       "      <th>Amount</th>\n",
       "      <th>Class</th>\n",
       "    </tr>\n",
       "  </thead>\n",
       "  <tbody>\n",
       "    <tr>\n",
       "      <th>483704</th>\n",
       "      <td>483704</td>\n",
       "      <td>-0.267351</td>\n",
       "      <td>-0.052221</td>\n",
       "      <td>0.152340</td>\n",
       "      <td>-0.103613</td>\n",
       "      <td>-0.191548</td>\n",
       "      <td>-0.054910</td>\n",
       "      <td>-0.147531</td>\n",
       "      <td>-0.012535</td>\n",
       "      <td>0.020915</td>\n",
       "      <td>...</td>\n",
       "      <td>0.156176</td>\n",
       "      <td>0.559647</td>\n",
       "      <td>-0.151139</td>\n",
       "      <td>0.131745</td>\n",
       "      <td>0.394313</td>\n",
       "      <td>-0.289540</td>\n",
       "      <td>-0.354522</td>\n",
       "      <td>-0.124305</td>\n",
       "      <td>8961.48</td>\n",
       "      <td>1</td>\n",
       "    </tr>\n",
       "    <tr>\n",
       "      <th>416910</th>\n",
       "      <td>416910</td>\n",
       "      <td>0.121085</td>\n",
       "      <td>-0.063915</td>\n",
       "      <td>1.334560</td>\n",
       "      <td>0.187261</td>\n",
       "      <td>0.625992</td>\n",
       "      <td>0.616058</td>\n",
       "      <td>0.711491</td>\n",
       "      <td>-0.162246</td>\n",
       "      <td>0.120323</td>\n",
       "      <td>...</td>\n",
       "      <td>-0.024523</td>\n",
       "      <td>0.619554</td>\n",
       "      <td>-0.152739</td>\n",
       "      <td>1.211408</td>\n",
       "      <td>-0.473781</td>\n",
       "      <td>-0.228479</td>\n",
       "      <td>-0.466843</td>\n",
       "      <td>-0.352957</td>\n",
       "      <td>20059.26</td>\n",
       "      <td>1</td>\n",
       "    </tr>\n",
       "    <tr>\n",
       "      <th>402475</th>\n",
       "      <td>402475</td>\n",
       "      <td>-0.872067</td>\n",
       "      <td>-0.898259</td>\n",
       "      <td>-0.779094</td>\n",
       "      <td>0.362428</td>\n",
       "      <td>0.056067</td>\n",
       "      <td>-0.457880</td>\n",
       "      <td>0.013265</td>\n",
       "      <td>0.046087</td>\n",
       "      <td>-0.768015</td>\n",
       "      <td>...</td>\n",
       "      <td>0.186299</td>\n",
       "      <td>0.827680</td>\n",
       "      <td>0.531008</td>\n",
       "      <td>-0.314675</td>\n",
       "      <td>1.299216</td>\n",
       "      <td>-0.196792</td>\n",
       "      <td>0.767278</td>\n",
       "      <td>-0.745157</td>\n",
       "      <td>3530.51</td>\n",
       "      <td>1</td>\n",
       "    </tr>\n",
       "    <tr>\n",
       "      <th>497632</th>\n",
       "      <td>497632</td>\n",
       "      <td>-1.704517</td>\n",
       "      <td>2.599199</td>\n",
       "      <td>-1.205391</td>\n",
       "      <td>0.503527</td>\n",
       "      <td>-0.949674</td>\n",
       "      <td>3.226002</td>\n",
       "      <td>-2.323095</td>\n",
       "      <td>-6.027712</td>\n",
       "      <td>0.273389</td>\n",
       "      <td>...</td>\n",
       "      <td>8.087080</td>\n",
       "      <td>-6.450353</td>\n",
       "      <td>6.343132</td>\n",
       "      <td>-1.075048</td>\n",
       "      <td>0.349881</td>\n",
       "      <td>-0.240261</td>\n",
       "      <td>1.534445</td>\n",
       "      <td>2.154102</td>\n",
       "      <td>8543.59</td>\n",
       "      <td>1</td>\n",
       "    </tr>\n",
       "    <tr>\n",
       "      <th>240479</th>\n",
       "      <td>240479</td>\n",
       "      <td>0.072366</td>\n",
       "      <td>-0.629176</td>\n",
       "      <td>-0.205527</td>\n",
       "      <td>-1.081060</td>\n",
       "      <td>1.480454</td>\n",
       "      <td>-0.126329</td>\n",
       "      <td>1.411344</td>\n",
       "      <td>-0.293147</td>\n",
       "      <td>0.180964</td>\n",
       "      <td>...</td>\n",
       "      <td>0.115156</td>\n",
       "      <td>1.454817</td>\n",
       "      <td>0.333497</td>\n",
       "      <td>-2.055300</td>\n",
       "      <td>-1.564019</td>\n",
       "      <td>1.442653</td>\n",
       "      <td>0.015041</td>\n",
       "      <td>0.290082</td>\n",
       "      <td>22926.32</td>\n",
       "      <td>0</td>\n",
       "    </tr>\n",
       "  </tbody>\n",
       "</table>\n",
       "<p>5 rows × 31 columns</p>\n",
       "</div>"
      ],
      "text/plain": [
       "            id        V1        V2        V3        V4        V5        V6  \\\n",
       "483704  483704 -0.267351 -0.052221  0.152340 -0.103613 -0.191548 -0.054910   \n",
       "416910  416910  0.121085 -0.063915  1.334560  0.187261  0.625992  0.616058   \n",
       "402475  402475 -0.872067 -0.898259 -0.779094  0.362428  0.056067 -0.457880   \n",
       "497632  497632 -1.704517  2.599199 -1.205391  0.503527 -0.949674  3.226002   \n",
       "240479  240479  0.072366 -0.629176 -0.205527 -1.081060  1.480454 -0.126329   \n",
       "\n",
       "              V7        V8        V9  ...       V21       V22       V23  \\\n",
       "483704 -0.147531 -0.012535  0.020915  ...  0.156176  0.559647 -0.151139   \n",
       "416910  0.711491 -0.162246  0.120323  ... -0.024523  0.619554 -0.152739   \n",
       "402475  0.013265  0.046087 -0.768015  ...  0.186299  0.827680  0.531008   \n",
       "497632 -2.323095 -6.027712  0.273389  ...  8.087080 -6.450353  6.343132   \n",
       "240479  1.411344 -0.293147  0.180964  ...  0.115156  1.454817  0.333497   \n",
       "\n",
       "             V24       V25       V26       V27       V28    Amount  Class  \n",
       "483704  0.131745  0.394313 -0.289540 -0.354522 -0.124305   8961.48      1  \n",
       "416910  1.211408 -0.473781 -0.228479 -0.466843 -0.352957  20059.26      1  \n",
       "402475 -0.314675  1.299216 -0.196792  0.767278 -0.745157   3530.51      1  \n",
       "497632 -1.075048  0.349881 -0.240261  1.534445  2.154102   8543.59      1  \n",
       "240479 -2.055300 -1.564019  1.442653  0.015041  0.290082  22926.32      0  \n",
       "\n",
       "[5 rows x 31 columns]"
      ]
     },
     "execution_count": 2,
     "metadata": {},
     "output_type": "execute_result"
    }
   ],
   "source": [
    "%%time\n",
    "fd = pd.read_csv('creditcard_2023.csv')\n",
    "fd.sample(5)"
   ]
  },
  {
   "cell_type": "code",
   "execution_count": 3,
   "id": "6ba48551",
   "metadata": {},
   "outputs": [
    {
     "name": "stdout",
     "output_type": "stream",
     "text": [
      "<class 'pandas.core.frame.DataFrame'>\n",
      "RangeIndex: 568630 entries, 0 to 568629\n",
      "Data columns (total 31 columns):\n",
      " #   Column  Non-Null Count   Dtype  \n",
      "---  ------  --------------   -----  \n",
      " 0   id      568630 non-null  int64  \n",
      " 1   V1      568630 non-null  float64\n",
      " 2   V2      568630 non-null  float64\n",
      " 3   V3      568630 non-null  float64\n",
      " 4   V4      568630 non-null  float64\n",
      " 5   V5      568630 non-null  float64\n",
      " 6   V6      568630 non-null  float64\n",
      " 7   V7      568630 non-null  float64\n",
      " 8   V8      568630 non-null  float64\n",
      " 9   V9      568630 non-null  float64\n",
      " 10  V10     568630 non-null  float64\n",
      " 11  V11     568630 non-null  float64\n",
      " 12  V12     568630 non-null  float64\n",
      " 13  V13     568630 non-null  float64\n",
      " 14  V14     568630 non-null  float64\n",
      " 15  V15     568630 non-null  float64\n",
      " 16  V16     568630 non-null  float64\n",
      " 17  V17     568630 non-null  float64\n",
      " 18  V18     568630 non-null  float64\n",
      " 19  V19     568630 non-null  float64\n",
      " 20  V20     568630 non-null  float64\n",
      " 21  V21     568630 non-null  float64\n",
      " 22  V22     568630 non-null  float64\n",
      " 23  V23     568630 non-null  float64\n",
      " 24  V24     568630 non-null  float64\n",
      " 25  V25     568630 non-null  float64\n",
      " 26  V26     568630 non-null  float64\n",
      " 27  V27     568630 non-null  float64\n",
      " 28  V28     568630 non-null  float64\n",
      " 29  Amount  568630 non-null  float64\n",
      " 30  Class   568630 non-null  int64  \n",
      "dtypes: float64(29), int64(2)\n",
      "memory usage: 134.5 MB\n"
     ]
    }
   ],
   "source": [
    "fd.info()"
   ]
  },
  {
   "cell_type": "code",
   "execution_count": 4,
   "id": "b4ba4874",
   "metadata": {},
   "outputs": [],
   "source": [
    "# fd.isnull().sum()\n",
    "# no null values"
   ]
  },
  {
   "cell_type": "code",
   "execution_count": 7,
   "id": "15a6974b",
   "metadata": {},
   "outputs": [],
   "source": [
    "# If any duplicates, use this\n",
    "# fd.shape - (568630, 31)\n",
    "# fd = fd.drop_duplicates() - False\n",
    "# fd.shape - (568630, 31)"
   ]
  },
  {
   "cell_type": "code",
   "execution_count": 9,
   "id": "ab86006c",
   "metadata": {},
   "outputs": [
    {
     "data": {
      "image/png": "[encoded data removed]",
      "text/plain": [
       "<Figure size 1000x600 with 1 Axes>"
      ]
     },
     "metadata": {},
     "output_type": "display_data"
    }
   ],
   "source": [
    "plt.figure(figsize=(10,6))\n",
    "sns.kdeplot(data = fd, x = 'Amount', fill = True)\n",
    "plt.show()"
   ]
  },
  {
   "cell_type": "markdown",
   "id": "e6572a70",
   "metadata": {},
   "source": [
    "# Skew\n",
    "Dealing with skewness in the data is essential for ensuring accurate and robust ML models. Skewed data can negatively impact model performance, violate assumptions, and hinder interpretability. Transforming skewed features helps in creating models that generalize well and are less sensitive to distribution-related issues."
   ]
  },
  {
   "cell_type": "code",
   "execution_count": 10,
   "id": "a3f13bc8",
   "metadata": {},
   "outputs": [],
   "source": [
    "skew = fd.skew()"
   ]
  },
  {
   "cell_type": "code",
   "execution_count": 11,
   "id": "6176b337",
   "metadata": {},
   "outputs": [
    {
     "name": "stdout",
     "output_type": "stream",
     "text": [
      "Positive skew: ['V5', 'V7', 'V10', 'V27', 'V28']\n",
      "Negative skew: ['V2', 'V20']\n"
     ]
    }
   ],
   "source": [
    "pos_skew = []\n",
    "for col_name, skew_value in skew.items():\n",
    "    if skew_value > 0.5:\n",
    "        pos_skew.append(col_name)\n",
    "        \n",
    "print(\"Positive skew:\",pos_skew)\n",
    "\n",
    "neg_skew = []\n",
    "for col_name, skew_value in skew.items():\n",
    "    if skew_value < -0.5:\n",
    "        neg_skew.append(col_name)\n",
    "        \n",
    "print(\"Negative skew:\",neg_skew)"
   ]
  },
  {
   "cell_type": "code",
   "execution_count": 12,
   "id": "444f9def",
   "metadata": {},
   "outputs": [
    {
     "name": "stderr",
     "output_type": "stream",
     "text": [
      "C:\\Users\\owner\\anaconda3\\envs\\tensorflow\\lib\\site-packages\\pandas\\core\\arraylike.py:396: RuntimeWarning: invalid value encountered in log1p\n",
      "  result = getattr(ufunc, method)(*inputs, **kwargs)\n"
     ]
    }
   ],
   "source": [
    "for column_name in pos_skew:\n",
    "    fd[column_name] = np.log1p(fd[column_name])\n",
    "\n",
    "# Drop the original columns if needed\n",
    "fd.drop(columns=pos_skew, inplace=True)"
   ]
  },
  {
   "cell_type": "code",
   "execution_count": 13,
   "id": "fc83fecd",
   "metadata": {},
   "outputs": [
    {
     "name": "stderr",
     "output_type": "stream",
     "text": [
      "C:\\Users\\owner\\anaconda3\\envs\\tensorflow\\lib\\site-packages\\pandas\\core\\arraylike.py:396: RuntimeWarning: invalid value encountered in log1p\n",
      "  result = getattr(ufunc, method)(*inputs, **kwargs)\n"
     ]
    }
   ],
   "source": [
    "for column_name in neg_skew:\n",
    "    fd[column_name] = np.log1p(fd[column_name])\n",
    "\n",
    "# Drop the original columns if needed\n",
    "fd.drop(columns=neg_skew, inplace=True)"
   ]
  },
  {
   "cell_type": "code",
   "execution_count": 14,
   "id": "df006163",
   "metadata": {},
   "outputs": [
    {
     "data": {
      "text/plain": [
       "id       -6.579536e-16\n",
       "V1       -8.341717e-02\n",
       "V3        1.462221e-02\n",
       "V4       -4.416893e-02\n",
       "V6       -2.016110e-01\n",
       "V8        2.999722e-01\n",
       "V9        1.710575e-01\n",
       "V11      -2.089056e-02\n",
       "V12       6.675895e-02\n",
       "V13       1.490639e-02\n",
       "V14       2.078348e-01\n",
       "V15       1.123298e-02\n",
       "V16       2.664070e-01\n",
       "V17       3.730610e-01\n",
       "V18       1.291911e-01\n",
       "V19      -1.017123e-02\n",
       "V21      -1.089833e-01\n",
       "V22       3.185295e-01\n",
       "V23      -9.968746e-02\n",
       "V24       6.608974e-02\n",
       "V25       2.300804e-02\n",
       "V26      -1.895874e-02\n",
       "Amount    1.655585e-03\n",
       "Class     0.000000e+00\n",
       "dtype: float64"
      ]
     },
     "execution_count": 14,
     "metadata": {},
     "output_type": "execute_result"
    }
   ],
   "source": [
    "fd.skew()"
   ]
  },
  {
   "cell_type": "code",
   "execution_count": 15,
   "id": "40e6e7db",
   "metadata": {},
   "outputs": [
    {
     "name": "stdout",
     "output_type": "stream",
     "text": [
      "Positive Skew []\n",
      "Negative skew: []\n"
     ]
    }
   ],
   "source": [
    "skew2 = fd.skew()\n",
    "pos_skew2 = []\n",
    "for col_name, skew_value in skew2.items():\n",
    "    if skew_value > 0.5:\n",
    "        pos_skew.append(col_name)\n",
    "        \n",
    "print(\"Positive Skew\",pos_skew2)\n",
    "\n",
    "neg_skew2 = []\n",
    "for col_name, skew_value in skew2.items():\n",
    "    if skew_value < -0.5:\n",
    "        neg_skew2.append(col_name)\n",
    "        \n",
    "print(\"Negative skew:\",neg_skew2)"
   ]
  },
  {
   "cell_type": "code",
   "execution_count": 16,
   "id": "8ff37403",
   "metadata": {},
   "outputs": [
    {
     "data": {
      "text/html": [
       "<div>\n",
       "<style scoped>\n",
       "    .dataframe tbody tr th:only-of-type {\n",
       "        vertical-align: middle;\n",
       "    }\n",
       "\n",
       "    .dataframe tbody tr th {\n",
       "        vertical-align: top;\n",
       "    }\n",
       "\n",
       "    .dataframe thead th {\n",
       "        text-align: right;\n",
       "    }\n",
       "</style>\n",
       "<table border=\"1\" class=\"dataframe\">\n",
       "  <thead>\n",
       "    <tr style=\"text-align: right;\">\n",
       "      <th></th>\n",
       "      <th>id</th>\n",
       "      <th>V1</th>\n",
       "      <th>V3</th>\n",
       "      <th>V4</th>\n",
       "      <th>V6</th>\n",
       "      <th>V8</th>\n",
       "      <th>V9</th>\n",
       "      <th>V11</th>\n",
       "      <th>V12</th>\n",
       "      <th>V13</th>\n",
       "      <th>...</th>\n",
       "      <th>V18</th>\n",
       "      <th>V19</th>\n",
       "      <th>V21</th>\n",
       "      <th>V22</th>\n",
       "      <th>V23</th>\n",
       "      <th>V24</th>\n",
       "      <th>V25</th>\n",
       "      <th>V26</th>\n",
       "      <th>Amount</th>\n",
       "      <th>Class</th>\n",
       "    </tr>\n",
       "  </thead>\n",
       "  <tbody>\n",
       "    <tr>\n",
       "      <th>0</th>\n",
       "      <td>0</td>\n",
       "      <td>-0.260648</td>\n",
       "      <td>2.496266</td>\n",
       "      <td>-0.083724</td>\n",
       "      <td>0.732898</td>\n",
       "      <td>-0.130006</td>\n",
       "      <td>0.727159</td>\n",
       "      <td>-0.987020</td>\n",
       "      <td>0.293438</td>\n",
       "      <td>-0.941386</td>\n",
       "      <td>...</td>\n",
       "      <td>0.333644</td>\n",
       "      <td>0.124270</td>\n",
       "      <td>-0.110552</td>\n",
       "      <td>0.217606</td>\n",
       "      <td>-0.134794</td>\n",
       "      <td>0.165959</td>\n",
       "      <td>0.126280</td>\n",
       "      <td>-0.434824</td>\n",
       "      <td>17982.10</td>\n",
       "      <td>0</td>\n",
       "    </tr>\n",
       "    <tr>\n",
       "      <th>1</th>\n",
       "      <td>1</td>\n",
       "      <td>0.985100</td>\n",
       "      <td>0.558056</td>\n",
       "      <td>-0.429654</td>\n",
       "      <td>0.428605</td>\n",
       "      <td>-0.133118</td>\n",
       "      <td>0.347452</td>\n",
       "      <td>0.140107</td>\n",
       "      <td>1.564246</td>\n",
       "      <td>0.574074</td>\n",
       "      <td>...</td>\n",
       "      <td>0.201799</td>\n",
       "      <td>-0.340687</td>\n",
       "      <td>-0.194936</td>\n",
       "      <td>-0.605761</td>\n",
       "      <td>0.079469</td>\n",
       "      <td>-0.577395</td>\n",
       "      <td>0.190090</td>\n",
       "      <td>0.296503</td>\n",
       "      <td>6531.37</td>\n",
       "      <td>0</td>\n",
       "    </tr>\n",
       "    <tr>\n",
       "      <th>2</th>\n",
       "      <td>2</td>\n",
       "      <td>-0.260272</td>\n",
       "      <td>1.728538</td>\n",
       "      <td>-0.457986</td>\n",
       "      <td>1.419481</td>\n",
       "      <td>-0.095576</td>\n",
       "      <td>-0.261297</td>\n",
       "      <td>-0.272985</td>\n",
       "      <td>0.659201</td>\n",
       "      <td>0.805173</td>\n",
       "      <td>...</td>\n",
       "      <td>0.239442</td>\n",
       "      <td>-2.366079</td>\n",
       "      <td>-0.005020</td>\n",
       "      <td>0.702906</td>\n",
       "      <td>0.945045</td>\n",
       "      <td>-1.154666</td>\n",
       "      <td>-0.605564</td>\n",
       "      <td>-0.312895</td>\n",
       "      <td>2513.54</td>\n",
       "      <td>0</td>\n",
       "    </tr>\n",
       "    <tr>\n",
       "      <th>3</th>\n",
       "      <td>3</td>\n",
       "      <td>-0.152152</td>\n",
       "      <td>1.746840</td>\n",
       "      <td>-1.090178</td>\n",
       "      <td>1.143312</td>\n",
       "      <td>-0.065130</td>\n",
       "      <td>-0.205698</td>\n",
       "      <td>-0.752581</td>\n",
       "      <td>0.737483</td>\n",
       "      <td>0.592994</td>\n",
       "      <td>...</td>\n",
       "      <td>2.178616</td>\n",
       "      <td>-1.345060</td>\n",
       "      <td>-0.146927</td>\n",
       "      <td>-0.038212</td>\n",
       "      <td>-0.214048</td>\n",
       "      <td>-1.893131</td>\n",
       "      <td>1.003963</td>\n",
       "      <td>-0.515950</td>\n",
       "      <td>5384.44</td>\n",
       "      <td>0</td>\n",
       "    </tr>\n",
       "    <tr>\n",
       "      <th>4</th>\n",
       "      <td>4</td>\n",
       "      <td>-0.206820</td>\n",
       "      <td>1.527053</td>\n",
       "      <td>-0.448293</td>\n",
       "      <td>0.530549</td>\n",
       "      <td>-0.212660</td>\n",
       "      <td>1.049921</td>\n",
       "      <td>-1.203171</td>\n",
       "      <td>1.029577</td>\n",
       "      <td>1.439310</td>\n",
       "      <td>...</td>\n",
       "      <td>0.291782</td>\n",
       "      <td>0.445317</td>\n",
       "      <td>-0.106984</td>\n",
       "      <td>0.729727</td>\n",
       "      <td>-0.161666</td>\n",
       "      <td>0.312561</td>\n",
       "      <td>-0.414116</td>\n",
       "      <td>1.071126</td>\n",
       "      <td>14278.97</td>\n",
       "      <td>0</td>\n",
       "    </tr>\n",
       "  </tbody>\n",
       "</table>\n",
       "<p>5 rows × 24 columns</p>\n",
       "</div>"
      ],
      "text/plain": [
       "   id        V1        V3        V4        V6        V8        V9       V11  \\\n",
       "0   0 -0.260648  2.496266 -0.083724  0.732898 -0.130006  0.727159 -0.987020   \n",
       "1   1  0.985100  0.558056 -0.429654  0.428605 -0.133118  0.347452  0.140107   \n",
       "2   2 -0.260272  1.728538 -0.457986  1.419481 -0.095576 -0.261297 -0.272985   \n",
       "3   3 -0.152152  1.746840 -1.090178  1.143312 -0.065130 -0.205698 -0.752581   \n",
       "4   4 -0.206820  1.527053 -0.448293  0.530549 -0.212660  1.049921 -1.203171   \n",
       "\n",
       "        V12       V13  ...       V18       V19       V21       V22       V23  \\\n",
       "0  0.293438 -0.941386  ...  0.333644  0.124270 -0.110552  0.217606 -0.134794   \n",
       "1  1.564246  0.574074  ...  0.201799 -0.340687 -0.194936 -0.605761  0.079469   \n",
       "2  0.659201  0.805173  ...  0.239442 -2.366079 -0.005020  0.702906  0.945045   \n",
       "3  0.737483  0.592994  ...  2.178616 -1.345060 -0.146927 -0.038212 -0.214048   \n",
       "4  1.029577  1.439310  ...  0.291782  0.445317 -0.106984  0.729727 -0.161666   \n",
       "\n",
       "        V24       V25       V26    Amount  Class  \n",
       "0  0.165959  0.126280 -0.434824  17982.10      0  \n",
       "1 -0.577395  0.190090  0.296503   6531.37      0  \n",
       "2 -1.154666 -0.605564 -0.312895   2513.54      0  \n",
       "3 -1.893131  1.003963 -0.515950   5384.44      0  \n",
       "4  0.312561 -0.414116  1.071126  14278.97      0  \n",
       "\n",
       "[5 rows x 24 columns]"
      ]
     },
     "execution_count": 16,
     "metadata": {},
     "output_type": "execute_result"
    }
   ],
   "source": [
    "fd.head()"
   ]
  },
  {
   "cell_type": "markdown",
   "id": "12d9d3ef",
   "metadata": {},
   "source": [
    "# Data Split and Scaling"
   ]
  },
  {
   "cell_type": "code",
   "execution_count": 17,
   "id": "ed887455",
   "metadata": {},
   "outputs": [],
   "source": [
    "X = fd.drop(['id', 'Class'], axis = 1)\n",
    "y = fd.Class"
   ]
  },
  {
   "cell_type": "code",
   "execution_count": 18,
   "id": "e5c44b59",
   "metadata": {},
   "outputs": [
    {
     "data": {
      "text/plain": [
       "Class\n",
       "0    284315\n",
       "1    284315\n",
       "Name: count, dtype: int64"
      ]
     },
     "execution_count": 18,
     "metadata": {},
     "output_type": "execute_result"
    }
   ],
   "source": [
    "y.value_counts()"
   ]
  },
  {
   "cell_type": "code",
   "execution_count": 19,
   "id": "147738c9",
   "metadata": {},
   "outputs": [],
   "source": [
    "scaler1 = MinMaxScaler()\n",
    "X_scaled_MM = scaler1.fit_transform(X)\n",
    "\n",
    "scaler2 = StandardScaler()\n",
    "X_scaled_SS = scaler2.fit_transform(X)"
   ]
  },
  {
   "cell_type": "code",
   "execution_count": 20,
   "id": "4a6655c3",
   "metadata": {},
   "outputs": [],
   "source": [
    "X_train, X_test, y_train, y_test = train_test_split(X_scaled_MM, y, test_size=0.25, random_state=42)"
   ]
  },
  {
   "cell_type": "markdown",
   "id": "2c75c0df",
   "metadata": {},
   "source": [
    "# Cross-Validation"
   ]
  },
  {
   "cell_type": "code",
   "execution_count": 21,
   "id": "0e4957bc",
   "metadata": {},
   "outputs": [
    {
     "name": "stdout",
     "output_type": "stream",
     "text": [
      "====================\n",
      "Logistic Regression:\n",
      "  Accuracy: 0.96\n",
      "  Precision: 0.98\n",
      "  Recall: 0.94\n",
      "  F1 Score: 0.96\n",
      "  ROC AUC: 0.99\n",
      "====================\n",
      "====================\n",
      "Random Forest:\n",
      "  Accuracy: 1.00\n",
      "  Precision: 1.00\n",
      "  Recall: 1.00\n",
      "  F1 Score: 1.00\n",
      "  ROC AUC: 1.00\n",
      "====================\n",
      "====================\n",
      "SVM:\n",
      "  Accuracy: 0.97\n",
      "  Precision: 0.99\n",
      "  Recall: 0.96\n",
      "  F1 Score: 0.97\n",
      "  ROC AUC: 1.00\n",
      "====================\n",
      "====================\n",
      "Gradient Boosting:\n",
      "  Accuracy: 0.98\n",
      "  Precision: 0.99\n",
      "  Recall: 0.97\n",
      "  F1 Score: 0.98\n",
      "  ROC AUC: 1.00\n",
      "====================\n",
      "====================\n",
      "Decision Tree:\n",
      "  Accuracy: 1.00\n",
      "  Precision: 1.00\n",
      "  Recall: 1.00\n",
      "  F1 Score: 1.00\n",
      "  ROC AUC: 1.00\n",
      "====================\n",
      "CPU times: total: 2h 44min 52s\n",
      "Wall time: 3h 42min 13s\n"
     ]
    }
   ],
   "source": [
    "%%time\n",
    "models = [\n",
    "    ('Logistic Regression', LogisticRegression(max_iter=1000)),\n",
    "    ('Random Forest', RandomForestClassifier()),\n",
    "    ('SVM', SVC()),\n",
    "    ('Gradient Boosting', GradientBoostingClassifier()),\n",
    "    ('Decision Tree', DecisionTreeClassifier())\n",
    "]\n",
    "\n",
    "# Metrics to be calculated\n",
    "scoring = ['accuracy', 'precision', 'recall', 'f1', 'roc_auc']\n",
    "\n",
    "# Iterating through each model and performing cross-validation\n",
    "for name, model in models:\n",
    "    results = cross_validate(model, X_train, y_train, cv=5, scoring=scoring)\n",
    "    \n",
    "    print(\"====================\")\n",
    "    print(f'{name}:')\n",
    "    print(f\"  Accuracy: {results['test_accuracy'].mean():.2f}\")\n",
    "    print(f\"  Precision: {results['test_precision'].mean():.2f}\")\n",
    "    print(f\"  Recall: {results['test_recall'].mean():.2f}\")\n",
    "    print(f\"  F1 Score: {results['test_f1'].mean():.2f}\")\n",
    "    print(f\"  ROC AUC: {results['test_roc_auc'].mean():.2f}\")\n",
    "    print(\"====================\")"
   ]
  },
  {
   "cell_type": "code",
   "execution_count": 22,
   "id": "f47fc9a0",
   "metadata": {},
   "outputs": [],
   "source": [
    "model_1 = RandomForestClassifier()\n",
    "model_2 = DecisionTreeClassifier()"
   ]
  },
  {
   "cell_type": "code",
   "execution_count": null,
   "id": "c5676bcf",
   "metadata": {},
   "outputs": [],
   "source": [
    "%%time\n",
    "model_1.fit(X_train, y_train)\n",
    "\n",
    "# Accidently pressed M on this cell, it takes 8 mins to fit the model"
   ]
  },
  {
   "cell_type": "code",
   "execution_count": 26,
   "id": "d9a129a7",
   "metadata": {},
   "outputs": [
    {
     "name": "stdout",
     "output_type": "stream",
     "text": [
      "Accuracy: 100.0\n",
      "Classification Report:\n",
      "              precision    recall  f1-score   support\n",
      "\n",
      "           0       1.00      1.00      1.00     71023\n",
      "           1       1.00      1.00      1.00     71135\n",
      "\n",
      "    accuracy                           1.00    142158\n",
      "   macro avg       1.00      1.00      1.00    142158\n",
      "weighted avg       1.00      1.00      1.00    142158\n",
      "\n",
      "CPU times: total: 1.38 s\n",
      "Wall time: 1.82 s\n"
     ]
    }
   ],
   "source": [
    "%%time\n",
    "from sklearn.metrics import accuracy_score\n",
    "y_pred = model_1.predict(X_test)\n",
    "accuracy = accuracy_score(y_test, y_pred)\n",
    "print(\"Accuracy:\", round(accuracy,2)*100)\n",
    "\n",
    "print(\"Classification Report:\")\n",
    "print(classification_report(y_test, y_pred))"
   ]
  },
  {
   "cell_type": "code",
   "execution_count": 29,
   "id": "24a6cf22",
   "metadata": {},
   "outputs": [
    {
     "name": "stdout",
     "output_type": "stream",
     "text": [
      "[[71002    21]\n",
      " [    0 71135]]\n"
     ]
    }
   ],
   "source": [
    "print(confusion_matrix(y_test, y_pred))"
   ]
  },
  {
   "cell_type": "code",
   "execution_count": 28,
   "id": "8f8cb15e",
   "metadata": {
    "scrolled": true
   },
   "outputs": [
    {
     "data": {
      "image/png": "[encoded data removed]",
      "text/plain": [
       "<Figure size 640x480 with 2 Axes>"
      ]
     },
     "metadata": {},
     "output_type": "display_data"
    }
   ],
   "source": [
    "cm = tf.math.confusion_matrix(labels = y_test, predictions= y_pred)\n",
    "sns.heatmap(cm, annot=True, fmt='d')\n",
    "plt.xlabel(\"Predicted\")\n",
    "plt.ylabel(\"Truth\")\n",
    "plt.show()"
   ]
  },
  {
   "cell_type": "markdown",
   "id": "0e39970c",
   "metadata": {},
   "source": [
    "The results are tight, achieving high accuracy and effectively identifying both positive and negative instances. The absence of false negatives is particularly noteworthy."
   ]
  }
 ],
 "metadata": {
  "kernelspec": {
   "display_name": "Python 3 (ipykernel)",
   "language": "python",
   "name": "python3"
  },
  "language_info": {
   "codemirror_mode": {
    "name": "ipython",
    "version": 3
   },
   "file_extension": ".py",
   "mimetype": "text/x-python",
   "name": "python",
   "nbconvert_exporter": "python",
   "pygments_lexer": "ipython3",
   "version": "3.10.13"
  }
 },
 "nbformat": 4,
 "nbformat_minor": 5
}
