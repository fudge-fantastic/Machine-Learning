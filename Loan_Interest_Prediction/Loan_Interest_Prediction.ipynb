{
 "cells": [
  {
   "cell_type": "markdown",
   "id": "9643d526",
   "metadata": {},
   "source": [
    "# Loan Interest Prediction"
   ]
  },
  {
   "cell_type": "code",
   "execution_count": 1,
   "id": "003509c5",
   "metadata": {},
   "outputs": [],
   "source": [
    "import warnings\n",
    "warnings.filterwarnings(\"ignore\", category=FutureWarning, module=\"seaborn\")\n",
    "import pandas as pd\n",
    "import numpy as np"
   ]
  },
  {
   "cell_type": "code",
   "execution_count": 2,
   "id": "f02eeadd",
   "metadata": {},
   "outputs": [
    {
     "data": {
      "text/html": [
       "<div>\n",
       "<style scoped>\n",
       "    .dataframe tbody tr th:only-of-type {\n",
       "        vertical-align: middle;\n",
       "    }\n",
       "\n",
       "    .dataframe tbody tr th {\n",
       "        vertical-align: top;\n",
       "    }\n",
       "\n",
       "    .dataframe thead th {\n",
       "        text-align: right;\n",
       "    }\n",
       "</style>\n",
       "<table border=\"1\" class=\"dataframe\">\n",
       "  <thead>\n",
       "    <tr style=\"text-align: right;\">\n",
       "      <th></th>\n",
       "      <th>ID</th>\n",
       "      <th>Amount.Requested</th>\n",
       "      <th>Amount.Funded.By.Investors</th>\n",
       "      <th>Interest.Rate</th>\n",
       "      <th>Loan.Length</th>\n",
       "      <th>Loan.Purpose</th>\n",
       "      <th>Debt.To.Income.Ratio</th>\n",
       "      <th>State</th>\n",
       "      <th>Home.Ownership</th>\n",
       "      <th>Monthly.Income</th>\n",
       "      <th>FICO.Range</th>\n",
       "      <th>Open.CREDIT.Lines</th>\n",
       "      <th>Revolving.CREDIT.Balance</th>\n",
       "      <th>Inquiries.in.the.Last.6.Months</th>\n",
       "      <th>Employment.Length</th>\n",
       "    </tr>\n",
       "  </thead>\n",
       "  <tbody>\n",
       "    <tr>\n",
       "      <th>0</th>\n",
       "      <td>79542.0</td>\n",
       "      <td>25000</td>\n",
       "      <td>25000</td>\n",
       "      <td>18.49%</td>\n",
       "      <td>60 months</td>\n",
       "      <td>debt_consolidation</td>\n",
       "      <td>27.56%</td>\n",
       "      <td>VA</td>\n",
       "      <td>MORTGAGE</td>\n",
       "      <td>8606.56</td>\n",
       "      <td>720-724</td>\n",
       "      <td>11</td>\n",
       "      <td>15210</td>\n",
       "      <td>3.0</td>\n",
       "      <td>5 years</td>\n",
       "    </tr>\n",
       "    <tr>\n",
       "      <th>1</th>\n",
       "      <td>75473.0</td>\n",
       "      <td>19750</td>\n",
       "      <td>19750</td>\n",
       "      <td>17.27%</td>\n",
       "      <td>60 months</td>\n",
       "      <td>debt_consolidation</td>\n",
       "      <td>13.39%</td>\n",
       "      <td>NY</td>\n",
       "      <td>MORTGAGE</td>\n",
       "      <td>6737.50</td>\n",
       "      <td>710-714</td>\n",
       "      <td>14</td>\n",
       "      <td>19070</td>\n",
       "      <td>3.0</td>\n",
       "      <td>4 years</td>\n",
       "    </tr>\n",
       "    <tr>\n",
       "      <th>2</th>\n",
       "      <td>67265.0</td>\n",
       "      <td>2100</td>\n",
       "      <td>2100</td>\n",
       "      <td>14.33%</td>\n",
       "      <td>36 months</td>\n",
       "      <td>major_purchase</td>\n",
       "      <td>3.50%</td>\n",
       "      <td>LA</td>\n",
       "      <td>OWN</td>\n",
       "      <td>1000.00</td>\n",
       "      <td>690-694</td>\n",
       "      <td>13</td>\n",
       "      <td>893</td>\n",
       "      <td>1.0</td>\n",
       "      <td>&lt; 1 year</td>\n",
       "    </tr>\n",
       "    <tr>\n",
       "      <th>3</th>\n",
       "      <td>80167.0</td>\n",
       "      <td>28000</td>\n",
       "      <td>28000</td>\n",
       "      <td>16.29%</td>\n",
       "      <td>36 months</td>\n",
       "      <td>credit_card</td>\n",
       "      <td>19.62%</td>\n",
       "      <td>NV</td>\n",
       "      <td>MORTGAGE</td>\n",
       "      <td>7083.33</td>\n",
       "      <td>710-714</td>\n",
       "      <td>12</td>\n",
       "      <td>38194</td>\n",
       "      <td>1.0</td>\n",
       "      <td>10+ years</td>\n",
       "    </tr>\n",
       "    <tr>\n",
       "      <th>4</th>\n",
       "      <td>17240.0</td>\n",
       "      <td>24250</td>\n",
       "      <td>17431.82</td>\n",
       "      <td>12.23%</td>\n",
       "      <td>60 months</td>\n",
       "      <td>credit_card</td>\n",
       "      <td>23.79%</td>\n",
       "      <td>OH</td>\n",
       "      <td>MORTGAGE</td>\n",
       "      <td>5833.33</td>\n",
       "      <td>730-734</td>\n",
       "      <td>6</td>\n",
       "      <td>31061</td>\n",
       "      <td>2.0</td>\n",
       "      <td>10+ years</td>\n",
       "    </tr>\n",
       "    <tr>\n",
       "      <th>...</th>\n",
       "      <td>...</td>\n",
       "      <td>...</td>\n",
       "      <td>...</td>\n",
       "      <td>...</td>\n",
       "      <td>...</td>\n",
       "      <td>...</td>\n",
       "      <td>...</td>\n",
       "      <td>...</td>\n",
       "      <td>...</td>\n",
       "      <td>...</td>\n",
       "      <td>...</td>\n",
       "      <td>...</td>\n",
       "      <td>...</td>\n",
       "      <td>...</td>\n",
       "      <td>...</td>\n",
       "    </tr>\n",
       "    <tr>\n",
       "      <th>2195</th>\n",
       "      <td>74047.0</td>\n",
       "      <td>30000</td>\n",
       "      <td>30000</td>\n",
       "      <td>23.28%</td>\n",
       "      <td>60 months</td>\n",
       "      <td>other</td>\n",
       "      <td>12.10%</td>\n",
       "      <td>IL</td>\n",
       "      <td>MORTGAGE</td>\n",
       "      <td>7083.33</td>\n",
       "      <td>675-679</td>\n",
       "      <td>16</td>\n",
       "      <td>17969</td>\n",
       "      <td>1.0</td>\n",
       "      <td>10+ years</td>\n",
       "    </tr>\n",
       "    <tr>\n",
       "      <th>2196</th>\n",
       "      <td>63768.0</td>\n",
       "      <td>4200</td>\n",
       "      <td>4200</td>\n",
       "      <td>14.33%</td>\n",
       "      <td>60 months</td>\n",
       "      <td>car</td>\n",
       "      <td>14.16%</td>\n",
       "      <td>NJ</td>\n",
       "      <td>RENT</td>\n",
       "      <td>3850.00</td>\n",
       "      <td>700-704</td>\n",
       "      <td>4</td>\n",
       "      <td>5718</td>\n",
       "      <td>0.0</td>\n",
       "      <td>2 years</td>\n",
       "    </tr>\n",
       "    <tr>\n",
       "      <th>2197</th>\n",
       "      <td>94545.0</td>\n",
       "      <td>19800</td>\n",
       "      <td>19775</td>\n",
       "      <td>15.31%</td>\n",
       "      <td>60 months</td>\n",
       "      <td>debt_consolidation</td>\n",
       "      <td>15.03%</td>\n",
       "      <td>IL</td>\n",
       "      <td>MORTGAGE</td>\n",
       "      <td>6666.67</td>\n",
       "      <td>675-679</td>\n",
       "      <td>10</td>\n",
       "      <td>46879</td>\n",
       "      <td>3.0</td>\n",
       "      <td>6 years</td>\n",
       "    </tr>\n",
       "    <tr>\n",
       "      <th>2198</th>\n",
       "      <td>53635.0</td>\n",
       "      <td>18000</td>\n",
       "      <td>18000</td>\n",
       "      <td>20.99%</td>\n",
       "      <td>60 months</td>\n",
       "      <td>credit_card</td>\n",
       "      <td>11.63%</td>\n",
       "      <td>CA</td>\n",
       "      <td>RENT</td>\n",
       "      <td>9051.83</td>\n",
       "      <td>670-674</td>\n",
       "      <td>5</td>\n",
       "      <td>32394</td>\n",
       "      <td>2.0</td>\n",
       "      <td>4 years</td>\n",
       "    </tr>\n",
       "    <tr>\n",
       "      <th>2199</th>\n",
       "      <td>67953.0</td>\n",
       "      <td>7550</td>\n",
       "      <td>7550</td>\n",
       "      <td>10.16%</td>\n",
       "      <td>36 months</td>\n",
       "      <td>debt_consolidation</td>\n",
       "      <td>3.83%</td>\n",
       "      <td>CA</td>\n",
       "      <td>MORTGAGE</td>\n",
       "      <td>8333.33</td>\n",
       "      <td>710-714</td>\n",
       "      <td>10</td>\n",
       "      <td>10204</td>\n",
       "      <td>0.0</td>\n",
       "      <td>2 years</td>\n",
       "    </tr>\n",
       "  </tbody>\n",
       "</table>\n",
       "<p>2200 rows × 15 columns</p>\n",
       "</div>"
      ],
      "text/plain": [
       "           ID Amount.Requested Amount.Funded.By.Investors Interest.Rate  \\\n",
       "0     79542.0            25000                      25000        18.49%   \n",
       "1     75473.0            19750                      19750        17.27%   \n",
       "2     67265.0             2100                       2100        14.33%   \n",
       "3     80167.0            28000                      28000        16.29%   \n",
       "4     17240.0            24250                   17431.82        12.23%   \n",
       "...       ...              ...                        ...           ...   \n",
       "2195  74047.0            30000                      30000        23.28%   \n",
       "2196  63768.0             4200                       4200        14.33%   \n",
       "2197  94545.0            19800                      19775        15.31%   \n",
       "2198  53635.0            18000                      18000        20.99%   \n",
       "2199  67953.0             7550                       7550        10.16%   \n",
       "\n",
       "     Loan.Length        Loan.Purpose Debt.To.Income.Ratio State  \\\n",
       "0      60 months  debt_consolidation               27.56%    VA   \n",
       "1      60 months  debt_consolidation               13.39%    NY   \n",
       "2      36 months      major_purchase                3.50%    LA   \n",
       "3      36 months         credit_card               19.62%    NV   \n",
       "4      60 months         credit_card               23.79%    OH   \n",
       "...          ...                 ...                  ...   ...   \n",
       "2195   60 months               other               12.10%    IL   \n",
       "2196   60 months                 car               14.16%    NJ   \n",
       "2197   60 months  debt_consolidation               15.03%    IL   \n",
       "2198   60 months         credit_card               11.63%    CA   \n",
       "2199   36 months  debt_consolidation                3.83%    CA   \n",
       "\n",
       "     Home.Ownership  Monthly.Income FICO.Range Open.CREDIT.Lines  \\\n",
       "0          MORTGAGE         8606.56    720-724                11   \n",
       "1          MORTGAGE         6737.50    710-714                14   \n",
       "2               OWN         1000.00    690-694                13   \n",
       "3          MORTGAGE         7083.33    710-714                12   \n",
       "4          MORTGAGE         5833.33    730-734                 6   \n",
       "...             ...             ...        ...               ...   \n",
       "2195       MORTGAGE         7083.33    675-679                16   \n",
       "2196           RENT         3850.00    700-704                 4   \n",
       "2197       MORTGAGE         6666.67    675-679                10   \n",
       "2198           RENT         9051.83    670-674                 5   \n",
       "2199       MORTGAGE         8333.33    710-714                10   \n",
       "\n",
       "     Revolving.CREDIT.Balance  Inquiries.in.the.Last.6.Months  \\\n",
       "0                       15210                             3.0   \n",
       "1                       19070                             3.0   \n",
       "2                         893                             1.0   \n",
       "3                       38194                             1.0   \n",
       "4                       31061                             2.0   \n",
       "...                       ...                             ...   \n",
       "2195                    17969                             1.0   \n",
       "2196                     5718                             0.0   \n",
       "2197                    46879                             3.0   \n",
       "2198                    32394                             2.0   \n",
       "2199                    10204                             0.0   \n",
       "\n",
       "     Employment.Length  \n",
       "0              5 years  \n",
       "1              4 years  \n",
       "2             < 1 year  \n",
       "3            10+ years  \n",
       "4            10+ years  \n",
       "...                ...  \n",
       "2195         10+ years  \n",
       "2196           2 years  \n",
       "2197           6 years  \n",
       "2198           4 years  \n",
       "2199           2 years  \n",
       "\n",
       "[2200 rows x 15 columns]"
      ]
     },
     "execution_count": 2,
     "metadata": {},
     "output_type": "execute_result"
    }
   ],
   "source": [
    "data = pd.read_csv('loan_data_train.csv')\n",
    "data"
   ]
  },
  {
   "cell_type": "code",
   "execution_count": 3,
   "id": "0d0134a9",
   "metadata": {},
   "outputs": [],
   "source": [
    "# Drop ID column\n",
    "data.drop(columns='ID', inplace = True)"
   ]
  },
  {
   "cell_type": "code",
   "execution_count": 4,
   "id": "3014b656",
   "metadata": {},
   "outputs": [],
   "source": [
    "# Replacing '.' with '_'\n",
    "data.columns = data.columns.str.replace('.', '_')"
   ]
  },
  {
   "cell_type": "code",
   "execution_count": 5,
   "id": "050f6512",
   "metadata": {},
   "outputs": [
    {
     "name": "stdout",
     "output_type": "stream",
     "text": [
      "False - There are no whitespaces\n"
     ]
    }
   ],
   "source": [
    "# Check in any whitespace\n",
    "whitespace = any(data.columns.str.isspace())\n",
    "\n",
    "if whitespace:\n",
    "    print(\"True - There are whitespaces\")\n",
    "else:\n",
    "    print(\"False - There are no whitespaces\")"
   ]
  },
  {
   "cell_type": "code",
   "execution_count": 6,
   "id": "eab20af5",
   "metadata": {},
   "outputs": [
    {
     "data": {
      "text/plain": [
       "Amount_Requested                   1\n",
       "Amount_Funded_By_Investors         1\n",
       "Interest_Rate                      0\n",
       "Loan_Length                        1\n",
       "Loan_Purpose                       1\n",
       "Debt_To_Income_Ratio               1\n",
       "State                              1\n",
       "Home_Ownership                     1\n",
       "Monthly_Income                     3\n",
       "FICO_Range                         0\n",
       "Open_CREDIT_Lines                  4\n",
       "Revolving_CREDIT_Balance           3\n",
       "Inquiries_in_the_Last_6_Months     3\n",
       "Employment_Length                 69\n",
       "dtype: int64"
      ]
     },
     "execution_count": 6,
     "metadata": {},
     "output_type": "execute_result"
    }
   ],
   "source": [
    "data.isnull().sum()"
   ]
  },
  {
   "cell_type": "code",
   "execution_count": 7,
   "id": "c1456d12",
   "metadata": {},
   "outputs": [],
   "source": [
    "# Dropping Null values\n",
    "data.dropna(inplace = True)"
   ]
  },
  {
   "cell_type": "code",
   "execution_count": 8,
   "id": "53011f2f",
   "metadata": {},
   "outputs": [
    {
     "name": "stdout",
     "output_type": "stream",
     "text": [
      "['Amount_Requested', 'Amount_Funded_By_Investors', 'Interest_Rate', 'Loan_Length', 'Loan_Purpose', 'Debt_To_Income_Ratio', 'State', 'Home_Ownership', 'FICO_Range', 'Open_CREDIT_Lines', 'Revolving_CREDIT_Balance', 'Employment_Length']\n"
     ]
    }
   ],
   "source": [
    "# Collect all 'object' types\n",
    "objects = []\n",
    "for cols in data:\n",
    "    if data[cols].dtypes == 'object':\n",
    "        objects.append(cols)\n",
    "        \n",
    "print(objects)"
   ]
  },
  {
   "cell_type": "code",
   "execution_count": 9,
   "id": "ac8d58f5",
   "metadata": {},
   "outputs": [
    {
     "name": "stdout",
     "output_type": "stream",
     "text": [
      "<class 'pandas.core.frame.DataFrame'>\n",
      "Index: 2118 entries, 0 to 2199\n",
      "Data columns (total 14 columns):\n",
      " #   Column                          Non-Null Count  Dtype  \n",
      "---  ------                          --------------  -----  \n",
      " 0   Amount_Requested                2118 non-null   object \n",
      " 1   Amount_Funded_By_Investors      2118 non-null   object \n",
      " 2   Interest_Rate                   2118 non-null   object \n",
      " 3   Loan_Length                     2118 non-null   object \n",
      " 4   Loan_Purpose                    2118 non-null   object \n",
      " 5   Debt_To_Income_Ratio            2118 non-null   object \n",
      " 6   State                           2118 non-null   object \n",
      " 7   Home_Ownership                  2118 non-null   object \n",
      " 8   Monthly_Income                  2118 non-null   float64\n",
      " 9   FICO_Range                      2118 non-null   object \n",
      " 10  Open_CREDIT_Lines               2118 non-null   object \n",
      " 11  Revolving_CREDIT_Balance        2118 non-null   object \n",
      " 12  Inquiries_in_the_Last_6_Months  2118 non-null   float64\n",
      " 13  Employment_Length               2118 non-null   object \n",
      "dtypes: float64(2), object(12)\n",
      "memory usage: 248.2+ KB\n"
     ]
    }
   ],
   "source": [
    "data.info()"
   ]
  },
  {
   "cell_type": "code",
   "execution_count": 10,
   "id": "32807b65",
   "metadata": {},
   "outputs": [],
   "source": [
    "obj_to_float = ['Amount_Requested', 'Amount_Funded_By_Investors', 'Interest_Rate', \n",
    "                'Debt_To_Income_Ratio', 'Open_CREDIT_Lines', 'Revolving_CREDIT_Balance']\n",
    "\n",
    "# data[obj_to_float] = data[obj_to_float].astype(int)\n",
    "# ValueError: could not convert string to float: '.'"
   ]
  },
  {
   "cell_type": "code",
   "execution_count": 11,
   "id": "57d877a4",
   "metadata": {},
   "outputs": [
    {
     "name": "stdout",
     "output_type": "stream",
     "text": [
      "Count of values with dot: 4366\n"
     ]
    }
   ],
   "source": [
    "# Count values which are in the string format (object) from all cols which has '.'\n",
    "float_values = data[obj_to_float]\n",
    "\n",
    "values_with_dot = []\n",
    "\n",
    "for column in float_values:\n",
    "    for value in float_values[column]:\n",
    "        if '.' in str(value):\n",
    "            values_with_dot.append(value)\n",
    "\n",
    "print(\"Count of values with dot:\", len(values_with_dot))"
   ]
  },
  {
   "cell_type": "code",
   "execution_count": 12,
   "id": "6b8c8eb9",
   "metadata": {},
   "outputs": [],
   "source": [
    "for column in obj_to_float:\n",
    "    data[column] = pd.to_numeric(data[column].replace('[^\\d.]', '', regex=True), errors='coerce').astype(float)"
   ]
  },
  {
   "cell_type": "code",
   "execution_count": 13,
   "id": "50b42566",
   "metadata": {},
   "outputs": [],
   "source": [
    "# It's okay to drop a few rows if data consists more than 2K rows  \n",
    "data.isnull().sum()\n",
    "data.dropna(inplace = True)"
   ]
  },
  {
   "cell_type": "code",
   "execution_count": 14,
   "id": "584118f3",
   "metadata": {},
   "outputs": [
    {
     "name": "stdout",
     "output_type": "stream",
     "text": [
      "<class 'pandas.core.frame.DataFrame'>\n",
      "Index: 2106 entries, 0 to 2199\n",
      "Data columns (total 14 columns):\n",
      " #   Column                          Non-Null Count  Dtype  \n",
      "---  ------                          --------------  -----  \n",
      " 0   Amount_Requested                2106 non-null   float64\n",
      " 1   Amount_Funded_By_Investors      2106 non-null   float64\n",
      " 2   Interest_Rate                   2106 non-null   float64\n",
      " 3   Loan_Length                     2106 non-null   object \n",
      " 4   Loan_Purpose                    2106 non-null   object \n",
      " 5   Debt_To_Income_Ratio            2106 non-null   float64\n",
      " 6   State                           2106 non-null   object \n",
      " 7   Home_Ownership                  2106 non-null   object \n",
      " 8   Monthly_Income                  2106 non-null   float64\n",
      " 9   FICO_Range                      2106 non-null   object \n",
      " 10  Open_CREDIT_Lines               2106 non-null   float64\n",
      " 11  Revolving_CREDIT_Balance        2106 non-null   float64\n",
      " 12  Inquiries_in_the_Last_6_Months  2106 non-null   float64\n",
      " 13  Employment_Length               2106 non-null   object \n",
      "dtypes: float64(8), object(6)\n",
      "memory usage: 246.8+ KB\n"
     ]
    }
   ],
   "source": [
    "data.info()"
   ]
  },
  {
   "cell_type": "code",
   "execution_count": 15,
   "id": "3d4a756e",
   "metadata": {},
   "outputs": [
    {
     "name": "stdout",
     "output_type": "stream",
     "text": [
      "['Loan_Length', 'Loan_Purpose', 'State', 'Home_Ownership', 'FICO_Range', 'Employment_Length']\n"
     ]
    }
   ],
   "source": [
    "objects = []\n",
    "for cols in data:\n",
    "    if data[cols].dtypes == 'object':\n",
    "        objects.append(cols)\n",
    "        \n",
    "print(objects)"
   ]
  },
  {
   "cell_type": "code",
   "execution_count": 16,
   "id": "9dee7e78",
   "metadata": {},
   "outputs": [
    {
     "name": "stdout",
     "output_type": "stream",
     "text": [
      "Loan_Length - 3 distinct values\n",
      "Loan_Purpose - 14 distinct values\n",
      "State - 45 distinct values\n",
      "Home_Ownership - 4 distinct values\n",
      "FICO_Range - 38 distinct values\n",
      "Employment_Length - 12 distinct values\n"
     ]
    }
   ],
   "source": [
    "# Check unique values of all 'Object' types\n",
    "for column in data.columns:\n",
    "    if data[column].dtype == 'object':\n",
    "        num_distinct_values = len(data[column].unique())\n",
    "        print(f\"{column} - {num_distinct_values} distinct values\")"
   ]
  },
  {
   "cell_type": "markdown",
   "id": "05270ea8",
   "metadata": {},
   "source": [
    "### Dropping needless categorical values"
   ]
  },
  {
   "cell_type": "code",
   "execution_count": 17,
   "id": "6c191f96",
   "metadata": {},
   "outputs": [
    {
     "data": {
      "text/plain": [
       "Loan_Length\n",
       "36 months    1640\n",
       "60 months     465\n",
       ".               1\n",
       "Name: count, dtype: int64"
      ]
     },
     "execution_count": 17,
     "metadata": {},
     "output_type": "execute_result"
    }
   ],
   "source": [
    "data['Loan_Length'].value_counts()"
   ]
  },
  {
   "cell_type": "code",
   "execution_count": 18,
   "id": "c7b967a2",
   "metadata": {},
   "outputs": [],
   "source": [
    "data = data[data['Loan_Length'] != '.']"
   ]
  },
  {
   "cell_type": "code",
   "execution_count": 19,
   "id": "3f847e34",
   "metadata": {},
   "outputs": [
    {
     "data": {
      "text/plain": [
       "Loan_Length\n",
       "36 months    1640\n",
       "60 months     465\n",
       "Name: count, dtype: int64"
      ]
     },
     "execution_count": 19,
     "metadata": {},
     "output_type": "execute_result"
    }
   ],
   "source": [
    "data['Loan_Length'].value_counts()"
   ]
  },
  {
   "cell_type": "code",
   "execution_count": 20,
   "id": "542a4cd9",
   "metadata": {},
   "outputs": [
    {
     "data": {
      "text/plain": [
       "Home_Ownership\n",
       "MORTGAGE    973\n",
       "RENT        960\n",
       "OWN         168\n",
       "OTHER         4\n",
       "Name: count, dtype: int64"
      ]
     },
     "execution_count": 20,
     "metadata": {},
     "output_type": "execute_result"
    }
   ],
   "source": [
    "data['Home_Ownership'].value_counts()"
   ]
  },
  {
   "cell_type": "code",
   "execution_count": 21,
   "id": "0e7d2116",
   "metadata": {},
   "outputs": [],
   "source": [
    "data = data[data['Home_Ownership'] != 'OTHER']"
   ]
  },
  {
   "cell_type": "code",
   "execution_count": 22,
   "id": "5d7d22f9",
   "metadata": {},
   "outputs": [
    {
     "data": {
      "text/plain": [
       "Home_Ownership\n",
       "MORTGAGE    973\n",
       "RENT        960\n",
       "OWN         168\n",
       "Name: count, dtype: int64"
      ]
     },
     "execution_count": 22,
     "metadata": {},
     "output_type": "execute_result"
    }
   ],
   "source": [
    "data['Home_Ownership'].value_counts()"
   ]
  },
  {
   "cell_type": "code",
   "execution_count": 23,
   "id": "da1a3c2f",
   "metadata": {},
   "outputs": [
    {
     "data": {
      "text/plain": [
       "Employment_Length\n",
       "10+ years    570\n",
       "< 1 year     225\n",
       "2 years      213\n",
       "3 years      201\n",
       "5 years      178\n",
       "4 years      160\n",
       "1 year       157\n",
       "6 years      131\n",
       "7 years      106\n",
       "8 years       94\n",
       "9 years       65\n",
       ".              1\n",
       "Name: count, dtype: int64"
      ]
     },
     "execution_count": 23,
     "metadata": {},
     "output_type": "execute_result"
    }
   ],
   "source": [
    "data['Employment_Length'].value_counts()"
   ]
  },
  {
   "cell_type": "code",
   "execution_count": 24,
   "id": "ab62d228",
   "metadata": {},
   "outputs": [],
   "source": [
    "data = data[data['Employment_Length'] != '.']"
   ]
  },
  {
   "cell_type": "code",
   "execution_count": 25,
   "id": "ef86f2a4",
   "metadata": {},
   "outputs": [
    {
     "data": {
      "text/plain": [
       "Employment_Length\n",
       "10+ years    570\n",
       "< 1 year     225\n",
       "2 years      213\n",
       "3 years      201\n",
       "5 years      178\n",
       "4 years      160\n",
       "1 year       157\n",
       "6 years      131\n",
       "7 years      106\n",
       "8 years       94\n",
       "9 years       65\n",
       "Name: count, dtype: int64"
      ]
     },
     "execution_count": 25,
     "metadata": {},
     "output_type": "execute_result"
    }
   ],
   "source": [
    "data['Employment_Length'].value_counts()"
   ]
  },
  {
   "cell_type": "code",
   "execution_count": 26,
   "id": "d767beea",
   "metadata": {},
   "outputs": [
    {
     "name": "stdout",
     "output_type": "stream",
     "text": [
      "Loan_Length - 2 distinct values\n",
      "Loan_Purpose - 14 distinct values\n",
      "State - 44 distinct values\n",
      "Home_Ownership - 3 distinct values\n",
      "FICO_Range - 38 distinct values\n",
      "Employment_Length - 11 distinct values\n"
     ]
    }
   ],
   "source": [
    "for column in data.columns:\n",
    "    if data[column].dtype == 'object':\n",
    "        num_distinct_values = len(data[column].unique())\n",
    "        print(f\"{column} - {num_distinct_values} distinct values\")"
   ]
  },
  {
   "cell_type": "code",
   "execution_count": 27,
   "id": "f09a6b6d",
   "metadata": {},
   "outputs": [],
   "source": [
    "data['Loan_Length'] = data['Loan_Length'].str.extract('(\\d+)').astype(float)"
   ]
  },
  {
   "cell_type": "code",
   "execution_count": 28,
   "id": "0976cfb2",
   "metadata": {},
   "outputs": [
    {
     "name": "stdout",
     "output_type": "stream",
     "text": [
      "<class 'pandas.core.frame.DataFrame'>\n",
      "Index: 2100 entries, 0 to 2199\n",
      "Data columns (total 14 columns):\n",
      " #   Column                          Non-Null Count  Dtype  \n",
      "---  ------                          --------------  -----  \n",
      " 0   Amount_Requested                2100 non-null   float64\n",
      " 1   Amount_Funded_By_Investors      2100 non-null   float64\n",
      " 2   Interest_Rate                   2100 non-null   float64\n",
      " 3   Loan_Length                     2100 non-null   float64\n",
      " 4   Loan_Purpose                    2100 non-null   object \n",
      " 5   Debt_To_Income_Ratio            2100 non-null   float64\n",
      " 6   State                           2100 non-null   object \n",
      " 7   Home_Ownership                  2100 non-null   object \n",
      " 8   Monthly_Income                  2100 non-null   float64\n",
      " 9   FICO_Range                      2100 non-null   object \n",
      " 10  Open_CREDIT_Lines               2100 non-null   float64\n",
      " 11  Revolving_CREDIT_Balance        2100 non-null   float64\n",
      " 12  Inquiries_in_the_Last_6_Months  2100 non-null   float64\n",
      " 13  Employment_Length               2100 non-null   object \n",
      "dtypes: float64(9), object(5)\n",
      "memory usage: 246.1+ KB\n"
     ]
    }
   ],
   "source": [
    "data.info()"
   ]
  },
  {
   "cell_type": "code",
   "execution_count": 29,
   "id": "a35c8e11",
   "metadata": {},
   "outputs": [
    {
     "data": {
      "text/plain": [
       "Loan_Purpose\n",
       "debt_consolidation    1105\n",
       "credit_card            375\n",
       "other                  158\n",
       "home_improvement       127\n",
       "major_purchase          81\n",
       "small_business          75\n",
       "car                     44\n",
       "wedding                 35\n",
       "moving                  24\n",
       "medical                 24\n",
       "house                   19\n",
       "vacation                17\n",
       "educational             13\n",
       "renewable_energy         3\n",
       "Name: count, dtype: int64"
      ]
     },
     "execution_count": 29,
     "metadata": {},
     "output_type": "execute_result"
    }
   ],
   "source": [
    "data['Loan_Purpose'].value_counts()"
   ]
  },
  {
   "cell_type": "markdown",
   "id": "8f0bbfa0",
   "metadata": {},
   "source": [
    "### Data Visualization"
   ]
  },
  {
   "cell_type": "code",
   "execution_count": 30,
   "id": "6580f64d",
   "metadata": {},
   "outputs": [],
   "source": [
    "import seaborn as sns\n",
    "import matplotlib.pyplot as plt\n",
    "%matplotlib inline"
   ]
  },
  {
   "cell_type": "code",
   "execution_count": 31,
   "id": "f568f10a",
   "metadata": {},
   "outputs": [
    {
     "data": {
      "image/png": "[encoded data removed]",
      "text/plain": [
       "<Figure size 1000x600 with 1 Axes>"
      ]
     },
     "metadata": {},
     "output_type": "display_data"
    }
   ],
   "source": [
    "# Check the distribution of target  \n",
    "plt.figure(figsize=(10, 6))\n",
    "sns.histplot(data['Interest_Rate'], kde = True, bins=30)\n",
    "plt.show()"
   ]
  },
  {
   "cell_type": "code",
   "execution_count": 32,
   "id": "47b00095",
   "metadata": {},
   "outputs": [
    {
     "data": {
      "image/png": "[encoded data removed]",
      "text/plain": [
       "<Figure size 1000x600 with 1 Axes>"
      ]
     },
     "metadata": {},
     "output_type": "display_data"
    }
   ],
   "source": [
    "# Check the loan purpose distribution\n",
    "plt.figure(figsize=(10, 6))\n",
    "sns.barplot(x='Loan_Purpose', y='Interest_Rate', data=data)\n",
    "plt.xticks(rotation=45, ha='right')\n",
    "plt.show()"
   ]
  },
  {
   "cell_type": "code",
   "execution_count": 33,
   "id": "9b478328",
   "metadata": {},
   "outputs": [
    {
     "data": {
      "image/png": "[encoded data removed]",
      "text/plain": [
       "<Figure size 1200x600 with 1 Axes>"
      ]
     },
     "metadata": {},
     "output_type": "display_data"
    }
   ],
   "source": [
    "plt.figure(figsize=(12, 6))\n",
    "sns.barplot(x='Employment_Length', y='Interest_Rate', data=data)\n",
    "plt.xticks(rotation=45, ha='right')\n",
    "plt.show()"
   ]
  },
  {
   "cell_type": "code",
   "execution_count": 34,
   "id": "a283c799",
   "metadata": {},
   "outputs": [
    {
     "data": {
      "image/png": "[encoded data removed]",
      "text/plain": [
       "<Figure size 1000x600 with 1 Axes>"
      ]
     },
     "metadata": {},
     "output_type": "display_data"
    }
   ],
   "source": [
    "plt.figure(figsize=(10, 6))\n",
    "sns.boxplot(x='Loan_Length', y='Interest_Rate', data=data)\n",
    "plt.xlabel(\"Loan Length (by months)\")\n",
    "plt.show()"
   ]
  },
  {
   "cell_type": "code",
   "execution_count": 35,
   "id": "308d6169",
   "metadata": {},
   "outputs": [],
   "source": [
    "# TBD"
   ]
  },
  {
   "cell_type": "code",
   "execution_count": 36,
   "id": "f22333be",
   "metadata": {},
   "outputs": [],
   "source": [
    "# TBD"
   ]
  },
  {
   "cell_type": "code",
   "execution_count": 37,
   "id": "b07dca3f",
   "metadata": {},
   "outputs": [],
   "source": [
    "# TBD"
   ]
  },
  {
   "cell_type": "markdown",
   "id": "7c49cf00",
   "metadata": {},
   "source": [
    "### CheckPoint-1 (dealing with dtype = 'object')"
   ]
  },
  {
   "cell_type": "code",
   "execution_count": 38,
   "id": "ad6c3d55",
   "metadata": {},
   "outputs": [
    {
     "data": {
      "text/html": [
       "<div>\n",
       "<style scoped>\n",
       "    .dataframe tbody tr th:only-of-type {\n",
       "        vertical-align: middle;\n",
       "    }\n",
       "\n",
       "    .dataframe tbody tr th {\n",
       "        vertical-align: top;\n",
       "    }\n",
       "\n",
       "    .dataframe thead th {\n",
       "        text-align: right;\n",
       "    }\n",
       "</style>\n",
       "<table border=\"1\" class=\"dataframe\">\n",
       "  <thead>\n",
       "    <tr style=\"text-align: right;\">\n",
       "      <th></th>\n",
       "      <th>Amount_Requested</th>\n",
       "      <th>Amount_Funded_By_Investors</th>\n",
       "      <th>Interest_Rate</th>\n",
       "      <th>Loan_Length</th>\n",
       "      <th>Loan_Purpose</th>\n",
       "      <th>Debt_To_Income_Ratio</th>\n",
       "      <th>State</th>\n",
       "      <th>Home_Ownership</th>\n",
       "      <th>Monthly_Income</th>\n",
       "      <th>FICO_Range</th>\n",
       "      <th>Open_CREDIT_Lines</th>\n",
       "      <th>Revolving_CREDIT_Balance</th>\n",
       "      <th>Inquiries_in_the_Last_6_Months</th>\n",
       "      <th>Employment_Length</th>\n",
       "    </tr>\n",
       "  </thead>\n",
       "  <tbody>\n",
       "    <tr>\n",
       "      <th>0</th>\n",
       "      <td>25000.0</td>\n",
       "      <td>25000.00</td>\n",
       "      <td>18.49</td>\n",
       "      <td>60.0</td>\n",
       "      <td>debt_consolidation</td>\n",
       "      <td>27.56</td>\n",
       "      <td>VA</td>\n",
       "      <td>MORTGAGE</td>\n",
       "      <td>8606.56</td>\n",
       "      <td>720-724</td>\n",
       "      <td>11.0</td>\n",
       "      <td>15210.0</td>\n",
       "      <td>3.0</td>\n",
       "      <td>5 years</td>\n",
       "    </tr>\n",
       "    <tr>\n",
       "      <th>1</th>\n",
       "      <td>19750.0</td>\n",
       "      <td>19750.00</td>\n",
       "      <td>17.27</td>\n",
       "      <td>60.0</td>\n",
       "      <td>debt_consolidation</td>\n",
       "      <td>13.39</td>\n",
       "      <td>NY</td>\n",
       "      <td>MORTGAGE</td>\n",
       "      <td>6737.50</td>\n",
       "      <td>710-714</td>\n",
       "      <td>14.0</td>\n",
       "      <td>19070.0</td>\n",
       "      <td>3.0</td>\n",
       "      <td>4 years</td>\n",
       "    </tr>\n",
       "    <tr>\n",
       "      <th>2</th>\n",
       "      <td>2100.0</td>\n",
       "      <td>2100.00</td>\n",
       "      <td>14.33</td>\n",
       "      <td>36.0</td>\n",
       "      <td>major_purchase</td>\n",
       "      <td>3.50</td>\n",
       "      <td>LA</td>\n",
       "      <td>OWN</td>\n",
       "      <td>1000.00</td>\n",
       "      <td>690-694</td>\n",
       "      <td>13.0</td>\n",
       "      <td>893.0</td>\n",
       "      <td>1.0</td>\n",
       "      <td>&lt; 1 year</td>\n",
       "    </tr>\n",
       "    <tr>\n",
       "      <th>3</th>\n",
       "      <td>28000.0</td>\n",
       "      <td>28000.00</td>\n",
       "      <td>16.29</td>\n",
       "      <td>36.0</td>\n",
       "      <td>credit_card</td>\n",
       "      <td>19.62</td>\n",
       "      <td>NV</td>\n",
       "      <td>MORTGAGE</td>\n",
       "      <td>7083.33</td>\n",
       "      <td>710-714</td>\n",
       "      <td>12.0</td>\n",
       "      <td>38194.0</td>\n",
       "      <td>1.0</td>\n",
       "      <td>10+ years</td>\n",
       "    </tr>\n",
       "    <tr>\n",
       "      <th>4</th>\n",
       "      <td>24250.0</td>\n",
       "      <td>17431.82</td>\n",
       "      <td>12.23</td>\n",
       "      <td>60.0</td>\n",
       "      <td>credit_card</td>\n",
       "      <td>23.79</td>\n",
       "      <td>OH</td>\n",
       "      <td>MORTGAGE</td>\n",
       "      <td>5833.33</td>\n",
       "      <td>730-734</td>\n",
       "      <td>6.0</td>\n",
       "      <td>31061.0</td>\n",
       "      <td>2.0</td>\n",
       "      <td>10+ years</td>\n",
       "    </tr>\n",
       "  </tbody>\n",
       "</table>\n",
       "</div>"
      ],
      "text/plain": [
       "   Amount_Requested  Amount_Funded_By_Investors  Interest_Rate  Loan_Length  \\\n",
       "0           25000.0                    25000.00          18.49         60.0   \n",
       "1           19750.0                    19750.00          17.27         60.0   \n",
       "2            2100.0                     2100.00          14.33         36.0   \n",
       "3           28000.0                    28000.00          16.29         36.0   \n",
       "4           24250.0                    17431.82          12.23         60.0   \n",
       "\n",
       "         Loan_Purpose  Debt_To_Income_Ratio State Home_Ownership  \\\n",
       "0  debt_consolidation                 27.56    VA       MORTGAGE   \n",
       "1  debt_consolidation                 13.39    NY       MORTGAGE   \n",
       "2      major_purchase                  3.50    LA            OWN   \n",
       "3         credit_card                 19.62    NV       MORTGAGE   \n",
       "4         credit_card                 23.79    OH       MORTGAGE   \n",
       "\n",
       "   Monthly_Income FICO_Range  Open_CREDIT_Lines  Revolving_CREDIT_Balance  \\\n",
       "0         8606.56    720-724               11.0                   15210.0   \n",
       "1         6737.50    710-714               14.0                   19070.0   \n",
       "2         1000.00    690-694               13.0                     893.0   \n",
       "3         7083.33    710-714               12.0                   38194.0   \n",
       "4         5833.33    730-734                6.0                   31061.0   \n",
       "\n",
       "   Inquiries_in_the_Last_6_Months Employment_Length  \n",
       "0                             3.0           5 years  \n",
       "1                             3.0           4 years  \n",
       "2                             1.0          < 1 year  \n",
       "3                             1.0         10+ years  \n",
       "4                             2.0         10+ years  "
      ]
     },
     "execution_count": 38,
     "metadata": {},
     "output_type": "execute_result"
    }
   ],
   "source": [
    "data.head()"
   ]
  },
  {
   "cell_type": "code",
   "execution_count": 39,
   "id": "383e844a",
   "metadata": {},
   "outputs": [],
   "source": [
    "data = data.rename(columns = {'Loan_Length' : 'Loan_Length_by_month'})"
   ]
  },
  {
   "cell_type": "code",
   "execution_count": 40,
   "id": "21e1c69f",
   "metadata": {},
   "outputs": [
    {
     "name": "stdout",
     "output_type": "stream",
     "text": [
      "Loan_Purpose - 14 distinct values\n",
      "State - 44 distinct values\n",
      "Home_Ownership - 3 distinct values\n",
      "FICO_Range - 38 distinct values\n",
      "Employment_Length - 11 distinct values\n"
     ]
    }
   ],
   "source": [
    "for column in data.columns:\n",
    "    if data[column].dtype == 'object':\n",
    "        num_distinct_values = len(data[column].unique())\n",
    "        print(f\"{column} - {num_distinct_values} distinct values\")"
   ]
  },
  {
   "cell_type": "code",
   "execution_count": 41,
   "id": "7055a606",
   "metadata": {},
   "outputs": [
    {
     "name": "stdout",
     "output_type": "stream",
     "text": [
      "Loan_Purpose ['debt_consolidation' 'major_purchase' 'credit_card' 'home_improvement'\n",
      " 'other' 'car' 'moving' 'small_business' 'house' 'educational' 'vacation'\n",
      " 'wedding' 'medical' 'renewable_energy']\n",
      "State ['VA' 'NY' 'LA' 'NV' 'OH' 'CA' 'IL' 'NJ' 'WA' 'NC' 'CT' 'AK' 'MA' 'TX'\n",
      " 'VT' 'OK' 'FL' 'NH' 'GA' 'MN' 'MD' 'WY' 'PA' 'AL' 'AZ' 'SC' 'MI' 'OR'\n",
      " 'RI' 'NM' 'CO' 'MO' 'WI' 'KY' 'UT' 'AR' 'WV' 'DE' 'MT' 'KS' 'DC' 'SD'\n",
      " 'HI' 'IN']\n",
      "Home_Ownership ['MORTGAGE' 'OWN' 'RENT']\n",
      "FICO_Range ['720-724' '710-714' '690-694' '730-734' '665-669' '735-739' '800-804'\n",
      " '680-684' '745-749' '660-664' '670-674' '705-709' '695-699' '715-719'\n",
      " '760-764' '685-689' '785-789' '755-759' '675-679' '775-779' '740-744'\n",
      " '725-729' '640-644' '790-794' '765-769' '770-774' '700-704' '750-754'\n",
      " '810-814' '815-819' '780-784' '820-824' '795-799' '805-809' '645-649'\n",
      " '655-659' '830-834' '650-654']\n",
      "Employment_Length ['5 years' '4 years' '< 1 year' '10+ years' '2 years' '8 years' '1 year'\n",
      " '6 years' '7 years' '3 years' '9 years']\n"
     ]
    }
   ],
   "source": [
    "for col in data:\n",
    "    if data[col].dtypes == 'object':\n",
    "        print(col ,data[col].unique())"
   ]
  },
  {
   "cell_type": "markdown",
   "id": "a3341822",
   "metadata": {},
   "source": [
    "| West                  | Midwest                   | South                     | Northeast                   |\n",
    "|-----------------------|---------------------------|---------------------------|-----------------------------|\n",
    "| California (CA)       | Illinois (IL)             | Texas (TX)                | New York (NY)               |\n",
    "| Washington (WA)       | Ohio (OH)                 | Florida (FL)              | Pennsylvania (PA)           |\n",
    "| Arizona (AZ)          | Michigan (MI)             | Georgia (GA)              | New Jersey (NJ)             |\n",
    "| Nevada (NV)           | Missouri (MO)             | Virginia (VA)             | Massachusetts (MA)         |\n",
    "| Oregon (OR)           | Minnesota (MN)            | North Carolina (NC)       | Maryland (MD)               |\n",
    "| Colorado (CO)         | Wisconsin (WI)            | Alabama (AL)              | Connecticut (CT)            |\n",
    "| Utah (UT)             | Kentucky (KY)             | South Carolina (SC)       | New Hampshire (NH)          |\n",
    "| Alaska (AK)           | Oklahoma (OK)             | Louisiana (LA)            | Rhode Island (RI)           |\n",
    "| Hawaii (HI)           | Kansas (KS)               | Mississippi (MS)          | Vermont (VT)                |\n",
    "| Montana (MT)          | Iowa (IA)                 | Arkansas (AR)             | Delaware (DE)               |\n",
    "| Idaho (ID)            | Indiana (IN)              | Tennessee (TN)            |                             |\n",
    "| Wyoming (WY)          | South Dakota (SD)         | Kentucky (KY)             |                             |\n",
    "| New Mexico (NM)       | North Dakota (ND)         |                           |                             |\n"
   ]
  },
  {
   "cell_type": "code",
   "execution_count": 42,
   "id": "ee848576",
   "metadata": {},
   "outputs": [],
   "source": [
    "data1 = data.copy()"
   ]
  },
  {
   "cell_type": "code",
   "execution_count": 43,
   "id": "6134a5bf",
   "metadata": {},
   "outputs": [],
   "source": [
    "state_regions = {\n",
    "    'West': ['CA', 'WA', 'AZ', 'NV', 'OR', 'CO', 'UT', 'AK', 'HI', 'MT', 'ID', 'WY', 'NM'],\n",
    "    'Midwest': ['IL', 'OH', 'MI', 'MO', 'MN', 'WI', 'KY', 'OK', 'KS', 'IA', 'IN', 'SD', 'ND', 'NE'],\n",
    "    'South': ['TX', 'FL', 'GA', 'VA', 'NC', 'AL', 'SC', 'LA', 'MS', 'AR', 'TN', 'KY'],\n",
    "    'Northeast': ['NY', 'PA', 'NJ', 'MA', 'MD', 'CT', 'NH', 'RI', 'VT', 'DE'],\n",
    "    'District of Columbia': ['DC']\n",
    "}\n",
    "\n",
    "data1['Region'] = data1['State'].map({state: region for region, states in state_regions.items() for state in states})"
   ]
  },
  {
   "cell_type": "code",
   "execution_count": 44,
   "id": "f4e224a8",
   "metadata": {},
   "outputs": [
    {
     "data": {
      "text/plain": [
       "Amount_Requested                   0\n",
       "Amount_Funded_By_Investors         0\n",
       "Interest_Rate                      0\n",
       "Loan_Length_by_month               0\n",
       "Loan_Purpose                       0\n",
       "Debt_To_Income_Ratio               0\n",
       "State                              0\n",
       "Home_Ownership                     0\n",
       "Monthly_Income                     0\n",
       "FICO_Range                         0\n",
       "Open_CREDIT_Lines                  0\n",
       "Revolving_CREDIT_Balance           0\n",
       "Inquiries_in_the_Last_6_Months     0\n",
       "Employment_Length                  0\n",
       "Region                            10\n",
       "dtype: int64"
      ]
     },
     "execution_count": 44,
     "metadata": {},
     "output_type": "execute_result"
    }
   ],
   "source": [
    "data1.isnull().sum()"
   ]
  },
  {
   "cell_type": "code",
   "execution_count": 45,
   "id": "e22b10d0",
   "metadata": {},
   "outputs": [],
   "source": [
    "data1.dropna(inplace = True)"
   ]
  },
  {
   "cell_type": "code",
   "execution_count": 46,
   "id": "32c605a8",
   "metadata": {},
   "outputs": [],
   "source": [
    "data1.drop(columns='State', inplace = True)"
   ]
  },
  {
   "cell_type": "code",
   "execution_count": 47,
   "id": "06cbf759",
   "metadata": {},
   "outputs": [
    {
     "data": {
      "text/html": [
       "<div>\n",
       "<style scoped>\n",
       "    .dataframe tbody tr th:only-of-type {\n",
       "        vertical-align: middle;\n",
       "    }\n",
       "\n",
       "    .dataframe tbody tr th {\n",
       "        vertical-align: top;\n",
       "    }\n",
       "\n",
       "    .dataframe thead th {\n",
       "        text-align: right;\n",
       "    }\n",
       "</style>\n",
       "<table border=\"1\" class=\"dataframe\">\n",
       "  <thead>\n",
       "    <tr style=\"text-align: right;\">\n",
       "      <th></th>\n",
       "      <th>Amount_Requested</th>\n",
       "      <th>Amount_Funded_By_Investors</th>\n",
       "      <th>Interest_Rate</th>\n",
       "      <th>Loan_Length_by_month</th>\n",
       "      <th>Loan_Purpose</th>\n",
       "      <th>Debt_To_Income_Ratio</th>\n",
       "      <th>Home_Ownership</th>\n",
       "      <th>Monthly_Income</th>\n",
       "      <th>FICO_Range</th>\n",
       "      <th>Open_CREDIT_Lines</th>\n",
       "      <th>Revolving_CREDIT_Balance</th>\n",
       "      <th>Inquiries_in_the_Last_6_Months</th>\n",
       "      <th>Employment_Length</th>\n",
       "      <th>Region</th>\n",
       "    </tr>\n",
       "  </thead>\n",
       "  <tbody>\n",
       "    <tr>\n",
       "      <th>0</th>\n",
       "      <td>25000.0</td>\n",
       "      <td>25000.00</td>\n",
       "      <td>18.49</td>\n",
       "      <td>60.0</td>\n",
       "      <td>debt_consolidation</td>\n",
       "      <td>27.56</td>\n",
       "      <td>MORTGAGE</td>\n",
       "      <td>8606.56</td>\n",
       "      <td>720-724</td>\n",
       "      <td>11.0</td>\n",
       "      <td>15210.0</td>\n",
       "      <td>3.0</td>\n",
       "      <td>5 years</td>\n",
       "      <td>South</td>\n",
       "    </tr>\n",
       "    <tr>\n",
       "      <th>1</th>\n",
       "      <td>19750.0</td>\n",
       "      <td>19750.00</td>\n",
       "      <td>17.27</td>\n",
       "      <td>60.0</td>\n",
       "      <td>debt_consolidation</td>\n",
       "      <td>13.39</td>\n",
       "      <td>MORTGAGE</td>\n",
       "      <td>6737.50</td>\n",
       "      <td>710-714</td>\n",
       "      <td>14.0</td>\n",
       "      <td>19070.0</td>\n",
       "      <td>3.0</td>\n",
       "      <td>4 years</td>\n",
       "      <td>Northeast</td>\n",
       "    </tr>\n",
       "    <tr>\n",
       "      <th>2</th>\n",
       "      <td>2100.0</td>\n",
       "      <td>2100.00</td>\n",
       "      <td>14.33</td>\n",
       "      <td>36.0</td>\n",
       "      <td>major_purchase</td>\n",
       "      <td>3.50</td>\n",
       "      <td>OWN</td>\n",
       "      <td>1000.00</td>\n",
       "      <td>690-694</td>\n",
       "      <td>13.0</td>\n",
       "      <td>893.0</td>\n",
       "      <td>1.0</td>\n",
       "      <td>&lt; 1 year</td>\n",
       "      <td>South</td>\n",
       "    </tr>\n",
       "    <tr>\n",
       "      <th>3</th>\n",
       "      <td>28000.0</td>\n",
       "      <td>28000.00</td>\n",
       "      <td>16.29</td>\n",
       "      <td>36.0</td>\n",
       "      <td>credit_card</td>\n",
       "      <td>19.62</td>\n",
       "      <td>MORTGAGE</td>\n",
       "      <td>7083.33</td>\n",
       "      <td>710-714</td>\n",
       "      <td>12.0</td>\n",
       "      <td>38194.0</td>\n",
       "      <td>1.0</td>\n",
       "      <td>10+ years</td>\n",
       "      <td>West</td>\n",
       "    </tr>\n",
       "    <tr>\n",
       "      <th>4</th>\n",
       "      <td>24250.0</td>\n",
       "      <td>17431.82</td>\n",
       "      <td>12.23</td>\n",
       "      <td>60.0</td>\n",
       "      <td>credit_card</td>\n",
       "      <td>23.79</td>\n",
       "      <td>MORTGAGE</td>\n",
       "      <td>5833.33</td>\n",
       "      <td>730-734</td>\n",
       "      <td>6.0</td>\n",
       "      <td>31061.0</td>\n",
       "      <td>2.0</td>\n",
       "      <td>10+ years</td>\n",
       "      <td>Midwest</td>\n",
       "    </tr>\n",
       "  </tbody>\n",
       "</table>\n",
       "</div>"
      ],
      "text/plain": [
       "   Amount_Requested  Amount_Funded_By_Investors  Interest_Rate  \\\n",
       "0           25000.0                    25000.00          18.49   \n",
       "1           19750.0                    19750.00          17.27   \n",
       "2            2100.0                     2100.00          14.33   \n",
       "3           28000.0                    28000.00          16.29   \n",
       "4           24250.0                    17431.82          12.23   \n",
       "\n",
       "   Loan_Length_by_month        Loan_Purpose  Debt_To_Income_Ratio  \\\n",
       "0                  60.0  debt_consolidation                 27.56   \n",
       "1                  60.0  debt_consolidation                 13.39   \n",
       "2                  36.0      major_purchase                  3.50   \n",
       "3                  36.0         credit_card                 19.62   \n",
       "4                  60.0         credit_card                 23.79   \n",
       "\n",
       "  Home_Ownership  Monthly_Income FICO_Range  Open_CREDIT_Lines  \\\n",
       "0       MORTGAGE         8606.56    720-724               11.0   \n",
       "1       MORTGAGE         6737.50    710-714               14.0   \n",
       "2            OWN         1000.00    690-694               13.0   \n",
       "3       MORTGAGE         7083.33    710-714               12.0   \n",
       "4       MORTGAGE         5833.33    730-734                6.0   \n",
       "\n",
       "   Revolving_CREDIT_Balance  Inquiries_in_the_Last_6_Months Employment_Length  \\\n",
       "0                   15210.0                             3.0           5 years   \n",
       "1                   19070.0                             3.0           4 years   \n",
       "2                     893.0                             1.0          < 1 year   \n",
       "3                   38194.0                             1.0         10+ years   \n",
       "4                   31061.0                             2.0         10+ years   \n",
       "\n",
       "      Region  \n",
       "0      South  \n",
       "1  Northeast  \n",
       "2      South  \n",
       "3       West  \n",
       "4    Midwest  "
      ]
     },
     "execution_count": 47,
     "metadata": {},
     "output_type": "execute_result"
    }
   ],
   "source": [
    "data1.head()"
   ]
  },
  {
   "cell_type": "code",
   "execution_count": 48,
   "id": "731e17ae",
   "metadata": {},
   "outputs": [
    {
     "data": {
      "text/plain": [
       "Loan_Purpose\n",
       "debt_consolidation    1098\n",
       "credit_card            374\n",
       "other                  158\n",
       "home_improvement       126\n",
       "major_purchase          81\n",
       "small_business          75\n",
       "car                     43\n",
       "wedding                 35\n",
       "moving                  24\n",
       "medical                 24\n",
       "house                   19\n",
       "vacation                17\n",
       "educational             13\n",
       "renewable_energy         3\n",
       "Name: count, dtype: int64"
      ]
     },
     "execution_count": 48,
     "metadata": {},
     "output_type": "execute_result"
    }
   ],
   "source": [
    "data1['Loan_Purpose'].value_counts()"
   ]
  },
  {
   "cell_type": "code",
   "execution_count": 49,
   "id": "4cefd39a",
   "metadata": {},
   "outputs": [],
   "source": [
    "# Dictionary to map loan purposes to groups\n",
    "loan_purpose_groups = {\n",
    "    'Debt_Related': ['debt_consolidation', 'credit_card'],\n",
    "    'Personal_Expenses': ['home_improvement', 'house', 'car', 'wedding', 'medical', 'vacation', 'educational'],\n",
    "    'Business': ['small_business', 'major_purchase'],\n",
    "    'Others': ['moving','other']\n",
    "}\n",
    "\n",
    "data1['Grouped_Loan_Purpose'] = data1['Loan_Purpose'].apply(lambda purpose: next((group for group, purposes in loan_purpose_groups.items() if purpose in purposes), 'Other'))"
   ]
  },
  {
   "cell_type": "code",
   "execution_count": 50,
   "id": "31e96835",
   "metadata": {},
   "outputs": [],
   "source": [
    "data1.drop('Loan_Purpose', axis=1, inplace=True)"
   ]
  },
  {
   "cell_type": "code",
   "execution_count": 51,
   "id": "0e6022de",
   "metadata": {},
   "outputs": [
    {
     "data": {
      "text/html": [
       "<div>\n",
       "<style scoped>\n",
       "    .dataframe tbody tr th:only-of-type {\n",
       "        vertical-align: middle;\n",
       "    }\n",
       "\n",
       "    .dataframe tbody tr th {\n",
       "        vertical-align: top;\n",
       "    }\n",
       "\n",
       "    .dataframe thead th {\n",
       "        text-align: right;\n",
       "    }\n",
       "</style>\n",
       "<table border=\"1\" class=\"dataframe\">\n",
       "  <thead>\n",
       "    <tr style=\"text-align: right;\">\n",
       "      <th></th>\n",
       "      <th>Amount_Requested</th>\n",
       "      <th>Amount_Funded_By_Investors</th>\n",
       "      <th>Interest_Rate</th>\n",
       "      <th>Loan_Length_by_month</th>\n",
       "      <th>Debt_To_Income_Ratio</th>\n",
       "      <th>Home_Ownership</th>\n",
       "      <th>Monthly_Income</th>\n",
       "      <th>FICO_Range</th>\n",
       "      <th>Open_CREDIT_Lines</th>\n",
       "      <th>Revolving_CREDIT_Balance</th>\n",
       "      <th>Inquiries_in_the_Last_6_Months</th>\n",
       "      <th>Employment_Length</th>\n",
       "      <th>Region</th>\n",
       "      <th>Grouped_Loan_Purpose</th>\n",
       "    </tr>\n",
       "  </thead>\n",
       "  <tbody>\n",
       "    <tr>\n",
       "      <th>0</th>\n",
       "      <td>25000.0</td>\n",
       "      <td>25000.00</td>\n",
       "      <td>18.49</td>\n",
       "      <td>60.0</td>\n",
       "      <td>27.56</td>\n",
       "      <td>MORTGAGE</td>\n",
       "      <td>8606.56</td>\n",
       "      <td>720-724</td>\n",
       "      <td>11.0</td>\n",
       "      <td>15210.0</td>\n",
       "      <td>3.0</td>\n",
       "      <td>5 years</td>\n",
       "      <td>South</td>\n",
       "      <td>Debt_Related</td>\n",
       "    </tr>\n",
       "    <tr>\n",
       "      <th>1</th>\n",
       "      <td>19750.0</td>\n",
       "      <td>19750.00</td>\n",
       "      <td>17.27</td>\n",
       "      <td>60.0</td>\n",
       "      <td>13.39</td>\n",
       "      <td>MORTGAGE</td>\n",
       "      <td>6737.50</td>\n",
       "      <td>710-714</td>\n",
       "      <td>14.0</td>\n",
       "      <td>19070.0</td>\n",
       "      <td>3.0</td>\n",
       "      <td>4 years</td>\n",
       "      <td>Northeast</td>\n",
       "      <td>Debt_Related</td>\n",
       "    </tr>\n",
       "    <tr>\n",
       "      <th>2</th>\n",
       "      <td>2100.0</td>\n",
       "      <td>2100.00</td>\n",
       "      <td>14.33</td>\n",
       "      <td>36.0</td>\n",
       "      <td>3.50</td>\n",
       "      <td>OWN</td>\n",
       "      <td>1000.00</td>\n",
       "      <td>690-694</td>\n",
       "      <td>13.0</td>\n",
       "      <td>893.0</td>\n",
       "      <td>1.0</td>\n",
       "      <td>&lt; 1 year</td>\n",
       "      <td>South</td>\n",
       "      <td>Business</td>\n",
       "    </tr>\n",
       "    <tr>\n",
       "      <th>3</th>\n",
       "      <td>28000.0</td>\n",
       "      <td>28000.00</td>\n",
       "      <td>16.29</td>\n",
       "      <td>36.0</td>\n",
       "      <td>19.62</td>\n",
       "      <td>MORTGAGE</td>\n",
       "      <td>7083.33</td>\n",
       "      <td>710-714</td>\n",
       "      <td>12.0</td>\n",
       "      <td>38194.0</td>\n",
       "      <td>1.0</td>\n",
       "      <td>10+ years</td>\n",
       "      <td>West</td>\n",
       "      <td>Debt_Related</td>\n",
       "    </tr>\n",
       "    <tr>\n",
       "      <th>4</th>\n",
       "      <td>24250.0</td>\n",
       "      <td>17431.82</td>\n",
       "      <td>12.23</td>\n",
       "      <td>60.0</td>\n",
       "      <td>23.79</td>\n",
       "      <td>MORTGAGE</td>\n",
       "      <td>5833.33</td>\n",
       "      <td>730-734</td>\n",
       "      <td>6.0</td>\n",
       "      <td>31061.0</td>\n",
       "      <td>2.0</td>\n",
       "      <td>10+ years</td>\n",
       "      <td>Midwest</td>\n",
       "      <td>Debt_Related</td>\n",
       "    </tr>\n",
       "  </tbody>\n",
       "</table>\n",
       "</div>"
      ],
      "text/plain": [
       "   Amount_Requested  Amount_Funded_By_Investors  Interest_Rate  \\\n",
       "0           25000.0                    25000.00          18.49   \n",
       "1           19750.0                    19750.00          17.27   \n",
       "2            2100.0                     2100.00          14.33   \n",
       "3           28000.0                    28000.00          16.29   \n",
       "4           24250.0                    17431.82          12.23   \n",
       "\n",
       "   Loan_Length_by_month  Debt_To_Income_Ratio Home_Ownership  Monthly_Income  \\\n",
       "0                  60.0                 27.56       MORTGAGE         8606.56   \n",
       "1                  60.0                 13.39       MORTGAGE         6737.50   \n",
       "2                  36.0                  3.50            OWN         1000.00   \n",
       "3                  36.0                 19.62       MORTGAGE         7083.33   \n",
       "4                  60.0                 23.79       MORTGAGE         5833.33   \n",
       "\n",
       "  FICO_Range  Open_CREDIT_Lines  Revolving_CREDIT_Balance  \\\n",
       "0    720-724               11.0                   15210.0   \n",
       "1    710-714               14.0                   19070.0   \n",
       "2    690-694               13.0                     893.0   \n",
       "3    710-714               12.0                   38194.0   \n",
       "4    730-734                6.0                   31061.0   \n",
       "\n",
       "   Inquiries_in_the_Last_6_Months Employment_Length     Region  \\\n",
       "0                             3.0           5 years      South   \n",
       "1                             3.0           4 years  Northeast   \n",
       "2                             1.0          < 1 year      South   \n",
       "3                             1.0         10+ years       West   \n",
       "4                             2.0         10+ years    Midwest   \n",
       "\n",
       "  Grouped_Loan_Purpose  \n",
       "0         Debt_Related  \n",
       "1         Debt_Related  \n",
       "2             Business  \n",
       "3         Debt_Related  \n",
       "4         Debt_Related  "
      ]
     },
     "execution_count": 51,
     "metadata": {},
     "output_type": "execute_result"
    }
   ],
   "source": [
    "data1.head()"
   ]
  },
  {
   "cell_type": "code",
   "execution_count": 52,
   "id": "a6a49107",
   "metadata": {},
   "outputs": [],
   "source": [
    "bucket_ranges = [(300, 579), (580, 669), (670, 739), (740, 799), (800, 850)]\n",
    "bucket_labels = ['Poor', 'Fair', 'Good', 'Very Good', 'Excellent']\n",
    "def map_fico_to_bucket(score):\n",
    "    for i, (lower, upper) in enumerate(bucket_ranges):\n",
    "        if lower <= score <= upper:\n",
    "            return bucket_labels[i]\n",
    "    return 'Unknown'"
   ]
  },
  {
   "cell_type": "code",
   "execution_count": 53,
   "id": "b9052464",
   "metadata": {},
   "outputs": [],
   "source": [
    "data1['FICO_Score'] = data1['FICO_Range'].apply(lambda x: map_fico_to_bucket(sum(map(int, x.split('-'))) / 2))"
   ]
  },
  {
   "cell_type": "code",
   "execution_count": 54,
   "id": "df63c00c",
   "metadata": {},
   "outputs": [],
   "source": [
    "data1.drop('FICO_Range', axis=1, inplace=True)"
   ]
  },
  {
   "cell_type": "code",
   "execution_count": 55,
   "id": "12d5a886",
   "metadata": {},
   "outputs": [
    {
     "data": {
      "text/html": [
       "<div>\n",
       "<style scoped>\n",
       "    .dataframe tbody tr th:only-of-type {\n",
       "        vertical-align: middle;\n",
       "    }\n",
       "\n",
       "    .dataframe tbody tr th {\n",
       "        vertical-align: top;\n",
       "    }\n",
       "\n",
       "    .dataframe thead th {\n",
       "        text-align: right;\n",
       "    }\n",
       "</style>\n",
       "<table border=\"1\" class=\"dataframe\">\n",
       "  <thead>\n",
       "    <tr style=\"text-align: right;\">\n",
       "      <th></th>\n",
       "      <th>Amount_Requested</th>\n",
       "      <th>Amount_Funded_By_Investors</th>\n",
       "      <th>Interest_Rate</th>\n",
       "      <th>Loan_Length_by_month</th>\n",
       "      <th>Debt_To_Income_Ratio</th>\n",
       "      <th>Monthly_Income</th>\n",
       "      <th>Open_CREDIT_Lines</th>\n",
       "      <th>Revolving_CREDIT_Balance</th>\n",
       "      <th>Inquiries_in_the_Last_6_Months</th>\n",
       "    </tr>\n",
       "  </thead>\n",
       "  <tbody>\n",
       "    <tr>\n",
       "      <th>count</th>\n",
       "      <td>2090.000000</td>\n",
       "      <td>2090.000000</td>\n",
       "      <td>2090.000000</td>\n",
       "      <td>2090.000000</td>\n",
       "      <td>2090.000000</td>\n",
       "      <td>2090.000000</td>\n",
       "      <td>2090.000000</td>\n",
       "      <td>2090.000000</td>\n",
       "      <td>2090.000000</td>\n",
       "    </tr>\n",
       "    <tr>\n",
       "      <th>mean</th>\n",
       "      <td>12628.444976</td>\n",
       "      <td>12195.099569</td>\n",
       "      <td>13.073282</td>\n",
       "      <td>41.293780</td>\n",
       "      <td>15.370474</td>\n",
       "      <td>5780.352105</td>\n",
       "      <td>10.095215</td>\n",
       "      <td>15404.505263</td>\n",
       "      <td>0.899043</td>\n",
       "    </tr>\n",
       "    <tr>\n",
       "      <th>std</th>\n",
       "      <td>7806.542574</td>\n",
       "      <td>7743.037698</td>\n",
       "      <td>4.153958</td>\n",
       "      <td>9.953593</td>\n",
       "      <td>7.468398</td>\n",
       "      <td>4128.650396</td>\n",
       "      <td>4.481655</td>\n",
       "      <td>18789.671337</td>\n",
       "      <td>1.224393</td>\n",
       "    </tr>\n",
       "    <tr>\n",
       "      <th>min</th>\n",
       "      <td>1000.000000</td>\n",
       "      <td>0.000000</td>\n",
       "      <td>5.420000</td>\n",
       "      <td>36.000000</td>\n",
       "      <td>0.000000</td>\n",
       "      <td>588.500000</td>\n",
       "      <td>2.000000</td>\n",
       "      <td>0.000000</td>\n",
       "      <td>0.000000</td>\n",
       "    </tr>\n",
       "    <tr>\n",
       "      <th>25%</th>\n",
       "      <td>6500.000000</td>\n",
       "      <td>6000.000000</td>\n",
       "      <td>10.160000</td>\n",
       "      <td>36.000000</td>\n",
       "      <td>9.742500</td>\n",
       "      <td>3500.000000</td>\n",
       "      <td>7.000000</td>\n",
       "      <td>5640.000000</td>\n",
       "      <td>0.000000</td>\n",
       "    </tr>\n",
       "    <tr>\n",
       "      <th>50%</th>\n",
       "      <td>10500.000000</td>\n",
       "      <td>10000.000000</td>\n",
       "      <td>13.110000</td>\n",
       "      <td>36.000000</td>\n",
       "      <td>15.205000</td>\n",
       "      <td>5000.000000</td>\n",
       "      <td>9.000000</td>\n",
       "      <td>11072.000000</td>\n",
       "      <td>0.000000</td>\n",
       "    </tr>\n",
       "    <tr>\n",
       "      <th>75%</th>\n",
       "      <td>17387.500000</td>\n",
       "      <td>16468.750000</td>\n",
       "      <td>15.800000</td>\n",
       "      <td>36.000000</td>\n",
       "      <td>20.657500</td>\n",
       "      <td>6925.265000</td>\n",
       "      <td>13.000000</td>\n",
       "      <td>18958.500000</td>\n",
       "      <td>1.000000</td>\n",
       "    </tr>\n",
       "    <tr>\n",
       "      <th>max</th>\n",
       "      <td>35000.000000</td>\n",
       "      <td>35000.000000</td>\n",
       "      <td>24.890000</td>\n",
       "      <td>60.000000</td>\n",
       "      <td>34.910000</td>\n",
       "      <td>102750.000000</td>\n",
       "      <td>38.000000</td>\n",
       "      <td>270800.000000</td>\n",
       "      <td>9.000000</td>\n",
       "    </tr>\n",
       "  </tbody>\n",
       "</table>\n",
       "</div>"
      ],
      "text/plain": [
       "       Amount_Requested  Amount_Funded_By_Investors  Interest_Rate  \\\n",
       "count       2090.000000                 2090.000000    2090.000000   \n",
       "mean       12628.444976                12195.099569      13.073282   \n",
       "std         7806.542574                 7743.037698       4.153958   \n",
       "min         1000.000000                    0.000000       5.420000   \n",
       "25%         6500.000000                 6000.000000      10.160000   \n",
       "50%        10500.000000                10000.000000      13.110000   \n",
       "75%        17387.500000                16468.750000      15.800000   \n",
       "max        35000.000000                35000.000000      24.890000   \n",
       "\n",
       "       Loan_Length_by_month  Debt_To_Income_Ratio  Monthly_Income  \\\n",
       "count           2090.000000           2090.000000     2090.000000   \n",
       "mean              41.293780             15.370474     5780.352105   \n",
       "std                9.953593              7.468398     4128.650396   \n",
       "min               36.000000              0.000000      588.500000   \n",
       "25%               36.000000              9.742500     3500.000000   \n",
       "50%               36.000000             15.205000     5000.000000   \n",
       "75%               36.000000             20.657500     6925.265000   \n",
       "max               60.000000             34.910000   102750.000000   \n",
       "\n",
       "       Open_CREDIT_Lines  Revolving_CREDIT_Balance  \\\n",
       "count        2090.000000               2090.000000   \n",
       "mean           10.095215              15404.505263   \n",
       "std             4.481655              18789.671337   \n",
       "min             2.000000                  0.000000   \n",
       "25%             7.000000               5640.000000   \n",
       "50%             9.000000              11072.000000   \n",
       "75%            13.000000              18958.500000   \n",
       "max            38.000000             270800.000000   \n",
       "\n",
       "       Inquiries_in_the_Last_6_Months  \n",
       "count                     2090.000000  \n",
       "mean                         0.899043  \n",
       "std                          1.224393  \n",
       "min                          0.000000  \n",
       "25%                          0.000000  \n",
       "50%                          0.000000  \n",
       "75%                          1.000000  \n",
       "max                          9.000000  "
      ]
     },
     "execution_count": 55,
     "metadata": {},
     "output_type": "execute_result"
    }
   ],
   "source": [
    "data1.describe()"
   ]
  },
  {
   "cell_type": "code",
   "execution_count": 56,
   "id": "37c45c92",
   "metadata": {},
   "outputs": [
    {
     "name": "stdout",
     "output_type": "stream",
     "text": [
      "Home_Ownership - 3 distinct values\n",
      "Employment_Length - 11 distinct values\n",
      "Region - 5 distinct values\n",
      "Grouped_Loan_Purpose - 5 distinct values\n",
      "FICO_Score - 4 distinct values\n"
     ]
    }
   ],
   "source": [
    "for column in data1.columns:\n",
    "    if data1[column].dtype == 'object':\n",
    "        num_distinct_values = len(data1[column].unique())\n",
    "        print(f\"{column} - {num_distinct_values} distinct values\")"
   ]
  },
  {
   "cell_type": "code",
   "execution_count": 57,
   "id": "558988e7",
   "metadata": {},
   "outputs": [
    {
     "data": {
      "text/plain": [
       "Employment_Length\n",
       "10+ years    568\n",
       "< 1 year     223\n",
       "2 years      212\n",
       "3 years      200\n",
       "5 years      177\n",
       "4 years      159\n",
       "1 year       156\n",
       "6 years      131\n",
       "7 years      105\n",
       "8 years       94\n",
       "9 years       65\n",
       "Name: count, dtype: int64"
      ]
     },
     "execution_count": 57,
     "metadata": {},
     "output_type": "execute_result"
    }
   ],
   "source": [
    "data1['Employment_Length'].value_counts()"
   ]
  },
  {
   "cell_type": "code",
   "execution_count": 58,
   "id": "2c9259c6",
   "metadata": {},
   "outputs": [],
   "source": [
    "employment_length_groups = {\n",
    "    'Junior': ['< 1 year'],\n",
    "    'Mid-Level': ['1 year', '2 years', '3 years', '4 years'],\n",
    "    'Mid-Senior': ['5 years', '6 years', '7 years'],\n",
    "    'Senior': ['8 years', '9 years', '10+ years']\n",
    "}\n",
    "\n",
    "def map_to_group(length):\n",
    "    for group, lengths in employment_length_groups.items():\n",
    "        if any(substring in length for substring in lengths):\n",
    "            return group\n",
    "    return 'Unknown'"
   ]
  },
  {
   "cell_type": "code",
   "execution_count": 59,
   "id": "59277ea2",
   "metadata": {},
   "outputs": [],
   "source": [
    "data1['Employment_Group'] = data1['Employment_Length'].apply(map_to_group)"
   ]
  },
  {
   "cell_type": "code",
   "execution_count": 60,
   "id": "99a59450",
   "metadata": {},
   "outputs": [],
   "source": [
    "data1.drop('Employment_Length', axis=1, inplace=True)"
   ]
  },
  {
   "cell_type": "code",
   "execution_count": 61,
   "id": "c076a26d",
   "metadata": {},
   "outputs": [
    {
     "data": {
      "text/html": [
       "<div>\n",
       "<style scoped>\n",
       "    .dataframe tbody tr th:only-of-type {\n",
       "        vertical-align: middle;\n",
       "    }\n",
       "\n",
       "    .dataframe tbody tr th {\n",
       "        vertical-align: top;\n",
       "    }\n",
       "\n",
       "    .dataframe thead th {\n",
       "        text-align: right;\n",
       "    }\n",
       "</style>\n",
       "<table border=\"1\" class=\"dataframe\">\n",
       "  <thead>\n",
       "    <tr style=\"text-align: right;\">\n",
       "      <th></th>\n",
       "      <th>Amount_Requested</th>\n",
       "      <th>Amount_Funded_By_Investors</th>\n",
       "      <th>Interest_Rate</th>\n",
       "      <th>Loan_Length_by_month</th>\n",
       "      <th>Debt_To_Income_Ratio</th>\n",
       "      <th>Home_Ownership</th>\n",
       "      <th>Monthly_Income</th>\n",
       "      <th>Open_CREDIT_Lines</th>\n",
       "      <th>Revolving_CREDIT_Balance</th>\n",
       "      <th>Inquiries_in_the_Last_6_Months</th>\n",
       "      <th>Region</th>\n",
       "      <th>Grouped_Loan_Purpose</th>\n",
       "      <th>FICO_Score</th>\n",
       "      <th>Employment_Group</th>\n",
       "    </tr>\n",
       "  </thead>\n",
       "  <tbody>\n",
       "    <tr>\n",
       "      <th>0</th>\n",
       "      <td>25000.0</td>\n",
       "      <td>25000.00</td>\n",
       "      <td>18.49</td>\n",
       "      <td>60.0</td>\n",
       "      <td>27.56</td>\n",
       "      <td>MORTGAGE</td>\n",
       "      <td>8606.56</td>\n",
       "      <td>11.0</td>\n",
       "      <td>15210.0</td>\n",
       "      <td>3.0</td>\n",
       "      <td>South</td>\n",
       "      <td>Debt_Related</td>\n",
       "      <td>Good</td>\n",
       "      <td>Mid-Senior</td>\n",
       "    </tr>\n",
       "    <tr>\n",
       "      <th>1</th>\n",
       "      <td>19750.0</td>\n",
       "      <td>19750.00</td>\n",
       "      <td>17.27</td>\n",
       "      <td>60.0</td>\n",
       "      <td>13.39</td>\n",
       "      <td>MORTGAGE</td>\n",
       "      <td>6737.50</td>\n",
       "      <td>14.0</td>\n",
       "      <td>19070.0</td>\n",
       "      <td>3.0</td>\n",
       "      <td>Northeast</td>\n",
       "      <td>Debt_Related</td>\n",
       "      <td>Good</td>\n",
       "      <td>Mid-Level</td>\n",
       "    </tr>\n",
       "    <tr>\n",
       "      <th>2</th>\n",
       "      <td>2100.0</td>\n",
       "      <td>2100.00</td>\n",
       "      <td>14.33</td>\n",
       "      <td>36.0</td>\n",
       "      <td>3.50</td>\n",
       "      <td>OWN</td>\n",
       "      <td>1000.00</td>\n",
       "      <td>13.0</td>\n",
       "      <td>893.0</td>\n",
       "      <td>1.0</td>\n",
       "      <td>South</td>\n",
       "      <td>Business</td>\n",
       "      <td>Good</td>\n",
       "      <td>Junior</td>\n",
       "    </tr>\n",
       "    <tr>\n",
       "      <th>3</th>\n",
       "      <td>28000.0</td>\n",
       "      <td>28000.00</td>\n",
       "      <td>16.29</td>\n",
       "      <td>36.0</td>\n",
       "      <td>19.62</td>\n",
       "      <td>MORTGAGE</td>\n",
       "      <td>7083.33</td>\n",
       "      <td>12.0</td>\n",
       "      <td>38194.0</td>\n",
       "      <td>1.0</td>\n",
       "      <td>West</td>\n",
       "      <td>Debt_Related</td>\n",
       "      <td>Good</td>\n",
       "      <td>Senior</td>\n",
       "    </tr>\n",
       "    <tr>\n",
       "      <th>4</th>\n",
       "      <td>24250.0</td>\n",
       "      <td>17431.82</td>\n",
       "      <td>12.23</td>\n",
       "      <td>60.0</td>\n",
       "      <td>23.79</td>\n",
       "      <td>MORTGAGE</td>\n",
       "      <td>5833.33</td>\n",
       "      <td>6.0</td>\n",
       "      <td>31061.0</td>\n",
       "      <td>2.0</td>\n",
       "      <td>Midwest</td>\n",
       "      <td>Debt_Related</td>\n",
       "      <td>Good</td>\n",
       "      <td>Senior</td>\n",
       "    </tr>\n",
       "  </tbody>\n",
       "</table>\n",
       "</div>"
      ],
      "text/plain": [
       "   Amount_Requested  Amount_Funded_By_Investors  Interest_Rate  \\\n",
       "0           25000.0                    25000.00          18.49   \n",
       "1           19750.0                    19750.00          17.27   \n",
       "2            2100.0                     2100.00          14.33   \n",
       "3           28000.0                    28000.00          16.29   \n",
       "4           24250.0                    17431.82          12.23   \n",
       "\n",
       "   Loan_Length_by_month  Debt_To_Income_Ratio Home_Ownership  Monthly_Income  \\\n",
       "0                  60.0                 27.56       MORTGAGE         8606.56   \n",
       "1                  60.0                 13.39       MORTGAGE         6737.50   \n",
       "2                  36.0                  3.50            OWN         1000.00   \n",
       "3                  36.0                 19.62       MORTGAGE         7083.33   \n",
       "4                  60.0                 23.79       MORTGAGE         5833.33   \n",
       "\n",
       "   Open_CREDIT_Lines  Revolving_CREDIT_Balance  \\\n",
       "0               11.0                   15210.0   \n",
       "1               14.0                   19070.0   \n",
       "2               13.0                     893.0   \n",
       "3               12.0                   38194.0   \n",
       "4                6.0                   31061.0   \n",
       "\n",
       "   Inquiries_in_the_Last_6_Months     Region Grouped_Loan_Purpose FICO_Score  \\\n",
       "0                             3.0      South         Debt_Related       Good   \n",
       "1                             3.0  Northeast         Debt_Related       Good   \n",
       "2                             1.0      South             Business       Good   \n",
       "3                             1.0       West         Debt_Related       Good   \n",
       "4                             2.0    Midwest         Debt_Related       Good   \n",
       "\n",
       "  Employment_Group  \n",
       "0       Mid-Senior  \n",
       "1        Mid-Level  \n",
       "2           Junior  \n",
       "3           Senior  \n",
       "4           Senior  "
      ]
     },
     "execution_count": 61,
     "metadata": {},
     "output_type": "execute_result"
    }
   ],
   "source": [
    "data1.head()"
   ]
  },
  {
   "cell_type": "code",
   "execution_count": 62,
   "id": "8dcc13a5",
   "metadata": {},
   "outputs": [
    {
     "name": "stdout",
     "output_type": "stream",
     "text": [
      "<class 'pandas.core.frame.DataFrame'>\n",
      "Index: 2090 entries, 0 to 2199\n",
      "Data columns (total 14 columns):\n",
      " #   Column                          Non-Null Count  Dtype  \n",
      "---  ------                          --------------  -----  \n",
      " 0   Amount_Requested                2090 non-null   float64\n",
      " 1   Amount_Funded_By_Investors      2090 non-null   float64\n",
      " 2   Interest_Rate                   2090 non-null   float64\n",
      " 3   Loan_Length_by_month            2090 non-null   float64\n",
      " 4   Debt_To_Income_Ratio            2090 non-null   float64\n",
      " 5   Home_Ownership                  2090 non-null   object \n",
      " 6   Monthly_Income                  2090 non-null   float64\n",
      " 7   Open_CREDIT_Lines               2090 non-null   float64\n",
      " 8   Revolving_CREDIT_Balance        2090 non-null   float64\n",
      " 9   Inquiries_in_the_Last_6_Months  2090 non-null   float64\n",
      " 10  Region                          2090 non-null   object \n",
      " 11  Grouped_Loan_Purpose            2090 non-null   object \n",
      " 12  FICO_Score                      2090 non-null   object \n",
      " 13  Employment_Group                2090 non-null   object \n",
      "dtypes: float64(9), object(5)\n",
      "memory usage: 244.9+ KB\n"
     ]
    }
   ],
   "source": [
    "data1.info()"
   ]
  },
  {
   "cell_type": "code",
   "execution_count": 63,
   "id": "5e4abb5c",
   "metadata": {},
   "outputs": [
    {
     "name": "stdout",
     "output_type": "stream",
     "text": [
      "Home_Ownership - 3 distinct values\n",
      "Region - 5 distinct values\n",
      "Grouped_Loan_Purpose - 5 distinct values\n",
      "FICO_Score - 4 distinct values\n",
      "Employment_Group - 4 distinct values\n"
     ]
    }
   ],
   "source": [
    "for column in data1.columns:\n",
    "    if data1[column].dtype == 'object':\n",
    "        num_distinct_values = len(data1[column].unique())\n",
    "        print(f\"{column} - {num_distinct_values} distinct values\")"
   ]
  },
  {
   "cell_type": "code",
   "execution_count": 64,
   "id": "222bc3ef",
   "metadata": {},
   "outputs": [
    {
     "data": {
      "text/plain": [
       "False    2090\n",
       "Name: count, dtype: int64"
      ]
     },
     "execution_count": 64,
     "metadata": {},
     "output_type": "execute_result"
    }
   ],
   "source": [
    "data1.duplicated().value_counts()"
   ]
  },
  {
   "cell_type": "code",
   "execution_count": 65,
   "id": "6caf7956",
   "metadata": {},
   "outputs": [
    {
     "data": {
      "text/plain": [
       "(2090, 14)"
      ]
     },
     "execution_count": 65,
     "metadata": {},
     "output_type": "execute_result"
    }
   ],
   "source": [
    "data1.shape"
   ]
  },
  {
   "cell_type": "code",
   "execution_count": 66,
   "id": "8a2909e4",
   "metadata": {},
   "outputs": [
    {
     "data": {
      "text/html": [
       "<div>\n",
       "<style scoped>\n",
       "    .dataframe tbody tr th:only-of-type {\n",
       "        vertical-align: middle;\n",
       "    }\n",
       "\n",
       "    .dataframe tbody tr th {\n",
       "        vertical-align: top;\n",
       "    }\n",
       "\n",
       "    .dataframe thead th {\n",
       "        text-align: right;\n",
       "    }\n",
       "</style>\n",
       "<table border=\"1\" class=\"dataframe\">\n",
       "  <thead>\n",
       "    <tr style=\"text-align: right;\">\n",
       "      <th></th>\n",
       "      <th>Amount_Requested</th>\n",
       "      <th>Amount_Funded_By_Investors</th>\n",
       "      <th>Interest_Rate</th>\n",
       "      <th>Loan_Length_by_month</th>\n",
       "      <th>Debt_To_Income_Ratio</th>\n",
       "      <th>Home_Ownership</th>\n",
       "      <th>Monthly_Income</th>\n",
       "      <th>Open_CREDIT_Lines</th>\n",
       "      <th>Revolving_CREDIT_Balance</th>\n",
       "      <th>Inquiries_in_the_Last_6_Months</th>\n",
       "      <th>Region</th>\n",
       "      <th>Grouped_Loan_Purpose</th>\n",
       "      <th>FICO_Score</th>\n",
       "      <th>Employment_Group</th>\n",
       "    </tr>\n",
       "  </thead>\n",
       "  <tbody>\n",
       "    <tr>\n",
       "      <th>0</th>\n",
       "      <td>25000.0</td>\n",
       "      <td>25000.00</td>\n",
       "      <td>18.49</td>\n",
       "      <td>60.0</td>\n",
       "      <td>27.56</td>\n",
       "      <td>MORTGAGE</td>\n",
       "      <td>8606.56</td>\n",
       "      <td>11.0</td>\n",
       "      <td>15210.0</td>\n",
       "      <td>3.0</td>\n",
       "      <td>South</td>\n",
       "      <td>Debt_Related</td>\n",
       "      <td>Good</td>\n",
       "      <td>Mid-Senior</td>\n",
       "    </tr>\n",
       "    <tr>\n",
       "      <th>1</th>\n",
       "      <td>19750.0</td>\n",
       "      <td>19750.00</td>\n",
       "      <td>17.27</td>\n",
       "      <td>60.0</td>\n",
       "      <td>13.39</td>\n",
       "      <td>MORTGAGE</td>\n",
       "      <td>6737.50</td>\n",
       "      <td>14.0</td>\n",
       "      <td>19070.0</td>\n",
       "      <td>3.0</td>\n",
       "      <td>Northeast</td>\n",
       "      <td>Debt_Related</td>\n",
       "      <td>Good</td>\n",
       "      <td>Mid-Level</td>\n",
       "    </tr>\n",
       "    <tr>\n",
       "      <th>2</th>\n",
       "      <td>2100.0</td>\n",
       "      <td>2100.00</td>\n",
       "      <td>14.33</td>\n",
       "      <td>36.0</td>\n",
       "      <td>3.50</td>\n",
       "      <td>OWN</td>\n",
       "      <td>1000.00</td>\n",
       "      <td>13.0</td>\n",
       "      <td>893.0</td>\n",
       "      <td>1.0</td>\n",
       "      <td>South</td>\n",
       "      <td>Business</td>\n",
       "      <td>Good</td>\n",
       "      <td>Junior</td>\n",
       "    </tr>\n",
       "    <tr>\n",
       "      <th>3</th>\n",
       "      <td>28000.0</td>\n",
       "      <td>28000.00</td>\n",
       "      <td>16.29</td>\n",
       "      <td>36.0</td>\n",
       "      <td>19.62</td>\n",
       "      <td>MORTGAGE</td>\n",
       "      <td>7083.33</td>\n",
       "      <td>12.0</td>\n",
       "      <td>38194.0</td>\n",
       "      <td>1.0</td>\n",
       "      <td>West</td>\n",
       "      <td>Debt_Related</td>\n",
       "      <td>Good</td>\n",
       "      <td>Senior</td>\n",
       "    </tr>\n",
       "    <tr>\n",
       "      <th>4</th>\n",
       "      <td>24250.0</td>\n",
       "      <td>17431.82</td>\n",
       "      <td>12.23</td>\n",
       "      <td>60.0</td>\n",
       "      <td>23.79</td>\n",
       "      <td>MORTGAGE</td>\n",
       "      <td>5833.33</td>\n",
       "      <td>6.0</td>\n",
       "      <td>31061.0</td>\n",
       "      <td>2.0</td>\n",
       "      <td>Midwest</td>\n",
       "      <td>Debt_Related</td>\n",
       "      <td>Good</td>\n",
       "      <td>Senior</td>\n",
       "    </tr>\n",
       "  </tbody>\n",
       "</table>\n",
       "</div>"
      ],
      "text/plain": [
       "   Amount_Requested  Amount_Funded_By_Investors  Interest_Rate  \\\n",
       "0           25000.0                    25000.00          18.49   \n",
       "1           19750.0                    19750.00          17.27   \n",
       "2            2100.0                     2100.00          14.33   \n",
       "3           28000.0                    28000.00          16.29   \n",
       "4           24250.0                    17431.82          12.23   \n",
       "\n",
       "   Loan_Length_by_month  Debt_To_Income_Ratio Home_Ownership  Monthly_Income  \\\n",
       "0                  60.0                 27.56       MORTGAGE         8606.56   \n",
       "1                  60.0                 13.39       MORTGAGE         6737.50   \n",
       "2                  36.0                  3.50            OWN         1000.00   \n",
       "3                  36.0                 19.62       MORTGAGE         7083.33   \n",
       "4                  60.0                 23.79       MORTGAGE         5833.33   \n",
       "\n",
       "   Open_CREDIT_Lines  Revolving_CREDIT_Balance  \\\n",
       "0               11.0                   15210.0   \n",
       "1               14.0                   19070.0   \n",
       "2               13.0                     893.0   \n",
       "3               12.0                   38194.0   \n",
       "4                6.0                   31061.0   \n",
       "\n",
       "   Inquiries_in_the_Last_6_Months     Region Grouped_Loan_Purpose FICO_Score  \\\n",
       "0                             3.0      South         Debt_Related       Good   \n",
       "1                             3.0  Northeast         Debt_Related       Good   \n",
       "2                             1.0      South             Business       Good   \n",
       "3                             1.0       West         Debt_Related       Good   \n",
       "4                             2.0    Midwest         Debt_Related       Good   \n",
       "\n",
       "  Employment_Group  \n",
       "0       Mid-Senior  \n",
       "1        Mid-Level  \n",
       "2           Junior  \n",
       "3           Senior  \n",
       "4           Senior  "
      ]
     },
     "execution_count": 66,
     "metadata": {},
     "output_type": "execute_result"
    }
   ],
   "source": [
    "data1.head()"
   ]
  },
  {
   "cell_type": "code",
   "execution_count": 67,
   "id": "5c7b2a14",
   "metadata": {},
   "outputs": [
    {
     "data": {
      "text/html": [
       "<div>\n",
       "<style scoped>\n",
       "    .dataframe tbody tr th:only-of-type {\n",
       "        vertical-align: middle;\n",
       "    }\n",
       "\n",
       "    .dataframe tbody tr th {\n",
       "        vertical-align: top;\n",
       "    }\n",
       "\n",
       "    .dataframe thead th {\n",
       "        text-align: right;\n",
       "    }\n",
       "</style>\n",
       "<table border=\"1\" class=\"dataframe\">\n",
       "  <thead>\n",
       "    <tr style=\"text-align: right;\">\n",
       "      <th></th>\n",
       "      <th>Amount_Requested</th>\n",
       "      <th>Amount_Funded_By_Investors</th>\n",
       "      <th>Interest_Rate</th>\n",
       "      <th>Loan_Length_by_month</th>\n",
       "      <th>Debt_To_Income_Ratio</th>\n",
       "      <th>Monthly_Income</th>\n",
       "      <th>Open_CREDIT_Lines</th>\n",
       "      <th>Revolving_CREDIT_Balance</th>\n",
       "      <th>Inquiries_in_the_Last_6_Months</th>\n",
       "    </tr>\n",
       "  </thead>\n",
       "  <tbody>\n",
       "    <tr>\n",
       "      <th>count</th>\n",
       "      <td>2090.000000</td>\n",
       "      <td>2090.000000</td>\n",
       "      <td>2090.000000</td>\n",
       "      <td>2090.000000</td>\n",
       "      <td>2090.000000</td>\n",
       "      <td>2090.000000</td>\n",
       "      <td>2090.000000</td>\n",
       "      <td>2090.000000</td>\n",
       "      <td>2090.000000</td>\n",
       "    </tr>\n",
       "    <tr>\n",
       "      <th>mean</th>\n",
       "      <td>12628.444976</td>\n",
       "      <td>12195.099569</td>\n",
       "      <td>13.073282</td>\n",
       "      <td>41.293780</td>\n",
       "      <td>15.370474</td>\n",
       "      <td>5780.352105</td>\n",
       "      <td>10.095215</td>\n",
       "      <td>15404.505263</td>\n",
       "      <td>0.899043</td>\n",
       "    </tr>\n",
       "    <tr>\n",
       "      <th>std</th>\n",
       "      <td>7806.542574</td>\n",
       "      <td>7743.037698</td>\n",
       "      <td>4.153958</td>\n",
       "      <td>9.953593</td>\n",
       "      <td>7.468398</td>\n",
       "      <td>4128.650396</td>\n",
       "      <td>4.481655</td>\n",
       "      <td>18789.671337</td>\n",
       "      <td>1.224393</td>\n",
       "    </tr>\n",
       "    <tr>\n",
       "      <th>min</th>\n",
       "      <td>1000.000000</td>\n",
       "      <td>0.000000</td>\n",
       "      <td>5.420000</td>\n",
       "      <td>36.000000</td>\n",
       "      <td>0.000000</td>\n",
       "      <td>588.500000</td>\n",
       "      <td>2.000000</td>\n",
       "      <td>0.000000</td>\n",
       "      <td>0.000000</td>\n",
       "    </tr>\n",
       "    <tr>\n",
       "      <th>25%</th>\n",
       "      <td>6500.000000</td>\n",
       "      <td>6000.000000</td>\n",
       "      <td>10.160000</td>\n",
       "      <td>36.000000</td>\n",
       "      <td>9.742500</td>\n",
       "      <td>3500.000000</td>\n",
       "      <td>7.000000</td>\n",
       "      <td>5640.000000</td>\n",
       "      <td>0.000000</td>\n",
       "    </tr>\n",
       "    <tr>\n",
       "      <th>50%</th>\n",
       "      <td>10500.000000</td>\n",
       "      <td>10000.000000</td>\n",
       "      <td>13.110000</td>\n",
       "      <td>36.000000</td>\n",
       "      <td>15.205000</td>\n",
       "      <td>5000.000000</td>\n",
       "      <td>9.000000</td>\n",
       "      <td>11072.000000</td>\n",
       "      <td>0.000000</td>\n",
       "    </tr>\n",
       "    <tr>\n",
       "      <th>75%</th>\n",
       "      <td>17387.500000</td>\n",
       "      <td>16468.750000</td>\n",
       "      <td>15.800000</td>\n",
       "      <td>36.000000</td>\n",
       "      <td>20.657500</td>\n",
       "      <td>6925.265000</td>\n",
       "      <td>13.000000</td>\n",
       "      <td>18958.500000</td>\n",
       "      <td>1.000000</td>\n",
       "    </tr>\n",
       "    <tr>\n",
       "      <th>max</th>\n",
       "      <td>35000.000000</td>\n",
       "      <td>35000.000000</td>\n",
       "      <td>24.890000</td>\n",
       "      <td>60.000000</td>\n",
       "      <td>34.910000</td>\n",
       "      <td>102750.000000</td>\n",
       "      <td>38.000000</td>\n",
       "      <td>270800.000000</td>\n",
       "      <td>9.000000</td>\n",
       "    </tr>\n",
       "  </tbody>\n",
       "</table>\n",
       "</div>"
      ],
      "text/plain": [
       "       Amount_Requested  Amount_Funded_By_Investors  Interest_Rate  \\\n",
       "count       2090.000000                 2090.000000    2090.000000   \n",
       "mean       12628.444976                12195.099569      13.073282   \n",
       "std         7806.542574                 7743.037698       4.153958   \n",
       "min         1000.000000                    0.000000       5.420000   \n",
       "25%         6500.000000                 6000.000000      10.160000   \n",
       "50%        10500.000000                10000.000000      13.110000   \n",
       "75%        17387.500000                16468.750000      15.800000   \n",
       "max        35000.000000                35000.000000      24.890000   \n",
       "\n",
       "       Loan_Length_by_month  Debt_To_Income_Ratio  Monthly_Income  \\\n",
       "count           2090.000000           2090.000000     2090.000000   \n",
       "mean              41.293780             15.370474     5780.352105   \n",
       "std                9.953593              7.468398     4128.650396   \n",
       "min               36.000000              0.000000      588.500000   \n",
       "25%               36.000000              9.742500     3500.000000   \n",
       "50%               36.000000             15.205000     5000.000000   \n",
       "75%               36.000000             20.657500     6925.265000   \n",
       "max               60.000000             34.910000   102750.000000   \n",
       "\n",
       "       Open_CREDIT_Lines  Revolving_CREDIT_Balance  \\\n",
       "count        2090.000000               2090.000000   \n",
       "mean           10.095215              15404.505263   \n",
       "std             4.481655              18789.671337   \n",
       "min             2.000000                  0.000000   \n",
       "25%             7.000000               5640.000000   \n",
       "50%             9.000000              11072.000000   \n",
       "75%            13.000000              18958.500000   \n",
       "max            38.000000             270800.000000   \n",
       "\n",
       "       Inquiries_in_the_Last_6_Months  \n",
       "count                     2090.000000  \n",
       "mean                         0.899043  \n",
       "std                          1.224393  \n",
       "min                          0.000000  \n",
       "25%                          0.000000  \n",
       "50%                          0.000000  \n",
       "75%                          1.000000  \n",
       "max                          9.000000  "
      ]
     },
     "execution_count": 67,
     "metadata": {},
     "output_type": "execute_result"
    }
   ],
   "source": [
    "data1.describe()"
   ]
  },
  {
   "cell_type": "markdown",
   "id": "0db13c9e",
   "metadata": {},
   "source": [
    "#### All looks good, let's visualize the data again"
   ]
  },
  {
   "cell_type": "code",
   "execution_count": 68,
   "id": "cdd3565e",
   "metadata": {},
   "outputs": [
    {
     "data": {
      "image/png": "[encoded data removed]",
      "text/plain": [
       "<Figure size 1000x600 with 1 Axes>"
      ]
     },
     "metadata": {},
     "output_type": "display_data"
    }
   ],
   "source": [
    "plt.figure(figsize=(10,6))\n",
    "sns.countplot(x = 'Employment_Group', data = data1, hue='FICO_Score')\n",
    "plt.title(\"Employees and their FICO Score\")\n",
    "plt.show()"
   ]
  },
  {
   "cell_type": "code",
   "execution_count": 69,
   "id": "95dd69e6",
   "metadata": {},
   "outputs": [
    {
     "data": {
      "image/png": "[encoded data removed]",
      "text/plain": [
       "<Figure size 1000x600 with 1 Axes>"
      ]
     },
     "metadata": {},
     "output_type": "display_data"
    }
   ],
   "source": [
    "# Check the grouped loan purpose distribution\n",
    "plt.figure(figsize=(10, 6))\n",
    "sns.barplot(x='Grouped_Loan_Purpose', y='Interest_Rate', data=data1)\n",
    "# plt.xticks(rotation=45, ha='right')\n",
    "plt.show()"
   ]
  },
  {
   "cell_type": "code",
   "execution_count": 70,
   "id": "5f13ec52",
   "metadata": {},
   "outputs": [
    {
     "data": {
      "image/png": "[encoded data removed]",
      "text/plain": [
       "<Figure size 1000x600 with 1 Axes>"
      ]
     },
     "metadata": {},
     "output_type": "display_data"
    }
   ],
   "source": [
    "plt.figure(figsize=(10, 6))\n",
    "sns.kdeplot(data1['Monthly_Income'], fill=True)\n",
    "plt.title('KDE of Monthly Income')\n",
    "plt.xlabel('Monthly Income')\n",
    "plt.ylabel('Density')\n",
    "plt.show()"
   ]
  },
  {
   "cell_type": "code",
   "execution_count": 71,
   "id": "7abfdf6b",
   "metadata": {},
   "outputs": [
    {
     "data": {
      "image/png": "[encoded data removed]",
      "text/plain": [
       "<Figure size 1000x600 with 1 Axes>"
      ]
     },
     "metadata": {},
     "output_type": "display_data"
    }
   ],
   "source": [
    "plt.figure(figsize=(10, 6))\n",
    "sns.boxplot(data1['Monthly_Income'])\n",
    "plt.title('BoxPLot of Monthly Income')\n",
    "plt.show()"
   ]
  },
  {
   "cell_type": "code",
   "execution_count": 72,
   "id": "f0f537cc",
   "metadata": {},
   "outputs": [
    {
     "data": {
      "text/html": [
       "<div>\n",
       "<style scoped>\n",
       "    .dataframe tbody tr th:only-of-type {\n",
       "        vertical-align: middle;\n",
       "    }\n",
       "\n",
       "    .dataframe tbody tr th {\n",
       "        vertical-align: top;\n",
       "    }\n",
       "\n",
       "    .dataframe thead th {\n",
       "        text-align: right;\n",
       "    }\n",
       "</style>\n",
       "<table border=\"1\" class=\"dataframe\">\n",
       "  <thead>\n",
       "    <tr style=\"text-align: right;\">\n",
       "      <th></th>\n",
       "      <th>Amount_Requested</th>\n",
       "      <th>Amount_Funded_By_Investors</th>\n",
       "      <th>Interest_Rate</th>\n",
       "      <th>Loan_Length_by_month</th>\n",
       "      <th>Debt_To_Income_Ratio</th>\n",
       "      <th>Home_Ownership</th>\n",
       "      <th>Monthly_Income</th>\n",
       "      <th>Open_CREDIT_Lines</th>\n",
       "      <th>Revolving_CREDIT_Balance</th>\n",
       "      <th>Inquiries_in_the_Last_6_Months</th>\n",
       "      <th>Region</th>\n",
       "      <th>Grouped_Loan_Purpose</th>\n",
       "      <th>FICO_Score</th>\n",
       "      <th>Employment_Group</th>\n",
       "    </tr>\n",
       "  </thead>\n",
       "  <tbody>\n",
       "    <tr>\n",
       "      <th>516</th>\n",
       "      <td>4500.0</td>\n",
       "      <td>4500.0</td>\n",
       "      <td>6.91</td>\n",
       "      <td>36.0</td>\n",
       "      <td>0.58</td>\n",
       "      <td>MORTGAGE</td>\n",
       "      <td>65000.00</td>\n",
       "      <td>7.0</td>\n",
       "      <td>3015.0</td>\n",
       "      <td>4.0</td>\n",
       "      <td>Northeast</td>\n",
       "      <td>Business</td>\n",
       "      <td>Good</td>\n",
       "      <td>Mid-Senior</td>\n",
       "    </tr>\n",
       "    <tr>\n",
       "      <th>803</th>\n",
       "      <td>35000.0</td>\n",
       "      <td>35000.0</td>\n",
       "      <td>16.29</td>\n",
       "      <td>36.0</td>\n",
       "      <td>17.17</td>\n",
       "      <td>MORTGAGE</td>\n",
       "      <td>39583.33</td>\n",
       "      <td>14.0</td>\n",
       "      <td>55965.0</td>\n",
       "      <td>2.0</td>\n",
       "      <td>Northeast</td>\n",
       "      <td>Debt_Related</td>\n",
       "      <td>Good</td>\n",
       "      <td>Senior</td>\n",
       "    </tr>\n",
       "    <tr>\n",
       "      <th>1621</th>\n",
       "      <td>33000.0</td>\n",
       "      <td>33000.0</td>\n",
       "      <td>7.62</td>\n",
       "      <td>36.0</td>\n",
       "      <td>0.26</td>\n",
       "      <td>MORTGAGE</td>\n",
       "      <td>102750.00</td>\n",
       "      <td>7.0</td>\n",
       "      <td>95435.0</td>\n",
       "      <td>0.0</td>\n",
       "      <td>Northeast</td>\n",
       "      <td>Debt_Related</td>\n",
       "      <td>Excellent</td>\n",
       "      <td>Senior</td>\n",
       "    </tr>\n",
       "  </tbody>\n",
       "</table>\n",
       "</div>"
      ],
      "text/plain": [
       "      Amount_Requested  Amount_Funded_By_Investors  Interest_Rate  \\\n",
       "516             4500.0                      4500.0           6.91   \n",
       "803            35000.0                     35000.0          16.29   \n",
       "1621           33000.0                     33000.0           7.62   \n",
       "\n",
       "      Loan_Length_by_month  Debt_To_Income_Ratio Home_Ownership  \\\n",
       "516                   36.0                  0.58       MORTGAGE   \n",
       "803                   36.0                 17.17       MORTGAGE   \n",
       "1621                  36.0                  0.26       MORTGAGE   \n",
       "\n",
       "      Monthly_Income  Open_CREDIT_Lines  Revolving_CREDIT_Balance  \\\n",
       "516         65000.00                7.0                    3015.0   \n",
       "803         39583.33               14.0                   55965.0   \n",
       "1621       102750.00                7.0                   95435.0   \n",
       "\n",
       "      Inquiries_in_the_Last_6_Months     Region Grouped_Loan_Purpose  \\\n",
       "516                              4.0  Northeast             Business   \n",
       "803                              2.0  Northeast         Debt_Related   \n",
       "1621                             0.0  Northeast         Debt_Related   \n",
       "\n",
       "     FICO_Score Employment_Group  \n",
       "516        Good       Mid-Senior  \n",
       "803        Good           Senior  \n",
       "1621  Excellent           Senior  "
      ]
     },
     "execution_count": 72,
     "metadata": {},
     "output_type": "execute_result"
    }
   ],
   "source": [
    "data1[data1['Monthly_Income'] >= 30000]"
   ]
  },
  {
   "cell_type": "code",
   "execution_count": null,
   "id": "d3720192",
   "metadata": {},
   "outputs": [],
   "source": []
  }
 ],
 "metadata": {
  "kernelspec": {
   "display_name": "Python 3 (ipykernel)",
   "language": "python",
   "name": "python3"
  },
  "language_info": {
   "codemirror_mode": {
    "name": "ipython",
    "version": 3
   },
   "file_extension": ".py",
   "mimetype": "text/x-python",
   "name": "python",
   "nbconvert_exporter": "python",
   "pygments_lexer": "ipython3",
   "version": "3.10.13"
  }
 },
 "nbformat": 4,
 "nbformat_minor": 5
}
