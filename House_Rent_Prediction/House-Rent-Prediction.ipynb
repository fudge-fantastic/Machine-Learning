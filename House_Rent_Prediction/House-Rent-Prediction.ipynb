{
 "cells": [
  {
   "cell_type": "markdown",
   "id": "b45ce74d",
   "metadata": {},
   "source": [
    "---\n",
    "# House Rent Prediction\n",
    "---"
   ]
  },
  {
   "cell_type": "markdown",
   "id": "38722ebd",
   "metadata": {},
   "source": [
    "#### Check out the Dataset-Glossory.txt and readme.txt file"
   ]
  },
  {
   "cell_type": "markdown",
   "id": "d5bd7cfc",
   "metadata": {},
   "source": [
    "| Column Name       | Description                                                |\n",
    "|-------------------|------------------------------------------------------------|\n",
    "| BHK               | Number of Bedrooms, Hall, Kitchen                          |\n",
    "| Rent              | Rent of the Houses/Apartments/Flats                        |\n",
    "| Size              | Size of the Houses/Apartments/Flats in Square Feet         |\n",
    "| Floor             | Houses/Apartments/Flats situated in which Floor and Total Number of Floors (Example: Ground out of 2, 3 out of 5, etc.) |\n",
    "| Area Type         | Size of the Houses/Apartments/Flats calculated on either Super Area or Carpet Area or Build Area |\n",
    "| Area Locality     | Locality of the Houses/Apartments/Flats                   |\n",
    "| City              | City where the Houses/Apartments/Flats are Located        |\n",
    "| Furnishing Status | Furnishing Status of the Houses/Apartments/Flats, either it is Furnished or Semi-Furnished or Unfurnished |\n",
    "| Tenant Preferred  | Type of Tenant Preferred by the Owner or Agent            |\n",
    "| Bathroom          | Number of Bathrooms                                       |\n",
    "| Point of Contact  | Whom should you contact for more information regarding the Houses/Apartments/Flats |"
   ]
  },
  {
   "cell_type": "markdown",
   "id": "fe7c83ff",
   "metadata": {},
   "source": [
    "### Import Libraries"
   ]
  },
  {
   "cell_type": "code",
   "execution_count": 235,
   "id": "4acb5dd1",
   "metadata": {},
   "outputs": [],
   "source": [
    "import os\n",
    "import pandas as pd\n",
    "import numpy as np\n",
    "import warnings\n",
    "warnings.filterwarnings('ignore')\n",
    "import statistics\n",
    "\n",
    "import matplotlib.pyplot as plt\n",
    "%matplotlib inline\n",
    "import seaborn as sns\n",
    "\n",
    "import keras\n",
    "import tensorflow as tf\n",
    "from sklearn import metrics\n",
    "from sklearn import model_selection\n",
    "from sklearn import ensemble, tree, linear_model"
   ]
  },
  {
   "cell_type": "code",
   "execution_count": 236,
   "id": "c435457b",
   "metadata": {},
   "outputs": [
    {
     "name": "stdout",
     "output_type": "stream",
     "text": [
      "(rows, columns) : (4746, 12)\n"
     ]
    },
    {
     "data": {
      "text/html": [
       "<div>\n",
       "<style scoped>\n",
       "    .dataframe tbody tr th:only-of-type {\n",
       "        vertical-align: middle;\n",
       "    }\n",
       "\n",
       "    .dataframe tbody tr th {\n",
       "        vertical-align: top;\n",
       "    }\n",
       "\n",
       "    .dataframe thead th {\n",
       "        text-align: right;\n",
       "    }\n",
       "</style>\n",
       "<table border=\"1\" class=\"dataframe\">\n",
       "  <thead>\n",
       "    <tr style=\"text-align: right;\">\n",
       "      <th></th>\n",
       "      <th>Posted On</th>\n",
       "      <th>BHK</th>\n",
       "      <th>Rent</th>\n",
       "      <th>Size</th>\n",
       "      <th>Floor</th>\n",
       "      <th>Area Type</th>\n",
       "      <th>Area Locality</th>\n",
       "      <th>City</th>\n",
       "      <th>Furnishing Status</th>\n",
       "      <th>Tenant Preferred</th>\n",
       "      <th>Bathroom</th>\n",
       "      <th>Point of Contact</th>\n",
       "    </tr>\n",
       "  </thead>\n",
       "  <tbody>\n",
       "    <tr>\n",
       "      <th>2544</th>\n",
       "      <td>2022-07-04</td>\n",
       "      <td>3</td>\n",
       "      <td>10500</td>\n",
       "      <td>1200</td>\n",
       "      <td>1 out of 4</td>\n",
       "      <td>Super Area</td>\n",
       "      <td>Najafgarh</td>\n",
       "      <td>Delhi</td>\n",
       "      <td>Semi-Furnished</td>\n",
       "      <td>Bachelors/Family</td>\n",
       "      <td>2</td>\n",
       "      <td>Contact Owner</td>\n",
       "    </tr>\n",
       "    <tr>\n",
       "      <th>3734</th>\n",
       "      <td>2022-07-06</td>\n",
       "      <td>2</td>\n",
       "      <td>11000</td>\n",
       "      <td>700</td>\n",
       "      <td>1 out of 3</td>\n",
       "      <td>Super Area</td>\n",
       "      <td>Tharamani</td>\n",
       "      <td>Chennai</td>\n",
       "      <td>Unfurnished</td>\n",
       "      <td>Bachelors/Family</td>\n",
       "      <td>1</td>\n",
       "      <td>Contact Owner</td>\n",
       "    </tr>\n",
       "    <tr>\n",
       "      <th>4297</th>\n",
       "      <td>2022-05-12</td>\n",
       "      <td>1</td>\n",
       "      <td>3300</td>\n",
       "      <td>200</td>\n",
       "      <td>Ground out of 2</td>\n",
       "      <td>Super Area</td>\n",
       "      <td>Moula Ali</td>\n",
       "      <td>Hyderabad</td>\n",
       "      <td>Unfurnished</td>\n",
       "      <td>Bachelors/Family</td>\n",
       "      <td>1</td>\n",
       "      <td>Contact Owner</td>\n",
       "    </tr>\n",
       "    <tr>\n",
       "      <th>4373</th>\n",
       "      <td>2022-07-06</td>\n",
       "      <td>3</td>\n",
       "      <td>28000</td>\n",
       "      <td>1600</td>\n",
       "      <td>1 out of 6</td>\n",
       "      <td>Super Area</td>\n",
       "      <td>Chanda Nagar</td>\n",
       "      <td>Hyderabad</td>\n",
       "      <td>Semi-Furnished</td>\n",
       "      <td>Bachelors/Family</td>\n",
       "      <td>3</td>\n",
       "      <td>Contact Owner</td>\n",
       "    </tr>\n",
       "    <tr>\n",
       "      <th>706</th>\n",
       "      <td>2022-07-09</td>\n",
       "      <td>3</td>\n",
       "      <td>230000</td>\n",
       "      <td>1915</td>\n",
       "      <td>3 out of 18</td>\n",
       "      <td>Super Area</td>\n",
       "      <td>Ashok tower, Parel</td>\n",
       "      <td>Mumbai</td>\n",
       "      <td>Semi-Furnished</td>\n",
       "      <td>Bachelors/Family</td>\n",
       "      <td>3</td>\n",
       "      <td>Contact Agent</td>\n",
       "    </tr>\n",
       "  </tbody>\n",
       "</table>\n",
       "</div>"
      ],
      "text/plain": [
       "       Posted On  BHK    Rent  Size            Floor   Area Type  \\\n",
       "2544  2022-07-04    3   10500  1200       1 out of 4  Super Area   \n",
       "3734  2022-07-06    2   11000   700       1 out of 3  Super Area   \n",
       "4297  2022-05-12    1    3300   200  Ground out of 2  Super Area   \n",
       "4373  2022-07-06    3   28000  1600       1 out of 6  Super Area   \n",
       "706   2022-07-09    3  230000  1915      3 out of 18  Super Area   \n",
       "\n",
       "           Area Locality       City Furnishing Status  Tenant Preferred  \\\n",
       "2544           Najafgarh      Delhi    Semi-Furnished  Bachelors/Family   \n",
       "3734           Tharamani    Chennai       Unfurnished  Bachelors/Family   \n",
       "4297           Moula Ali  Hyderabad       Unfurnished  Bachelors/Family   \n",
       "4373        Chanda Nagar  Hyderabad    Semi-Furnished  Bachelors/Family   \n",
       "706   Ashok tower, Parel     Mumbai    Semi-Furnished  Bachelors/Family   \n",
       "\n",
       "      Bathroom Point of Contact  \n",
       "2544         2    Contact Owner  \n",
       "3734         1    Contact Owner  \n",
       "4297         1    Contact Owner  \n",
       "4373         3    Contact Owner  \n",
       "706          3    Contact Agent  "
      ]
     },
     "execution_count": 236,
     "metadata": {},
     "output_type": "execute_result"
    }
   ],
   "source": [
    "hd = pd.read_csv('House_Rent_Dataset.csv')\n",
    "print(\"(rows, columns) :\", hd.shape)\n",
    "hd.sample(5)"
   ]
  },
  {
   "cell_type": "code",
   "execution_count": 237,
   "id": "e9a81f36",
   "metadata": {},
   "outputs": [
    {
     "name": "stdout",
     "output_type": "stream",
     "text": [
      "<class 'pandas.core.frame.DataFrame'>\n",
      "RangeIndex: 4746 entries, 0 to 4745\n",
      "Data columns (total 12 columns):\n",
      " #   Column             Non-Null Count  Dtype \n",
      "---  ------             --------------  ----- \n",
      " 0   Posted On          4746 non-null   object\n",
      " 1   BHK                4746 non-null   int64 \n",
      " 2   Rent               4746 non-null   int64 \n",
      " 3   Size               4746 non-null   int64 \n",
      " 4   Floor              4746 non-null   object\n",
      " 5   Area Type          4746 non-null   object\n",
      " 6   Area Locality      4746 non-null   object\n",
      " 7   City               4746 non-null   object\n",
      " 8   Furnishing Status  4746 non-null   object\n",
      " 9   Tenant Preferred   4746 non-null   object\n",
      " 10  Bathroom           4746 non-null   int64 \n",
      " 11  Point of Contact   4746 non-null   object\n",
      "dtypes: int64(4), object(8)\n",
      "memory usage: 445.1+ KB\n"
     ]
    }
   ],
   "source": [
    "hd.info()"
   ]
  },
  {
   "cell_type": "code",
   "execution_count": 238,
   "id": "87c06f32",
   "metadata": {},
   "outputs": [],
   "source": [
    "# hd.isnull().sum()\n",
    "# No null values"
   ]
  },
  {
   "cell_type": "markdown",
   "id": "d293a514",
   "metadata": {},
   "source": [
    "### Dealing with Outliers"
   ]
  },
  {
   "cell_type": "code",
   "execution_count": 239,
   "id": "6e2352e3",
   "metadata": {},
   "outputs": [],
   "source": [
    "def var_summary(x):\n",
    "# UC = MEAN + 2 STD\n",
    "    uc = x.mean()+(2*x.std())\n",
    "    lc = x.mean()-(2*x.std())\n",
    "    \n",
    "    for i in x:\n",
    "        if i<lc or i>uc:\n",
    "            count = 1             # This means that column is having an OUTLier\n",
    "        else:\n",
    "            count = 0             # That column in not having an outliers\n",
    "            \n",
    "    outlier_flag = count\n",
    "    return pd.Series([x.count(), x.isnull().sum(), x.sum(), x.mean(), x.median(),  x.std(), \n",
    "                      x.var(), x.min(), x.quantile(0.01), x.quantile(0.05),x.quantile(0.10),\n",
    "                      x.quantile(0.25),x.quantile(0.50),x.quantile(0.75), \n",
    "                      x.quantile(0.90),x.quantile(0.95), x.quantile(0.99),x.max() , \n",
    "                      lc , uc,outlier_flag],\n",
    "                  index=['N', 'NMISS', 'SUM', 'MEAN','MEDIAN', 'STD', 'VAR', 'MIN', \n",
    "                         'P1' , 'P5' ,'P10' ,'P25' ,'P50' ,'P75' ,'P90' ,'P95' ,'P99' ,\n",
    "                         'MAX','LC','UC','outlier_flag'])"
   ]
  },
  {
   "cell_type": "code",
   "execution_count": 240,
   "id": "8a39a64f",
   "metadata": {},
   "outputs": [
    {
     "name": "stdout",
     "output_type": "stream",
     "text": [
      "['BHK', 'Rent', 'Size', 'Bathroom']\n"
     ]
    }
   ],
   "source": [
    "numeric_cols = []\n",
    "for cols in hd:\n",
    "    if hd[cols].dtypes == 'int64':\n",
    "        numeric_cols.append(cols)\n",
    "        \n",
    "print(numeric_cols)"
   ]
  },
  {
   "cell_type": "code",
   "execution_count": 241,
   "id": "17210ec7",
   "metadata": {},
   "outputs": [
    {
     "data": {
      "text/html": [
       "<div>\n",
       "<style scoped>\n",
       "    .dataframe tbody tr th:only-of-type {\n",
       "        vertical-align: middle;\n",
       "    }\n",
       "\n",
       "    .dataframe tbody tr th {\n",
       "        vertical-align: top;\n",
       "    }\n",
       "\n",
       "    .dataframe thead th {\n",
       "        text-align: right;\n",
       "    }\n",
       "</style>\n",
       "<table border=\"1\" class=\"dataframe\">\n",
       "  <thead>\n",
       "    <tr style=\"text-align: right;\">\n",
       "      <th></th>\n",
       "      <th>BHK</th>\n",
       "      <th>Rent</th>\n",
       "      <th>Size</th>\n",
       "      <th>Bathroom</th>\n",
       "    </tr>\n",
       "  </thead>\n",
       "  <tbody>\n",
       "    <tr>\n",
       "      <th>N</th>\n",
       "      <td>4746.000000</td>\n",
       "      <td>4.746000e+03</td>\n",
       "      <td>4.746000e+03</td>\n",
       "      <td>4746.000000</td>\n",
       "    </tr>\n",
       "    <tr>\n",
       "      <th>NMISS</th>\n",
       "      <td>0.000000</td>\n",
       "      <td>0.000000e+00</td>\n",
       "      <td>0.000000e+00</td>\n",
       "      <td>0.000000</td>\n",
       "    </tr>\n",
       "    <tr>\n",
       "      <th>SUM</th>\n",
       "      <td>9890.000000</td>\n",
       "      <td>1.660789e+08</td>\n",
       "      <td>4.591711e+06</td>\n",
       "      <td>9330.000000</td>\n",
       "    </tr>\n",
       "    <tr>\n",
       "      <th>MEAN</th>\n",
       "      <td>2.083860</td>\n",
       "      <td>3.499345e+04</td>\n",
       "      <td>9.674907e+02</td>\n",
       "      <td>1.965866</td>\n",
       "    </tr>\n",
       "    <tr>\n",
       "      <th>MEDIAN</th>\n",
       "      <td>2.000000</td>\n",
       "      <td>1.600000e+04</td>\n",
       "      <td>8.500000e+02</td>\n",
       "      <td>2.000000</td>\n",
       "    </tr>\n",
       "    <tr>\n",
       "      <th>STD</th>\n",
       "      <td>0.832256</td>\n",
       "      <td>7.810641e+04</td>\n",
       "      <td>6.342023e+02</td>\n",
       "      <td>0.884532</td>\n",
       "    </tr>\n",
       "    <tr>\n",
       "      <th>VAR</th>\n",
       "      <td>0.692650</td>\n",
       "      <td>6.100612e+09</td>\n",
       "      <td>4.022126e+05</td>\n",
       "      <td>0.782396</td>\n",
       "    </tr>\n",
       "    <tr>\n",
       "      <th>MIN</th>\n",
       "      <td>1.000000</td>\n",
       "      <td>1.200000e+03</td>\n",
       "      <td>1.000000e+01</td>\n",
       "      <td>1.000000</td>\n",
       "    </tr>\n",
       "    <tr>\n",
       "      <th>P1</th>\n",
       "      <td>1.000000</td>\n",
       "      <td>4.000000e+03</td>\n",
       "      <td>7.000000e+01</td>\n",
       "      <td>1.000000</td>\n",
       "    </tr>\n",
       "    <tr>\n",
       "      <th>P5</th>\n",
       "      <td>1.000000</td>\n",
       "      <td>6.000000e+03</td>\n",
       "      <td>2.000000e+02</td>\n",
       "      <td>1.000000</td>\n",
       "    </tr>\n",
       "    <tr>\n",
       "      <th>P10</th>\n",
       "      <td>1.000000</td>\n",
       "      <td>7.000000e+03</td>\n",
       "      <td>4.000000e+02</td>\n",
       "      <td>1.000000</td>\n",
       "    </tr>\n",
       "    <tr>\n",
       "      <th>P25</th>\n",
       "      <td>2.000000</td>\n",
       "      <td>1.000000e+04</td>\n",
       "      <td>5.500000e+02</td>\n",
       "      <td>1.000000</td>\n",
       "    </tr>\n",
       "    <tr>\n",
       "      <th>P50</th>\n",
       "      <td>2.000000</td>\n",
       "      <td>1.600000e+04</td>\n",
       "      <td>8.500000e+02</td>\n",
       "      <td>2.000000</td>\n",
       "    </tr>\n",
       "    <tr>\n",
       "      <th>P75</th>\n",
       "      <td>3.000000</td>\n",
       "      <td>3.300000e+04</td>\n",
       "      <td>1.200000e+03</td>\n",
       "      <td>2.000000</td>\n",
       "    </tr>\n",
       "    <tr>\n",
       "      <th>P90</th>\n",
       "      <td>3.000000</td>\n",
       "      <td>7.200000e+04</td>\n",
       "      <td>1.700000e+03</td>\n",
       "      <td>3.000000</td>\n",
       "    </tr>\n",
       "    <tr>\n",
       "      <th>P95</th>\n",
       "      <td>3.000000</td>\n",
       "      <td>1.300000e+05</td>\n",
       "      <td>2.000000e+03</td>\n",
       "      <td>3.000000</td>\n",
       "    </tr>\n",
       "    <tr>\n",
       "      <th>P99</th>\n",
       "      <td>4.000000</td>\n",
       "      <td>3.000000e+05</td>\n",
       "      <td>3.289200e+03</td>\n",
       "      <td>5.000000</td>\n",
       "    </tr>\n",
       "    <tr>\n",
       "      <th>MAX</th>\n",
       "      <td>6.000000</td>\n",
       "      <td>3.500000e+06</td>\n",
       "      <td>8.000000e+03</td>\n",
       "      <td>10.000000</td>\n",
       "    </tr>\n",
       "    <tr>\n",
       "      <th>LC</th>\n",
       "      <td>0.419348</td>\n",
       "      <td>-1.212194e+05</td>\n",
       "      <td>-3.009139e+02</td>\n",
       "      <td>0.196803</td>\n",
       "    </tr>\n",
       "    <tr>\n",
       "      <th>UC</th>\n",
       "      <td>3.748372</td>\n",
       "      <td>1.912063e+05</td>\n",
       "      <td>2.235895e+03</td>\n",
       "      <td>3.734929</td>\n",
       "    </tr>\n",
       "    <tr>\n",
       "      <th>outlier_flag</th>\n",
       "      <td>0.000000</td>\n",
       "      <td>0.000000e+00</td>\n",
       "      <td>0.000000e+00</td>\n",
       "      <td>0.000000</td>\n",
       "    </tr>\n",
       "  </tbody>\n",
       "</table>\n",
       "</div>"
      ],
      "text/plain": [
       "                      BHK          Rent          Size     Bathroom\n",
       "N             4746.000000  4.746000e+03  4.746000e+03  4746.000000\n",
       "NMISS            0.000000  0.000000e+00  0.000000e+00     0.000000\n",
       "SUM           9890.000000  1.660789e+08  4.591711e+06  9330.000000\n",
       "MEAN             2.083860  3.499345e+04  9.674907e+02     1.965866\n",
       "MEDIAN           2.000000  1.600000e+04  8.500000e+02     2.000000\n",
       "STD              0.832256  7.810641e+04  6.342023e+02     0.884532\n",
       "VAR              0.692650  6.100612e+09  4.022126e+05     0.782396\n",
       "MIN              1.000000  1.200000e+03  1.000000e+01     1.000000\n",
       "P1               1.000000  4.000000e+03  7.000000e+01     1.000000\n",
       "P5               1.000000  6.000000e+03  2.000000e+02     1.000000\n",
       "P10              1.000000  7.000000e+03  4.000000e+02     1.000000\n",
       "P25              2.000000  1.000000e+04  5.500000e+02     1.000000\n",
       "P50              2.000000  1.600000e+04  8.500000e+02     2.000000\n",
       "P75              3.000000  3.300000e+04  1.200000e+03     2.000000\n",
       "P90              3.000000  7.200000e+04  1.700000e+03     3.000000\n",
       "P95              3.000000  1.300000e+05  2.000000e+03     3.000000\n",
       "P99              4.000000  3.000000e+05  3.289200e+03     5.000000\n",
       "MAX              6.000000  3.500000e+06  8.000000e+03    10.000000\n",
       "LC               0.419348 -1.212194e+05 -3.009139e+02     0.196803\n",
       "UC               3.748372  1.912063e+05  2.235895e+03     3.734929\n",
       "outlier_flag     0.000000  0.000000e+00  0.000000e+00     0.000000"
      ]
     },
     "execution_count": 241,
     "metadata": {},
     "output_type": "execute_result"
    }
   ],
   "source": [
    "hd[numeric_cols].apply(lambda x: var_summary(x))"
   ]
  },
  {
   "cell_type": "markdown",
   "id": "0fe186de",
   "metadata": {},
   "source": [
    "#### Nah I dont believe this, lets plot the taget variable"
   ]
  },
  {
   "cell_type": "code",
   "execution_count": 242,
   "id": "1c621d5a",
   "metadata": {},
   "outputs": [
    {
     "data": {
      "text/plain": [
       "<Axes: xlabel='Rent'>"
      ]
     },
     "execution_count": 242,
     "metadata": {},
     "output_type": "execute_result"
    },
    {
     "data": {
      "image/png": "[encoded data removed]",
      "text/plain": [
       "<Figure size 1200x500 with 1 Axes>"
      ]
     },
     "metadata": {},
     "output_type": "display_data"
    }
   ],
   "source": [
    "plt.figure(figsize=(12,5))\n",
    "sns.boxplot(data = hd, x = 'Rent')"
   ]
  },
  {
   "cell_type": "code",
   "execution_count": 243,
   "id": "14583cfa",
   "metadata": {},
   "outputs": [],
   "source": [
    "hd = hd[hd['Rent'] <= 200000]"
   ]
  },
  {
   "cell_type": "code",
   "execution_count": 244,
   "id": "57af381d",
   "metadata": {},
   "outputs": [
    {
     "data": {
      "text/plain": [
       "<Axes: xlabel='Rent'>"
      ]
     },
     "execution_count": 244,
     "metadata": {},
     "output_type": "execute_result"
    },
    {
     "data": {
      "image/png": "[encoded data removed]",
      "text/plain": [
       "<Figure size 1200x500 with 1 Axes>"
      ]
     },
     "metadata": {},
     "output_type": "display_data"
    }
   ],
   "source": [
    "plt.figure(figsize=(12,5))\n",
    "sns.boxplot(data = hd, x = 'Rent')"
   ]
  },
  {
   "cell_type": "markdown",
   "id": "a6683af5",
   "metadata": {},
   "source": [
    "### Data Visualization"
   ]
  },
  {
   "cell_type": "code",
   "execution_count": 245,
   "id": "b4831768",
   "metadata": {},
   "outputs": [
    {
     "data": {
      "text/plain": [
       "<Axes: xlabel='City', ylabel='Rent'>"
      ]
     },
     "execution_count": 245,
     "metadata": {},
     "output_type": "execute_result"
    },
    {
     "data": {
      "image/png": "[encoded data removed]",
      "text/plain": [
       "<Figure size 640x480 with 1 Axes>"
      ]
     },
     "metadata": {},
     "output_type": "display_data"
    }
   ],
   "source": [
    "sns.barplot(data = hd, x = 'City', y = 'Rent')\n",
    "# It seems that Mumbai has the highest Rent amongst all other "
   ]
  },
  {
   "cell_type": "code",
   "execution_count": 246,
   "id": "cef737a1",
   "metadata": {},
   "outputs": [
    {
     "data": {
      "text/plain": [
       "Area Type\n",
       "Super Area     2436\n",
       "Carpet Area    2209\n",
       "Built Area        2\n",
       "Name: count, dtype: int64"
      ]
     },
     "execution_count": 246,
     "metadata": {},
     "output_type": "execute_result"
    }
   ],
   "source": [
    "hd['Area Type'].value_counts()"
   ]
  },
  {
   "cell_type": "code",
   "execution_count": 247,
   "id": "e5ce802f",
   "metadata": {},
   "outputs": [
    {
     "data": {
      "text/plain": [
       "<Axes: xlabel='City', ylabel='Rent'>"
      ]
     },
     "execution_count": 247,
     "metadata": {},
     "output_type": "execute_result"
    },
    {
     "data": {
      "image/png": "[encoded data removed]",
      "text/plain": [
       "<Figure size 1000x600 with 1 Axes>"
      ]
     },
     "metadata": {},
     "output_type": "display_data"
    }
   ],
   "source": [
    "plt.figure(figsize=(10,6))\n",
    "sns.barplot(data = hd, x = 'City', y = 'Rent', hue = 'Area Type')"
   ]
  },
  {
   "cell_type": "code",
   "execution_count": 248,
   "id": "080d34d9",
   "metadata": {},
   "outputs": [
    {
     "data": {
      "text/plain": [
       "<Axes: xlabel='City', ylabel='Rent'>"
      ]
     },
     "execution_count": 248,
     "metadata": {},
     "output_type": "execute_result"
    },
    {
     "data": {
      "image/png": "[encoded data removed]",
      "text/plain": [
       "<Figure size 1000x600 with 1 Axes>"
      ]
     },
     "metadata": {},
     "output_type": "display_data"
    }
   ],
   "source": [
    "plt.figure(figsize=(10,6))\n",
    "sns.barplot(data = hd, x = 'City', y = 'Rent', hue = 'Furnishing Status')"
   ]
  },
  {
   "cell_type": "code",
   "execution_count": 249,
   "id": "652f8ae8",
   "metadata": {},
   "outputs": [
    {
     "data": {
      "text/plain": [
       "<Axes: xlabel='City', ylabel='Rent'>"
      ]
     },
     "execution_count": 249,
     "metadata": {},
     "output_type": "execute_result"
    },
    {
     "data": {
      "image/png": "[encoded data removed]",
      "text/plain": [
       "<Figure size 1000x600 with 1 Axes>"
      ]
     },
     "metadata": {},
     "output_type": "display_data"
    }
   ],
   "source": [
    "plt.figure(figsize=(10,6))\n",
    "sns.barplot(data = hd, x = 'City', y = 'Rent', hue = 'BHK')"
   ]
  },
  {
   "cell_type": "code",
   "execution_count": 250,
   "id": "b27f142f",
   "metadata": {},
   "outputs": [
    {
     "data": {
      "text/html": [
       "<div>\n",
       "<style scoped>\n",
       "    .dataframe tbody tr th:only-of-type {\n",
       "        vertical-align: middle;\n",
       "    }\n",
       "\n",
       "    .dataframe tbody tr th {\n",
       "        vertical-align: top;\n",
       "    }\n",
       "\n",
       "    .dataframe thead th {\n",
       "        text-align: right;\n",
       "    }\n",
       "</style>\n",
       "<table border=\"1\" class=\"dataframe\">\n",
       "  <thead>\n",
       "    <tr style=\"text-align: right;\">\n",
       "      <th></th>\n",
       "      <th>Posted On</th>\n",
       "      <th>BHK</th>\n",
       "      <th>Rent</th>\n",
       "      <th>Size</th>\n",
       "      <th>Floor</th>\n",
       "      <th>Area Type</th>\n",
       "      <th>Area Locality</th>\n",
       "      <th>City</th>\n",
       "      <th>Furnishing Status</th>\n",
       "      <th>Tenant Preferred</th>\n",
       "      <th>Bathroom</th>\n",
       "      <th>Point of Contact</th>\n",
       "    </tr>\n",
       "  </thead>\n",
       "  <tbody>\n",
       "    <tr>\n",
       "      <th>83</th>\n",
       "      <td>2022-06-21</td>\n",
       "      <td>6</td>\n",
       "      <td>20000</td>\n",
       "      <td>1000</td>\n",
       "      <td>1 out of 1</td>\n",
       "      <td>Super Area</td>\n",
       "      <td>Sonarpur</td>\n",
       "      <td>Kolkata</td>\n",
       "      <td>Semi-Furnished</td>\n",
       "      <td>Bachelors/Family</td>\n",
       "      <td>2</td>\n",
       "      <td>Contact Owner</td>\n",
       "    </tr>\n",
       "    <tr>\n",
       "      <th>3584</th>\n",
       "      <td>2022-06-02</td>\n",
       "      <td>6</td>\n",
       "      <td>60000</td>\n",
       "      <td>1800</td>\n",
       "      <td>1 out of 3</td>\n",
       "      <td>Super Area</td>\n",
       "      <td>Besant Nagar</td>\n",
       "      <td>Chennai</td>\n",
       "      <td>Furnished</td>\n",
       "      <td>Bachelors/Family</td>\n",
       "      <td>6</td>\n",
       "      <td>Contact Owner</td>\n",
       "    </tr>\n",
       "    <tr>\n",
       "      <th>4350</th>\n",
       "      <td>2022-06-18</td>\n",
       "      <td>6</td>\n",
       "      <td>60000</td>\n",
       "      <td>2800</td>\n",
       "      <td>Ground out of 3</td>\n",
       "      <td>Super Area</td>\n",
       "      <td>Boduppal, NH 2 2</td>\n",
       "      <td>Hyderabad</td>\n",
       "      <td>Furnished</td>\n",
       "      <td>Bachelors/Family</td>\n",
       "      <td>7</td>\n",
       "      <td>Contact Owner</td>\n",
       "    </tr>\n",
       "    <tr>\n",
       "      <th>4479</th>\n",
       "      <td>2022-07-07</td>\n",
       "      <td>6</td>\n",
       "      <td>20000</td>\n",
       "      <td>2400</td>\n",
       "      <td>Ground out of 1</td>\n",
       "      <td>Super Area</td>\n",
       "      <td>Mallikarjuna Nagar, Secunderabad</td>\n",
       "      <td>Hyderabad</td>\n",
       "      <td>Unfurnished</td>\n",
       "      <td>Family</td>\n",
       "      <td>4</td>\n",
       "      <td>Contact Owner</td>\n",
       "    </tr>\n",
       "    <tr>\n",
       "      <th>4518</th>\n",
       "      <td>2022-05-12</td>\n",
       "      <td>6</td>\n",
       "      <td>35000</td>\n",
       "      <td>3400</td>\n",
       "      <td>Ground out of 2</td>\n",
       "      <td>Super Area</td>\n",
       "      <td>Rampally</td>\n",
       "      <td>Hyderabad</td>\n",
       "      <td>Unfurnished</td>\n",
       "      <td>Bachelors/Family</td>\n",
       "      <td>7</td>\n",
       "      <td>Contact Owner</td>\n",
       "    </tr>\n",
       "    <tr>\n",
       "      <th>4648</th>\n",
       "      <td>2022-07-06</td>\n",
       "      <td>6</td>\n",
       "      <td>80000</td>\n",
       "      <td>4500</td>\n",
       "      <td>1 out of 2</td>\n",
       "      <td>Super Area</td>\n",
       "      <td>Kakateeya Nagar, Secunderabad</td>\n",
       "      <td>Hyderabad</td>\n",
       "      <td>Semi-Furnished</td>\n",
       "      <td>Bachelors/Family</td>\n",
       "      <td>6</td>\n",
       "      <td>Contact Owner</td>\n",
       "    </tr>\n",
       "    <tr>\n",
       "      <th>4696</th>\n",
       "      <td>2022-07-06</td>\n",
       "      <td>6</td>\n",
       "      <td>30000</td>\n",
       "      <td>4200</td>\n",
       "      <td>Ground out of 2</td>\n",
       "      <td>Super Area</td>\n",
       "      <td>Kuntloor</td>\n",
       "      <td>Hyderabad</td>\n",
       "      <td>Semi-Furnished</td>\n",
       "      <td>Bachelors/Family</td>\n",
       "      <td>5</td>\n",
       "      <td>Contact Owner</td>\n",
       "    </tr>\n",
       "  </tbody>\n",
       "</table>\n",
       "</div>"
      ],
      "text/plain": [
       "       Posted On  BHK   Rent  Size            Floor   Area Type  \\\n",
       "83    2022-06-21    6  20000  1000       1 out of 1  Super Area   \n",
       "3584  2022-06-02    6  60000  1800       1 out of 3  Super Area   \n",
       "4350  2022-06-18    6  60000  2800  Ground out of 3  Super Area   \n",
       "4479  2022-07-07    6  20000  2400  Ground out of 1  Super Area   \n",
       "4518  2022-05-12    6  35000  3400  Ground out of 2  Super Area   \n",
       "4648  2022-07-06    6  80000  4500       1 out of 2  Super Area   \n",
       "4696  2022-07-06    6  30000  4200  Ground out of 2  Super Area   \n",
       "\n",
       "                         Area Locality       City Furnishing Status  \\\n",
       "83                            Sonarpur    Kolkata    Semi-Furnished   \n",
       "3584                      Besant Nagar    Chennai         Furnished   \n",
       "4350                  Boduppal, NH 2 2  Hyderabad         Furnished   \n",
       "4479  Mallikarjuna Nagar, Secunderabad  Hyderabad       Unfurnished   \n",
       "4518                          Rampally  Hyderabad       Unfurnished   \n",
       "4648     Kakateeya Nagar, Secunderabad  Hyderabad    Semi-Furnished   \n",
       "4696                          Kuntloor  Hyderabad    Semi-Furnished   \n",
       "\n",
       "      Tenant Preferred  Bathroom Point of Contact  \n",
       "83    Bachelors/Family         2    Contact Owner  \n",
       "3584  Bachelors/Family         6    Contact Owner  \n",
       "4350  Bachelors/Family         7    Contact Owner  \n",
       "4479            Family         4    Contact Owner  \n",
       "4518  Bachelors/Family         7    Contact Owner  \n",
       "4648  Bachelors/Family         6    Contact Owner  \n",
       "4696  Bachelors/Family         5    Contact Owner  "
      ]
     },
     "execution_count": 250,
     "metadata": {},
     "output_type": "execute_result"
    }
   ],
   "source": [
    "hd[hd['BHK'] == 6]"
   ]
  },
  {
   "cell_type": "code",
   "execution_count": 251,
   "id": "c96622ca",
   "metadata": {},
   "outputs": [
    {
     "data": {
      "text/plain": [
       "<Axes: xlabel='City', ylabel='Rent'>"
      ]
     },
     "execution_count": 251,
     "metadata": {},
     "output_type": "execute_result"
    },
    {
     "data": {
      "image/png": "[encoded data removed]",
      "text/plain": [
       "<Figure size 1000x600 with 1 Axes>"
      ]
     },
     "metadata": {},
     "output_type": "display_data"
    }
   ],
   "source": [
    "plt.figure(figsize=(10,6))\n",
    "sns.barplot(data = hd, x = 'City', y = 'Rent', hue = 'Tenant Preferred')"
   ]
  },
  {
   "cell_type": "code",
   "execution_count": 252,
   "id": "ab18098e",
   "metadata": {},
   "outputs": [
    {
     "data": {
      "text/plain": [
       "Bathroom\n",
       "2     2285\n",
       "1     1474\n",
       "3      732\n",
       "4      116\n",
       "5       28\n",
       "6        8\n",
       "7        3\n",
       "10       1\n",
       "Name: count, dtype: int64"
      ]
     },
     "execution_count": 252,
     "metadata": {},
     "output_type": "execute_result"
    }
   ],
   "source": [
    "hd['Bathroom'].value_counts()"
   ]
  },
  {
   "cell_type": "code",
   "execution_count": 253,
   "id": "65a5d15c",
   "metadata": {},
   "outputs": [
    {
     "data": {
      "text/html": [
       "<div>\n",
       "<style scoped>\n",
       "    .dataframe tbody tr th:only-of-type {\n",
       "        vertical-align: middle;\n",
       "    }\n",
       "\n",
       "    .dataframe tbody tr th {\n",
       "        vertical-align: top;\n",
       "    }\n",
       "\n",
       "    .dataframe thead th {\n",
       "        text-align: right;\n",
       "    }\n",
       "</style>\n",
       "<table border=\"1\" class=\"dataframe\">\n",
       "  <thead>\n",
       "    <tr style=\"text-align: right;\">\n",
       "      <th></th>\n",
       "      <th>BHK</th>\n",
       "      <th>Rent</th>\n",
       "      <th>Size</th>\n",
       "      <th>Bathroom</th>\n",
       "    </tr>\n",
       "  </thead>\n",
       "  <tbody>\n",
       "    <tr>\n",
       "      <th>count</th>\n",
       "      <td>4647.000000</td>\n",
       "      <td>4647.000000</td>\n",
       "      <td>4647.000000</td>\n",
       "      <td>4647.000000</td>\n",
       "    </tr>\n",
       "    <tr>\n",
       "      <th>mean</th>\n",
       "      <td>2.047558</td>\n",
       "      <td>27720.877986</td>\n",
       "      <td>935.207661</td>\n",
       "      <td>1.920164</td>\n",
       "    </tr>\n",
       "    <tr>\n",
       "      <th>std</th>\n",
       "      <td>0.795284</td>\n",
       "      <td>31960.289864</td>\n",
       "      <td>581.327095</td>\n",
       "      <td>0.824634</td>\n",
       "    </tr>\n",
       "    <tr>\n",
       "      <th>min</th>\n",
       "      <td>1.000000</td>\n",
       "      <td>1200.000000</td>\n",
       "      <td>10.000000</td>\n",
       "      <td>1.000000</td>\n",
       "    </tr>\n",
       "    <tr>\n",
       "      <th>25%</th>\n",
       "      <td>1.000000</td>\n",
       "      <td>10000.000000</td>\n",
       "      <td>550.000000</td>\n",
       "      <td>1.000000</td>\n",
       "    </tr>\n",
       "    <tr>\n",
       "      <th>50%</th>\n",
       "      <td>2.000000</td>\n",
       "      <td>15000.000000</td>\n",
       "      <td>825.000000</td>\n",
       "      <td>2.000000</td>\n",
       "    </tr>\n",
       "    <tr>\n",
       "      <th>75%</th>\n",
       "      <td>3.000000</td>\n",
       "      <td>30000.000000</td>\n",
       "      <td>1200.000000</td>\n",
       "      <td>2.000000</td>\n",
       "    </tr>\n",
       "    <tr>\n",
       "      <th>max</th>\n",
       "      <td>6.000000</td>\n",
       "      <td>200000.000000</td>\n",
       "      <td>8000.000000</td>\n",
       "      <td>10.000000</td>\n",
       "    </tr>\n",
       "  </tbody>\n",
       "</table>\n",
       "</div>"
      ],
      "text/plain": [
       "               BHK           Rent         Size     Bathroom\n",
       "count  4647.000000    4647.000000  4647.000000  4647.000000\n",
       "mean      2.047558   27720.877986   935.207661     1.920164\n",
       "std       0.795284   31960.289864   581.327095     0.824634\n",
       "min       1.000000    1200.000000    10.000000     1.000000\n",
       "25%       1.000000   10000.000000   550.000000     1.000000\n",
       "50%       2.000000   15000.000000   825.000000     2.000000\n",
       "75%       3.000000   30000.000000  1200.000000     2.000000\n",
       "max       6.000000  200000.000000  8000.000000    10.000000"
      ]
     },
     "execution_count": 253,
     "metadata": {},
     "output_type": "execute_result"
    }
   ],
   "source": [
    "hd.describe()"
   ]
  },
  {
   "cell_type": "code",
   "execution_count": 254,
   "id": "d3ac17ee",
   "metadata": {},
   "outputs": [],
   "source": [
    "hd1 = hd.copy()"
   ]
  },
  {
   "cell_type": "code",
   "execution_count": 255,
   "id": "8a8ade03",
   "metadata": {},
   "outputs": [
    {
     "data": {
      "text/html": [
       "<div>\n",
       "<style scoped>\n",
       "    .dataframe tbody tr th:only-of-type {\n",
       "        vertical-align: middle;\n",
       "    }\n",
       "\n",
       "    .dataframe tbody tr th {\n",
       "        vertical-align: top;\n",
       "    }\n",
       "\n",
       "    .dataframe thead th {\n",
       "        text-align: right;\n",
       "    }\n",
       "</style>\n",
       "<table border=\"1\" class=\"dataframe\">\n",
       "  <thead>\n",
       "    <tr style=\"text-align: right;\">\n",
       "      <th></th>\n",
       "      <th>Posted On</th>\n",
       "      <th>BHK</th>\n",
       "      <th>Rent</th>\n",
       "      <th>Size</th>\n",
       "      <th>Floor</th>\n",
       "      <th>Area Type</th>\n",
       "      <th>Area Locality</th>\n",
       "      <th>City</th>\n",
       "      <th>Furnishing Status</th>\n",
       "      <th>Tenant Preferred</th>\n",
       "      <th>Bathroom</th>\n",
       "      <th>Point of Contact</th>\n",
       "    </tr>\n",
       "  </thead>\n",
       "  <tbody>\n",
       "    <tr>\n",
       "      <th>2339</th>\n",
       "      <td>2022-05-05</td>\n",
       "      <td>3</td>\n",
       "      <td>22000</td>\n",
       "      <td>1200</td>\n",
       "      <td>2 out of 4</td>\n",
       "      <td>Super Area</td>\n",
       "      <td>Annapurneshwari Nagar</td>\n",
       "      <td>Bangalore</td>\n",
       "      <td>Furnished</td>\n",
       "      <td>Bachelors/Family</td>\n",
       "      <td>2</td>\n",
       "      <td>Contact Owner</td>\n",
       "    </tr>\n",
       "    <tr>\n",
       "      <th>3562</th>\n",
       "      <td>2022-06-18</td>\n",
       "      <td>2</td>\n",
       "      <td>13000</td>\n",
       "      <td>1260</td>\n",
       "      <td>Ground out of 1</td>\n",
       "      <td>Super Area</td>\n",
       "      <td>Porur</td>\n",
       "      <td>Chennai</td>\n",
       "      <td>Semi-Furnished</td>\n",
       "      <td>Bachelors/Family</td>\n",
       "      <td>3</td>\n",
       "      <td>Contact Owner</td>\n",
       "    </tr>\n",
       "    <tr>\n",
       "      <th>3264</th>\n",
       "      <td>2022-07-04</td>\n",
       "      <td>3</td>\n",
       "      <td>20000</td>\n",
       "      <td>1650</td>\n",
       "      <td>1 out of 1</td>\n",
       "      <td>Carpet Area</td>\n",
       "      <td>Madipakkam</td>\n",
       "      <td>Chennai</td>\n",
       "      <td>Semi-Furnished</td>\n",
       "      <td>Bachelors</td>\n",
       "      <td>3</td>\n",
       "      <td>Contact Owner</td>\n",
       "    </tr>\n",
       "    <tr>\n",
       "      <th>2481</th>\n",
       "      <td>2022-07-07</td>\n",
       "      <td>3</td>\n",
       "      <td>35000</td>\n",
       "      <td>950</td>\n",
       "      <td>1 out of 4</td>\n",
       "      <td>Carpet Area</td>\n",
       "      <td>Karol Bagh</td>\n",
       "      <td>Delhi</td>\n",
       "      <td>Furnished</td>\n",
       "      <td>Bachelors</td>\n",
       "      <td>2</td>\n",
       "      <td>Contact Agent</td>\n",
       "    </tr>\n",
       "    <tr>\n",
       "      <th>3302</th>\n",
       "      <td>2022-07-06</td>\n",
       "      <td>3</td>\n",
       "      <td>46000</td>\n",
       "      <td>1700</td>\n",
       "      <td>15 out of 18</td>\n",
       "      <td>Super Area</td>\n",
       "      <td>Thoraipakkam</td>\n",
       "      <td>Chennai</td>\n",
       "      <td>Semi-Furnished</td>\n",
       "      <td>Bachelors/Family</td>\n",
       "      <td>3</td>\n",
       "      <td>Contact Agent</td>\n",
       "    </tr>\n",
       "  </tbody>\n",
       "</table>\n",
       "</div>"
      ],
      "text/plain": [
       "       Posted On  BHK   Rent  Size            Floor    Area Type  \\\n",
       "2339  2022-05-05    3  22000  1200       2 out of 4   Super Area   \n",
       "3562  2022-06-18    2  13000  1260  Ground out of 1   Super Area   \n",
       "3264  2022-07-04    3  20000  1650       1 out of 1  Carpet Area   \n",
       "2481  2022-07-07    3  35000   950       1 out of 4  Carpet Area   \n",
       "3302  2022-07-06    3  46000  1700     15 out of 18   Super Area   \n",
       "\n",
       "              Area Locality       City Furnishing Status  Tenant Preferred  \\\n",
       "2339  Annapurneshwari Nagar  Bangalore         Furnished  Bachelors/Family   \n",
       "3562                  Porur    Chennai    Semi-Furnished  Bachelors/Family   \n",
       "3264             Madipakkam    Chennai    Semi-Furnished         Bachelors   \n",
       "2481             Karol Bagh      Delhi         Furnished         Bachelors   \n",
       "3302           Thoraipakkam    Chennai    Semi-Furnished  Bachelors/Family   \n",
       "\n",
       "      Bathroom Point of Contact  \n",
       "2339         2    Contact Owner  \n",
       "3562         3    Contact Owner  \n",
       "3264         3    Contact Owner  \n",
       "2481         2    Contact Agent  \n",
       "3302         3    Contact Agent  "
      ]
     },
     "execution_count": 255,
     "metadata": {},
     "output_type": "execute_result"
    }
   ],
   "source": [
    "hd1.sample(5)"
   ]
  },
  {
   "cell_type": "code",
   "execution_count": 256,
   "id": "1a0b91e2",
   "metadata": {},
   "outputs": [],
   "source": [
    "drop_col = ['Posted On', 'Floor', 'Area Locality', 'Point of Contact']\n",
    "hd1.drop(columns=drop_col, inplace = True)"
   ]
  },
  {
   "cell_type": "code",
   "execution_count": 257,
   "id": "f7f48503",
   "metadata": {},
   "outputs": [],
   "source": [
    "hd1 = hd1[hd1['Area Type'] != 'Built Area']"
   ]
  },
  {
   "cell_type": "code",
   "execution_count": 258,
   "id": "e75e3ebd",
   "metadata": {},
   "outputs": [
    {
     "data": {
      "text/html": [
       "<div>\n",
       "<style scoped>\n",
       "    .dataframe tbody tr th:only-of-type {\n",
       "        vertical-align: middle;\n",
       "    }\n",
       "\n",
       "    .dataframe tbody tr th {\n",
       "        vertical-align: top;\n",
       "    }\n",
       "\n",
       "    .dataframe thead th {\n",
       "        text-align: right;\n",
       "    }\n",
       "</style>\n",
       "<table border=\"1\" class=\"dataframe\">\n",
       "  <thead>\n",
       "    <tr style=\"text-align: right;\">\n",
       "      <th></th>\n",
       "      <th>BHK</th>\n",
       "      <th>Rent</th>\n",
       "      <th>Size</th>\n",
       "      <th>Area Type</th>\n",
       "      <th>City</th>\n",
       "      <th>Furnishing Status</th>\n",
       "      <th>Tenant Preferred</th>\n",
       "      <th>Bathroom</th>\n",
       "    </tr>\n",
       "  </thead>\n",
       "  <tbody>\n",
       "    <tr>\n",
       "      <th>1732</th>\n",
       "      <td>2</td>\n",
       "      <td>23000</td>\n",
       "      <td>600</td>\n",
       "      <td>Super Area</td>\n",
       "      <td>Bangalore</td>\n",
       "      <td>Semi-Furnished</td>\n",
       "      <td>Bachelors/Family</td>\n",
       "      <td>2</td>\n",
       "    </tr>\n",
       "    <tr>\n",
       "      <th>2443</th>\n",
       "      <td>2</td>\n",
       "      <td>25000</td>\n",
       "      <td>100</td>\n",
       "      <td>Carpet Area</td>\n",
       "      <td>Delhi</td>\n",
       "      <td>Unfurnished</td>\n",
       "      <td>Bachelors</td>\n",
       "      <td>2</td>\n",
       "    </tr>\n",
       "    <tr>\n",
       "      <th>2848</th>\n",
       "      <td>4</td>\n",
       "      <td>110000</td>\n",
       "      <td>3000</td>\n",
       "      <td>Carpet Area</td>\n",
       "      <td>Delhi</td>\n",
       "      <td>Semi-Furnished</td>\n",
       "      <td>Bachelors</td>\n",
       "      <td>5</td>\n",
       "    </tr>\n",
       "    <tr>\n",
       "      <th>788</th>\n",
       "      <td>3</td>\n",
       "      <td>200000</td>\n",
       "      <td>1208</td>\n",
       "      <td>Carpet Area</td>\n",
       "      <td>Mumbai</td>\n",
       "      <td>Unfurnished</td>\n",
       "      <td>Bachelors</td>\n",
       "      <td>3</td>\n",
       "    </tr>\n",
       "    <tr>\n",
       "      <th>2003</th>\n",
       "      <td>3</td>\n",
       "      <td>24000</td>\n",
       "      <td>1550</td>\n",
       "      <td>Carpet Area</td>\n",
       "      <td>Bangalore</td>\n",
       "      <td>Semi-Furnished</td>\n",
       "      <td>Bachelors</td>\n",
       "      <td>3</td>\n",
       "    </tr>\n",
       "  </tbody>\n",
       "</table>\n",
       "</div>"
      ],
      "text/plain": [
       "      BHK    Rent  Size    Area Type       City Furnishing Status  \\\n",
       "1732    2   23000   600   Super Area  Bangalore    Semi-Furnished   \n",
       "2443    2   25000   100  Carpet Area      Delhi       Unfurnished   \n",
       "2848    4  110000  3000  Carpet Area      Delhi    Semi-Furnished   \n",
       "788     3  200000  1208  Carpet Area     Mumbai       Unfurnished   \n",
       "2003    3   24000  1550  Carpet Area  Bangalore    Semi-Furnished   \n",
       "\n",
       "      Tenant Preferred  Bathroom  \n",
       "1732  Bachelors/Family         2  \n",
       "2443         Bachelors         2  \n",
       "2848         Bachelors         5  \n",
       "788          Bachelors         3  \n",
       "2003         Bachelors         3  "
      ]
     },
     "execution_count": 258,
     "metadata": {},
     "output_type": "execute_result"
    }
   ],
   "source": [
    "hd1.sample(5)"
   ]
  },
  {
   "cell_type": "code",
   "execution_count": 259,
   "id": "6ffc7f0f",
   "metadata": {},
   "outputs": [
    {
     "data": {
      "text/plain": [
       "Furnishing Status\n",
       "Semi-Furnished    2198\n",
       "Unfurnished       1801\n",
       "Furnished          646\n",
       "Name: count, dtype: int64"
      ]
     },
     "execution_count": 259,
     "metadata": {},
     "output_type": "execute_result"
    }
   ],
   "source": [
    "hd1['Furnishing Status'].value_counts()"
   ]
  },
  {
   "cell_type": "code",
   "execution_count": 260,
   "id": "94cde648",
   "metadata": {},
   "outputs": [
    {
     "data": {
      "text/plain": [
       "Area Type\n",
       "Super Area     2436\n",
       "Carpet Area    2209\n",
       "Name: count, dtype: int64"
      ]
     },
     "execution_count": 260,
     "metadata": {},
     "output_type": "execute_result"
    }
   ],
   "source": [
    "hd1['Area Type'].value_counts()"
   ]
  },
  {
   "cell_type": "code",
   "execution_count": 261,
   "id": "4fbee0b0",
   "metadata": {},
   "outputs": [],
   "source": [
    "hd1['Furnishing Status'] = hd1['Furnishing Status'].replace(['Furnished', 'Semi-Furnished','Unfurnished'], [2, 1, 0])\n",
    "hd1['Area Type'] = hd1['Area Type'].replace(['Super Area','Carpet Area'],[1,0])"
   ]
  },
  {
   "cell_type": "code",
   "execution_count": 262,
   "id": "ad22c75d",
   "metadata": {},
   "outputs": [
    {
     "data": {
      "text/plain": [
       "Furnishing Status\n",
       "1    2198\n",
       "0    1801\n",
       "2     646\n",
       "Name: count, dtype: int64"
      ]
     },
     "execution_count": 262,
     "metadata": {},
     "output_type": "execute_result"
    }
   ],
   "source": [
    "hd1['Furnishing Status'].value_counts()"
   ]
  },
  {
   "cell_type": "code",
   "execution_count": 263,
   "id": "3235795c",
   "metadata": {},
   "outputs": [
    {
     "data": {
      "text/plain": [
       "Area Type\n",
       "1    2436\n",
       "0    2209\n",
       "Name: count, dtype: int64"
      ]
     },
     "execution_count": 263,
     "metadata": {},
     "output_type": "execute_result"
    }
   ],
   "source": [
    "hd1['Area Type'].value_counts()"
   ]
  },
  {
   "cell_type": "code",
   "execution_count": null,
   "id": "32891ca6",
   "metadata": {},
   "outputs": [],
   "source": []
  }
 ],
 "metadata": {
  "kernelspec": {
   "display_name": "Python 3 (ipykernel)",
   "language": "python",
   "name": "python3"
  },
  "language_info": {
   "codemirror_mode": {
    "name": "ipython",
    "version": 3
   },
   "file_extension": ".py",
   "mimetype": "text/x-python",
   "name": "python",
   "nbconvert_exporter": "python",
   "pygments_lexer": "ipython3",
   "version": "3.10.13"
  }
 },
 "nbformat": 4,
 "nbformat_minor": 5
}
