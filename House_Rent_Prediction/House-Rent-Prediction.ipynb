{
 "cells": [
  {
   "cell_type": "markdown",
   "id": "b45ce74d",
   "metadata": {},
   "source": [
    "---\n",
    "# House Rent Prediction\n",
    "---"
   ]
  },
  {
   "cell_type": "markdown",
   "id": "38722ebd",
   "metadata": {},
   "source": [
    "#### Check out the Dataset-Glossory.txt and readme.txt file"
   ]
  },
  {
   "cell_type": "markdown",
   "id": "d5bd7cfc",
   "metadata": {},
   "source": [
    "| Column Name       | Description                                                |\n",
    "|-------------------|------------------------------------------------------------|\n",
    "| BHK               | Number of Bedrooms, Hall, Kitchen                          |\n",
    "| Rent              | Rent of the Houses/Apartments/Flats                        |\n",
    "| Size              | Size of the Houses/Apartments/Flats in Square Feet         |\n",
    "| Floor             | Houses/Apartments/Flats situated in which Floor and Total Number of Floors (Example: Ground out of 2, 3 out of 5, etc.) |\n",
    "| Area Type         | Size of the Houses/Apartments/Flats calculated on either Super Area or Carpet Area or Build Area |\n",
    "| Area Locality     | Locality of the Houses/Apartments/Flats                   |\n",
    "| City              | City where the Houses/Apartments/Flats are Located        |\n",
    "| Furnishing Status | Furnishing Status of the Houses/Apartments/Flats, either it is Furnished or Semi-Furnished or Unfurnished |\n",
    "| Tenant Preferred  | Type of Tenant Preferred by the Owner or Agent            |\n",
    "| Bathroom          | Number of Bathrooms                                       |\n",
    "| Point of Contact  | Whom should you contact for more information regarding the Houses/Apartments/Flats |"
   ]
  },
  {
   "cell_type": "markdown",
   "id": "fe7c83ff",
   "metadata": {},
   "source": [
    "### Import Libraries"
   ]
  },
  {
   "cell_type": "code",
   "execution_count": 490,
   "id": "4acb5dd1",
   "metadata": {},
   "outputs": [],
   "source": [
    "import os\n",
    "import pandas as pd\n",
    "import numpy as np\n",
    "import warnings\n",
    "warnings.filterwarnings('ignore')\n",
    "import statistics\n",
    "\n",
    "import matplotlib.pyplot as plt\n",
    "%matplotlib inline\n",
    "import seaborn as sns\n",
    "\n",
    "import keras\n",
    "import tensorflow as tf\n",
    "from sklearn import metrics\n",
    "from sklearn import model_selection\n",
    "from sklearn.preprocessing import LabelEncoder, MinMaxScaler, StandardScaler\n",
    "from sklearn import ensemble, tree, linear_model"
   ]
  },
  {
   "cell_type": "code",
   "execution_count": 491,
   "id": "c435457b",
   "metadata": {},
   "outputs": [
    {
     "name": "stdout",
     "output_type": "stream",
     "text": [
      "(rows, columns) : (4746, 12)\n"
     ]
    },
    {
     "data": {
      "text/html": [
       "<div>\n",
       "<style scoped>\n",
       "    .dataframe tbody tr th:only-of-type {\n",
       "        vertical-align: middle;\n",
       "    }\n",
       "\n",
       "    .dataframe tbody tr th {\n",
       "        vertical-align: top;\n",
       "    }\n",
       "\n",
       "    .dataframe thead th {\n",
       "        text-align: right;\n",
       "    }\n",
       "</style>\n",
       "<table border=\"1\" class=\"dataframe\">\n",
       "  <thead>\n",
       "    <tr style=\"text-align: right;\">\n",
       "      <th></th>\n",
       "      <th>Posted On</th>\n",
       "      <th>BHK</th>\n",
       "      <th>Rent</th>\n",
       "      <th>Size</th>\n",
       "      <th>Floor</th>\n",
       "      <th>Area Type</th>\n",
       "      <th>Area Locality</th>\n",
       "      <th>City</th>\n",
       "      <th>Furnishing Status</th>\n",
       "      <th>Tenant Preferred</th>\n",
       "      <th>Bathroom</th>\n",
       "      <th>Point of Contact</th>\n",
       "    </tr>\n",
       "  </thead>\n",
       "  <tbody>\n",
       "    <tr>\n",
       "      <th>3540</th>\n",
       "      <td>2022-05-25</td>\n",
       "      <td>3</td>\n",
       "      <td>20000</td>\n",
       "      <td>1065</td>\n",
       "      <td>4 out of 5</td>\n",
       "      <td>Super Area</td>\n",
       "      <td>Washermanpet</td>\n",
       "      <td>Chennai</td>\n",
       "      <td>Semi-Furnished</td>\n",
       "      <td>Bachelors/Family</td>\n",
       "      <td>3</td>\n",
       "      <td>Contact Owner</td>\n",
       "    </tr>\n",
       "    <tr>\n",
       "      <th>4286</th>\n",
       "      <td>2022-07-08</td>\n",
       "      <td>3</td>\n",
       "      <td>22000</td>\n",
       "      <td>1500</td>\n",
       "      <td>4 out of 6</td>\n",
       "      <td>Super Area</td>\n",
       "      <td>Indra Nagar, Moti Nagar</td>\n",
       "      <td>Hyderabad</td>\n",
       "      <td>Semi-Furnished</td>\n",
       "      <td>Bachelors/Family</td>\n",
       "      <td>3</td>\n",
       "      <td>Contact Owner</td>\n",
       "    </tr>\n",
       "    <tr>\n",
       "      <th>1982</th>\n",
       "      <td>2022-07-07</td>\n",
       "      <td>2</td>\n",
       "      <td>27500</td>\n",
       "      <td>1000</td>\n",
       "      <td>4 out of 4</td>\n",
       "      <td>Carpet Area</td>\n",
       "      <td>ITI Layout</td>\n",
       "      <td>Bangalore</td>\n",
       "      <td>Furnished</td>\n",
       "      <td>Bachelors/Family</td>\n",
       "      <td>2</td>\n",
       "      <td>Contact Owner</td>\n",
       "    </tr>\n",
       "    <tr>\n",
       "      <th>2874</th>\n",
       "      <td>2022-07-06</td>\n",
       "      <td>2</td>\n",
       "      <td>32000</td>\n",
       "      <td>900</td>\n",
       "      <td>Ground out of 4</td>\n",
       "      <td>Carpet Area</td>\n",
       "      <td>Lajpat Nagar</td>\n",
       "      <td>Delhi</td>\n",
       "      <td>Furnished</td>\n",
       "      <td>Bachelors/Family</td>\n",
       "      <td>2</td>\n",
       "      <td>Contact Agent</td>\n",
       "    </tr>\n",
       "    <tr>\n",
       "      <th>3225</th>\n",
       "      <td>2022-06-14</td>\n",
       "      <td>1</td>\n",
       "      <td>7000</td>\n",
       "      <td>550</td>\n",
       "      <td>1 out of 2</td>\n",
       "      <td>Super Area</td>\n",
       "      <td>Valasaravakkam, Arcot Road</td>\n",
       "      <td>Chennai</td>\n",
       "      <td>Unfurnished</td>\n",
       "      <td>Bachelors/Family</td>\n",
       "      <td>1</td>\n",
       "      <td>Contact Owner</td>\n",
       "    </tr>\n",
       "  </tbody>\n",
       "</table>\n",
       "</div>"
      ],
      "text/plain": [
       "       Posted On  BHK   Rent  Size            Floor    Area Type  \\\n",
       "3540  2022-05-25    3  20000  1065       4 out of 5   Super Area   \n",
       "4286  2022-07-08    3  22000  1500       4 out of 6   Super Area   \n",
       "1982  2022-07-07    2  27500  1000       4 out of 4  Carpet Area   \n",
       "2874  2022-07-06    2  32000   900  Ground out of 4  Carpet Area   \n",
       "3225  2022-06-14    1   7000   550       1 out of 2   Super Area   \n",
       "\n",
       "                   Area Locality       City Furnishing Status  \\\n",
       "3540                Washermanpet    Chennai    Semi-Furnished   \n",
       "4286     Indra Nagar, Moti Nagar  Hyderabad    Semi-Furnished   \n",
       "1982                  ITI Layout  Bangalore         Furnished   \n",
       "2874                Lajpat Nagar      Delhi         Furnished   \n",
       "3225  Valasaravakkam, Arcot Road    Chennai       Unfurnished   \n",
       "\n",
       "      Tenant Preferred  Bathroom Point of Contact  \n",
       "3540  Bachelors/Family         3    Contact Owner  \n",
       "4286  Bachelors/Family         3    Contact Owner  \n",
       "1982  Bachelors/Family         2    Contact Owner  \n",
       "2874  Bachelors/Family         2    Contact Agent  \n",
       "3225  Bachelors/Family         1    Contact Owner  "
      ]
     },
     "execution_count": 491,
     "metadata": {},
     "output_type": "execute_result"
    }
   ],
   "source": [
    "hd = pd.read_csv('House_Rent_Dataset.csv')\n",
    "print(\"(rows, columns) :\", hd.shape)\n",
    "hd.sample(5)"
   ]
  },
  {
   "cell_type": "code",
   "execution_count": 492,
   "id": "e9a81f36",
   "metadata": {},
   "outputs": [
    {
     "name": "stdout",
     "output_type": "stream",
     "text": [
      "<class 'pandas.core.frame.DataFrame'>\n",
      "RangeIndex: 4746 entries, 0 to 4745\n",
      "Data columns (total 12 columns):\n",
      " #   Column             Non-Null Count  Dtype \n",
      "---  ------             --------------  ----- \n",
      " 0   Posted On          4746 non-null   object\n",
      " 1   BHK                4746 non-null   int64 \n",
      " 2   Rent               4746 non-null   int64 \n",
      " 3   Size               4746 non-null   int64 \n",
      " 4   Floor              4746 non-null   object\n",
      " 5   Area Type          4746 non-null   object\n",
      " 6   Area Locality      4746 non-null   object\n",
      " 7   City               4746 non-null   object\n",
      " 8   Furnishing Status  4746 non-null   object\n",
      " 9   Tenant Preferred   4746 non-null   object\n",
      " 10  Bathroom           4746 non-null   int64 \n",
      " 11  Point of Contact   4746 non-null   object\n",
      "dtypes: int64(4), object(8)\n",
      "memory usage: 445.1+ KB\n"
     ]
    }
   ],
   "source": [
    "hd.info()"
   ]
  },
  {
   "cell_type": "code",
   "execution_count": 493,
   "id": "87c06f32",
   "metadata": {},
   "outputs": [],
   "source": [
    "# hd.isnull().sum()\n",
    "# No null values"
   ]
  },
  {
   "cell_type": "markdown",
   "id": "d293a514",
   "metadata": {},
   "source": [
    "### Dealing with Outliers"
   ]
  },
  {
   "cell_type": "code",
   "execution_count": 494,
   "id": "6e2352e3",
   "metadata": {},
   "outputs": [],
   "source": [
    "def var_summary(x):\n",
    "# UC = MEAN + 2 STD\n",
    "    uc = x.mean()+(2*x.std())\n",
    "    lc = x.mean()-(2*x.std())\n",
    "    \n",
    "    for i in x:\n",
    "        if i<lc or i>uc:\n",
    "            count = 1             # This means that column is having an OUTLier\n",
    "        else:\n",
    "            count = 0             # That column in not having an outliers\n",
    "            \n",
    "    outlier_flag = count\n",
    "    return pd.Series([x.count(), x.isnull().sum(), x.sum(), x.mean(), x.median(),  x.std(), \n",
    "                      x.var(), x.min(), x.quantile(0.01), x.quantile(0.05),x.quantile(0.10),\n",
    "                      x.quantile(0.25),x.quantile(0.50),x.quantile(0.75), \n",
    "                      x.quantile(0.90),x.quantile(0.95), x.quantile(0.99),x.max() , \n",
    "                      lc , uc,outlier_flag],\n",
    "                  index=['N', 'NMISS', 'SUM', 'MEAN','MEDIAN', 'STD', 'VAR', 'MIN', \n",
    "                         'P1' , 'P5' ,'P10' ,'P25' ,'P50' ,'P75' ,'P90' ,'P95' ,'P99' ,\n",
    "                         'MAX','LC','UC','outlier_flag'])"
   ]
  },
  {
   "cell_type": "code",
   "execution_count": 495,
   "id": "8a39a64f",
   "metadata": {},
   "outputs": [
    {
     "name": "stdout",
     "output_type": "stream",
     "text": [
      "['BHK', 'Rent', 'Size', 'Bathroom']\n"
     ]
    }
   ],
   "source": [
    "numeric_cols = []\n",
    "for cols in hd:\n",
    "    if hd[cols].dtypes == 'int64':\n",
    "        numeric_cols.append(cols)\n",
    "        \n",
    "print(numeric_cols)"
   ]
  },
  {
   "cell_type": "code",
   "execution_count": 496,
   "id": "17210ec7",
   "metadata": {},
   "outputs": [
    {
     "data": {
      "text/html": [
       "<div>\n",
       "<style scoped>\n",
       "    .dataframe tbody tr th:only-of-type {\n",
       "        vertical-align: middle;\n",
       "    }\n",
       "\n",
       "    .dataframe tbody tr th {\n",
       "        vertical-align: top;\n",
       "    }\n",
       "\n",
       "    .dataframe thead th {\n",
       "        text-align: right;\n",
       "    }\n",
       "</style>\n",
       "<table border=\"1\" class=\"dataframe\">\n",
       "  <thead>\n",
       "    <tr style=\"text-align: right;\">\n",
       "      <th></th>\n",
       "      <th>BHK</th>\n",
       "      <th>Rent</th>\n",
       "      <th>Size</th>\n",
       "      <th>Bathroom</th>\n",
       "    </tr>\n",
       "  </thead>\n",
       "  <tbody>\n",
       "    <tr>\n",
       "      <th>N</th>\n",
       "      <td>4746.000000</td>\n",
       "      <td>4.746000e+03</td>\n",
       "      <td>4.746000e+03</td>\n",
       "      <td>4746.000000</td>\n",
       "    </tr>\n",
       "    <tr>\n",
       "      <th>NMISS</th>\n",
       "      <td>0.000000</td>\n",
       "      <td>0.000000e+00</td>\n",
       "      <td>0.000000e+00</td>\n",
       "      <td>0.000000</td>\n",
       "    </tr>\n",
       "    <tr>\n",
       "      <th>SUM</th>\n",
       "      <td>9890.000000</td>\n",
       "      <td>1.660789e+08</td>\n",
       "      <td>4.591711e+06</td>\n",
       "      <td>9330.000000</td>\n",
       "    </tr>\n",
       "    <tr>\n",
       "      <th>MEAN</th>\n",
       "      <td>2.083860</td>\n",
       "      <td>3.499345e+04</td>\n",
       "      <td>9.674907e+02</td>\n",
       "      <td>1.965866</td>\n",
       "    </tr>\n",
       "    <tr>\n",
       "      <th>MEDIAN</th>\n",
       "      <td>2.000000</td>\n",
       "      <td>1.600000e+04</td>\n",
       "      <td>8.500000e+02</td>\n",
       "      <td>2.000000</td>\n",
       "    </tr>\n",
       "    <tr>\n",
       "      <th>STD</th>\n",
       "      <td>0.832256</td>\n",
       "      <td>7.810641e+04</td>\n",
       "      <td>6.342023e+02</td>\n",
       "      <td>0.884532</td>\n",
       "    </tr>\n",
       "    <tr>\n",
       "      <th>VAR</th>\n",
       "      <td>0.692650</td>\n",
       "      <td>6.100612e+09</td>\n",
       "      <td>4.022126e+05</td>\n",
       "      <td>0.782396</td>\n",
       "    </tr>\n",
       "    <tr>\n",
       "      <th>MIN</th>\n",
       "      <td>1.000000</td>\n",
       "      <td>1.200000e+03</td>\n",
       "      <td>1.000000e+01</td>\n",
       "      <td>1.000000</td>\n",
       "    </tr>\n",
       "    <tr>\n",
       "      <th>P1</th>\n",
       "      <td>1.000000</td>\n",
       "      <td>4.000000e+03</td>\n",
       "      <td>7.000000e+01</td>\n",
       "      <td>1.000000</td>\n",
       "    </tr>\n",
       "    <tr>\n",
       "      <th>P5</th>\n",
       "      <td>1.000000</td>\n",
       "      <td>6.000000e+03</td>\n",
       "      <td>2.000000e+02</td>\n",
       "      <td>1.000000</td>\n",
       "    </tr>\n",
       "    <tr>\n",
       "      <th>P10</th>\n",
       "      <td>1.000000</td>\n",
       "      <td>7.000000e+03</td>\n",
       "      <td>4.000000e+02</td>\n",
       "      <td>1.000000</td>\n",
       "    </tr>\n",
       "    <tr>\n",
       "      <th>P25</th>\n",
       "      <td>2.000000</td>\n",
       "      <td>1.000000e+04</td>\n",
       "      <td>5.500000e+02</td>\n",
       "      <td>1.000000</td>\n",
       "    </tr>\n",
       "    <tr>\n",
       "      <th>P50</th>\n",
       "      <td>2.000000</td>\n",
       "      <td>1.600000e+04</td>\n",
       "      <td>8.500000e+02</td>\n",
       "      <td>2.000000</td>\n",
       "    </tr>\n",
       "    <tr>\n",
       "      <th>P75</th>\n",
       "      <td>3.000000</td>\n",
       "      <td>3.300000e+04</td>\n",
       "      <td>1.200000e+03</td>\n",
       "      <td>2.000000</td>\n",
       "    </tr>\n",
       "    <tr>\n",
       "      <th>P90</th>\n",
       "      <td>3.000000</td>\n",
       "      <td>7.200000e+04</td>\n",
       "      <td>1.700000e+03</td>\n",
       "      <td>3.000000</td>\n",
       "    </tr>\n",
       "    <tr>\n",
       "      <th>P95</th>\n",
       "      <td>3.000000</td>\n",
       "      <td>1.300000e+05</td>\n",
       "      <td>2.000000e+03</td>\n",
       "      <td>3.000000</td>\n",
       "    </tr>\n",
       "    <tr>\n",
       "      <th>P99</th>\n",
       "      <td>4.000000</td>\n",
       "      <td>3.000000e+05</td>\n",
       "      <td>3.289200e+03</td>\n",
       "      <td>5.000000</td>\n",
       "    </tr>\n",
       "    <tr>\n",
       "      <th>MAX</th>\n",
       "      <td>6.000000</td>\n",
       "      <td>3.500000e+06</td>\n",
       "      <td>8.000000e+03</td>\n",
       "      <td>10.000000</td>\n",
       "    </tr>\n",
       "    <tr>\n",
       "      <th>LC</th>\n",
       "      <td>0.419348</td>\n",
       "      <td>-1.212194e+05</td>\n",
       "      <td>-3.009139e+02</td>\n",
       "      <td>0.196803</td>\n",
       "    </tr>\n",
       "    <tr>\n",
       "      <th>UC</th>\n",
       "      <td>3.748372</td>\n",
       "      <td>1.912063e+05</td>\n",
       "      <td>2.235895e+03</td>\n",
       "      <td>3.734929</td>\n",
       "    </tr>\n",
       "    <tr>\n",
       "      <th>outlier_flag</th>\n",
       "      <td>0.000000</td>\n",
       "      <td>0.000000e+00</td>\n",
       "      <td>0.000000e+00</td>\n",
       "      <td>0.000000</td>\n",
       "    </tr>\n",
       "  </tbody>\n",
       "</table>\n",
       "</div>"
      ],
      "text/plain": [
       "                      BHK          Rent          Size     Bathroom\n",
       "N             4746.000000  4.746000e+03  4.746000e+03  4746.000000\n",
       "NMISS            0.000000  0.000000e+00  0.000000e+00     0.000000\n",
       "SUM           9890.000000  1.660789e+08  4.591711e+06  9330.000000\n",
       "MEAN             2.083860  3.499345e+04  9.674907e+02     1.965866\n",
       "MEDIAN           2.000000  1.600000e+04  8.500000e+02     2.000000\n",
       "STD              0.832256  7.810641e+04  6.342023e+02     0.884532\n",
       "VAR              0.692650  6.100612e+09  4.022126e+05     0.782396\n",
       "MIN              1.000000  1.200000e+03  1.000000e+01     1.000000\n",
       "P1               1.000000  4.000000e+03  7.000000e+01     1.000000\n",
       "P5               1.000000  6.000000e+03  2.000000e+02     1.000000\n",
       "P10              1.000000  7.000000e+03  4.000000e+02     1.000000\n",
       "P25              2.000000  1.000000e+04  5.500000e+02     1.000000\n",
       "P50              2.000000  1.600000e+04  8.500000e+02     2.000000\n",
       "P75              3.000000  3.300000e+04  1.200000e+03     2.000000\n",
       "P90              3.000000  7.200000e+04  1.700000e+03     3.000000\n",
       "P95              3.000000  1.300000e+05  2.000000e+03     3.000000\n",
       "P99              4.000000  3.000000e+05  3.289200e+03     5.000000\n",
       "MAX              6.000000  3.500000e+06  8.000000e+03    10.000000\n",
       "LC               0.419348 -1.212194e+05 -3.009139e+02     0.196803\n",
       "UC               3.748372  1.912063e+05  2.235895e+03     3.734929\n",
       "outlier_flag     0.000000  0.000000e+00  0.000000e+00     0.000000"
      ]
     },
     "execution_count": 496,
     "metadata": {},
     "output_type": "execute_result"
    }
   ],
   "source": [
    "hd[numeric_cols].apply(lambda x: var_summary(x))"
   ]
  },
  {
   "cell_type": "markdown",
   "id": "0fe186de",
   "metadata": {},
   "source": [
    "#### Nah I dont believe this, lets plot the taget variable"
   ]
  },
  {
   "cell_type": "code",
   "execution_count": 497,
   "id": "1c621d5a",
   "metadata": {},
   "outputs": [
    {
     "data": {
      "text/plain": [
       "<Axes: xlabel='Rent'>"
      ]
     },
     "execution_count": 497,
     "metadata": {},
     "output_type": "execute_result"
    },
    {
     "data": {
      "image/png": "[encoded data removed]",
      "text/plain": [
       "<Figure size 1200x500 with 1 Axes>"
      ]
     },
     "metadata": {},
     "output_type": "display_data"
    }
   ],
   "source": [
    "plt.figure(figsize=(12,5))\n",
    "sns.boxplot(data = hd, x = 'Rent')"
   ]
  },
  {
   "cell_type": "code",
   "execution_count": 498,
   "id": "14583cfa",
   "metadata": {},
   "outputs": [],
   "source": [
    "hd = hd[hd['Rent'] <= 200000]"
   ]
  },
  {
   "cell_type": "code",
   "execution_count": 499,
   "id": "57af381d",
   "metadata": {},
   "outputs": [
    {
     "data": {
      "text/plain": [
       "<Axes: xlabel='Rent'>"
      ]
     },
     "execution_count": 499,
     "metadata": {},
     "output_type": "execute_result"
    },
    {
     "data": {
      "image/png": "[encoded data removed]",
      "text/plain": [
       "<Figure size 1200x500 with 1 Axes>"
      ]
     },
     "metadata": {},
     "output_type": "display_data"
    }
   ],
   "source": [
    "plt.figure(figsize=(12,5))\n",
    "sns.boxplot(data = hd, x = 'Rent')"
   ]
  },
  {
   "cell_type": "markdown",
   "id": "a6683af5",
   "metadata": {},
   "source": [
    "### Data Visualization"
   ]
  },
  {
   "cell_type": "code",
   "execution_count": 500,
   "id": "b4831768",
   "metadata": {},
   "outputs": [
    {
     "data": {
      "text/plain": [
       "<Axes: xlabel='City', ylabel='Rent'>"
      ]
     },
     "execution_count": 500,
     "metadata": {},
     "output_type": "execute_result"
    },
    {
     "data": {
      "image/png": "[encoded data removed]",
      "text/plain": [
       "<Figure size 640x480 with 1 Axes>"
      ]
     },
     "metadata": {},
     "output_type": "display_data"
    }
   ],
   "source": [
    "sns.barplot(data = hd, x = 'City', y = 'Rent')\n",
    "# It seems that Mumbai has the highest Rent amongst all other "
   ]
  },
  {
   "cell_type": "code",
   "execution_count": 501,
   "id": "cef737a1",
   "metadata": {},
   "outputs": [
    {
     "data": {
      "text/plain": [
       "Area Type\n",
       "Super Area     2436\n",
       "Carpet Area    2209\n",
       "Built Area        2\n",
       "Name: count, dtype: int64"
      ]
     },
     "execution_count": 501,
     "metadata": {},
     "output_type": "execute_result"
    }
   ],
   "source": [
    "hd['Area Type'].value_counts()"
   ]
  },
  {
   "cell_type": "code",
   "execution_count": 502,
   "id": "e5ce802f",
   "metadata": {},
   "outputs": [
    {
     "data": {
      "text/plain": [
       "<Axes: xlabel='City', ylabel='Rent'>"
      ]
     },
     "execution_count": 502,
     "metadata": {},
     "output_type": "execute_result"
    },
    {
     "data": {
      "image/png": "[encoded data removed]",
      "text/plain": [
       "<Figure size 1000x600 with 1 Axes>"
      ]
     },
     "metadata": {},
     "output_type": "display_data"
    }
   ],
   "source": [
    "plt.figure(figsize=(10,6))\n",
    "sns.barplot(data = hd, x = 'City', y = 'Rent', hue = 'Area Type')"
   ]
  },
  {
   "cell_type": "code",
   "execution_count": 503,
   "id": "080d34d9",
   "metadata": {},
   "outputs": [
    {
     "data": {
      "text/plain": [
       "<Axes: xlabel='City', ylabel='Rent'>"
      ]
     },
     "execution_count": 503,
     "metadata": {},
     "output_type": "execute_result"
    },
    {
     "data": {
      "image/png": "[encoded data removed]",
      "text/plain": [
       "<Figure size 1000x600 with 1 Axes>"
      ]
     },
     "metadata": {},
     "output_type": "display_data"
    }
   ],
   "source": [
    "plt.figure(figsize=(10,6))\n",
    "sns.barplot(data = hd, x = 'City', y = 'Rent', hue = 'Furnishing Status')"
   ]
  },
  {
   "cell_type": "code",
   "execution_count": 504,
   "id": "652f8ae8",
   "metadata": {},
   "outputs": [
    {
     "data": {
      "text/plain": [
       "<Axes: xlabel='City', ylabel='Rent'>"
      ]
     },
     "execution_count": 504,
     "metadata": {},
     "output_type": "execute_result"
    },
    {
     "data": {
      "image/png": "[encoded data removed]",
      "text/plain": [
       "<Figure size 1000x600 with 1 Axes>"
      ]
     },
     "metadata": {},
     "output_type": "display_data"
    }
   ],
   "source": [
    "plt.figure(figsize=(10,6))\n",
    "sns.barplot(data = hd, x = 'City', y = 'Rent', hue = 'BHK')"
   ]
  },
  {
   "cell_type": "code",
   "execution_count": 505,
   "id": "b27f142f",
   "metadata": {},
   "outputs": [
    {
     "data": {
      "text/html": [
       "<div>\n",
       "<style scoped>\n",
       "    .dataframe tbody tr th:only-of-type {\n",
       "        vertical-align: middle;\n",
       "    }\n",
       "\n",
       "    .dataframe tbody tr th {\n",
       "        vertical-align: top;\n",
       "    }\n",
       "\n",
       "    .dataframe thead th {\n",
       "        text-align: right;\n",
       "    }\n",
       "</style>\n",
       "<table border=\"1\" class=\"dataframe\">\n",
       "  <thead>\n",
       "    <tr style=\"text-align: right;\">\n",
       "      <th></th>\n",
       "      <th>Posted On</th>\n",
       "      <th>BHK</th>\n",
       "      <th>Rent</th>\n",
       "      <th>Size</th>\n",
       "      <th>Floor</th>\n",
       "      <th>Area Type</th>\n",
       "      <th>Area Locality</th>\n",
       "      <th>City</th>\n",
       "      <th>Furnishing Status</th>\n",
       "      <th>Tenant Preferred</th>\n",
       "      <th>Bathroom</th>\n",
       "      <th>Point of Contact</th>\n",
       "    </tr>\n",
       "  </thead>\n",
       "  <tbody>\n",
       "    <tr>\n",
       "      <th>83</th>\n",
       "      <td>2022-06-21</td>\n",
       "      <td>6</td>\n",
       "      <td>20000</td>\n",
       "      <td>1000</td>\n",
       "      <td>1 out of 1</td>\n",
       "      <td>Super Area</td>\n",
       "      <td>Sonarpur</td>\n",
       "      <td>Kolkata</td>\n",
       "      <td>Semi-Furnished</td>\n",
       "      <td>Bachelors/Family</td>\n",
       "      <td>2</td>\n",
       "      <td>Contact Owner</td>\n",
       "    </tr>\n",
       "    <tr>\n",
       "      <th>3584</th>\n",
       "      <td>2022-06-02</td>\n",
       "      <td>6</td>\n",
       "      <td>60000</td>\n",
       "      <td>1800</td>\n",
       "      <td>1 out of 3</td>\n",
       "      <td>Super Area</td>\n",
       "      <td>Besant Nagar</td>\n",
       "      <td>Chennai</td>\n",
       "      <td>Furnished</td>\n",
       "      <td>Bachelors/Family</td>\n",
       "      <td>6</td>\n",
       "      <td>Contact Owner</td>\n",
       "    </tr>\n",
       "    <tr>\n",
       "      <th>4350</th>\n",
       "      <td>2022-06-18</td>\n",
       "      <td>6</td>\n",
       "      <td>60000</td>\n",
       "      <td>2800</td>\n",
       "      <td>Ground out of 3</td>\n",
       "      <td>Super Area</td>\n",
       "      <td>Boduppal, NH 2 2</td>\n",
       "      <td>Hyderabad</td>\n",
       "      <td>Furnished</td>\n",
       "      <td>Bachelors/Family</td>\n",
       "      <td>7</td>\n",
       "      <td>Contact Owner</td>\n",
       "    </tr>\n",
       "    <tr>\n",
       "      <th>4479</th>\n",
       "      <td>2022-07-07</td>\n",
       "      <td>6</td>\n",
       "      <td>20000</td>\n",
       "      <td>2400</td>\n",
       "      <td>Ground out of 1</td>\n",
       "      <td>Super Area</td>\n",
       "      <td>Mallikarjuna Nagar, Secunderabad</td>\n",
       "      <td>Hyderabad</td>\n",
       "      <td>Unfurnished</td>\n",
       "      <td>Family</td>\n",
       "      <td>4</td>\n",
       "      <td>Contact Owner</td>\n",
       "    </tr>\n",
       "    <tr>\n",
       "      <th>4518</th>\n",
       "      <td>2022-05-12</td>\n",
       "      <td>6</td>\n",
       "      <td>35000</td>\n",
       "      <td>3400</td>\n",
       "      <td>Ground out of 2</td>\n",
       "      <td>Super Area</td>\n",
       "      <td>Rampally</td>\n",
       "      <td>Hyderabad</td>\n",
       "      <td>Unfurnished</td>\n",
       "      <td>Bachelors/Family</td>\n",
       "      <td>7</td>\n",
       "      <td>Contact Owner</td>\n",
       "    </tr>\n",
       "    <tr>\n",
       "      <th>4648</th>\n",
       "      <td>2022-07-06</td>\n",
       "      <td>6</td>\n",
       "      <td>80000</td>\n",
       "      <td>4500</td>\n",
       "      <td>1 out of 2</td>\n",
       "      <td>Super Area</td>\n",
       "      <td>Kakateeya Nagar, Secunderabad</td>\n",
       "      <td>Hyderabad</td>\n",
       "      <td>Semi-Furnished</td>\n",
       "      <td>Bachelors/Family</td>\n",
       "      <td>6</td>\n",
       "      <td>Contact Owner</td>\n",
       "    </tr>\n",
       "    <tr>\n",
       "      <th>4696</th>\n",
       "      <td>2022-07-06</td>\n",
       "      <td>6</td>\n",
       "      <td>30000</td>\n",
       "      <td>4200</td>\n",
       "      <td>Ground out of 2</td>\n",
       "      <td>Super Area</td>\n",
       "      <td>Kuntloor</td>\n",
       "      <td>Hyderabad</td>\n",
       "      <td>Semi-Furnished</td>\n",
       "      <td>Bachelors/Family</td>\n",
       "      <td>5</td>\n",
       "      <td>Contact Owner</td>\n",
       "    </tr>\n",
       "  </tbody>\n",
       "</table>\n",
       "</div>"
      ],
      "text/plain": [
       "       Posted On  BHK   Rent  Size            Floor   Area Type  \\\n",
       "83    2022-06-21    6  20000  1000       1 out of 1  Super Area   \n",
       "3584  2022-06-02    6  60000  1800       1 out of 3  Super Area   \n",
       "4350  2022-06-18    6  60000  2800  Ground out of 3  Super Area   \n",
       "4479  2022-07-07    6  20000  2400  Ground out of 1  Super Area   \n",
       "4518  2022-05-12    6  35000  3400  Ground out of 2  Super Area   \n",
       "4648  2022-07-06    6  80000  4500       1 out of 2  Super Area   \n",
       "4696  2022-07-06    6  30000  4200  Ground out of 2  Super Area   \n",
       "\n",
       "                         Area Locality       City Furnishing Status  \\\n",
       "83                            Sonarpur    Kolkata    Semi-Furnished   \n",
       "3584                      Besant Nagar    Chennai         Furnished   \n",
       "4350                  Boduppal, NH 2 2  Hyderabad         Furnished   \n",
       "4479  Mallikarjuna Nagar, Secunderabad  Hyderabad       Unfurnished   \n",
       "4518                          Rampally  Hyderabad       Unfurnished   \n",
       "4648     Kakateeya Nagar, Secunderabad  Hyderabad    Semi-Furnished   \n",
       "4696                          Kuntloor  Hyderabad    Semi-Furnished   \n",
       "\n",
       "      Tenant Preferred  Bathroom Point of Contact  \n",
       "83    Bachelors/Family         2    Contact Owner  \n",
       "3584  Bachelors/Family         6    Contact Owner  \n",
       "4350  Bachelors/Family         7    Contact Owner  \n",
       "4479            Family         4    Contact Owner  \n",
       "4518  Bachelors/Family         7    Contact Owner  \n",
       "4648  Bachelors/Family         6    Contact Owner  \n",
       "4696  Bachelors/Family         5    Contact Owner  "
      ]
     },
     "execution_count": 505,
     "metadata": {},
     "output_type": "execute_result"
    }
   ],
   "source": [
    "hd[hd['BHK'] == 6]"
   ]
  },
  {
   "cell_type": "code",
   "execution_count": 506,
   "id": "f3f1b0d3",
   "metadata": {},
   "outputs": [
    {
     "data": {
      "text/plain": [
       "<Axes: xlabel='City', ylabel='Rent'>"
      ]
     },
     "execution_count": 506,
     "metadata": {},
     "output_type": "execute_result"
    },
    {
     "data": {
      "image/png": "[encoded data removed]",
      "text/plain": [
       "<Figure size 1000x600 with 1 Axes>"
      ]
     },
     "metadata": {},
     "output_type": "display_data"
    }
   ],
   "source": [
    "plt.figure(figsize=(10,6))\n",
    "sns.barplot(data = hd, x = 'City', y = 'Rent', hue = 'Tenant Preferred')"
   ]
  },
  {
   "cell_type": "code",
   "execution_count": 507,
   "id": "ab18098e",
   "metadata": {},
   "outputs": [
    {
     "data": {
      "text/plain": [
       "Bathroom\n",
       "2     2285\n",
       "1     1474\n",
       "3      732\n",
       "4      116\n",
       "5       28\n",
       "6        8\n",
       "7        3\n",
       "10       1\n",
       "Name: count, dtype: int64"
      ]
     },
     "execution_count": 507,
     "metadata": {},
     "output_type": "execute_result"
    }
   ],
   "source": [
    "hd['Bathroom'].value_counts()"
   ]
  },
  {
   "cell_type": "code",
   "execution_count": 508,
   "id": "65a5d15c",
   "metadata": {},
   "outputs": [
    {
     "data": {
      "text/html": [
       "<div>\n",
       "<style scoped>\n",
       "    .dataframe tbody tr th:only-of-type {\n",
       "        vertical-align: middle;\n",
       "    }\n",
       "\n",
       "    .dataframe tbody tr th {\n",
       "        vertical-align: top;\n",
       "    }\n",
       "\n",
       "    .dataframe thead th {\n",
       "        text-align: right;\n",
       "    }\n",
       "</style>\n",
       "<table border=\"1\" class=\"dataframe\">\n",
       "  <thead>\n",
       "    <tr style=\"text-align: right;\">\n",
       "      <th></th>\n",
       "      <th>BHK</th>\n",
       "      <th>Rent</th>\n",
       "      <th>Size</th>\n",
       "      <th>Bathroom</th>\n",
       "    </tr>\n",
       "  </thead>\n",
       "  <tbody>\n",
       "    <tr>\n",
       "      <th>count</th>\n",
       "      <td>4647.000000</td>\n",
       "      <td>4647.000000</td>\n",
       "      <td>4647.000000</td>\n",
       "      <td>4647.000000</td>\n",
       "    </tr>\n",
       "    <tr>\n",
       "      <th>mean</th>\n",
       "      <td>2.047558</td>\n",
       "      <td>27720.877986</td>\n",
       "      <td>935.207661</td>\n",
       "      <td>1.920164</td>\n",
       "    </tr>\n",
       "    <tr>\n",
       "      <th>std</th>\n",
       "      <td>0.795284</td>\n",
       "      <td>31960.289864</td>\n",
       "      <td>581.327095</td>\n",
       "      <td>0.824634</td>\n",
       "    </tr>\n",
       "    <tr>\n",
       "      <th>min</th>\n",
       "      <td>1.000000</td>\n",
       "      <td>1200.000000</td>\n",
       "      <td>10.000000</td>\n",
       "      <td>1.000000</td>\n",
       "    </tr>\n",
       "    <tr>\n",
       "      <th>25%</th>\n",
       "      <td>1.000000</td>\n",
       "      <td>10000.000000</td>\n",
       "      <td>550.000000</td>\n",
       "      <td>1.000000</td>\n",
       "    </tr>\n",
       "    <tr>\n",
       "      <th>50%</th>\n",
       "      <td>2.000000</td>\n",
       "      <td>15000.000000</td>\n",
       "      <td>825.000000</td>\n",
       "      <td>2.000000</td>\n",
       "    </tr>\n",
       "    <tr>\n",
       "      <th>75%</th>\n",
       "      <td>3.000000</td>\n",
       "      <td>30000.000000</td>\n",
       "      <td>1200.000000</td>\n",
       "      <td>2.000000</td>\n",
       "    </tr>\n",
       "    <tr>\n",
       "      <th>max</th>\n",
       "      <td>6.000000</td>\n",
       "      <td>200000.000000</td>\n",
       "      <td>8000.000000</td>\n",
       "      <td>10.000000</td>\n",
       "    </tr>\n",
       "  </tbody>\n",
       "</table>\n",
       "</div>"
      ],
      "text/plain": [
       "               BHK           Rent         Size     Bathroom\n",
       "count  4647.000000    4647.000000  4647.000000  4647.000000\n",
       "mean      2.047558   27720.877986   935.207661     1.920164\n",
       "std       0.795284   31960.289864   581.327095     0.824634\n",
       "min       1.000000    1200.000000    10.000000     1.000000\n",
       "25%       1.000000   10000.000000   550.000000     1.000000\n",
       "50%       2.000000   15000.000000   825.000000     2.000000\n",
       "75%       3.000000   30000.000000  1200.000000     2.000000\n",
       "max       6.000000  200000.000000  8000.000000    10.000000"
      ]
     },
     "execution_count": 508,
     "metadata": {},
     "output_type": "execute_result"
    }
   ],
   "source": [
    "hd.describe()"
   ]
  },
  {
   "cell_type": "markdown",
   "id": "22da5eed",
   "metadata": {},
   "source": [
    "### Create Copy and drop unwanted columns"
   ]
  },
  {
   "cell_type": "code",
   "execution_count": 509,
   "id": "1333916d",
   "metadata": {},
   "outputs": [],
   "source": [
    "hd1 = hd.copy()"
   ]
  },
  {
   "cell_type": "code",
   "execution_count": 510,
   "id": "7deeef80",
   "metadata": {},
   "outputs": [
    {
     "data": {
      "text/html": [
       "<div>\n",
       "<style scoped>\n",
       "    .dataframe tbody tr th:only-of-type {\n",
       "        vertical-align: middle;\n",
       "    }\n",
       "\n",
       "    .dataframe tbody tr th {\n",
       "        vertical-align: top;\n",
       "    }\n",
       "\n",
       "    .dataframe thead th {\n",
       "        text-align: right;\n",
       "    }\n",
       "</style>\n",
       "<table border=\"1\" class=\"dataframe\">\n",
       "  <thead>\n",
       "    <tr style=\"text-align: right;\">\n",
       "      <th></th>\n",
       "      <th>Posted On</th>\n",
       "      <th>BHK</th>\n",
       "      <th>Rent</th>\n",
       "      <th>Size</th>\n",
       "      <th>Floor</th>\n",
       "      <th>Area Type</th>\n",
       "      <th>Area Locality</th>\n",
       "      <th>City</th>\n",
       "      <th>Furnishing Status</th>\n",
       "      <th>Tenant Preferred</th>\n",
       "      <th>Bathroom</th>\n",
       "      <th>Point of Contact</th>\n",
       "    </tr>\n",
       "  </thead>\n",
       "  <tbody>\n",
       "    <tr>\n",
       "      <th>3939</th>\n",
       "      <td>2022-05-29</td>\n",
       "      <td>3</td>\n",
       "      <td>20000</td>\n",
       "      <td>1400</td>\n",
       "      <td>3 out of 4</td>\n",
       "      <td>Super Area</td>\n",
       "      <td>Narayanaguda</td>\n",
       "      <td>Hyderabad</td>\n",
       "      <td>Semi-Furnished</td>\n",
       "      <td>Family</td>\n",
       "      <td>3</td>\n",
       "      <td>Contact Owner</td>\n",
       "    </tr>\n",
       "    <tr>\n",
       "      <th>151</th>\n",
       "      <td>2022-05-13</td>\n",
       "      <td>1</td>\n",
       "      <td>3500</td>\n",
       "      <td>250</td>\n",
       "      <td>1 out of 2</td>\n",
       "      <td>Super Area</td>\n",
       "      <td>Phool Bagan, Kankurgachi</td>\n",
       "      <td>Kolkata</td>\n",
       "      <td>Furnished</td>\n",
       "      <td>Bachelors/Family</td>\n",
       "      <td>1</td>\n",
       "      <td>Contact Owner</td>\n",
       "    </tr>\n",
       "    <tr>\n",
       "      <th>2565</th>\n",
       "      <td>2022-05-23</td>\n",
       "      <td>2</td>\n",
       "      <td>12000</td>\n",
       "      <td>950</td>\n",
       "      <td>2 out of 3</td>\n",
       "      <td>Super Area</td>\n",
       "      <td>Chanakya Place, Sitapuri</td>\n",
       "      <td>Delhi</td>\n",
       "      <td>Unfurnished</td>\n",
       "      <td>Bachelors/Family</td>\n",
       "      <td>2</td>\n",
       "      <td>Contact Owner</td>\n",
       "    </tr>\n",
       "    <tr>\n",
       "      <th>951</th>\n",
       "      <td>2022-06-10</td>\n",
       "      <td>2</td>\n",
       "      <td>180000</td>\n",
       "      <td>1000</td>\n",
       "      <td>6 out of 10</td>\n",
       "      <td>Carpet Area</td>\n",
       "      <td>Bandra West</td>\n",
       "      <td>Mumbai</td>\n",
       "      <td>Semi-Furnished</td>\n",
       "      <td>Bachelors</td>\n",
       "      <td>3</td>\n",
       "      <td>Contact Agent</td>\n",
       "    </tr>\n",
       "    <tr>\n",
       "      <th>3186</th>\n",
       "      <td>2022-06-29</td>\n",
       "      <td>2</td>\n",
       "      <td>7500</td>\n",
       "      <td>750</td>\n",
       "      <td>Ground out of 2</td>\n",
       "      <td>Carpet Area</td>\n",
       "      <td>Oragadam</td>\n",
       "      <td>Chennai</td>\n",
       "      <td>Semi-Furnished</td>\n",
       "      <td>Bachelors/Family</td>\n",
       "      <td>1</td>\n",
       "      <td>Contact Owner</td>\n",
       "    </tr>\n",
       "  </tbody>\n",
       "</table>\n",
       "</div>"
      ],
      "text/plain": [
       "       Posted On  BHK    Rent  Size            Floor    Area Type  \\\n",
       "3939  2022-05-29    3   20000  1400       3 out of 4   Super Area   \n",
       "151   2022-05-13    1    3500   250       1 out of 2   Super Area   \n",
       "2565  2022-05-23    2   12000   950       2 out of 3   Super Area   \n",
       "951   2022-06-10    2  180000  1000      6 out of 10  Carpet Area   \n",
       "3186  2022-06-29    2    7500   750  Ground out of 2  Carpet Area   \n",
       "\n",
       "                 Area Locality       City Furnishing Status  Tenant Preferred  \\\n",
       "3939              Narayanaguda  Hyderabad    Semi-Furnished            Family   \n",
       "151   Phool Bagan, Kankurgachi    Kolkata         Furnished  Bachelors/Family   \n",
       "2565  Chanakya Place, Sitapuri      Delhi       Unfurnished  Bachelors/Family   \n",
       "951                Bandra West     Mumbai    Semi-Furnished         Bachelors   \n",
       "3186                  Oragadam    Chennai    Semi-Furnished  Bachelors/Family   \n",
       "\n",
       "      Bathroom Point of Contact  \n",
       "3939         3    Contact Owner  \n",
       "151          1    Contact Owner  \n",
       "2565         2    Contact Owner  \n",
       "951          3    Contact Agent  \n",
       "3186         1    Contact Owner  "
      ]
     },
     "execution_count": 510,
     "metadata": {},
     "output_type": "execute_result"
    }
   ],
   "source": [
    "hd1.sample(5)"
   ]
  },
  {
   "cell_type": "code",
   "execution_count": 511,
   "id": "b94519f6",
   "metadata": {},
   "outputs": [],
   "source": [
    "drop_col = ['Posted On', 'Floor', 'Area Locality', 'Point of Contact']\n",
    "hd1.drop(columns=drop_col, inplace = True)"
   ]
  },
  {
   "cell_type": "code",
   "execution_count": 512,
   "id": "2712e3ba",
   "metadata": {},
   "outputs": [],
   "source": [
    "hd1 = hd1[hd1['Area Type'] != 'Built Area']"
   ]
  },
  {
   "cell_type": "code",
   "execution_count": 513,
   "id": "a9e53410",
   "metadata": {},
   "outputs": [
    {
     "data": {
      "text/html": [
       "<div>\n",
       "<style scoped>\n",
       "    .dataframe tbody tr th:only-of-type {\n",
       "        vertical-align: middle;\n",
       "    }\n",
       "\n",
       "    .dataframe tbody tr th {\n",
       "        vertical-align: top;\n",
       "    }\n",
       "\n",
       "    .dataframe thead th {\n",
       "        text-align: right;\n",
       "    }\n",
       "</style>\n",
       "<table border=\"1\" class=\"dataframe\">\n",
       "  <thead>\n",
       "    <tr style=\"text-align: right;\">\n",
       "      <th></th>\n",
       "      <th>BHK</th>\n",
       "      <th>Rent</th>\n",
       "      <th>Size</th>\n",
       "      <th>Area Type</th>\n",
       "      <th>City</th>\n",
       "      <th>Furnishing Status</th>\n",
       "      <th>Tenant Preferred</th>\n",
       "      <th>Bathroom</th>\n",
       "    </tr>\n",
       "  </thead>\n",
       "  <tbody>\n",
       "    <tr>\n",
       "      <th>1987</th>\n",
       "      <td>1</td>\n",
       "      <td>7000</td>\n",
       "      <td>500</td>\n",
       "      <td>Super Area</td>\n",
       "      <td>Bangalore</td>\n",
       "      <td>Unfurnished</td>\n",
       "      <td>Bachelors/Family</td>\n",
       "      <td>1</td>\n",
       "    </tr>\n",
       "    <tr>\n",
       "      <th>2799</th>\n",
       "      <td>2</td>\n",
       "      <td>14000</td>\n",
       "      <td>800</td>\n",
       "      <td>Super Area</td>\n",
       "      <td>Delhi</td>\n",
       "      <td>Unfurnished</td>\n",
       "      <td>Bachelors/Family</td>\n",
       "      <td>2</td>\n",
       "    </tr>\n",
       "    <tr>\n",
       "      <th>970</th>\n",
       "      <td>2</td>\n",
       "      <td>42000</td>\n",
       "      <td>745</td>\n",
       "      <td>Carpet Area</td>\n",
       "      <td>Mumbai</td>\n",
       "      <td>Semi-Furnished</td>\n",
       "      <td>Bachelors/Family</td>\n",
       "      <td>2</td>\n",
       "    </tr>\n",
       "    <tr>\n",
       "      <th>4362</th>\n",
       "      <td>3</td>\n",
       "      <td>15000</td>\n",
       "      <td>1100</td>\n",
       "      <td>Carpet Area</td>\n",
       "      <td>Hyderabad</td>\n",
       "      <td>Semi-Furnished</td>\n",
       "      <td>Bachelors/Family</td>\n",
       "      <td>2</td>\n",
       "    </tr>\n",
       "    <tr>\n",
       "      <th>3616</th>\n",
       "      <td>2</td>\n",
       "      <td>30000</td>\n",
       "      <td>900</td>\n",
       "      <td>Carpet Area</td>\n",
       "      <td>Chennai</td>\n",
       "      <td>Semi-Furnished</td>\n",
       "      <td>Bachelors/Family</td>\n",
       "      <td>2</td>\n",
       "    </tr>\n",
       "  </tbody>\n",
       "</table>\n",
       "</div>"
      ],
      "text/plain": [
       "      BHK   Rent  Size    Area Type       City Furnishing Status  \\\n",
       "1987    1   7000   500   Super Area  Bangalore       Unfurnished   \n",
       "2799    2  14000   800   Super Area      Delhi       Unfurnished   \n",
       "970     2  42000   745  Carpet Area     Mumbai    Semi-Furnished   \n",
       "4362    3  15000  1100  Carpet Area  Hyderabad    Semi-Furnished   \n",
       "3616    2  30000   900  Carpet Area    Chennai    Semi-Furnished   \n",
       "\n",
       "      Tenant Preferred  Bathroom  \n",
       "1987  Bachelors/Family         1  \n",
       "2799  Bachelors/Family         2  \n",
       "970   Bachelors/Family         2  \n",
       "4362  Bachelors/Family         2  \n",
       "3616  Bachelors/Family         2  "
      ]
     },
     "execution_count": 513,
     "metadata": {},
     "output_type": "execute_result"
    }
   ],
   "source": [
    "hd1.sample(5)"
   ]
  },
  {
   "cell_type": "markdown",
   "id": "c6c0a613",
   "metadata": {},
   "source": [
    "### Data Scaling"
   ]
  },
  {
   "cell_type": "code",
   "execution_count": 514,
   "id": "1ccf5b62",
   "metadata": {},
   "outputs": [
    {
     "name": "stdout",
     "output_type": "stream",
     "text": [
      "['Unfurnished' 'Semi-Furnished' 'Furnished']\n",
      "['Super Area' 'Carpet Area']\n",
      "['Bachelors/Family' 'Bachelors' 'Family']\n"
     ]
    }
   ],
   "source": [
    "print(hd1['Furnishing Status'].unique())\n",
    "print(hd1['Area Type'].unique())\n",
    "print(hd1['Tenant Preferred'].unique())"
   ]
  },
  {
   "cell_type": "code",
   "execution_count": 515,
   "id": "a2b9c2b9",
   "metadata": {},
   "outputs": [],
   "source": [
    "hd1['Furnishing Status'] = hd1['Furnishing Status'].replace(['Furnished', 'Semi-Furnished','Unfurnished'], [2, 1, 0])\n",
    "hd1['Area Type'] = hd1['Area Type'].replace(['Super Area','Carpet Area'],[1,0])\n",
    "hd1['Tenant Preferred'] = hd1['Tenant Preferred'].replace(['Bachelors/Family', 'Bachelors', 'Family'],[2, 1, 0])"
   ]
  },
  {
   "cell_type": "code",
   "execution_count": 516,
   "id": "b436c13e",
   "metadata": {},
   "outputs": [
    {
     "name": "stdout",
     "output_type": "stream",
     "text": [
      "[0 1 2]\n",
      "[1 0]\n",
      "[2 1 0]\n"
     ]
    }
   ],
   "source": [
    "print(hd1['Furnishing Status'].unique())\n",
    "print(hd1['Area Type'].unique())\n",
    "print(hd1['Tenant Preferred'].unique())"
   ]
  },
  {
   "cell_type": "code",
   "execution_count": 517,
   "id": "303ec271",
   "metadata": {},
   "outputs": [
    {
     "data": {
      "text/plain": [
       "array(['Kolkata', 'Mumbai', 'Bangalore', 'Delhi', 'Chennai', 'Hyderabad'],\n",
       "      dtype=object)"
      ]
     },
     "execution_count": 517,
     "metadata": {},
     "output_type": "execute_result"
    }
   ],
   "source": [
    "hd1['City'].unique()"
   ]
  },
  {
   "cell_type": "code",
   "execution_count": 518,
   "id": "0ef922bb",
   "metadata": {},
   "outputs": [
    {
     "data": {
      "text/html": [
       "<div>\n",
       "<style scoped>\n",
       "    .dataframe tbody tr th:only-of-type {\n",
       "        vertical-align: middle;\n",
       "    }\n",
       "\n",
       "    .dataframe tbody tr th {\n",
       "        vertical-align: top;\n",
       "    }\n",
       "\n",
       "    .dataframe thead th {\n",
       "        text-align: right;\n",
       "    }\n",
       "</style>\n",
       "<table border=\"1\" class=\"dataframe\">\n",
       "  <thead>\n",
       "    <tr style=\"text-align: right;\">\n",
       "      <th></th>\n",
       "      <th>BHK</th>\n",
       "      <th>Rent</th>\n",
       "      <th>Size</th>\n",
       "      <th>Area Type</th>\n",
       "      <th>City</th>\n",
       "      <th>Furnishing Status</th>\n",
       "      <th>Tenant Preferred</th>\n",
       "      <th>Bathroom</th>\n",
       "    </tr>\n",
       "  </thead>\n",
       "  <tbody>\n",
       "    <tr>\n",
       "      <th>0</th>\n",
       "      <td>2</td>\n",
       "      <td>10000</td>\n",
       "      <td>1100</td>\n",
       "      <td>1</td>\n",
       "      <td>Kolkata</td>\n",
       "      <td>0</td>\n",
       "      <td>2</td>\n",
       "      <td>2</td>\n",
       "    </tr>\n",
       "    <tr>\n",
       "      <th>1</th>\n",
       "      <td>2</td>\n",
       "      <td>20000</td>\n",
       "      <td>800</td>\n",
       "      <td>1</td>\n",
       "      <td>Kolkata</td>\n",
       "      <td>1</td>\n",
       "      <td>2</td>\n",
       "      <td>1</td>\n",
       "    </tr>\n",
       "    <tr>\n",
       "      <th>2</th>\n",
       "      <td>2</td>\n",
       "      <td>17000</td>\n",
       "      <td>1000</td>\n",
       "      <td>1</td>\n",
       "      <td>Kolkata</td>\n",
       "      <td>1</td>\n",
       "      <td>2</td>\n",
       "      <td>1</td>\n",
       "    </tr>\n",
       "    <tr>\n",
       "      <th>3</th>\n",
       "      <td>2</td>\n",
       "      <td>10000</td>\n",
       "      <td>800</td>\n",
       "      <td>1</td>\n",
       "      <td>Kolkata</td>\n",
       "      <td>0</td>\n",
       "      <td>2</td>\n",
       "      <td>1</td>\n",
       "    </tr>\n",
       "    <tr>\n",
       "      <th>4</th>\n",
       "      <td>2</td>\n",
       "      <td>7500</td>\n",
       "      <td>850</td>\n",
       "      <td>0</td>\n",
       "      <td>Kolkata</td>\n",
       "      <td>0</td>\n",
       "      <td>1</td>\n",
       "      <td>1</td>\n",
       "    </tr>\n",
       "  </tbody>\n",
       "</table>\n",
       "</div>"
      ],
      "text/plain": [
       "   BHK   Rent  Size  Area Type     City  Furnishing Status  Tenant Preferred  \\\n",
       "0    2  10000  1100          1  Kolkata                  0                 2   \n",
       "1    2  20000   800          1  Kolkata                  1                 2   \n",
       "2    2  17000  1000          1  Kolkata                  1                 2   \n",
       "3    2  10000   800          1  Kolkata                  0                 2   \n",
       "4    2   7500   850          0  Kolkata                  0                 1   \n",
       "\n",
       "   Bathroom  \n",
       "0         2  \n",
       "1         1  \n",
       "2         1  \n",
       "3         1  \n",
       "4         1  "
      ]
     },
     "execution_count": 518,
     "metadata": {},
     "output_type": "execute_result"
    }
   ],
   "source": [
    "hd1.head()"
   ]
  },
  {
   "cell_type": "code",
   "execution_count": 519,
   "id": "e8f52742",
   "metadata": {},
   "outputs": [],
   "source": [
    "hd1['City'] = hd1['City'].astype('category')\n",
    "all_cat = hd1['City'].unique()\n",
    "encoder = LabelEncoder()\n",
    "encoder.fit(all_cat)\n",
    "hd1['City'] = encoder.transform(hd1['City'])"
   ]
  },
  {
   "cell_type": "code",
   "execution_count": 520,
   "id": "0b6a0122",
   "metadata": {},
   "outputs": [
    {
     "data": {
      "text/plain": [
       "array([4, 5, 0, 2, 1, 3])"
      ]
     },
     "execution_count": 520,
     "metadata": {},
     "output_type": "execute_result"
    }
   ],
   "source": [
    "hd1['City'].unique()"
   ]
  },
  {
   "cell_type": "code",
   "execution_count": 521,
   "id": "1f392d73",
   "metadata": {},
   "outputs": [
    {
     "data": {
      "text/html": [
       "<div>\n",
       "<style scoped>\n",
       "    .dataframe tbody tr th:only-of-type {\n",
       "        vertical-align: middle;\n",
       "    }\n",
       "\n",
       "    .dataframe tbody tr th {\n",
       "        vertical-align: top;\n",
       "    }\n",
       "\n",
       "    .dataframe thead th {\n",
       "        text-align: right;\n",
       "    }\n",
       "</style>\n",
       "<table border=\"1\" class=\"dataframe\">\n",
       "  <thead>\n",
       "    <tr style=\"text-align: right;\">\n",
       "      <th></th>\n",
       "      <th>BHK</th>\n",
       "      <th>Rent</th>\n",
       "      <th>Size</th>\n",
       "      <th>Area Type</th>\n",
       "      <th>City</th>\n",
       "      <th>Furnishing Status</th>\n",
       "      <th>Tenant Preferred</th>\n",
       "      <th>Bathroom</th>\n",
       "    </tr>\n",
       "  </thead>\n",
       "  <tbody>\n",
       "    <tr>\n",
       "      <th>0</th>\n",
       "      <td>2</td>\n",
       "      <td>10000</td>\n",
       "      <td>1100</td>\n",
       "      <td>1</td>\n",
       "      <td>4</td>\n",
       "      <td>0</td>\n",
       "      <td>2</td>\n",
       "      <td>2</td>\n",
       "    </tr>\n",
       "    <tr>\n",
       "      <th>1</th>\n",
       "      <td>2</td>\n",
       "      <td>20000</td>\n",
       "      <td>800</td>\n",
       "      <td>1</td>\n",
       "      <td>4</td>\n",
       "      <td>1</td>\n",
       "      <td>2</td>\n",
       "      <td>1</td>\n",
       "    </tr>\n",
       "    <tr>\n",
       "      <th>2</th>\n",
       "      <td>2</td>\n",
       "      <td>17000</td>\n",
       "      <td>1000</td>\n",
       "      <td>1</td>\n",
       "      <td>4</td>\n",
       "      <td>1</td>\n",
       "      <td>2</td>\n",
       "      <td>1</td>\n",
       "    </tr>\n",
       "    <tr>\n",
       "      <th>3</th>\n",
       "      <td>2</td>\n",
       "      <td>10000</td>\n",
       "      <td>800</td>\n",
       "      <td>1</td>\n",
       "      <td>4</td>\n",
       "      <td>0</td>\n",
       "      <td>2</td>\n",
       "      <td>1</td>\n",
       "    </tr>\n",
       "    <tr>\n",
       "      <th>4</th>\n",
       "      <td>2</td>\n",
       "      <td>7500</td>\n",
       "      <td>850</td>\n",
       "      <td>0</td>\n",
       "      <td>4</td>\n",
       "      <td>0</td>\n",
       "      <td>1</td>\n",
       "      <td>1</td>\n",
       "    </tr>\n",
       "  </tbody>\n",
       "</table>\n",
       "</div>"
      ],
      "text/plain": [
       "   BHK   Rent  Size  Area Type  City  Furnishing Status  Tenant Preferred  \\\n",
       "0    2  10000  1100          1     4                  0                 2   \n",
       "1    2  20000   800          1     4                  1                 2   \n",
       "2    2  17000  1000          1     4                  1                 2   \n",
       "3    2  10000   800          1     4                  0                 2   \n",
       "4    2   7500   850          0     4                  0                 1   \n",
       "\n",
       "   Bathroom  \n",
       "0         2  \n",
       "1         1  \n",
       "2         1  \n",
       "3         1  \n",
       "4         1  "
      ]
     },
     "execution_count": 521,
     "metadata": {},
     "output_type": "execute_result"
    }
   ],
   "source": [
    "hd1.head()"
   ]
  },
  {
   "cell_type": "markdown",
   "id": "e052c360",
   "metadata": {},
   "source": [
    "Scaling 'Size' Column using MinMax or Standardization"
   ]
  },
  {
   "cell_type": "code",
   "execution_count": 522,
   "id": "6f8de23b",
   "metadata": {},
   "outputs": [],
   "source": [
    "hd2 = hd1.copy()"
   ]
  },
  {
   "cell_type": "code",
   "execution_count": 523,
   "id": "4c71df48",
   "metadata": {},
   "outputs": [
    {
     "data": {
      "text/html": [
       "<div>\n",
       "<style scoped>\n",
       "    .dataframe tbody tr th:only-of-type {\n",
       "        vertical-align: middle;\n",
       "    }\n",
       "\n",
       "    .dataframe tbody tr th {\n",
       "        vertical-align: top;\n",
       "    }\n",
       "\n",
       "    .dataframe thead th {\n",
       "        text-align: right;\n",
       "    }\n",
       "</style>\n",
       "<table border=\"1\" class=\"dataframe\">\n",
       "  <thead>\n",
       "    <tr style=\"text-align: right;\">\n",
       "      <th></th>\n",
       "      <th>BHK</th>\n",
       "      <th>Rent</th>\n",
       "      <th>Size</th>\n",
       "      <th>Area Type</th>\n",
       "      <th>City</th>\n",
       "      <th>Furnishing Status</th>\n",
       "      <th>Tenant Preferred</th>\n",
       "      <th>Bathroom</th>\n",
       "    </tr>\n",
       "  </thead>\n",
       "  <tbody>\n",
       "    <tr>\n",
       "      <th>0</th>\n",
       "      <td>2</td>\n",
       "      <td>10000</td>\n",
       "      <td>1100</td>\n",
       "      <td>1</td>\n",
       "      <td>4</td>\n",
       "      <td>0</td>\n",
       "      <td>2</td>\n",
       "      <td>2</td>\n",
       "    </tr>\n",
       "    <tr>\n",
       "      <th>1</th>\n",
       "      <td>2</td>\n",
       "      <td>20000</td>\n",
       "      <td>800</td>\n",
       "      <td>1</td>\n",
       "      <td>4</td>\n",
       "      <td>1</td>\n",
       "      <td>2</td>\n",
       "      <td>1</td>\n",
       "    </tr>\n",
       "    <tr>\n",
       "      <th>2</th>\n",
       "      <td>2</td>\n",
       "      <td>17000</td>\n",
       "      <td>1000</td>\n",
       "      <td>1</td>\n",
       "      <td>4</td>\n",
       "      <td>1</td>\n",
       "      <td>2</td>\n",
       "      <td>1</td>\n",
       "    </tr>\n",
       "    <tr>\n",
       "      <th>3</th>\n",
       "      <td>2</td>\n",
       "      <td>10000</td>\n",
       "      <td>800</td>\n",
       "      <td>1</td>\n",
       "      <td>4</td>\n",
       "      <td>0</td>\n",
       "      <td>2</td>\n",
       "      <td>1</td>\n",
       "    </tr>\n",
       "    <tr>\n",
       "      <th>4</th>\n",
       "      <td>2</td>\n",
       "      <td>7500</td>\n",
       "      <td>850</td>\n",
       "      <td>0</td>\n",
       "      <td>4</td>\n",
       "      <td>0</td>\n",
       "      <td>1</td>\n",
       "      <td>1</td>\n",
       "    </tr>\n",
       "  </tbody>\n",
       "</table>\n",
       "</div>"
      ],
      "text/plain": [
       "   BHK   Rent  Size  Area Type  City  Furnishing Status  Tenant Preferred  \\\n",
       "0    2  10000  1100          1     4                  0                 2   \n",
       "1    2  20000   800          1     4                  1                 2   \n",
       "2    2  17000  1000          1     4                  1                 2   \n",
       "3    2  10000   800          1     4                  0                 2   \n",
       "4    2   7500   850          0     4                  0                 1   \n",
       "\n",
       "   Bathroom  \n",
       "0         2  \n",
       "1         1  \n",
       "2         1  \n",
       "3         1  \n",
       "4         1  "
      ]
     },
     "execution_count": 523,
     "metadata": {},
     "output_type": "execute_result"
    }
   ],
   "source": [
    "hd2.head()"
   ]
  },
  {
   "cell_type": "code",
   "execution_count": 524,
   "id": "97aa280b",
   "metadata": {},
   "outputs": [],
   "source": [
    "scaler1 = MinMaxScaler()\n",
    "scaler2 = StandardScaler()\n",
    "fin1 = scaler1.fit_transform(hd1[['Size']].values.reshape(-1, 1))\n",
    "fin2 = scaler2.fit_transform(hd2[['Size']].values.reshape(-1, 1))\n",
    "hd1['Size_Scaled_MinMax'] = fin1\n",
    "hd2['Size_Standardized'] = fin2"
   ]
  },
  {
   "cell_type": "code",
   "execution_count": 525,
   "id": "7c6ce591",
   "metadata": {},
   "outputs": [],
   "source": [
    "hd1.drop(columns=['Size'], inplace = True)\n",
    "hd2.drop(columns=['Size'], inplace = True)"
   ]
  },
  {
   "cell_type": "code",
   "execution_count": 526,
   "id": "23bdcd6a",
   "metadata": {},
   "outputs": [],
   "source": [
    "hd1.rename(columns = {'Size_Scaled_MinMax':'Size_MM'}, inplace = True)\n",
    "hd2.rename(columns = {'Size_Standardized':'Size_STD'}, inplace = True)"
   ]
  },
  {
   "cell_type": "code",
   "execution_count": null,
   "id": "ae562869",
   "metadata": {},
   "outputs": [],
   "source": []
  },
  {
   "cell_type": "code",
   "execution_count": null,
   "id": "94622b3b",
   "metadata": {},
   "outputs": [],
   "source": []
  }
 ],
 "metadata": {
  "kernelspec": {
   "display_name": "Python 3 (ipykernel)",
   "language": "python",
   "name": "python3"
  },
  "language_info": {
   "codemirror_mode": {
    "name": "ipython",
    "version": 3
   },
   "file_extension": ".py",
   "mimetype": "text/x-python",
   "name": "python",
   "nbconvert_exporter": "python",
   "pygments_lexer": "ipython3",
   "version": "3.10.13"
  }
 },
 "nbformat": 4,
 "nbformat_minor": 5
}
