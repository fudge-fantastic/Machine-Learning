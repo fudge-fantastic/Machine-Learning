{
 "cells": [
  {
   "cell_type": "markdown",
   "id": "b45ce74d",
   "metadata": {},
   "source": [
    "---\n",
    "# House Rent Prediction\n",
    "---"
   ]
  },
  {
   "cell_type": "markdown",
   "id": "38722ebd",
   "metadata": {},
   "source": [
    "#### Check out the Dataset-Glossory.txt and readme.txt file"
   ]
  },
  {
   "cell_type": "markdown",
   "id": "d5bd7cfc",
   "metadata": {},
   "source": [
    "| Column Name       | Description                                                |\n",
    "|-------------------|------------------------------------------------------------|\n",
    "| BHK               | Number of Bedrooms, Hall, Kitchen                          |\n",
    "| Rent              | Rent of the Houses/Apartments/Flats                        |\n",
    "| Size              | Size of the Houses/Apartments/Flats in Square Feet         |\n",
    "| Floor             | Houses/Apartments/Flats situated in which Floor and Total Number of Floors (Example: Ground out of 2, 3 out of 5, etc.) |\n",
    "| Area Type         | Size of the Houses/Apartments/Flats calculated on either Super Area or Carpet Area or Build Area |\n",
    "| Area Locality     | Locality of the Houses/Apartments/Flats                   |\n",
    "| City              | City where the Houses/Apartments/Flats are Located        |\n",
    "| Furnishing Status | Furnishing Status of the Houses/Apartments/Flats, either it is Furnished or Semi-Furnished or Unfurnished |\n",
    "| Tenant Preferred  | Type of Tenant Preferred by the Owner or Agent            |\n",
    "| Bathroom          | Number of Bathrooms                                       |\n",
    "| Point of Contact  | Whom should you contact for more information regarding the Houses/Apartments/Flats |"
   ]
  },
  {
   "cell_type": "markdown",
   "id": "fe7c83ff",
   "metadata": {},
   "source": [
    "### Import Libraries"
   ]
  },
  {
   "cell_type": "code",
   "execution_count": 373,
   "id": "4acb5dd1",
   "metadata": {},
   "outputs": [],
   "source": [
    "import os\n",
    "import math\n",
    "import pandas as pd\n",
    "import numpy as np\n",
    "import warnings\n",
    "warnings.filterwarnings('ignore')\n",
    "import statistics\n",
    "\n",
    "import matplotlib.pyplot as plt\n",
    "%matplotlib inline\n",
    "import seaborn as sns\n",
    "\n",
    "import keras\n",
    "import tensorflow as tf\n",
    "from sklearn import metrics\n",
    "from scipy.stats import stats\n",
    "from sklearn.model_selection import train_test_split, cross_val_score, GridSearchCV, RandomizedSearchCV\n",
    "from sklearn.svm import SVR\n",
    "from sklearn.tree import DecisionTreeRegressor\n",
    "from sklearn.neighbors import KNeighborsRegressor\n",
    "from sklearn.linear_model import LinearRegression, Lasso, Ridge\n",
    "from sklearn.ensemble import RandomForestRegressor, GradientBoostingRegressor\n",
    "from sklearn.preprocessing import LabelEncoder, MinMaxScaler, StandardScaler\n",
    "from sklearn.metrics import mean_absolute_error, mean_squared_error, r2_score"
   ]
  },
  {
   "cell_type": "code",
   "execution_count": 374,
   "id": "c435457b",
   "metadata": {},
   "outputs": [
    {
     "name": "stdout",
     "output_type": "stream",
     "text": [
      "(rows, columns) : (4746, 12)\n"
     ]
    },
    {
     "data": {
      "text/html": [
       "<div>\n",
       "<style scoped>\n",
       "    .dataframe tbody tr th:only-of-type {\n",
       "        vertical-align: middle;\n",
       "    }\n",
       "\n",
       "    .dataframe tbody tr th {\n",
       "        vertical-align: top;\n",
       "    }\n",
       "\n",
       "    .dataframe thead th {\n",
       "        text-align: right;\n",
       "    }\n",
       "</style>\n",
       "<table border=\"1\" class=\"dataframe\">\n",
       "  <thead>\n",
       "    <tr style=\"text-align: right;\">\n",
       "      <th></th>\n",
       "      <th>Posted On</th>\n",
       "      <th>BHK</th>\n",
       "      <th>Rent</th>\n",
       "      <th>Size</th>\n",
       "      <th>Floor</th>\n",
       "      <th>Area Type</th>\n",
       "      <th>Area Locality</th>\n",
       "      <th>City</th>\n",
       "      <th>Furnishing Status</th>\n",
       "      <th>Tenant Preferred</th>\n",
       "      <th>Bathroom</th>\n",
       "      <th>Point of Contact</th>\n",
       "    </tr>\n",
       "  </thead>\n",
       "  <tbody>\n",
       "    <tr>\n",
       "      <th>3814</th>\n",
       "      <td>2022-06-29</td>\n",
       "      <td>2</td>\n",
       "      <td>10000</td>\n",
       "      <td>650</td>\n",
       "      <td>2 out of 3</td>\n",
       "      <td>Super Area</td>\n",
       "      <td>Arcot Road Virugambakkam</td>\n",
       "      <td>Chennai</td>\n",
       "      <td>Semi-Furnished</td>\n",
       "      <td>Bachelors/Family</td>\n",
       "      <td>1</td>\n",
       "      <td>Contact Owner</td>\n",
       "    </tr>\n",
       "    <tr>\n",
       "      <th>3063</th>\n",
       "      <td>2022-07-08</td>\n",
       "      <td>2</td>\n",
       "      <td>16000</td>\n",
       "      <td>850</td>\n",
       "      <td>Ground out of 2</td>\n",
       "      <td>Super Area</td>\n",
       "      <td>Mambalam West</td>\n",
       "      <td>Chennai</td>\n",
       "      <td>Semi-Furnished</td>\n",
       "      <td>Bachelors/Family</td>\n",
       "      <td>2</td>\n",
       "      <td>Contact Owner</td>\n",
       "    </tr>\n",
       "    <tr>\n",
       "      <th>2114</th>\n",
       "      <td>2022-06-04</td>\n",
       "      <td>2</td>\n",
       "      <td>8500</td>\n",
       "      <td>650</td>\n",
       "      <td>8 out of 8</td>\n",
       "      <td>Carpet Area</td>\n",
       "      <td>Attibele</td>\n",
       "      <td>Bangalore</td>\n",
       "      <td>Furnished</td>\n",
       "      <td>Family</td>\n",
       "      <td>2</td>\n",
       "      <td>Contact Owner</td>\n",
       "    </tr>\n",
       "    <tr>\n",
       "      <th>1491</th>\n",
       "      <td>2022-06-09</td>\n",
       "      <td>2</td>\n",
       "      <td>65000</td>\n",
       "      <td>960</td>\n",
       "      <td>16 out of 38</td>\n",
       "      <td>Carpet Area</td>\n",
       "      <td>Dosti Ambrosia, Wadala East</td>\n",
       "      <td>Mumbai</td>\n",
       "      <td>Semi-Furnished</td>\n",
       "      <td>Bachelors/Family</td>\n",
       "      <td>2</td>\n",
       "      <td>Contact Agent</td>\n",
       "    </tr>\n",
       "    <tr>\n",
       "      <th>585</th>\n",
       "      <td>2022-05-16</td>\n",
       "      <td>2</td>\n",
       "      <td>13000</td>\n",
       "      <td>600</td>\n",
       "      <td>2 out of 4</td>\n",
       "      <td>Carpet Area</td>\n",
       "      <td>Mira Road</td>\n",
       "      <td>Mumbai</td>\n",
       "      <td>Unfurnished</td>\n",
       "      <td>Bachelors/Family</td>\n",
       "      <td>2</td>\n",
       "      <td>Contact Owner</td>\n",
       "    </tr>\n",
       "  </tbody>\n",
       "</table>\n",
       "</div>"
      ],
      "text/plain": [
       "       Posted On  BHK   Rent  Size            Floor    Area Type  \\\n",
       "3814  2022-06-29    2  10000   650       2 out of 3   Super Area   \n",
       "3063  2022-07-08    2  16000   850  Ground out of 2   Super Area   \n",
       "2114  2022-06-04    2   8500   650       8 out of 8  Carpet Area   \n",
       "1491  2022-06-09    2  65000   960     16 out of 38  Carpet Area   \n",
       "585   2022-05-16    2  13000   600       2 out of 4  Carpet Area   \n",
       "\n",
       "                    Area Locality       City Furnishing Status  \\\n",
       "3814     Arcot Road Virugambakkam    Chennai    Semi-Furnished   \n",
       "3063                Mambalam West    Chennai    Semi-Furnished   \n",
       "2114                     Attibele  Bangalore         Furnished   \n",
       "1491  Dosti Ambrosia, Wadala East     Mumbai    Semi-Furnished   \n",
       "585                     Mira Road     Mumbai       Unfurnished   \n",
       "\n",
       "      Tenant Preferred  Bathroom Point of Contact  \n",
       "3814  Bachelors/Family         1    Contact Owner  \n",
       "3063  Bachelors/Family         2    Contact Owner  \n",
       "2114            Family         2    Contact Owner  \n",
       "1491  Bachelors/Family         2    Contact Agent  \n",
       "585   Bachelors/Family         2    Contact Owner  "
      ]
     },
     "execution_count": 374,
     "metadata": {},
     "output_type": "execute_result"
    }
   ],
   "source": [
    "hd = pd.read_csv('House_Rent_Dataset.csv')\n",
    "print(\"(rows, columns) :\", hd.shape)\n",
    "hd.sample(5)"
   ]
  },
  {
   "cell_type": "code",
   "execution_count": 375,
   "id": "e9a81f36",
   "metadata": {},
   "outputs": [
    {
     "name": "stdout",
     "output_type": "stream",
     "text": [
      "<class 'pandas.core.frame.DataFrame'>\n",
      "RangeIndex: 4746 entries, 0 to 4745\n",
      "Data columns (total 12 columns):\n",
      " #   Column             Non-Null Count  Dtype \n",
      "---  ------             --------------  ----- \n",
      " 0   Posted On          4746 non-null   object\n",
      " 1   BHK                4746 non-null   int64 \n",
      " 2   Rent               4746 non-null   int64 \n",
      " 3   Size               4746 non-null   int64 \n",
      " 4   Floor              4746 non-null   object\n",
      " 5   Area Type          4746 non-null   object\n",
      " 6   Area Locality      4746 non-null   object\n",
      " 7   City               4746 non-null   object\n",
      " 8   Furnishing Status  4746 non-null   object\n",
      " 9   Tenant Preferred   4746 non-null   object\n",
      " 10  Bathroom           4746 non-null   int64 \n",
      " 11  Point of Contact   4746 non-null   object\n",
      "dtypes: int64(4), object(8)\n",
      "memory usage: 445.1+ KB\n"
     ]
    }
   ],
   "source": [
    "hd.info()"
   ]
  },
  {
   "cell_type": "code",
   "execution_count": 376,
   "id": "87c06f32",
   "metadata": {},
   "outputs": [],
   "source": [
    "# hd.isnull().sum()\n",
    "# No null values"
   ]
  },
  {
   "cell_type": "markdown",
   "id": "d293a514",
   "metadata": {},
   "source": [
    "### Dealing with Outliers"
   ]
  },
  {
   "cell_type": "code",
   "execution_count": 377,
   "id": "6e2352e3",
   "metadata": {},
   "outputs": [],
   "source": [
    "def var_summary(x):\n",
    "# UC = MEAN + 2 STD\n",
    "    uc = x.mean()+(2*x.std())\n",
    "    lc = x.mean()-(2*x.std())\n",
    "    \n",
    "    for i in x:\n",
    "        if i<lc or i>uc:\n",
    "            count = 1             # This means that column is having an OUTLier\n",
    "        else:\n",
    "            count = 0             # That column in not having an outliers\n",
    "            \n",
    "    outlier_flag = count\n",
    "    return pd.Series([x.count(), x.isnull().sum(), x.sum(), x.mean(), x.median(),  x.std(), \n",
    "                      x.var(), x.min(), x.quantile(0.01), x.quantile(0.05),x.quantile(0.10),\n",
    "                      x.quantile(0.25),x.quantile(0.50),x.quantile(0.75), \n",
    "                      x.quantile(0.90),x.quantile(0.95), x.quantile(0.99),x.max() , \n",
    "                      lc , uc,outlier_flag],\n",
    "                  index=['N', 'NMISS', 'SUM', 'MEAN','MEDIAN', 'STD', 'VAR', 'MIN', \n",
    "                         'P1' , 'P5' ,'P10' ,'P25' ,'P50' ,'P75' ,'P90' ,'P95' ,'P99' ,\n",
    "                         'MAX','LC','UC','outlier_flag'])"
   ]
  },
  {
   "cell_type": "code",
   "execution_count": 378,
   "id": "8a39a64f",
   "metadata": {},
   "outputs": [
    {
     "name": "stdout",
     "output_type": "stream",
     "text": [
      "['BHK', 'Rent', 'Size', 'Bathroom']\n"
     ]
    }
   ],
   "source": [
    "numeric_cols = []\n",
    "for cols in hd:\n",
    "    if hd[cols].dtypes == 'int64':\n",
    "        numeric_cols.append(cols)\n",
    "        \n",
    "print(numeric_cols)"
   ]
  },
  {
   "cell_type": "code",
   "execution_count": 379,
   "id": "17210ec7",
   "metadata": {},
   "outputs": [
    {
     "data": {
      "text/html": [
       "<div>\n",
       "<style scoped>\n",
       "    .dataframe tbody tr th:only-of-type {\n",
       "        vertical-align: middle;\n",
       "    }\n",
       "\n",
       "    .dataframe tbody tr th {\n",
       "        vertical-align: top;\n",
       "    }\n",
       "\n",
       "    .dataframe thead th {\n",
       "        text-align: right;\n",
       "    }\n",
       "</style>\n",
       "<table border=\"1\" class=\"dataframe\">\n",
       "  <thead>\n",
       "    <tr style=\"text-align: right;\">\n",
       "      <th></th>\n",
       "      <th>BHK</th>\n",
       "      <th>Rent</th>\n",
       "      <th>Size</th>\n",
       "      <th>Bathroom</th>\n",
       "    </tr>\n",
       "  </thead>\n",
       "  <tbody>\n",
       "    <tr>\n",
       "      <th>N</th>\n",
       "      <td>4746.000000</td>\n",
       "      <td>4.746000e+03</td>\n",
       "      <td>4.746000e+03</td>\n",
       "      <td>4746.000000</td>\n",
       "    </tr>\n",
       "    <tr>\n",
       "      <th>NMISS</th>\n",
       "      <td>0.000000</td>\n",
       "      <td>0.000000e+00</td>\n",
       "      <td>0.000000e+00</td>\n",
       "      <td>0.000000</td>\n",
       "    </tr>\n",
       "    <tr>\n",
       "      <th>SUM</th>\n",
       "      <td>9890.000000</td>\n",
       "      <td>1.660789e+08</td>\n",
       "      <td>4.591711e+06</td>\n",
       "      <td>9330.000000</td>\n",
       "    </tr>\n",
       "    <tr>\n",
       "      <th>MEAN</th>\n",
       "      <td>2.083860</td>\n",
       "      <td>3.499345e+04</td>\n",
       "      <td>9.674907e+02</td>\n",
       "      <td>1.965866</td>\n",
       "    </tr>\n",
       "    <tr>\n",
       "      <th>MEDIAN</th>\n",
       "      <td>2.000000</td>\n",
       "      <td>1.600000e+04</td>\n",
       "      <td>8.500000e+02</td>\n",
       "      <td>2.000000</td>\n",
       "    </tr>\n",
       "    <tr>\n",
       "      <th>STD</th>\n",
       "      <td>0.832256</td>\n",
       "      <td>7.810641e+04</td>\n",
       "      <td>6.342023e+02</td>\n",
       "      <td>0.884532</td>\n",
       "    </tr>\n",
       "    <tr>\n",
       "      <th>VAR</th>\n",
       "      <td>0.692650</td>\n",
       "      <td>6.100612e+09</td>\n",
       "      <td>4.022126e+05</td>\n",
       "      <td>0.782396</td>\n",
       "    </tr>\n",
       "    <tr>\n",
       "      <th>MIN</th>\n",
       "      <td>1.000000</td>\n",
       "      <td>1.200000e+03</td>\n",
       "      <td>1.000000e+01</td>\n",
       "      <td>1.000000</td>\n",
       "    </tr>\n",
       "    <tr>\n",
       "      <th>P1</th>\n",
       "      <td>1.000000</td>\n",
       "      <td>4.000000e+03</td>\n",
       "      <td>7.000000e+01</td>\n",
       "      <td>1.000000</td>\n",
       "    </tr>\n",
       "    <tr>\n",
       "      <th>P5</th>\n",
       "      <td>1.000000</td>\n",
       "      <td>6.000000e+03</td>\n",
       "      <td>2.000000e+02</td>\n",
       "      <td>1.000000</td>\n",
       "    </tr>\n",
       "    <tr>\n",
       "      <th>P10</th>\n",
       "      <td>1.000000</td>\n",
       "      <td>7.000000e+03</td>\n",
       "      <td>4.000000e+02</td>\n",
       "      <td>1.000000</td>\n",
       "    </tr>\n",
       "    <tr>\n",
       "      <th>P25</th>\n",
       "      <td>2.000000</td>\n",
       "      <td>1.000000e+04</td>\n",
       "      <td>5.500000e+02</td>\n",
       "      <td>1.000000</td>\n",
       "    </tr>\n",
       "    <tr>\n",
       "      <th>P50</th>\n",
       "      <td>2.000000</td>\n",
       "      <td>1.600000e+04</td>\n",
       "      <td>8.500000e+02</td>\n",
       "      <td>2.000000</td>\n",
       "    </tr>\n",
       "    <tr>\n",
       "      <th>P75</th>\n",
       "      <td>3.000000</td>\n",
       "      <td>3.300000e+04</td>\n",
       "      <td>1.200000e+03</td>\n",
       "      <td>2.000000</td>\n",
       "    </tr>\n",
       "    <tr>\n",
       "      <th>P90</th>\n",
       "      <td>3.000000</td>\n",
       "      <td>7.200000e+04</td>\n",
       "      <td>1.700000e+03</td>\n",
       "      <td>3.000000</td>\n",
       "    </tr>\n",
       "    <tr>\n",
       "      <th>P95</th>\n",
       "      <td>3.000000</td>\n",
       "      <td>1.300000e+05</td>\n",
       "      <td>2.000000e+03</td>\n",
       "      <td>3.000000</td>\n",
       "    </tr>\n",
       "    <tr>\n",
       "      <th>P99</th>\n",
       "      <td>4.000000</td>\n",
       "      <td>3.000000e+05</td>\n",
       "      <td>3.289200e+03</td>\n",
       "      <td>5.000000</td>\n",
       "    </tr>\n",
       "    <tr>\n",
       "      <th>MAX</th>\n",
       "      <td>6.000000</td>\n",
       "      <td>3.500000e+06</td>\n",
       "      <td>8.000000e+03</td>\n",
       "      <td>10.000000</td>\n",
       "    </tr>\n",
       "    <tr>\n",
       "      <th>LC</th>\n",
       "      <td>0.419348</td>\n",
       "      <td>-1.212194e+05</td>\n",
       "      <td>-3.009139e+02</td>\n",
       "      <td>0.196803</td>\n",
       "    </tr>\n",
       "    <tr>\n",
       "      <th>UC</th>\n",
       "      <td>3.748372</td>\n",
       "      <td>1.912063e+05</td>\n",
       "      <td>2.235895e+03</td>\n",
       "      <td>3.734929</td>\n",
       "    </tr>\n",
       "    <tr>\n",
       "      <th>outlier_flag</th>\n",
       "      <td>0.000000</td>\n",
       "      <td>0.000000e+00</td>\n",
       "      <td>0.000000e+00</td>\n",
       "      <td>0.000000</td>\n",
       "    </tr>\n",
       "  </tbody>\n",
       "</table>\n",
       "</div>"
      ],
      "text/plain": [
       "                      BHK          Rent          Size     Bathroom\n",
       "N             4746.000000  4.746000e+03  4.746000e+03  4746.000000\n",
       "NMISS            0.000000  0.000000e+00  0.000000e+00     0.000000\n",
       "SUM           9890.000000  1.660789e+08  4.591711e+06  9330.000000\n",
       "MEAN             2.083860  3.499345e+04  9.674907e+02     1.965866\n",
       "MEDIAN           2.000000  1.600000e+04  8.500000e+02     2.000000\n",
       "STD              0.832256  7.810641e+04  6.342023e+02     0.884532\n",
       "VAR              0.692650  6.100612e+09  4.022126e+05     0.782396\n",
       "MIN              1.000000  1.200000e+03  1.000000e+01     1.000000\n",
       "P1               1.000000  4.000000e+03  7.000000e+01     1.000000\n",
       "P5               1.000000  6.000000e+03  2.000000e+02     1.000000\n",
       "P10              1.000000  7.000000e+03  4.000000e+02     1.000000\n",
       "P25              2.000000  1.000000e+04  5.500000e+02     1.000000\n",
       "P50              2.000000  1.600000e+04  8.500000e+02     2.000000\n",
       "P75              3.000000  3.300000e+04  1.200000e+03     2.000000\n",
       "P90              3.000000  7.200000e+04  1.700000e+03     3.000000\n",
       "P95              3.000000  1.300000e+05  2.000000e+03     3.000000\n",
       "P99              4.000000  3.000000e+05  3.289200e+03     5.000000\n",
       "MAX              6.000000  3.500000e+06  8.000000e+03    10.000000\n",
       "LC               0.419348 -1.212194e+05 -3.009139e+02     0.196803\n",
       "UC               3.748372  1.912063e+05  2.235895e+03     3.734929\n",
       "outlier_flag     0.000000  0.000000e+00  0.000000e+00     0.000000"
      ]
     },
     "execution_count": 379,
     "metadata": {},
     "output_type": "execute_result"
    }
   ],
   "source": [
    "hd[numeric_cols].apply(lambda x: var_summary(x))"
   ]
  },
  {
   "cell_type": "markdown",
   "id": "0fe186de",
   "metadata": {},
   "source": [
    "#### Nah I dont believe this, lets plot the taget variable"
   ]
  },
  {
   "cell_type": "code",
   "execution_count": 380,
   "id": "1c621d5a",
   "metadata": {},
   "outputs": [
    {
     "data": {
      "text/plain": [
       "<Axes: xlabel='Rent'>"
      ]
     },
     "execution_count": 380,
     "metadata": {},
     "output_type": "execute_result"
    },
    {
     "data": {
      "image/png": "[encoded data removed]",
      "text/plain": [
       "<Figure size 1200x500 with 1 Axes>"
      ]
     },
     "metadata": {},
     "output_type": "display_data"
    }
   ],
   "source": [
    "plt.figure(figsize=(12,5))\n",
    "sns.boxplot(data = hd, x = 'Rent')"
   ]
  },
  {
   "cell_type": "code",
   "execution_count": 381,
   "id": "14583cfa",
   "metadata": {},
   "outputs": [],
   "source": [
    "hd = hd[hd['Rent'] <= 200000]"
   ]
  },
  {
   "cell_type": "code",
   "execution_count": 382,
   "id": "57af381d",
   "metadata": {},
   "outputs": [
    {
     "data": {
      "text/plain": [
       "<Axes: xlabel='Rent'>"
      ]
     },
     "execution_count": 382,
     "metadata": {},
     "output_type": "execute_result"
    },
    {
     "data": {
      "image/png": "[encoded data removed]",
      "text/plain": [
       "<Figure size 1200x500 with 1 Axes>"
      ]
     },
     "metadata": {},
     "output_type": "display_data"
    }
   ],
   "source": [
    "plt.figure(figsize=(12,5))\n",
    "sns.boxplot(data = hd, x = 'Rent')"
   ]
  },
  {
   "cell_type": "markdown",
   "id": "a6683af5",
   "metadata": {},
   "source": [
    "### Data Visualization"
   ]
  },
  {
   "cell_type": "code",
   "execution_count": 383,
   "id": "b4831768",
   "metadata": {},
   "outputs": [
    {
     "data": {
      "text/plain": [
       "<Axes: xlabel='City', ylabel='Rent'>"
      ]
     },
     "execution_count": 383,
     "metadata": {},
     "output_type": "execute_result"
    },
    {
     "data": {
      "image/png": "[encoded data removed]",
      "text/plain": [
       "<Figure size 640x480 with 1 Axes>"
      ]
     },
     "metadata": {},
     "output_type": "display_data"
    }
   ],
   "source": [
    "sns.barplot(data = hd, x = 'City', y = 'Rent')\n",
    "# It seems that Mumbai has the highest Rent amongst all other "
   ]
  },
  {
   "cell_type": "code",
   "execution_count": 384,
   "id": "cef737a1",
   "metadata": {},
   "outputs": [
    {
     "data": {
      "text/plain": [
       "Area Type\n",
       "Super Area     2436\n",
       "Carpet Area    2209\n",
       "Built Area        2\n",
       "Name: count, dtype: int64"
      ]
     },
     "execution_count": 384,
     "metadata": {},
     "output_type": "execute_result"
    }
   ],
   "source": [
    "hd['Area Type'].value_counts()"
   ]
  },
  {
   "cell_type": "code",
   "execution_count": 385,
   "id": "e5ce802f",
   "metadata": {},
   "outputs": [
    {
     "data": {
      "text/plain": [
       "<Axes: xlabel='City', ylabel='Rent'>"
      ]
     },
     "execution_count": 385,
     "metadata": {},
     "output_type": "execute_result"
    },
    {
     "data": {
      "image/png": "[encoded data removed]",
      "text/plain": [
       "<Figure size 1000x600 with 1 Axes>"
      ]
     },
     "metadata": {},
     "output_type": "display_data"
    }
   ],
   "source": [
    "plt.figure(figsize=(10,6))\n",
    "sns.barplot(data = hd, x = 'City', y = 'Rent', hue = 'Area Type')"
   ]
  },
  {
   "cell_type": "code",
   "execution_count": 386,
   "id": "080d34d9",
   "metadata": {},
   "outputs": [
    {
     "data": {
      "text/plain": [
       "<Axes: xlabel='City', ylabel='Rent'>"
      ]
     },
     "execution_count": 386,
     "metadata": {},
     "output_type": "execute_result"
    },
    {
     "data": {
      "image/png": "[encoded data removed]",
      "text/plain": [
       "<Figure size 1000x600 with 1 Axes>"
      ]
     },
     "metadata": {},
     "output_type": "display_data"
    }
   ],
   "source": [
    "plt.figure(figsize=(10,6))\n",
    "sns.barplot(data = hd, x = 'City', y = 'Rent', hue = 'Furnishing Status')"
   ]
  },
  {
   "cell_type": "code",
   "execution_count": 387,
   "id": "652f8ae8",
   "metadata": {},
   "outputs": [
    {
     "data": {
      "text/plain": [
       "<Axes: xlabel='City', ylabel='Rent'>"
      ]
     },
     "execution_count": 387,
     "metadata": {},
     "output_type": "execute_result"
    },
    {
     "data": {
      "image/png": "[encoded data removed]",
      "text/plain": [
       "<Figure size 1000x600 with 1 Axes>"
      ]
     },
     "metadata": {},
     "output_type": "display_data"
    }
   ],
   "source": [
    "plt.figure(figsize=(10,6))\n",
    "# sns.barplot(data = hd, x = 'City', y = 'Rent', hue = 'BHK')\n",
    "sns.barplot(data = hd, x = 'City', y = 'Rent', hue = hd['BHK'].astype(str)) "
   ]
  },
  {
   "cell_type": "code",
   "execution_count": 388,
   "id": "b27f142f",
   "metadata": {},
   "outputs": [
    {
     "data": {
      "text/html": [
       "<div>\n",
       "<style scoped>\n",
       "    .dataframe tbody tr th:only-of-type {\n",
       "        vertical-align: middle;\n",
       "    }\n",
       "\n",
       "    .dataframe tbody tr th {\n",
       "        vertical-align: top;\n",
       "    }\n",
       "\n",
       "    .dataframe thead th {\n",
       "        text-align: right;\n",
       "    }\n",
       "</style>\n",
       "<table border=\"1\" class=\"dataframe\">\n",
       "  <thead>\n",
       "    <tr style=\"text-align: right;\">\n",
       "      <th></th>\n",
       "      <th>Posted On</th>\n",
       "      <th>BHK</th>\n",
       "      <th>Rent</th>\n",
       "      <th>Size</th>\n",
       "      <th>Floor</th>\n",
       "      <th>Area Type</th>\n",
       "      <th>Area Locality</th>\n",
       "      <th>City</th>\n",
       "      <th>Furnishing Status</th>\n",
       "      <th>Tenant Preferred</th>\n",
       "      <th>Bathroom</th>\n",
       "      <th>Point of Contact</th>\n",
       "    </tr>\n",
       "  </thead>\n",
       "  <tbody>\n",
       "    <tr>\n",
       "      <th>83</th>\n",
       "      <td>2022-06-21</td>\n",
       "      <td>6</td>\n",
       "      <td>20000</td>\n",
       "      <td>1000</td>\n",
       "      <td>1 out of 1</td>\n",
       "      <td>Super Area</td>\n",
       "      <td>Sonarpur</td>\n",
       "      <td>Kolkata</td>\n",
       "      <td>Semi-Furnished</td>\n",
       "      <td>Bachelors/Family</td>\n",
       "      <td>2</td>\n",
       "      <td>Contact Owner</td>\n",
       "    </tr>\n",
       "    <tr>\n",
       "      <th>3584</th>\n",
       "      <td>2022-06-02</td>\n",
       "      <td>6</td>\n",
       "      <td>60000</td>\n",
       "      <td>1800</td>\n",
       "      <td>1 out of 3</td>\n",
       "      <td>Super Area</td>\n",
       "      <td>Besant Nagar</td>\n",
       "      <td>Chennai</td>\n",
       "      <td>Furnished</td>\n",
       "      <td>Bachelors/Family</td>\n",
       "      <td>6</td>\n",
       "      <td>Contact Owner</td>\n",
       "    </tr>\n",
       "    <tr>\n",
       "      <th>4350</th>\n",
       "      <td>2022-06-18</td>\n",
       "      <td>6</td>\n",
       "      <td>60000</td>\n",
       "      <td>2800</td>\n",
       "      <td>Ground out of 3</td>\n",
       "      <td>Super Area</td>\n",
       "      <td>Boduppal, NH 2 2</td>\n",
       "      <td>Hyderabad</td>\n",
       "      <td>Furnished</td>\n",
       "      <td>Bachelors/Family</td>\n",
       "      <td>7</td>\n",
       "      <td>Contact Owner</td>\n",
       "    </tr>\n",
       "    <tr>\n",
       "      <th>4479</th>\n",
       "      <td>2022-07-07</td>\n",
       "      <td>6</td>\n",
       "      <td>20000</td>\n",
       "      <td>2400</td>\n",
       "      <td>Ground out of 1</td>\n",
       "      <td>Super Area</td>\n",
       "      <td>Mallikarjuna Nagar, Secunderabad</td>\n",
       "      <td>Hyderabad</td>\n",
       "      <td>Unfurnished</td>\n",
       "      <td>Family</td>\n",
       "      <td>4</td>\n",
       "      <td>Contact Owner</td>\n",
       "    </tr>\n",
       "    <tr>\n",
       "      <th>4518</th>\n",
       "      <td>2022-05-12</td>\n",
       "      <td>6</td>\n",
       "      <td>35000</td>\n",
       "      <td>3400</td>\n",
       "      <td>Ground out of 2</td>\n",
       "      <td>Super Area</td>\n",
       "      <td>Rampally</td>\n",
       "      <td>Hyderabad</td>\n",
       "      <td>Unfurnished</td>\n",
       "      <td>Bachelors/Family</td>\n",
       "      <td>7</td>\n",
       "      <td>Contact Owner</td>\n",
       "    </tr>\n",
       "    <tr>\n",
       "      <th>4648</th>\n",
       "      <td>2022-07-06</td>\n",
       "      <td>6</td>\n",
       "      <td>80000</td>\n",
       "      <td>4500</td>\n",
       "      <td>1 out of 2</td>\n",
       "      <td>Super Area</td>\n",
       "      <td>Kakateeya Nagar, Secunderabad</td>\n",
       "      <td>Hyderabad</td>\n",
       "      <td>Semi-Furnished</td>\n",
       "      <td>Bachelors/Family</td>\n",
       "      <td>6</td>\n",
       "      <td>Contact Owner</td>\n",
       "    </tr>\n",
       "    <tr>\n",
       "      <th>4696</th>\n",
       "      <td>2022-07-06</td>\n",
       "      <td>6</td>\n",
       "      <td>30000</td>\n",
       "      <td>4200</td>\n",
       "      <td>Ground out of 2</td>\n",
       "      <td>Super Area</td>\n",
       "      <td>Kuntloor</td>\n",
       "      <td>Hyderabad</td>\n",
       "      <td>Semi-Furnished</td>\n",
       "      <td>Bachelors/Family</td>\n",
       "      <td>5</td>\n",
       "      <td>Contact Owner</td>\n",
       "    </tr>\n",
       "  </tbody>\n",
       "</table>\n",
       "</div>"
      ],
      "text/plain": [
       "       Posted On  BHK   Rent  Size            Floor   Area Type  \\\n",
       "83    2022-06-21    6  20000  1000       1 out of 1  Super Area   \n",
       "3584  2022-06-02    6  60000  1800       1 out of 3  Super Area   \n",
       "4350  2022-06-18    6  60000  2800  Ground out of 3  Super Area   \n",
       "4479  2022-07-07    6  20000  2400  Ground out of 1  Super Area   \n",
       "4518  2022-05-12    6  35000  3400  Ground out of 2  Super Area   \n",
       "4648  2022-07-06    6  80000  4500       1 out of 2  Super Area   \n",
       "4696  2022-07-06    6  30000  4200  Ground out of 2  Super Area   \n",
       "\n",
       "                         Area Locality       City Furnishing Status  \\\n",
       "83                            Sonarpur    Kolkata    Semi-Furnished   \n",
       "3584                      Besant Nagar    Chennai         Furnished   \n",
       "4350                  Boduppal, NH 2 2  Hyderabad         Furnished   \n",
       "4479  Mallikarjuna Nagar, Secunderabad  Hyderabad       Unfurnished   \n",
       "4518                          Rampally  Hyderabad       Unfurnished   \n",
       "4648     Kakateeya Nagar, Secunderabad  Hyderabad    Semi-Furnished   \n",
       "4696                          Kuntloor  Hyderabad    Semi-Furnished   \n",
       "\n",
       "      Tenant Preferred  Bathroom Point of Contact  \n",
       "83    Bachelors/Family         2    Contact Owner  \n",
       "3584  Bachelors/Family         6    Contact Owner  \n",
       "4350  Bachelors/Family         7    Contact Owner  \n",
       "4479            Family         4    Contact Owner  \n",
       "4518  Bachelors/Family         7    Contact Owner  \n",
       "4648  Bachelors/Family         6    Contact Owner  \n",
       "4696  Bachelors/Family         5    Contact Owner  "
      ]
     },
     "execution_count": 388,
     "metadata": {},
     "output_type": "execute_result"
    }
   ],
   "source": [
    "hd[hd['BHK'] == 6]"
   ]
  },
  {
   "cell_type": "code",
   "execution_count": 389,
   "id": "f3f1b0d3",
   "metadata": {},
   "outputs": [
    {
     "data": {
      "text/plain": [
       "<Axes: xlabel='City', ylabel='Rent'>"
      ]
     },
     "execution_count": 389,
     "metadata": {},
     "output_type": "execute_result"
    },
    {
     "data": {
      "image/png": "[encoded data removed]",
      "text/plain": [
       "<Figure size 1000x600 with 1 Axes>"
      ]
     },
     "metadata": {},
     "output_type": "display_data"
    }
   ],
   "source": [
    "plt.figure(figsize=(10,6))\n",
    "sns.barplot(data = hd, x = 'City', y = 'Rent', hue = 'Tenant Preferred')"
   ]
  },
  {
   "cell_type": "code",
   "execution_count": 390,
   "id": "ab18098e",
   "metadata": {},
   "outputs": [
    {
     "data": {
      "text/plain": [
       "Bathroom\n",
       "2     2285\n",
       "1     1474\n",
       "3      732\n",
       "4      116\n",
       "5       28\n",
       "6        8\n",
       "7        3\n",
       "10       1\n",
       "Name: count, dtype: int64"
      ]
     },
     "execution_count": 390,
     "metadata": {},
     "output_type": "execute_result"
    }
   ],
   "source": [
    "hd['Bathroom'].value_counts()"
   ]
  },
  {
   "cell_type": "code",
   "execution_count": 391,
   "id": "65a5d15c",
   "metadata": {},
   "outputs": [
    {
     "data": {
      "text/html": [
       "<div>\n",
       "<style scoped>\n",
       "    .dataframe tbody tr th:only-of-type {\n",
       "        vertical-align: middle;\n",
       "    }\n",
       "\n",
       "    .dataframe tbody tr th {\n",
       "        vertical-align: top;\n",
       "    }\n",
       "\n",
       "    .dataframe thead th {\n",
       "        text-align: right;\n",
       "    }\n",
       "</style>\n",
       "<table border=\"1\" class=\"dataframe\">\n",
       "  <thead>\n",
       "    <tr style=\"text-align: right;\">\n",
       "      <th></th>\n",
       "      <th>BHK</th>\n",
       "      <th>Rent</th>\n",
       "      <th>Size</th>\n",
       "      <th>Bathroom</th>\n",
       "    </tr>\n",
       "  </thead>\n",
       "  <tbody>\n",
       "    <tr>\n",
       "      <th>count</th>\n",
       "      <td>4647.000000</td>\n",
       "      <td>4647.000000</td>\n",
       "      <td>4647.000000</td>\n",
       "      <td>4647.000000</td>\n",
       "    </tr>\n",
       "    <tr>\n",
       "      <th>mean</th>\n",
       "      <td>2.047558</td>\n",
       "      <td>27720.877986</td>\n",
       "      <td>935.207661</td>\n",
       "      <td>1.920164</td>\n",
       "    </tr>\n",
       "    <tr>\n",
       "      <th>std</th>\n",
       "      <td>0.795284</td>\n",
       "      <td>31960.289864</td>\n",
       "      <td>581.327095</td>\n",
       "      <td>0.824634</td>\n",
       "    </tr>\n",
       "    <tr>\n",
       "      <th>min</th>\n",
       "      <td>1.000000</td>\n",
       "      <td>1200.000000</td>\n",
       "      <td>10.000000</td>\n",
       "      <td>1.000000</td>\n",
       "    </tr>\n",
       "    <tr>\n",
       "      <th>25%</th>\n",
       "      <td>1.000000</td>\n",
       "      <td>10000.000000</td>\n",
       "      <td>550.000000</td>\n",
       "      <td>1.000000</td>\n",
       "    </tr>\n",
       "    <tr>\n",
       "      <th>50%</th>\n",
       "      <td>2.000000</td>\n",
       "      <td>15000.000000</td>\n",
       "      <td>825.000000</td>\n",
       "      <td>2.000000</td>\n",
       "    </tr>\n",
       "    <tr>\n",
       "      <th>75%</th>\n",
       "      <td>3.000000</td>\n",
       "      <td>30000.000000</td>\n",
       "      <td>1200.000000</td>\n",
       "      <td>2.000000</td>\n",
       "    </tr>\n",
       "    <tr>\n",
       "      <th>max</th>\n",
       "      <td>6.000000</td>\n",
       "      <td>200000.000000</td>\n",
       "      <td>8000.000000</td>\n",
       "      <td>10.000000</td>\n",
       "    </tr>\n",
       "  </tbody>\n",
       "</table>\n",
       "</div>"
      ],
      "text/plain": [
       "               BHK           Rent         Size     Bathroom\n",
       "count  4647.000000    4647.000000  4647.000000  4647.000000\n",
       "mean      2.047558   27720.877986   935.207661     1.920164\n",
       "std       0.795284   31960.289864   581.327095     0.824634\n",
       "min       1.000000    1200.000000    10.000000     1.000000\n",
       "25%       1.000000   10000.000000   550.000000     1.000000\n",
       "50%       2.000000   15000.000000   825.000000     2.000000\n",
       "75%       3.000000   30000.000000  1200.000000     2.000000\n",
       "max       6.000000  200000.000000  8000.000000    10.000000"
      ]
     },
     "execution_count": 391,
     "metadata": {},
     "output_type": "execute_result"
    }
   ],
   "source": [
    "hd.describe()"
   ]
  },
  {
   "cell_type": "markdown",
   "id": "22da5eed",
   "metadata": {},
   "source": [
    "### Data Preprocessing "
   ]
  },
  {
   "cell_type": "code",
   "execution_count": 392,
   "id": "1333916d",
   "metadata": {},
   "outputs": [],
   "source": [
    "hd1 = hd.copy()"
   ]
  },
  {
   "cell_type": "code",
   "execution_count": 393,
   "id": "7deeef80",
   "metadata": {},
   "outputs": [
    {
     "data": {
      "text/html": [
       "<div>\n",
       "<style scoped>\n",
       "    .dataframe tbody tr th:only-of-type {\n",
       "        vertical-align: middle;\n",
       "    }\n",
       "\n",
       "    .dataframe tbody tr th {\n",
       "        vertical-align: top;\n",
       "    }\n",
       "\n",
       "    .dataframe thead th {\n",
       "        text-align: right;\n",
       "    }\n",
       "</style>\n",
       "<table border=\"1\" class=\"dataframe\">\n",
       "  <thead>\n",
       "    <tr style=\"text-align: right;\">\n",
       "      <th></th>\n",
       "      <th>Posted On</th>\n",
       "      <th>BHK</th>\n",
       "      <th>Rent</th>\n",
       "      <th>Size</th>\n",
       "      <th>Floor</th>\n",
       "      <th>Area Type</th>\n",
       "      <th>Area Locality</th>\n",
       "      <th>City</th>\n",
       "      <th>Furnishing Status</th>\n",
       "      <th>Tenant Preferred</th>\n",
       "      <th>Bathroom</th>\n",
       "      <th>Point of Contact</th>\n",
       "    </tr>\n",
       "  </thead>\n",
       "  <tbody>\n",
       "    <tr>\n",
       "      <th>4562</th>\n",
       "      <td>2022-06-14</td>\n",
       "      <td>1</td>\n",
       "      <td>6500</td>\n",
       "      <td>500</td>\n",
       "      <td>2 out of 3</td>\n",
       "      <td>Carpet Area</td>\n",
       "      <td>Tellapur, Outer Ring Road</td>\n",
       "      <td>Hyderabad</td>\n",
       "      <td>Unfurnished</td>\n",
       "      <td>Bachelors</td>\n",
       "      <td>1</td>\n",
       "      <td>Contact Owner</td>\n",
       "    </tr>\n",
       "    <tr>\n",
       "      <th>3956</th>\n",
       "      <td>2022-06-04</td>\n",
       "      <td>2</td>\n",
       "      <td>13000</td>\n",
       "      <td>1210</td>\n",
       "      <td>4 out of 5</td>\n",
       "      <td>Super Area</td>\n",
       "      <td>Nizampet</td>\n",
       "      <td>Hyderabad</td>\n",
       "      <td>Unfurnished</td>\n",
       "      <td>Bachelors/Family</td>\n",
       "      <td>2</td>\n",
       "      <td>Contact Owner</td>\n",
       "    </tr>\n",
       "    <tr>\n",
       "      <th>3457</th>\n",
       "      <td>2022-06-17</td>\n",
       "      <td>4</td>\n",
       "      <td>120000</td>\n",
       "      <td>2550</td>\n",
       "      <td>3 out of 4</td>\n",
       "      <td>Carpet Area</td>\n",
       "      <td>Adyar, Sardar Patel Road</td>\n",
       "      <td>Chennai</td>\n",
       "      <td>Semi-Furnished</td>\n",
       "      <td>Bachelors</td>\n",
       "      <td>4</td>\n",
       "      <td>Contact Agent</td>\n",
       "    </tr>\n",
       "    <tr>\n",
       "      <th>1218</th>\n",
       "      <td>2022-06-25</td>\n",
       "      <td>1</td>\n",
       "      <td>21000</td>\n",
       "      <td>450</td>\n",
       "      <td>3 out of 13</td>\n",
       "      <td>Carpet Area</td>\n",
       "      <td>Bhandup Village</td>\n",
       "      <td>Mumbai</td>\n",
       "      <td>Unfurnished</td>\n",
       "      <td>Bachelors</td>\n",
       "      <td>2</td>\n",
       "      <td>Contact Agent</td>\n",
       "    </tr>\n",
       "    <tr>\n",
       "      <th>4636</th>\n",
       "      <td>2022-07-06</td>\n",
       "      <td>1</td>\n",
       "      <td>5000</td>\n",
       "      <td>300</td>\n",
       "      <td>Ground out of 2</td>\n",
       "      <td>Super Area</td>\n",
       "      <td>Ramachandra Puram, NH 9</td>\n",
       "      <td>Hyderabad</td>\n",
       "      <td>Unfurnished</td>\n",
       "      <td>Bachelors/Family</td>\n",
       "      <td>1</td>\n",
       "      <td>Contact Owner</td>\n",
       "    </tr>\n",
       "  </tbody>\n",
       "</table>\n",
       "</div>"
      ],
      "text/plain": [
       "       Posted On  BHK    Rent  Size            Floor    Area Type  \\\n",
       "4562  2022-06-14    1    6500   500       2 out of 3  Carpet Area   \n",
       "3956  2022-06-04    2   13000  1210       4 out of 5   Super Area   \n",
       "3457  2022-06-17    4  120000  2550       3 out of 4  Carpet Area   \n",
       "1218  2022-06-25    1   21000   450      3 out of 13  Carpet Area   \n",
       "4636  2022-07-06    1    5000   300  Ground out of 2   Super Area   \n",
       "\n",
       "                  Area Locality       City Furnishing Status  \\\n",
       "4562  Tellapur, Outer Ring Road  Hyderabad       Unfurnished   \n",
       "3956                   Nizampet  Hyderabad       Unfurnished   \n",
       "3457   Adyar, Sardar Patel Road    Chennai    Semi-Furnished   \n",
       "1218            Bhandup Village     Mumbai       Unfurnished   \n",
       "4636    Ramachandra Puram, NH 9  Hyderabad       Unfurnished   \n",
       "\n",
       "      Tenant Preferred  Bathroom Point of Contact  \n",
       "4562         Bachelors         1    Contact Owner  \n",
       "3956  Bachelors/Family         2    Contact Owner  \n",
       "3457         Bachelors         4    Contact Agent  \n",
       "1218         Bachelors         2    Contact Agent  \n",
       "4636  Bachelors/Family         1    Contact Owner  "
      ]
     },
     "execution_count": 393,
     "metadata": {},
     "output_type": "execute_result"
    }
   ],
   "source": [
    "hd1.sample(5)"
   ]
  },
  {
   "cell_type": "code",
   "execution_count": 394,
   "id": "b94519f6",
   "metadata": {},
   "outputs": [],
   "source": [
    "drop_col = ['Posted On', 'Floor', 'Area Locality', 'Point of Contact']\n",
    "hd1.drop(columns=drop_col, inplace = True)"
   ]
  },
  {
   "cell_type": "code",
   "execution_count": 395,
   "id": "2712e3ba",
   "metadata": {},
   "outputs": [],
   "source": [
    "hd1 = hd1[hd1['Area Type'] != 'Built Area']"
   ]
  },
  {
   "cell_type": "code",
   "execution_count": 396,
   "id": "a9e53410",
   "metadata": {},
   "outputs": [
    {
     "data": {
      "text/html": [
       "<div>\n",
       "<style scoped>\n",
       "    .dataframe tbody tr th:only-of-type {\n",
       "        vertical-align: middle;\n",
       "    }\n",
       "\n",
       "    .dataframe tbody tr th {\n",
       "        vertical-align: top;\n",
       "    }\n",
       "\n",
       "    .dataframe thead th {\n",
       "        text-align: right;\n",
       "    }\n",
       "</style>\n",
       "<table border=\"1\" class=\"dataframe\">\n",
       "  <thead>\n",
       "    <tr style=\"text-align: right;\">\n",
       "      <th></th>\n",
       "      <th>BHK</th>\n",
       "      <th>Rent</th>\n",
       "      <th>Size</th>\n",
       "      <th>Area Type</th>\n",
       "      <th>City</th>\n",
       "      <th>Furnishing Status</th>\n",
       "      <th>Tenant Preferred</th>\n",
       "      <th>Bathroom</th>\n",
       "    </tr>\n",
       "  </thead>\n",
       "  <tbody>\n",
       "    <tr>\n",
       "      <th>913</th>\n",
       "      <td>2</td>\n",
       "      <td>62000</td>\n",
       "      <td>806</td>\n",
       "      <td>Carpet Area</td>\n",
       "      <td>Mumbai</td>\n",
       "      <td>Unfurnished</td>\n",
       "      <td>Bachelors/Family</td>\n",
       "      <td>3</td>\n",
       "    </tr>\n",
       "    <tr>\n",
       "      <th>455</th>\n",
       "      <td>2</td>\n",
       "      <td>8500</td>\n",
       "      <td>700</td>\n",
       "      <td>Super Area</td>\n",
       "      <td>Kolkata</td>\n",
       "      <td>Semi-Furnished</td>\n",
       "      <td>Bachelors/Family</td>\n",
       "      <td>1</td>\n",
       "    </tr>\n",
       "    <tr>\n",
       "      <th>4216</th>\n",
       "      <td>1</td>\n",
       "      <td>8000</td>\n",
       "      <td>400</td>\n",
       "      <td>Super Area</td>\n",
       "      <td>Hyderabad</td>\n",
       "      <td>Unfurnished</td>\n",
       "      <td>Bachelors/Family</td>\n",
       "      <td>1</td>\n",
       "    </tr>\n",
       "    <tr>\n",
       "      <th>3567</th>\n",
       "      <td>3</td>\n",
       "      <td>24000</td>\n",
       "      <td>1570</td>\n",
       "      <td>Super Area</td>\n",
       "      <td>Chennai</td>\n",
       "      <td>Semi-Furnished</td>\n",
       "      <td>Bachelors/Family</td>\n",
       "      <td>3</td>\n",
       "    </tr>\n",
       "    <tr>\n",
       "      <th>4222</th>\n",
       "      <td>3</td>\n",
       "      <td>42000</td>\n",
       "      <td>1600</td>\n",
       "      <td>Carpet Area</td>\n",
       "      <td>Hyderabad</td>\n",
       "      <td>Semi-Furnished</td>\n",
       "      <td>Bachelors/Family</td>\n",
       "      <td>3</td>\n",
       "    </tr>\n",
       "  </tbody>\n",
       "</table>\n",
       "</div>"
      ],
      "text/plain": [
       "      BHK   Rent  Size    Area Type       City Furnishing Status  \\\n",
       "913     2  62000   806  Carpet Area     Mumbai       Unfurnished   \n",
       "455     2   8500   700   Super Area    Kolkata    Semi-Furnished   \n",
       "4216    1   8000   400   Super Area  Hyderabad       Unfurnished   \n",
       "3567    3  24000  1570   Super Area    Chennai    Semi-Furnished   \n",
       "4222    3  42000  1600  Carpet Area  Hyderabad    Semi-Furnished   \n",
       "\n",
       "      Tenant Preferred  Bathroom  \n",
       "913   Bachelors/Family         3  \n",
       "455   Bachelors/Family         1  \n",
       "4216  Bachelors/Family         1  \n",
       "3567  Bachelors/Family         3  \n",
       "4222  Bachelors/Family         3  "
      ]
     },
     "execution_count": 396,
     "metadata": {},
     "output_type": "execute_result"
    }
   ],
   "source": [
    "hd1.sample(5)"
   ]
  },
  {
   "cell_type": "markdown",
   "id": "c6c0a613",
   "metadata": {},
   "source": [
    "### Data Scaling"
   ]
  },
  {
   "cell_type": "code",
   "execution_count": 397,
   "id": "1ccf5b62",
   "metadata": {},
   "outputs": [
    {
     "name": "stdout",
     "output_type": "stream",
     "text": [
      "['Unfurnished' 'Semi-Furnished' 'Furnished']\n",
      "['Super Area' 'Carpet Area']\n",
      "['Bachelors/Family' 'Bachelors' 'Family']\n"
     ]
    }
   ],
   "source": [
    "print(hd1['Furnishing Status'].unique())\n",
    "print(hd1['Area Type'].unique())\n",
    "print(hd1['Tenant Preferred'].unique())"
   ]
  },
  {
   "cell_type": "code",
   "execution_count": 398,
   "id": "a2b9c2b9",
   "metadata": {},
   "outputs": [],
   "source": [
    "hd1['Furnishing Status'] = hd1['Furnishing Status'].replace(['Furnished', 'Semi-Furnished','Unfurnished'], [2, 1, 0])\n",
    "hd1['Area Type'] = hd1['Area Type'].replace(['Super Area','Carpet Area'],[1,0])\n",
    "hd1['Tenant Preferred'] = hd1['Tenant Preferred'].replace(['Bachelors/Family', 'Bachelors', 'Family'],[2, 1, 0])"
   ]
  },
  {
   "cell_type": "code",
   "execution_count": 399,
   "id": "b436c13e",
   "metadata": {},
   "outputs": [
    {
     "name": "stdout",
     "output_type": "stream",
     "text": [
      "[0 1 2]\n",
      "[1 0]\n",
      "[2 1 0]\n"
     ]
    }
   ],
   "source": [
    "print(hd1['Furnishing Status'].unique())\n",
    "print(hd1['Area Type'].unique())\n",
    "print(hd1['Tenant Preferred'].unique())"
   ]
  },
  {
   "cell_type": "code",
   "execution_count": 400,
   "id": "303ec271",
   "metadata": {},
   "outputs": [
    {
     "data": {
      "text/plain": [
       "array(['Kolkata', 'Mumbai', 'Bangalore', 'Delhi', 'Chennai', 'Hyderabad'],\n",
       "      dtype=object)"
      ]
     },
     "execution_count": 400,
     "metadata": {},
     "output_type": "execute_result"
    }
   ],
   "source": [
    "hd1['City'].unique()"
   ]
  },
  {
   "cell_type": "code",
   "execution_count": 401,
   "id": "0ef922bb",
   "metadata": {},
   "outputs": [
    {
     "data": {
      "text/html": [
       "<div>\n",
       "<style scoped>\n",
       "    .dataframe tbody tr th:only-of-type {\n",
       "        vertical-align: middle;\n",
       "    }\n",
       "\n",
       "    .dataframe tbody tr th {\n",
       "        vertical-align: top;\n",
       "    }\n",
       "\n",
       "    .dataframe thead th {\n",
       "        text-align: right;\n",
       "    }\n",
       "</style>\n",
       "<table border=\"1\" class=\"dataframe\">\n",
       "  <thead>\n",
       "    <tr style=\"text-align: right;\">\n",
       "      <th></th>\n",
       "      <th>BHK</th>\n",
       "      <th>Rent</th>\n",
       "      <th>Size</th>\n",
       "      <th>Area Type</th>\n",
       "      <th>City</th>\n",
       "      <th>Furnishing Status</th>\n",
       "      <th>Tenant Preferred</th>\n",
       "      <th>Bathroom</th>\n",
       "    </tr>\n",
       "  </thead>\n",
       "  <tbody>\n",
       "    <tr>\n",
       "      <th>0</th>\n",
       "      <td>2</td>\n",
       "      <td>10000</td>\n",
       "      <td>1100</td>\n",
       "      <td>1</td>\n",
       "      <td>Kolkata</td>\n",
       "      <td>0</td>\n",
       "      <td>2</td>\n",
       "      <td>2</td>\n",
       "    </tr>\n",
       "    <tr>\n",
       "      <th>1</th>\n",
       "      <td>2</td>\n",
       "      <td>20000</td>\n",
       "      <td>800</td>\n",
       "      <td>1</td>\n",
       "      <td>Kolkata</td>\n",
       "      <td>1</td>\n",
       "      <td>2</td>\n",
       "      <td>1</td>\n",
       "    </tr>\n",
       "    <tr>\n",
       "      <th>2</th>\n",
       "      <td>2</td>\n",
       "      <td>17000</td>\n",
       "      <td>1000</td>\n",
       "      <td>1</td>\n",
       "      <td>Kolkata</td>\n",
       "      <td>1</td>\n",
       "      <td>2</td>\n",
       "      <td>1</td>\n",
       "    </tr>\n",
       "    <tr>\n",
       "      <th>3</th>\n",
       "      <td>2</td>\n",
       "      <td>10000</td>\n",
       "      <td>800</td>\n",
       "      <td>1</td>\n",
       "      <td>Kolkata</td>\n",
       "      <td>0</td>\n",
       "      <td>2</td>\n",
       "      <td>1</td>\n",
       "    </tr>\n",
       "    <tr>\n",
       "      <th>4</th>\n",
       "      <td>2</td>\n",
       "      <td>7500</td>\n",
       "      <td>850</td>\n",
       "      <td>0</td>\n",
       "      <td>Kolkata</td>\n",
       "      <td>0</td>\n",
       "      <td>1</td>\n",
       "      <td>1</td>\n",
       "    </tr>\n",
       "  </tbody>\n",
       "</table>\n",
       "</div>"
      ],
      "text/plain": [
       "   BHK   Rent  Size  Area Type     City  Furnishing Status  Tenant Preferred  \\\n",
       "0    2  10000  1100          1  Kolkata                  0                 2   \n",
       "1    2  20000   800          1  Kolkata                  1                 2   \n",
       "2    2  17000  1000          1  Kolkata                  1                 2   \n",
       "3    2  10000   800          1  Kolkata                  0                 2   \n",
       "4    2   7500   850          0  Kolkata                  0                 1   \n",
       "\n",
       "   Bathroom  \n",
       "0         2  \n",
       "1         1  \n",
       "2         1  \n",
       "3         1  \n",
       "4         1  "
      ]
     },
     "execution_count": 401,
     "metadata": {},
     "output_type": "execute_result"
    }
   ],
   "source": [
    "hd1.head()"
   ]
  },
  {
   "cell_type": "code",
   "execution_count": 402,
   "id": "e8f52742",
   "metadata": {},
   "outputs": [],
   "source": [
    "hd1['City'] = hd1['City'].astype('category')\n",
    "all_cat = hd1['City'].unique()\n",
    "encoder = LabelEncoder()\n",
    "encoder.fit(all_cat)\n",
    "hd1['City'] = encoder.transform(hd1['City'])"
   ]
  },
  {
   "cell_type": "code",
   "execution_count": 403,
   "id": "0b6a0122",
   "metadata": {},
   "outputs": [
    {
     "data": {
      "text/plain": [
       "array([4, 5, 0, 2, 1, 3])"
      ]
     },
     "execution_count": 403,
     "metadata": {},
     "output_type": "execute_result"
    }
   ],
   "source": [
    "hd1['City'].unique()"
   ]
  },
  {
   "cell_type": "code",
   "execution_count": 404,
   "id": "1f392d73",
   "metadata": {},
   "outputs": [
    {
     "data": {
      "text/html": [
       "<div>\n",
       "<style scoped>\n",
       "    .dataframe tbody tr th:only-of-type {\n",
       "        vertical-align: middle;\n",
       "    }\n",
       "\n",
       "    .dataframe tbody tr th {\n",
       "        vertical-align: top;\n",
       "    }\n",
       "\n",
       "    .dataframe thead th {\n",
       "        text-align: right;\n",
       "    }\n",
       "</style>\n",
       "<table border=\"1\" class=\"dataframe\">\n",
       "  <thead>\n",
       "    <tr style=\"text-align: right;\">\n",
       "      <th></th>\n",
       "      <th>BHK</th>\n",
       "      <th>Rent</th>\n",
       "      <th>Size</th>\n",
       "      <th>Area Type</th>\n",
       "      <th>City</th>\n",
       "      <th>Furnishing Status</th>\n",
       "      <th>Tenant Preferred</th>\n",
       "      <th>Bathroom</th>\n",
       "    </tr>\n",
       "  </thead>\n",
       "  <tbody>\n",
       "    <tr>\n",
       "      <th>0</th>\n",
       "      <td>2</td>\n",
       "      <td>10000</td>\n",
       "      <td>1100</td>\n",
       "      <td>1</td>\n",
       "      <td>4</td>\n",
       "      <td>0</td>\n",
       "      <td>2</td>\n",
       "      <td>2</td>\n",
       "    </tr>\n",
       "    <tr>\n",
       "      <th>1</th>\n",
       "      <td>2</td>\n",
       "      <td>20000</td>\n",
       "      <td>800</td>\n",
       "      <td>1</td>\n",
       "      <td>4</td>\n",
       "      <td>1</td>\n",
       "      <td>2</td>\n",
       "      <td>1</td>\n",
       "    </tr>\n",
       "    <tr>\n",
       "      <th>2</th>\n",
       "      <td>2</td>\n",
       "      <td>17000</td>\n",
       "      <td>1000</td>\n",
       "      <td>1</td>\n",
       "      <td>4</td>\n",
       "      <td>1</td>\n",
       "      <td>2</td>\n",
       "      <td>1</td>\n",
       "    </tr>\n",
       "    <tr>\n",
       "      <th>3</th>\n",
       "      <td>2</td>\n",
       "      <td>10000</td>\n",
       "      <td>800</td>\n",
       "      <td>1</td>\n",
       "      <td>4</td>\n",
       "      <td>0</td>\n",
       "      <td>2</td>\n",
       "      <td>1</td>\n",
       "    </tr>\n",
       "    <tr>\n",
       "      <th>4</th>\n",
       "      <td>2</td>\n",
       "      <td>7500</td>\n",
       "      <td>850</td>\n",
       "      <td>0</td>\n",
       "      <td>4</td>\n",
       "      <td>0</td>\n",
       "      <td>1</td>\n",
       "      <td>1</td>\n",
       "    </tr>\n",
       "  </tbody>\n",
       "</table>\n",
       "</div>"
      ],
      "text/plain": [
       "   BHK   Rent  Size  Area Type  City  Furnishing Status  Tenant Preferred  \\\n",
       "0    2  10000  1100          1     4                  0                 2   \n",
       "1    2  20000   800          1     4                  1                 2   \n",
       "2    2  17000  1000          1     4                  1                 2   \n",
       "3    2  10000   800          1     4                  0                 2   \n",
       "4    2   7500   850          0     4                  0                 1   \n",
       "\n",
       "   Bathroom  \n",
       "0         2  \n",
       "1         1  \n",
       "2         1  \n",
       "3         1  \n",
       "4         1  "
      ]
     },
     "execution_count": 404,
     "metadata": {},
     "output_type": "execute_result"
    }
   ],
   "source": [
    "hd1.head()"
   ]
  },
  {
   "cell_type": "markdown",
   "id": "e052c360",
   "metadata": {},
   "source": [
    "Scaling 'Size' Column using MinMax or Standardization"
   ]
  },
  {
   "cell_type": "code",
   "execution_count": 405,
   "id": "6f8de23b",
   "metadata": {},
   "outputs": [],
   "source": [
    "hd2 = hd1.copy()"
   ]
  },
  {
   "cell_type": "code",
   "execution_count": 406,
   "id": "4c71df48",
   "metadata": {},
   "outputs": [
    {
     "data": {
      "text/html": [
       "<div>\n",
       "<style scoped>\n",
       "    .dataframe tbody tr th:only-of-type {\n",
       "        vertical-align: middle;\n",
       "    }\n",
       "\n",
       "    .dataframe tbody tr th {\n",
       "        vertical-align: top;\n",
       "    }\n",
       "\n",
       "    .dataframe thead th {\n",
       "        text-align: right;\n",
       "    }\n",
       "</style>\n",
       "<table border=\"1\" class=\"dataframe\">\n",
       "  <thead>\n",
       "    <tr style=\"text-align: right;\">\n",
       "      <th></th>\n",
       "      <th>BHK</th>\n",
       "      <th>Rent</th>\n",
       "      <th>Size</th>\n",
       "      <th>Area Type</th>\n",
       "      <th>City</th>\n",
       "      <th>Furnishing Status</th>\n",
       "      <th>Tenant Preferred</th>\n",
       "      <th>Bathroom</th>\n",
       "    </tr>\n",
       "  </thead>\n",
       "  <tbody>\n",
       "    <tr>\n",
       "      <th>0</th>\n",
       "      <td>2</td>\n",
       "      <td>10000</td>\n",
       "      <td>1100</td>\n",
       "      <td>1</td>\n",
       "      <td>4</td>\n",
       "      <td>0</td>\n",
       "      <td>2</td>\n",
       "      <td>2</td>\n",
       "    </tr>\n",
       "    <tr>\n",
       "      <th>1</th>\n",
       "      <td>2</td>\n",
       "      <td>20000</td>\n",
       "      <td>800</td>\n",
       "      <td>1</td>\n",
       "      <td>4</td>\n",
       "      <td>1</td>\n",
       "      <td>2</td>\n",
       "      <td>1</td>\n",
       "    </tr>\n",
       "    <tr>\n",
       "      <th>2</th>\n",
       "      <td>2</td>\n",
       "      <td>17000</td>\n",
       "      <td>1000</td>\n",
       "      <td>1</td>\n",
       "      <td>4</td>\n",
       "      <td>1</td>\n",
       "      <td>2</td>\n",
       "      <td>1</td>\n",
       "    </tr>\n",
       "    <tr>\n",
       "      <th>3</th>\n",
       "      <td>2</td>\n",
       "      <td>10000</td>\n",
       "      <td>800</td>\n",
       "      <td>1</td>\n",
       "      <td>4</td>\n",
       "      <td>0</td>\n",
       "      <td>2</td>\n",
       "      <td>1</td>\n",
       "    </tr>\n",
       "    <tr>\n",
       "      <th>4</th>\n",
       "      <td>2</td>\n",
       "      <td>7500</td>\n",
       "      <td>850</td>\n",
       "      <td>0</td>\n",
       "      <td>4</td>\n",
       "      <td>0</td>\n",
       "      <td>1</td>\n",
       "      <td>1</td>\n",
       "    </tr>\n",
       "  </tbody>\n",
       "</table>\n",
       "</div>"
      ],
      "text/plain": [
       "   BHK   Rent  Size  Area Type  City  Furnishing Status  Tenant Preferred  \\\n",
       "0    2  10000  1100          1     4                  0                 2   \n",
       "1    2  20000   800          1     4                  1                 2   \n",
       "2    2  17000  1000          1     4                  1                 2   \n",
       "3    2  10000   800          1     4                  0                 2   \n",
       "4    2   7500   850          0     4                  0                 1   \n",
       "\n",
       "   Bathroom  \n",
       "0         2  \n",
       "1         1  \n",
       "2         1  \n",
       "3         1  \n",
       "4         1  "
      ]
     },
     "execution_count": 406,
     "metadata": {},
     "output_type": "execute_result"
    }
   ],
   "source": [
    "hd2.head()"
   ]
  },
  {
   "cell_type": "code",
   "execution_count": 407,
   "id": "97aa280b",
   "metadata": {},
   "outputs": [],
   "source": [
    "scaler1 = MinMaxScaler()\n",
    "scaler2 = StandardScaler()\n",
    "fin1 = scaler1.fit_transform(hd1[['Size']].values.reshape(-1, 1))\n",
    "fin2 = scaler2.fit_transform(hd2[['Size']].values.reshape(-1, 1))\n",
    "hd1['Size_Scaled_MinMax'] = fin1\n",
    "hd2['Size_Standardized'] = fin2"
   ]
  },
  {
   "cell_type": "code",
   "execution_count": 408,
   "id": "7c6ce591",
   "metadata": {},
   "outputs": [],
   "source": [
    "hd1.drop(columns=['Size'], inplace = True)\n",
    "hd2.drop(columns=['Size'], inplace = True)"
   ]
  },
  {
   "cell_type": "code",
   "execution_count": 409,
   "id": "23bdcd6a",
   "metadata": {},
   "outputs": [],
   "source": [
    "hd1.rename(columns = {'Size_Scaled_MinMax':'Size_MM'}, inplace = True)\n",
    "hd2.rename(columns = {'Size_Standardized':'Size_STD'}, inplace = True)"
   ]
  },
  {
   "cell_type": "code",
   "execution_count": 410,
   "id": "d9c33c9d",
   "metadata": {},
   "outputs": [
    {
     "data": {
      "text/html": [
       "<div>\n",
       "<style scoped>\n",
       "    .dataframe tbody tr th:only-of-type {\n",
       "        vertical-align: middle;\n",
       "    }\n",
       "\n",
       "    .dataframe tbody tr th {\n",
       "        vertical-align: top;\n",
       "    }\n",
       "\n",
       "    .dataframe thead th {\n",
       "        text-align: right;\n",
       "    }\n",
       "</style>\n",
       "<table border=\"1\" class=\"dataframe\">\n",
       "  <thead>\n",
       "    <tr style=\"text-align: right;\">\n",
       "      <th></th>\n",
       "      <th>BHK</th>\n",
       "      <th>Rent</th>\n",
       "      <th>Area Type</th>\n",
       "      <th>City</th>\n",
       "      <th>Furnishing Status</th>\n",
       "      <th>Tenant Preferred</th>\n",
       "      <th>Bathroom</th>\n",
       "      <th>Size_MM</th>\n",
       "    </tr>\n",
       "  </thead>\n",
       "  <tbody>\n",
       "    <tr>\n",
       "      <th>0</th>\n",
       "      <td>2</td>\n",
       "      <td>10000</td>\n",
       "      <td>1</td>\n",
       "      <td>4</td>\n",
       "      <td>0</td>\n",
       "      <td>2</td>\n",
       "      <td>2</td>\n",
       "      <td>0.136421</td>\n",
       "    </tr>\n",
       "    <tr>\n",
       "      <th>1</th>\n",
       "      <td>2</td>\n",
       "      <td>20000</td>\n",
       "      <td>1</td>\n",
       "      <td>4</td>\n",
       "      <td>1</td>\n",
       "      <td>2</td>\n",
       "      <td>1</td>\n",
       "      <td>0.098874</td>\n",
       "    </tr>\n",
       "    <tr>\n",
       "      <th>2</th>\n",
       "      <td>2</td>\n",
       "      <td>17000</td>\n",
       "      <td>1</td>\n",
       "      <td>4</td>\n",
       "      <td>1</td>\n",
       "      <td>2</td>\n",
       "      <td>1</td>\n",
       "      <td>0.123905</td>\n",
       "    </tr>\n",
       "    <tr>\n",
       "      <th>3</th>\n",
       "      <td>2</td>\n",
       "      <td>10000</td>\n",
       "      <td>1</td>\n",
       "      <td>4</td>\n",
       "      <td>0</td>\n",
       "      <td>2</td>\n",
       "      <td>1</td>\n",
       "      <td>0.098874</td>\n",
       "    </tr>\n",
       "    <tr>\n",
       "      <th>4</th>\n",
       "      <td>2</td>\n",
       "      <td>7500</td>\n",
       "      <td>0</td>\n",
       "      <td>4</td>\n",
       "      <td>0</td>\n",
       "      <td>1</td>\n",
       "      <td>1</td>\n",
       "      <td>0.105131</td>\n",
       "    </tr>\n",
       "  </tbody>\n",
       "</table>\n",
       "</div>"
      ],
      "text/plain": [
       "   BHK   Rent  Area Type  City  Furnishing Status  Tenant Preferred  Bathroom  \\\n",
       "0    2  10000          1     4                  0                 2         2   \n",
       "1    2  20000          1     4                  1                 2         1   \n",
       "2    2  17000          1     4                  1                 2         1   \n",
       "3    2  10000          1     4                  0                 2         1   \n",
       "4    2   7500          0     4                  0                 1         1   \n",
       "\n",
       "    Size_MM  \n",
       "0  0.136421  \n",
       "1  0.098874  \n",
       "2  0.123905  \n",
       "3  0.098874  \n",
       "4  0.105131  "
      ]
     },
     "execution_count": 410,
     "metadata": {},
     "output_type": "execute_result"
    }
   ],
   "source": [
    "hd1.head()"
   ]
  },
  {
   "cell_type": "code",
   "execution_count": 411,
   "id": "be0e6913",
   "metadata": {},
   "outputs": [
    {
     "data": {
      "text/html": [
       "<div>\n",
       "<style scoped>\n",
       "    .dataframe tbody tr th:only-of-type {\n",
       "        vertical-align: middle;\n",
       "    }\n",
       "\n",
       "    .dataframe tbody tr th {\n",
       "        vertical-align: top;\n",
       "    }\n",
       "\n",
       "    .dataframe thead th {\n",
       "        text-align: right;\n",
       "    }\n",
       "</style>\n",
       "<table border=\"1\" class=\"dataframe\">\n",
       "  <thead>\n",
       "    <tr style=\"text-align: right;\">\n",
       "      <th></th>\n",
       "      <th>BHK</th>\n",
       "      <th>Rent</th>\n",
       "      <th>Area Type</th>\n",
       "      <th>City</th>\n",
       "      <th>Furnishing Status</th>\n",
       "      <th>Tenant Preferred</th>\n",
       "      <th>Bathroom</th>\n",
       "      <th>Size_STD</th>\n",
       "    </tr>\n",
       "  </thead>\n",
       "  <tbody>\n",
       "    <tr>\n",
       "      <th>0</th>\n",
       "      <td>2</td>\n",
       "      <td>10000</td>\n",
       "      <td>1</td>\n",
       "      <td>4</td>\n",
       "      <td>0</td>\n",
       "      <td>2</td>\n",
       "      <td>2</td>\n",
       "      <td>0.283326</td>\n",
       "    </tr>\n",
       "    <tr>\n",
       "      <th>1</th>\n",
       "      <td>2</td>\n",
       "      <td>20000</td>\n",
       "      <td>1</td>\n",
       "      <td>4</td>\n",
       "      <td>1</td>\n",
       "      <td>2</td>\n",
       "      <td>1</td>\n",
       "      <td>-0.232711</td>\n",
       "    </tr>\n",
       "    <tr>\n",
       "      <th>2</th>\n",
       "      <td>2</td>\n",
       "      <td>17000</td>\n",
       "      <td>1</td>\n",
       "      <td>4</td>\n",
       "      <td>1</td>\n",
       "      <td>2</td>\n",
       "      <td>1</td>\n",
       "      <td>0.111314</td>\n",
       "    </tr>\n",
       "    <tr>\n",
       "      <th>3</th>\n",
       "      <td>2</td>\n",
       "      <td>10000</td>\n",
       "      <td>1</td>\n",
       "      <td>4</td>\n",
       "      <td>0</td>\n",
       "      <td>2</td>\n",
       "      <td>1</td>\n",
       "      <td>-0.232711</td>\n",
       "    </tr>\n",
       "    <tr>\n",
       "      <th>4</th>\n",
       "      <td>2</td>\n",
       "      <td>7500</td>\n",
       "      <td>0</td>\n",
       "      <td>4</td>\n",
       "      <td>0</td>\n",
       "      <td>1</td>\n",
       "      <td>1</td>\n",
       "      <td>-0.146705</td>\n",
       "    </tr>\n",
       "  </tbody>\n",
       "</table>\n",
       "</div>"
      ],
      "text/plain": [
       "   BHK   Rent  Area Type  City  Furnishing Status  Tenant Preferred  Bathroom  \\\n",
       "0    2  10000          1     4                  0                 2         2   \n",
       "1    2  20000          1     4                  1                 2         1   \n",
       "2    2  17000          1     4                  1                 2         1   \n",
       "3    2  10000          1     4                  0                 2         1   \n",
       "4    2   7500          0     4                  0                 1         1   \n",
       "\n",
       "   Size_STD  \n",
       "0  0.283326  \n",
       "1 -0.232711  \n",
       "2  0.111314  \n",
       "3 -0.232711  \n",
       "4 -0.146705  "
      ]
     },
     "execution_count": 411,
     "metadata": {},
     "output_type": "execute_result"
    }
   ],
   "source": [
    "hd2.head()"
   ]
  },
  {
   "cell_type": "markdown",
   "id": "f4bbed59",
   "metadata": {},
   "source": [
    "### Train-Test Split and Model Training"
   ]
  },
  {
   "cell_type": "code",
   "execution_count": 412,
   "id": "1f6cfcac",
   "metadata": {},
   "outputs": [],
   "source": [
    "X = hd1.drop(columns='Rent')\n",
    "y = hd1['Rent']\n",
    "# X = hd2.drop(columns='Rent')\n",
    "# y = hd2['Rent']"
   ]
  },
  {
   "cell_type": "code",
   "execution_count": 413,
   "id": "bd8e2b34",
   "metadata": {},
   "outputs": [],
   "source": [
    "X_train, X_test, y_train, y_test = train_test_split(X, y, test_size=0.25, random_state=120)"
   ]
  },
  {
   "cell_type": "code",
   "execution_count": 414,
   "id": "869cb169",
   "metadata": {},
   "outputs": [
    {
     "name": "stdout",
     "output_type": "stream",
     "text": [
      "Linear Regression RMSE: 22898.04 (+/- 985.52)\n",
      "Random Forest RMSE: 17025.80 (+/- 800.46)\n",
      "Gradient Boosting RMSE: 16135.08 (+/- 1136.60)\n",
      "SVR RMSE: 34064.01 (+/- 2074.77)\n",
      "Lasso RMSE: 22898.02 (+/- 985.61)\n",
      "Ridge RMSE: 22903.29 (+/- 984.59)\n",
      "Decision Tree RMSE: 20797.08 (+/- 1247.54)\n",
      "K-Nearest Neighbors RMSE: 18029.65 (+/- 519.65)\n"
     ]
    }
   ],
   "source": [
    "models = {\n",
    "    \"Linear Regression\": LinearRegression(),\n",
    "    \"Random Forest\": RandomForestRegressor(),\n",
    "    \"Gradient Boosting\": GradientBoostingRegressor(),\n",
    "    \"SVR\": SVR(),\n",
    "    \"Lasso\": Lasso(),\n",
    "    \"Ridge\": Ridge(),\n",
    "    \"Decision Tree\": DecisionTreeRegressor(),\n",
    "    \"K-Nearest Neighbors\": KNeighborsRegressor()\n",
    "}\n",
    "\n",
    "# Iterating through each model and performing cross-validation\n",
    "for model_name, model in models.items():\n",
    "    scores = cross_val_score(model, X_train, y_train, cv=5, scoring='neg_mean_squared_error')\n",
    "    rmse_scores = np.sqrt(-scores)  # Convert negative MSE to RMSE\n",
    "    mean_rmse = rmse_scores.mean()\n",
    "    std_rmse = rmse_scores.std()\n",
    "    print(f\"{model_name} RMSE: {mean_rmse:.2f} (+/- {std_rmse:.2f})\")\n",
    "    #                                           ^       ^\n",
    "    # It represents the amount of variation or spread in RMSE values "
   ]
  },
  {
   "attachments": {
    "image.png": {
     "image/png": "[encoded data removed]"
    }
   },
   "cell_type": "markdown",
   "id": "8b885b1f",
   "metadata": {},
   "source": [
    "Cross-validation refers to the number of folds or partitions that your dataset is split into for cross-validation. It is commonly known as \"k\" in k-fold cross-validation. In this case, cv=5 means that your dataset is divided into 5 equal parts, or \"folds.\" <br><br>\n",
    "![image.png](attachment:image.png)"
   ]
  },
  {
   "cell_type": "code",
   "execution_count": 415,
   "id": "e1712744",
   "metadata": {},
   "outputs": [
    {
     "data": {
      "text/html": [
       "<style>#sk-container-id-6 {color: black;}#sk-container-id-6 pre{padding: 0;}#sk-container-id-6 div.sk-toggleable {background-color: white;}#sk-container-id-6 label.sk-toggleable__label {cursor: pointer;display: block;width: 100%;margin-bottom: 0;padding: 0.3em;box-sizing: border-box;text-align: center;}#sk-container-id-6 label.sk-toggleable__label-arrow:before {content: \"▸\";float: left;margin-right: 0.25em;color: #696969;}#sk-container-id-6 label.sk-toggleable__label-arrow:hover:before {color: black;}#sk-container-id-6 div.sk-estimator:hover label.sk-toggleable__label-arrow:before {color: black;}#sk-container-id-6 div.sk-toggleable__content {max-height: 0;max-width: 0;overflow: hidden;text-align: left;background-color: #f0f8ff;}#sk-container-id-6 div.sk-toggleable__content pre {margin: 0.2em;color: black;border-radius: 0.25em;background-color: #f0f8ff;}#sk-container-id-6 input.sk-toggleable__control:checked~div.sk-toggleable__content {max-height: 200px;max-width: 100%;overflow: auto;}#sk-container-id-6 input.sk-toggleable__control:checked~label.sk-toggleable__label-arrow:before {content: \"▾\";}#sk-container-id-6 div.sk-estimator input.sk-toggleable__control:checked~label.sk-toggleable__label {background-color: #d4ebff;}#sk-container-id-6 div.sk-label input.sk-toggleable__control:checked~label.sk-toggleable__label {background-color: #d4ebff;}#sk-container-id-6 input.sk-hidden--visually {border: 0;clip: rect(1px 1px 1px 1px);clip: rect(1px, 1px, 1px, 1px);height: 1px;margin: -1px;overflow: hidden;padding: 0;position: absolute;width: 1px;}#sk-container-id-6 div.sk-estimator {font-family: monospace;background-color: #f0f8ff;border: 1px dotted black;border-radius: 0.25em;box-sizing: border-box;margin-bottom: 0.5em;}#sk-container-id-6 div.sk-estimator:hover {background-color: #d4ebff;}#sk-container-id-6 div.sk-parallel-item::after {content: \"\";width: 100%;border-bottom: 1px solid gray;flex-grow: 1;}#sk-container-id-6 div.sk-label:hover label.sk-toggleable__label {background-color: #d4ebff;}#sk-container-id-6 div.sk-serial::before {content: \"\";position: absolute;border-left: 1px solid gray;box-sizing: border-box;top: 0;bottom: 0;left: 50%;z-index: 0;}#sk-container-id-6 div.sk-serial {display: flex;flex-direction: column;align-items: center;background-color: white;padding-right: 0.2em;padding-left: 0.2em;position: relative;}#sk-container-id-6 div.sk-item {position: relative;z-index: 1;}#sk-container-id-6 div.sk-parallel {display: flex;align-items: stretch;justify-content: center;background-color: white;position: relative;}#sk-container-id-6 div.sk-item::before, #sk-container-id-6 div.sk-parallel-item::before {content: \"\";position: absolute;border-left: 1px solid gray;box-sizing: border-box;top: 0;bottom: 0;left: 50%;z-index: -1;}#sk-container-id-6 div.sk-parallel-item {display: flex;flex-direction: column;z-index: 1;position: relative;background-color: white;}#sk-container-id-6 div.sk-parallel-item:first-child::after {align-self: flex-end;width: 50%;}#sk-container-id-6 div.sk-parallel-item:last-child::after {align-self: flex-start;width: 50%;}#sk-container-id-6 div.sk-parallel-item:only-child::after {width: 0;}#sk-container-id-6 div.sk-dashed-wrapped {border: 1px dashed gray;margin: 0 0.4em 0.5em 0.4em;box-sizing: border-box;padding-bottom: 0.4em;background-color: white;}#sk-container-id-6 div.sk-label label {font-family: monospace;font-weight: bold;display: inline-block;line-height: 1.2em;}#sk-container-id-6 div.sk-label-container {text-align: center;}#sk-container-id-6 div.sk-container {/* jupyter's `normalize.less` sets `[hidden] { display: none; }` but bootstrap.min.css set `[hidden] { display: none !important; }` so we also need the `!important` here to be able to override the default hidden behavior on the sphinx rendered scikit-learn.org. See: https://github.com/scikit-learn/scikit-learn/issues/21755 */display: inline-block !important;position: relative;}#sk-container-id-6 div.sk-text-repr-fallback {display: none;}</style><div id=\"sk-container-id-6\" class=\"sk-top-container\"><div class=\"sk-text-repr-fallback\"><pre>GradientBoostingRegressor()</pre><b>In a Jupyter environment, please rerun this cell to show the HTML representation or trust the notebook. <br />On GitHub, the HTML representation is unable to render, please try loading this page with nbviewer.org.</b></div><div class=\"sk-container\" hidden><div class=\"sk-item\"><div class=\"sk-estimator sk-toggleable\"><input class=\"sk-toggleable__control sk-hidden--visually\" id=\"sk-estimator-id-6\" type=\"checkbox\" checked><label for=\"sk-estimator-id-6\" class=\"sk-toggleable__label sk-toggleable__label-arrow\">GradientBoostingRegressor</label><div class=\"sk-toggleable__content\"><pre>GradientBoostingRegressor()</pre></div></div></div></div></div>"
      ],
      "text/plain": [
       "GradientBoostingRegressor()"
      ]
     },
     "execution_count": 415,
     "metadata": {},
     "output_type": "execute_result"
    }
   ],
   "source": [
    "model = GradientBoostingRegressor()\n",
    "model.fit(X_train, y_train)"
   ]
  },
  {
   "cell_type": "code",
   "execution_count": 416,
   "id": "378dc0d3",
   "metadata": {},
   "outputs": [],
   "source": [
    "y_pred = model.predict(X_test)"
   ]
  },
  {
   "cell_type": "code",
   "execution_count": 417,
   "id": "14ab6dee",
   "metadata": {},
   "outputs": [
    {
     "name": "stdout",
     "output_type": "stream",
     "text": [
      "(3483, 7)\n",
      "7\n"
     ]
    }
   ],
   "source": [
    "print(X_train.shape)\n",
    "print(X_train.shape[1])"
   ]
  },
  {
   "cell_type": "code",
   "execution_count": 418,
   "id": "2cfe11ed",
   "metadata": {},
   "outputs": [
    {
     "name": "stdout",
     "output_type": "stream",
     "text": [
      "The MSE: 246227699.307\n",
      "The RMSE: 15691.644\n",
      "The MAE: 8715.541\n",
      "The R^2: 0.76\n",
      "The ADJ_R^2: 0.75\n"
     ]
    }
   ],
   "source": [
    "MSE = mean_squared_error(y_test, y_pred)\n",
    "MAE = mean_absolute_error(y_test, y_pred)\n",
    "R2S = r2_score(y_test, y_pred)\n",
    "RMSE = math.sqrt(MSE)\n",
    "# Adjusted R^2\n",
    "n = len(y_test)\n",
    "p = X_train.shape[1] \n",
    "ADJ_R2S = 1 - (1 - R2S) * (n - 1) / (n - p - 1)\n",
    "print(\"The MSE:\", round(MSE,3))\n",
    "print(\"The RMSE:\", round(RMSE,3))\n",
    "print(\"The MAE:\", round(MAE,3))\n",
    "print(\"The R^2:\", round(R2S, 2))\n",
    "print(\"The ADJ_R^2:\", round(ADJ_R2S, 2))"
   ]
  },
  {
   "cell_type": "markdown",
   "id": "d58e3a8e",
   "metadata": {},
   "source": [
    "### Residual Analysis\n",
    " If all residuals lie exactly on the red line, it indicates that the model perfectly fits the data, but that doesn't necessarily mean it's the best model. It might be overfitting the data. We want the residuals to be randomly scattered around the red line, showing no clear patterns or trends, which indicates that the model's assumptions (homoscedasticity and normality) are met."
   ]
  },
  {
   "cell_type": "code",
   "execution_count": 419,
   "id": "e5ad6096",
   "metadata": {},
   "outputs": [],
   "source": [
    "residuals = y_test - y_pred"
   ]
  },
  {
   "cell_type": "code",
   "execution_count": 420,
   "id": "ee8d65f8",
   "metadata": {},
   "outputs": [],
   "source": [
    "data = {'Predicted' : y_pred,\n",
    "           'Residuals' : residuals}\n",
    "analysis = pd.DataFrame(data)"
   ]
  },
  {
   "cell_type": "code",
   "execution_count": 421,
   "id": "a72ea83b",
   "metadata": {},
   "outputs": [
    {
     "data": {
      "image/png": "[encoded data removed]",
      "text/plain": [
       "<Figure size 1000x600 with 1 Axes>"
      ]
     },
     "metadata": {},
     "output_type": "display_data"
    }
   ],
   "source": [
    "# Check for normality of residuals using a histogram and Q-Q plot\n",
    "plt.figure(figsize=(10, 6))\n",
    "sns.histplot(residuals, kde=True)\n",
    "plt.title(\"Residuals Histogram\")\n",
    "plt.show()"
   ]
  },
  {
   "cell_type": "code",
   "execution_count": 422,
   "id": "0f0d9dd0",
   "metadata": {},
   "outputs": [
    {
     "data": {
      "image/png": "[encoded data removed]",
      "text/plain": [
       "<Figure size 1200x600 with 1 Axes>"
      ]
     },
     "metadata": {},
     "output_type": "display_data"
    }
   ],
   "source": [
    "plt.figure(figsize=(12,6))\n",
    "plt.scatter(y_pred, residuals)\n",
    "# Setting the red line at y=0\n",
    "plt.axhline(y=0, color='r', linestyle='-')\n",
    "plt.title(\"Residual Plot\")\n",
    "plt.xlabel(\"Predicted Values\")\n",
    "plt.ylabel(\"Residuals\")\n",
    "plt.show()"
   ]
  },
  {
   "cell_type": "code",
   "execution_count": 423,
   "id": "f7e4e737",
   "metadata": {},
   "outputs": [
    {
     "data": {
      "image/png": "[encoded data removed]",
      "text/plain": [
       "<Figure size 1200x600 with 1 Axes>"
      ]
     },
     "metadata": {},
     "output_type": "display_data"
    }
   ],
   "source": [
    "import scipy.stats as stats\n",
    "import pylab\n",
    "# Check for normality of residuals using a Q-Q plot\n",
    "plt.figure(figsize=(12, 6))\n",
    "stats.probplot(residuals, dist=\"norm\", plot=pylab)\n",
    "pylab.title(\"Q-Q Plot\")\n",
    "pylab.show()"
   ]
  },
  {
   "cell_type": "markdown",
   "id": "9b3f38a4",
   "metadata": {},
   "source": [
    "### Hyper-Parameter Tuning"
   ]
  },
  {
   "cell_type": "code",
   "execution_count": 424,
   "id": "84d00b80",
   "metadata": {},
   "outputs": [],
   "source": [
    "parameter_grid = {\n",
    "    'n_estimators': [100, 200, 300],\n",
    "    'max_depth': [None, 10, 20],\n",
    "    'learning_rate': [0.01, 0.1, 0.2],\n",
    "}"
   ]
  },
  {
   "cell_type": "code",
   "execution_count": 425,
   "id": "679b5b27",
   "metadata": {},
   "outputs": [],
   "source": [
    "grid_search = GridSearchCV(estimator=model, param_grid=parameter_grid,\n",
    "                          scoring='neg_mean_squared_error', cv=5, n_jobs=-1)\n",
    "# n_jobs speeds up HP tuning process by leveraging multiple CPU cores for parallel processing.\n",
    "\n",
    "random_search = RandomizedSearchCV(estimator=model, \n",
    "                                   param_distributions=parameter_grid,scoring='neg_mean_squared_error'\n",
    "                                   ,cv=5, n_iter=10 ,n_jobs=-1)\n",
    "# n_iters determines how many random combination of HP will be evaluated during RandomizedSearch"
   ]
  },
  {
   "cell_type": "code",
   "execution_count": 426,
   "id": "b6438a63",
   "metadata": {},
   "outputs": [],
   "source": [
    "# grid_search.fit(X_train, y_train)\n",
    "# best_parameter = grid_search.best_params_"
   ]
  },
  {
   "cell_type": "markdown",
   "id": "feca39bb",
   "metadata": {},
   "source": [
    "### Feature Importance"
   ]
  },
  {
   "cell_type": "code",
   "execution_count": 427,
   "id": "d10e1f9a",
   "metadata": {},
   "outputs": [],
   "source": [
    "# features_imp = model.feature_importances_\n",
    "# importance = sorted(zip(features_imp, X_train.columns), reverse=True)\n",
    "# for imp, feat in importance:\n",
    "#     print(feat, \":\", round(imp, 3))"
   ]
  }
 ],
 "metadata": {
  "kernelspec": {
   "display_name": "Python 3 (ipykernel)",
   "language": "python",
   "name": "python3"
  },
  "language_info": {
   "codemirror_mode": {
    "name": "ipython",
    "version": 3
   },
   "file_extension": ".py",
   "mimetype": "text/x-python",
   "name": "python",
   "nbconvert_exporter": "python",
   "pygments_lexer": "ipython3",
   "version": "3.10.13"
  }
 },
 "nbformat": 4,
 "nbformat_minor": 5
}
