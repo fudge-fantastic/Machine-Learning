{
 "cells": [
  {
   "cell_type": "markdown",
   "id": "b45ce74d",
   "metadata": {},
   "source": [
    "---\n",
    "# House Rent Prediction\n",
    "---"
   ]
  },
  {
   "cell_type": "markdown",
   "id": "38722ebd",
   "metadata": {},
   "source": [
    "#### Check out the Dataset-Glossory.txt and readme.txt file"
   ]
  },
  {
   "cell_type": "markdown",
   "id": "d5bd7cfc",
   "metadata": {},
   "source": [
    "| Column Name       | Description                                                |\n",
    "|-------------------|------------------------------------------------------------|\n",
    "| BHK               | Number of Bedrooms, Hall, Kitchen                          |\n",
    "| Rent              | Rent of the Houses/Apartments/Flats                        |\n",
    "| Size              | Size of the Houses/Apartments/Flats in Square Feet         |\n",
    "| Floor             | Houses/Apartments/Flats situated in which Floor and Total Number of Floors (Example: Ground out of 2, 3 out of 5, etc.) |\n",
    "| Area Type         | Size of the Houses/Apartments/Flats calculated on either Super Area or Carpet Area or Build Area |\n",
    "| Area Locality     | Locality of the Houses/Apartments/Flats                   |\n",
    "| City              | City where the Houses/Apartments/Flats are Located        |\n",
    "| Furnishing Status | Furnishing Status of the Houses/Apartments/Flats, either it is Furnished or Semi-Furnished or Unfurnished |\n",
    "| Tenant Preferred  | Type of Tenant Preferred by the Owner or Agent            |\n",
    "| Bathroom          | Number of Bathrooms                                       |\n",
    "| Point of Contact  | Whom should you contact for more information regarding the Houses/Apartments/Flats |"
   ]
  },
  {
   "cell_type": "markdown",
   "id": "fe7c83ff",
   "metadata": {},
   "source": [
    "### Import Libraries"
   ]
  },
  {
   "cell_type": "code",
   "execution_count": 97,
   "id": "4acb5dd1",
   "metadata": {},
   "outputs": [],
   "source": [
    "import os\n",
    "import math\n",
    "import pandas as pd\n",
    "import numpy as np\n",
    "import warnings\n",
    "warnings.filterwarnings('ignore')\n",
    "import statistics\n",
    "\n",
    "import matplotlib.pyplot as plt\n",
    "%matplotlib inline\n",
    "import seaborn as sns\n",
    "\n",
    "import keras\n",
    "import tensorflow as tf\n",
    "from sklearn import metrics\n",
    "from scipy.stats import stats\n",
    "from sklearn.model_selection import train_test_split, cross_val_score, GridSearchCV, RandomizedSearchCV\n",
    "from sklearn.svm import SVR\n",
    "from sklearn.tree import DecisionTreeRegressor\n",
    "from sklearn.neighbors import KNeighborsRegressor\n",
    "from sklearn.linear_model import LinearRegression, Lasso, Ridge\n",
    "from sklearn.ensemble import RandomForestRegressor, GradientBoostingRegressor\n",
    "from sklearn.preprocessing import LabelEncoder, MinMaxScaler, StandardScaler, RobustScaler\n",
    "from sklearn.metrics import mean_absolute_error, mean_squared_error, r2_score"
   ]
  },
  {
   "cell_type": "code",
   "execution_count": 98,
   "id": "c435457b",
   "metadata": {},
   "outputs": [
    {
     "name": "stdout",
     "output_type": "stream",
     "text": [
      "(rows, columns) : (4746, 12)\n"
     ]
    },
    {
     "data": {
      "text/html": [
       "<div>\n",
       "<style scoped>\n",
       "    .dataframe tbody tr th:only-of-type {\n",
       "        vertical-align: middle;\n",
       "    }\n",
       "\n",
       "    .dataframe tbody tr th {\n",
       "        vertical-align: top;\n",
       "    }\n",
       "\n",
       "    .dataframe thead th {\n",
       "        text-align: right;\n",
       "    }\n",
       "</style>\n",
       "<table border=\"1\" class=\"dataframe\">\n",
       "  <thead>\n",
       "    <tr style=\"text-align: right;\">\n",
       "      <th></th>\n",
       "      <th>Posted On</th>\n",
       "      <th>BHK</th>\n",
       "      <th>Rent</th>\n",
       "      <th>Size</th>\n",
       "      <th>Floor</th>\n",
       "      <th>Area Type</th>\n",
       "      <th>Area Locality</th>\n",
       "      <th>City</th>\n",
       "      <th>Furnishing Status</th>\n",
       "      <th>Tenant Preferred</th>\n",
       "      <th>Bathroom</th>\n",
       "      <th>Point of Contact</th>\n",
       "    </tr>\n",
       "  </thead>\n",
       "  <tbody>\n",
       "    <tr>\n",
       "      <th>1586</th>\n",
       "      <td>2022-04-28</td>\n",
       "      <td>2</td>\n",
       "      <td>15000</td>\n",
       "      <td>1200</td>\n",
       "      <td>1 out of 3</td>\n",
       "      <td>Super Area</td>\n",
       "      <td>Jp Nagar Phase 1, J P Nagar</td>\n",
       "      <td>Bangalore</td>\n",
       "      <td>Semi-Furnished</td>\n",
       "      <td>Bachelors/Family</td>\n",
       "      <td>2</td>\n",
       "      <td>Contact Owner</td>\n",
       "    </tr>\n",
       "    <tr>\n",
       "      <th>3572</th>\n",
       "      <td>2022-05-25</td>\n",
       "      <td>2</td>\n",
       "      <td>18000</td>\n",
       "      <td>1000</td>\n",
       "      <td>1 out of 2</td>\n",
       "      <td>Super Area</td>\n",
       "      <td>Sholinganallur</td>\n",
       "      <td>Chennai</td>\n",
       "      <td>Unfurnished</td>\n",
       "      <td>Bachelors/Family</td>\n",
       "      <td>2</td>\n",
       "      <td>Contact Owner</td>\n",
       "    </tr>\n",
       "    <tr>\n",
       "      <th>2503</th>\n",
       "      <td>2022-04-29</td>\n",
       "      <td>1</td>\n",
       "      <td>25000</td>\n",
       "      <td>800</td>\n",
       "      <td>4 out of 5</td>\n",
       "      <td>Super Area</td>\n",
       "      <td>Mukherjee Nagar</td>\n",
       "      <td>Delhi</td>\n",
       "      <td>Furnished</td>\n",
       "      <td>Bachelors/Family</td>\n",
       "      <td>2</td>\n",
       "      <td>Contact Owner</td>\n",
       "    </tr>\n",
       "    <tr>\n",
       "      <th>3882</th>\n",
       "      <td>2022-05-12</td>\n",
       "      <td>2</td>\n",
       "      <td>12000</td>\n",
       "      <td>647</td>\n",
       "      <td>2 out of 3</td>\n",
       "      <td>Super Area</td>\n",
       "      <td>Moti Nagar</td>\n",
       "      <td>Hyderabad</td>\n",
       "      <td>Unfurnished</td>\n",
       "      <td>Bachelors/Family</td>\n",
       "      <td>1</td>\n",
       "      <td>Contact Owner</td>\n",
       "    </tr>\n",
       "    <tr>\n",
       "      <th>186</th>\n",
       "      <td>2022-05-27</td>\n",
       "      <td>2</td>\n",
       "      <td>18000</td>\n",
       "      <td>600</td>\n",
       "      <td>Ground out of 3</td>\n",
       "      <td>Super Area</td>\n",
       "      <td>Bagha Jatin Pally</td>\n",
       "      <td>Kolkata</td>\n",
       "      <td>Semi-Furnished</td>\n",
       "      <td>Bachelors/Family</td>\n",
       "      <td>2</td>\n",
       "      <td>Contact Owner</td>\n",
       "    </tr>\n",
       "  </tbody>\n",
       "</table>\n",
       "</div>"
      ],
      "text/plain": [
       "       Posted On  BHK   Rent  Size            Floor   Area Type  \\\n",
       "1586  2022-04-28    2  15000  1200       1 out of 3  Super Area   \n",
       "3572  2022-05-25    2  18000  1000       1 out of 2  Super Area   \n",
       "2503  2022-04-29    1  25000   800       4 out of 5  Super Area   \n",
       "3882  2022-05-12    2  12000   647       2 out of 3  Super Area   \n",
       "186   2022-05-27    2  18000   600  Ground out of 3  Super Area   \n",
       "\n",
       "                    Area Locality       City Furnishing Status  \\\n",
       "1586  Jp Nagar Phase 1, J P Nagar  Bangalore    Semi-Furnished   \n",
       "3572               Sholinganallur    Chennai       Unfurnished   \n",
       "2503              Mukherjee Nagar      Delhi         Furnished   \n",
       "3882                   Moti Nagar  Hyderabad       Unfurnished   \n",
       "186             Bagha Jatin Pally    Kolkata    Semi-Furnished   \n",
       "\n",
       "      Tenant Preferred  Bathroom Point of Contact  \n",
       "1586  Bachelors/Family         2    Contact Owner  \n",
       "3572  Bachelors/Family         2    Contact Owner  \n",
       "2503  Bachelors/Family         2    Contact Owner  \n",
       "3882  Bachelors/Family         1    Contact Owner  \n",
       "186   Bachelors/Family         2    Contact Owner  "
      ]
     },
     "execution_count": 98,
     "metadata": {},
     "output_type": "execute_result"
    }
   ],
   "source": [
    "hd = pd.read_csv('House_Rent_Dataset.csv')\n",
    "print(\"(rows, columns) :\", hd.shape)\n",
    "hd.sample(5)"
   ]
  },
  {
   "cell_type": "code",
   "execution_count": 99,
   "id": "e9a81f36",
   "metadata": {},
   "outputs": [
    {
     "name": "stdout",
     "output_type": "stream",
     "text": [
      "<class 'pandas.core.frame.DataFrame'>\n",
      "RangeIndex: 4746 entries, 0 to 4745\n",
      "Data columns (total 12 columns):\n",
      " #   Column             Non-Null Count  Dtype \n",
      "---  ------             --------------  ----- \n",
      " 0   Posted On          4746 non-null   object\n",
      " 1   BHK                4746 non-null   int64 \n",
      " 2   Rent               4746 non-null   int64 \n",
      " 3   Size               4746 non-null   int64 \n",
      " 4   Floor              4746 non-null   object\n",
      " 5   Area Type          4746 non-null   object\n",
      " 6   Area Locality      4746 non-null   object\n",
      " 7   City               4746 non-null   object\n",
      " 8   Furnishing Status  4746 non-null   object\n",
      " 9   Tenant Preferred   4746 non-null   object\n",
      " 10  Bathroom           4746 non-null   int64 \n",
      " 11  Point of Contact   4746 non-null   object\n",
      "dtypes: int64(4), object(8)\n",
      "memory usage: 445.1+ KB\n"
     ]
    }
   ],
   "source": [
    "hd.info()"
   ]
  },
  {
   "cell_type": "code",
   "execution_count": 100,
   "id": "87c06f32",
   "metadata": {},
   "outputs": [],
   "source": [
    "# hd.isnull().sum()\n",
    "# No null values"
   ]
  },
  {
   "cell_type": "markdown",
   "id": "d293a514",
   "metadata": {},
   "source": [
    "### Dealing with Outliers"
   ]
  },
  {
   "cell_type": "code",
   "execution_count": 101,
   "id": "6e2352e3",
   "metadata": {},
   "outputs": [],
   "source": [
    "def var_summary(x):\n",
    "# UC = MEAN + 2 STD\n",
    "    uc = x.mean()+(2*x.std())\n",
    "    lc = x.mean()-(2*x.std())\n",
    "    \n",
    "    for i in x:\n",
    "        if i<lc or i>uc:\n",
    "            count = 1             # This means that column is having an OUTLier\n",
    "        else:\n",
    "            count = 0             # That column in not having an outliers\n",
    "            \n",
    "    outlier_flag = count\n",
    "    return pd.Series([x.count(), x.isnull().sum(), x.sum(), x.mean(), x.median(),  x.std(), \n",
    "                      x.var(), x.min(), x.quantile(0.01), x.quantile(0.05),x.quantile(0.10),\n",
    "                      x.quantile(0.25),x.quantile(0.50),x.quantile(0.75), \n",
    "                      x.quantile(0.90),x.quantile(0.95), x.quantile(0.99),x.max() , \n",
    "                      lc , uc,outlier_flag],\n",
    "                  index=['N', 'NMISS', 'SUM', 'MEAN','MEDIAN', 'STD', 'VAR', 'MIN', \n",
    "                         'P1' , 'P5' ,'P10' ,'P25' ,'P50' ,'P75' ,'P90' ,'P95' ,'P99' ,\n",
    "                         'MAX','LC','UC','outlier_flag'])"
   ]
  },
  {
   "cell_type": "code",
   "execution_count": 102,
   "id": "8a39a64f",
   "metadata": {},
   "outputs": [
    {
     "name": "stdout",
     "output_type": "stream",
     "text": [
      "['BHK', 'Rent', 'Size', 'Bathroom']\n"
     ]
    }
   ],
   "source": [
    "numeric_cols = []\n",
    "for cols in hd:\n",
    "    if hd[cols].dtypes == 'int64':\n",
    "        numeric_cols.append(cols)\n",
    "        \n",
    "print(numeric_cols)"
   ]
  },
  {
   "cell_type": "code",
   "execution_count": 103,
   "id": "17210ec7",
   "metadata": {},
   "outputs": [
    {
     "data": {
      "text/html": [
       "<div>\n",
       "<style scoped>\n",
       "    .dataframe tbody tr th:only-of-type {\n",
       "        vertical-align: middle;\n",
       "    }\n",
       "\n",
       "    .dataframe tbody tr th {\n",
       "        vertical-align: top;\n",
       "    }\n",
       "\n",
       "    .dataframe thead th {\n",
       "        text-align: right;\n",
       "    }\n",
       "</style>\n",
       "<table border=\"1\" class=\"dataframe\">\n",
       "  <thead>\n",
       "    <tr style=\"text-align: right;\">\n",
       "      <th></th>\n",
       "      <th>BHK</th>\n",
       "      <th>Rent</th>\n",
       "      <th>Size</th>\n",
       "      <th>Bathroom</th>\n",
       "    </tr>\n",
       "  </thead>\n",
       "  <tbody>\n",
       "    <tr>\n",
       "      <th>N</th>\n",
       "      <td>4746.000000</td>\n",
       "      <td>4.746000e+03</td>\n",
       "      <td>4.746000e+03</td>\n",
       "      <td>4746.000000</td>\n",
       "    </tr>\n",
       "    <tr>\n",
       "      <th>NMISS</th>\n",
       "      <td>0.000000</td>\n",
       "      <td>0.000000e+00</td>\n",
       "      <td>0.000000e+00</td>\n",
       "      <td>0.000000</td>\n",
       "    </tr>\n",
       "    <tr>\n",
       "      <th>SUM</th>\n",
       "      <td>9890.000000</td>\n",
       "      <td>1.660789e+08</td>\n",
       "      <td>4.591711e+06</td>\n",
       "      <td>9330.000000</td>\n",
       "    </tr>\n",
       "    <tr>\n",
       "      <th>MEAN</th>\n",
       "      <td>2.083860</td>\n",
       "      <td>3.499345e+04</td>\n",
       "      <td>9.674907e+02</td>\n",
       "      <td>1.965866</td>\n",
       "    </tr>\n",
       "    <tr>\n",
       "      <th>MEDIAN</th>\n",
       "      <td>2.000000</td>\n",
       "      <td>1.600000e+04</td>\n",
       "      <td>8.500000e+02</td>\n",
       "      <td>2.000000</td>\n",
       "    </tr>\n",
       "    <tr>\n",
       "      <th>STD</th>\n",
       "      <td>0.832256</td>\n",
       "      <td>7.810641e+04</td>\n",
       "      <td>6.342023e+02</td>\n",
       "      <td>0.884532</td>\n",
       "    </tr>\n",
       "    <tr>\n",
       "      <th>VAR</th>\n",
       "      <td>0.692650</td>\n",
       "      <td>6.100612e+09</td>\n",
       "      <td>4.022126e+05</td>\n",
       "      <td>0.782396</td>\n",
       "    </tr>\n",
       "    <tr>\n",
       "      <th>MIN</th>\n",
       "      <td>1.000000</td>\n",
       "      <td>1.200000e+03</td>\n",
       "      <td>1.000000e+01</td>\n",
       "      <td>1.000000</td>\n",
       "    </tr>\n",
       "    <tr>\n",
       "      <th>P1</th>\n",
       "      <td>1.000000</td>\n",
       "      <td>4.000000e+03</td>\n",
       "      <td>7.000000e+01</td>\n",
       "      <td>1.000000</td>\n",
       "    </tr>\n",
       "    <tr>\n",
       "      <th>P5</th>\n",
       "      <td>1.000000</td>\n",
       "      <td>6.000000e+03</td>\n",
       "      <td>2.000000e+02</td>\n",
       "      <td>1.000000</td>\n",
       "    </tr>\n",
       "    <tr>\n",
       "      <th>P10</th>\n",
       "      <td>1.000000</td>\n",
       "      <td>7.000000e+03</td>\n",
       "      <td>4.000000e+02</td>\n",
       "      <td>1.000000</td>\n",
       "    </tr>\n",
       "    <tr>\n",
       "      <th>P25</th>\n",
       "      <td>2.000000</td>\n",
       "      <td>1.000000e+04</td>\n",
       "      <td>5.500000e+02</td>\n",
       "      <td>1.000000</td>\n",
       "    </tr>\n",
       "    <tr>\n",
       "      <th>P50</th>\n",
       "      <td>2.000000</td>\n",
       "      <td>1.600000e+04</td>\n",
       "      <td>8.500000e+02</td>\n",
       "      <td>2.000000</td>\n",
       "    </tr>\n",
       "    <tr>\n",
       "      <th>P75</th>\n",
       "      <td>3.000000</td>\n",
       "      <td>3.300000e+04</td>\n",
       "      <td>1.200000e+03</td>\n",
       "      <td>2.000000</td>\n",
       "    </tr>\n",
       "    <tr>\n",
       "      <th>P90</th>\n",
       "      <td>3.000000</td>\n",
       "      <td>7.200000e+04</td>\n",
       "      <td>1.700000e+03</td>\n",
       "      <td>3.000000</td>\n",
       "    </tr>\n",
       "    <tr>\n",
       "      <th>P95</th>\n",
       "      <td>3.000000</td>\n",
       "      <td>1.300000e+05</td>\n",
       "      <td>2.000000e+03</td>\n",
       "      <td>3.000000</td>\n",
       "    </tr>\n",
       "    <tr>\n",
       "      <th>P99</th>\n",
       "      <td>4.000000</td>\n",
       "      <td>3.000000e+05</td>\n",
       "      <td>3.289200e+03</td>\n",
       "      <td>5.000000</td>\n",
       "    </tr>\n",
       "    <tr>\n",
       "      <th>MAX</th>\n",
       "      <td>6.000000</td>\n",
       "      <td>3.500000e+06</td>\n",
       "      <td>8.000000e+03</td>\n",
       "      <td>10.000000</td>\n",
       "    </tr>\n",
       "    <tr>\n",
       "      <th>LC</th>\n",
       "      <td>0.419348</td>\n",
       "      <td>-1.212194e+05</td>\n",
       "      <td>-3.009139e+02</td>\n",
       "      <td>0.196803</td>\n",
       "    </tr>\n",
       "    <tr>\n",
       "      <th>UC</th>\n",
       "      <td>3.748372</td>\n",
       "      <td>1.912063e+05</td>\n",
       "      <td>2.235895e+03</td>\n",
       "      <td>3.734929</td>\n",
       "    </tr>\n",
       "    <tr>\n",
       "      <th>outlier_flag</th>\n",
       "      <td>0.000000</td>\n",
       "      <td>0.000000e+00</td>\n",
       "      <td>0.000000e+00</td>\n",
       "      <td>0.000000</td>\n",
       "    </tr>\n",
       "  </tbody>\n",
       "</table>\n",
       "</div>"
      ],
      "text/plain": [
       "                      BHK          Rent          Size     Bathroom\n",
       "N             4746.000000  4.746000e+03  4.746000e+03  4746.000000\n",
       "NMISS            0.000000  0.000000e+00  0.000000e+00     0.000000\n",
       "SUM           9890.000000  1.660789e+08  4.591711e+06  9330.000000\n",
       "MEAN             2.083860  3.499345e+04  9.674907e+02     1.965866\n",
       "MEDIAN           2.000000  1.600000e+04  8.500000e+02     2.000000\n",
       "STD              0.832256  7.810641e+04  6.342023e+02     0.884532\n",
       "VAR              0.692650  6.100612e+09  4.022126e+05     0.782396\n",
       "MIN              1.000000  1.200000e+03  1.000000e+01     1.000000\n",
       "P1               1.000000  4.000000e+03  7.000000e+01     1.000000\n",
       "P5               1.000000  6.000000e+03  2.000000e+02     1.000000\n",
       "P10              1.000000  7.000000e+03  4.000000e+02     1.000000\n",
       "P25              2.000000  1.000000e+04  5.500000e+02     1.000000\n",
       "P50              2.000000  1.600000e+04  8.500000e+02     2.000000\n",
       "P75              3.000000  3.300000e+04  1.200000e+03     2.000000\n",
       "P90              3.000000  7.200000e+04  1.700000e+03     3.000000\n",
       "P95              3.000000  1.300000e+05  2.000000e+03     3.000000\n",
       "P99              4.000000  3.000000e+05  3.289200e+03     5.000000\n",
       "MAX              6.000000  3.500000e+06  8.000000e+03    10.000000\n",
       "LC               0.419348 -1.212194e+05 -3.009139e+02     0.196803\n",
       "UC               3.748372  1.912063e+05  2.235895e+03     3.734929\n",
       "outlier_flag     0.000000  0.000000e+00  0.000000e+00     0.000000"
      ]
     },
     "execution_count": 103,
     "metadata": {},
     "output_type": "execute_result"
    }
   ],
   "source": [
    "hd[numeric_cols].apply(lambda x: var_summary(x))"
   ]
  },
  {
   "cell_type": "markdown",
   "id": "0fe186de",
   "metadata": {},
   "source": [
    "#### Nah I dont believe this, lets plot the taget variable"
   ]
  },
  {
   "cell_type": "code",
   "execution_count": 104,
   "id": "1c621d5a",
   "metadata": {},
   "outputs": [
    {
     "data": {
      "text/plain": [
       "<Axes: xlabel='Rent'>"
      ]
     },
     "execution_count": 104,
     "metadata": {},
     "output_type": "execute_result"
    },
    {
     "data": {
      "image/png": "[encoded data removed]",
      "text/plain": [
       "<Figure size 1200x500 with 1 Axes>"
      ]
     },
     "metadata": {},
     "output_type": "display_data"
    }
   ],
   "source": [
    "plt.figure(figsize=(12,5))\n",
    "sns.boxplot(data = hd, x = 'Rent')"
   ]
  },
  {
   "cell_type": "code",
   "execution_count": 105,
   "id": "14583cfa",
   "metadata": {},
   "outputs": [],
   "source": [
    "hd = hd[hd['Rent'] <= 200000]"
   ]
  },
  {
   "cell_type": "code",
   "execution_count": 106,
   "id": "57af381d",
   "metadata": {},
   "outputs": [
    {
     "data": {
      "text/plain": [
       "<Axes: xlabel='Rent'>"
      ]
     },
     "execution_count": 106,
     "metadata": {},
     "output_type": "execute_result"
    },
    {
     "data": {
      "image/png": "[encoded data removed]",
      "text/plain": [
       "<Figure size 1200x500 with 1 Axes>"
      ]
     },
     "metadata": {},
     "output_type": "display_data"
    }
   ],
   "source": [
    "plt.figure(figsize=(12,5))\n",
    "sns.boxplot(data = hd, x = 'Rent')"
   ]
  },
  {
   "cell_type": "markdown",
   "id": "a6683af5",
   "metadata": {},
   "source": [
    "### Data Visualization"
   ]
  },
  {
   "cell_type": "code",
   "execution_count": 107,
   "id": "b4831768",
   "metadata": {},
   "outputs": [
    {
     "data": {
      "text/plain": [
       "<Axes: xlabel='City', ylabel='Rent'>"
      ]
     },
     "execution_count": 107,
     "metadata": {},
     "output_type": "execute_result"
    },
    {
     "data": {
      "image/png": "[encoded data removed]",
      "text/plain": [
       "<Figure size 640x480 with 1 Axes>"
      ]
     },
     "metadata": {},
     "output_type": "display_data"
    }
   ],
   "source": [
    "sns.barplot(data = hd, x = 'City', y = 'Rent')\n",
    "# It seems that Mumbai has the highest Rent amongst all other "
   ]
  },
  {
   "cell_type": "code",
   "execution_count": 108,
   "id": "cef737a1",
   "metadata": {},
   "outputs": [
    {
     "data": {
      "text/plain": [
       "Area Type\n",
       "Super Area     2436\n",
       "Carpet Area    2209\n",
       "Built Area        2\n",
       "Name: count, dtype: int64"
      ]
     },
     "execution_count": 108,
     "metadata": {},
     "output_type": "execute_result"
    }
   ],
   "source": [
    "hd['Area Type'].value_counts()"
   ]
  },
  {
   "cell_type": "code",
   "execution_count": 109,
   "id": "e5ce802f",
   "metadata": {},
   "outputs": [
    {
     "data": {
      "text/plain": [
       "<Axes: xlabel='City', ylabel='Rent'>"
      ]
     },
     "execution_count": 109,
     "metadata": {},
     "output_type": "execute_result"
    },
    {
     "data": {
      "image/png": "[encoded data removed]",
      "text/plain": [
       "<Figure size 1000x600 with 1 Axes>"
      ]
     },
     "metadata": {},
     "output_type": "display_data"
    }
   ],
   "source": [
    "plt.figure(figsize=(10,6))\n",
    "sns.barplot(data = hd, x = 'City', y = 'Rent', hue = 'Area Type')"
   ]
  },
  {
   "cell_type": "code",
   "execution_count": 110,
   "id": "080d34d9",
   "metadata": {},
   "outputs": [
    {
     "data": {
      "text/plain": [
       "<Axes: xlabel='City', ylabel='Rent'>"
      ]
     },
     "execution_count": 110,
     "metadata": {},
     "output_type": "execute_result"
    },
    {
     "data": {
      "image/png": "[encoded data removed]",
      "text/plain": [
       "<Figure size 1000x600 with 1 Axes>"
      ]
     },
     "metadata": {},
     "output_type": "display_data"
    }
   ],
   "source": [
    "plt.figure(figsize=(10,6))\n",
    "sns.barplot(data = hd, x = 'City', y = 'Rent', hue = 'Furnishing Status')"
   ]
  },
  {
   "cell_type": "code",
   "execution_count": 111,
   "id": "652f8ae8",
   "metadata": {},
   "outputs": [
    {
     "data": {
      "text/plain": [
       "<Axes: xlabel='City', ylabel='Rent'>"
      ]
     },
     "execution_count": 111,
     "metadata": {},
     "output_type": "execute_result"
    },
    {
     "data": {
      "image/png": "[encoded data removed]",
      "text/plain": [
       "<Figure size 1000x600 with 1 Axes>"
      ]
     },
     "metadata": {},
     "output_type": "display_data"
    }
   ],
   "source": [
    "plt.figure(figsize=(10,6))\n",
    "sns.barplot(data = hd, x = 'City', y = 'Rent', hue = 'BHK')\n",
    "# sns.barplot(data = hd, x = 'City', y = 'Rent', hue = hd['BHK'].astype(str))"
   ]
  },
  {
   "cell_type": "code",
   "execution_count": 112,
   "id": "b27f142f",
   "metadata": {},
   "outputs": [
    {
     "data": {
      "text/html": [
       "<div>\n",
       "<style scoped>\n",
       "    .dataframe tbody tr th:only-of-type {\n",
       "        vertical-align: middle;\n",
       "    }\n",
       "\n",
       "    .dataframe tbody tr th {\n",
       "        vertical-align: top;\n",
       "    }\n",
       "\n",
       "    .dataframe thead th {\n",
       "        text-align: right;\n",
       "    }\n",
       "</style>\n",
       "<table border=\"1\" class=\"dataframe\">\n",
       "  <thead>\n",
       "    <tr style=\"text-align: right;\">\n",
       "      <th></th>\n",
       "      <th>Posted On</th>\n",
       "      <th>BHK</th>\n",
       "      <th>Rent</th>\n",
       "      <th>Size</th>\n",
       "      <th>Floor</th>\n",
       "      <th>Area Type</th>\n",
       "      <th>Area Locality</th>\n",
       "      <th>City</th>\n",
       "      <th>Furnishing Status</th>\n",
       "      <th>Tenant Preferred</th>\n",
       "      <th>Bathroom</th>\n",
       "      <th>Point of Contact</th>\n",
       "    </tr>\n",
       "  </thead>\n",
       "  <tbody>\n",
       "    <tr>\n",
       "      <th>83</th>\n",
       "      <td>2022-06-21</td>\n",
       "      <td>6</td>\n",
       "      <td>20000</td>\n",
       "      <td>1000</td>\n",
       "      <td>1 out of 1</td>\n",
       "      <td>Super Area</td>\n",
       "      <td>Sonarpur</td>\n",
       "      <td>Kolkata</td>\n",
       "      <td>Semi-Furnished</td>\n",
       "      <td>Bachelors/Family</td>\n",
       "      <td>2</td>\n",
       "      <td>Contact Owner</td>\n",
       "    </tr>\n",
       "    <tr>\n",
       "      <th>3584</th>\n",
       "      <td>2022-06-02</td>\n",
       "      <td>6</td>\n",
       "      <td>60000</td>\n",
       "      <td>1800</td>\n",
       "      <td>1 out of 3</td>\n",
       "      <td>Super Area</td>\n",
       "      <td>Besant Nagar</td>\n",
       "      <td>Chennai</td>\n",
       "      <td>Furnished</td>\n",
       "      <td>Bachelors/Family</td>\n",
       "      <td>6</td>\n",
       "      <td>Contact Owner</td>\n",
       "    </tr>\n",
       "    <tr>\n",
       "      <th>4350</th>\n",
       "      <td>2022-06-18</td>\n",
       "      <td>6</td>\n",
       "      <td>60000</td>\n",
       "      <td>2800</td>\n",
       "      <td>Ground out of 3</td>\n",
       "      <td>Super Area</td>\n",
       "      <td>Boduppal, NH 2 2</td>\n",
       "      <td>Hyderabad</td>\n",
       "      <td>Furnished</td>\n",
       "      <td>Bachelors/Family</td>\n",
       "      <td>7</td>\n",
       "      <td>Contact Owner</td>\n",
       "    </tr>\n",
       "    <tr>\n",
       "      <th>4479</th>\n",
       "      <td>2022-07-07</td>\n",
       "      <td>6</td>\n",
       "      <td>20000</td>\n",
       "      <td>2400</td>\n",
       "      <td>Ground out of 1</td>\n",
       "      <td>Super Area</td>\n",
       "      <td>Mallikarjuna Nagar, Secunderabad</td>\n",
       "      <td>Hyderabad</td>\n",
       "      <td>Unfurnished</td>\n",
       "      <td>Family</td>\n",
       "      <td>4</td>\n",
       "      <td>Contact Owner</td>\n",
       "    </tr>\n",
       "    <tr>\n",
       "      <th>4518</th>\n",
       "      <td>2022-05-12</td>\n",
       "      <td>6</td>\n",
       "      <td>35000</td>\n",
       "      <td>3400</td>\n",
       "      <td>Ground out of 2</td>\n",
       "      <td>Super Area</td>\n",
       "      <td>Rampally</td>\n",
       "      <td>Hyderabad</td>\n",
       "      <td>Unfurnished</td>\n",
       "      <td>Bachelors/Family</td>\n",
       "      <td>7</td>\n",
       "      <td>Contact Owner</td>\n",
       "    </tr>\n",
       "    <tr>\n",
       "      <th>4648</th>\n",
       "      <td>2022-07-06</td>\n",
       "      <td>6</td>\n",
       "      <td>80000</td>\n",
       "      <td>4500</td>\n",
       "      <td>1 out of 2</td>\n",
       "      <td>Super Area</td>\n",
       "      <td>Kakateeya Nagar, Secunderabad</td>\n",
       "      <td>Hyderabad</td>\n",
       "      <td>Semi-Furnished</td>\n",
       "      <td>Bachelors/Family</td>\n",
       "      <td>6</td>\n",
       "      <td>Contact Owner</td>\n",
       "    </tr>\n",
       "    <tr>\n",
       "      <th>4696</th>\n",
       "      <td>2022-07-06</td>\n",
       "      <td>6</td>\n",
       "      <td>30000</td>\n",
       "      <td>4200</td>\n",
       "      <td>Ground out of 2</td>\n",
       "      <td>Super Area</td>\n",
       "      <td>Kuntloor</td>\n",
       "      <td>Hyderabad</td>\n",
       "      <td>Semi-Furnished</td>\n",
       "      <td>Bachelors/Family</td>\n",
       "      <td>5</td>\n",
       "      <td>Contact Owner</td>\n",
       "    </tr>\n",
       "  </tbody>\n",
       "</table>\n",
       "</div>"
      ],
      "text/plain": [
       "       Posted On  BHK   Rent  Size            Floor   Area Type  \\\n",
       "83    2022-06-21    6  20000  1000       1 out of 1  Super Area   \n",
       "3584  2022-06-02    6  60000  1800       1 out of 3  Super Area   \n",
       "4350  2022-06-18    6  60000  2800  Ground out of 3  Super Area   \n",
       "4479  2022-07-07    6  20000  2400  Ground out of 1  Super Area   \n",
       "4518  2022-05-12    6  35000  3400  Ground out of 2  Super Area   \n",
       "4648  2022-07-06    6  80000  4500       1 out of 2  Super Area   \n",
       "4696  2022-07-06    6  30000  4200  Ground out of 2  Super Area   \n",
       "\n",
       "                         Area Locality       City Furnishing Status  \\\n",
       "83                            Sonarpur    Kolkata    Semi-Furnished   \n",
       "3584                      Besant Nagar    Chennai         Furnished   \n",
       "4350                  Boduppal, NH 2 2  Hyderabad         Furnished   \n",
       "4479  Mallikarjuna Nagar, Secunderabad  Hyderabad       Unfurnished   \n",
       "4518                          Rampally  Hyderabad       Unfurnished   \n",
       "4648     Kakateeya Nagar, Secunderabad  Hyderabad    Semi-Furnished   \n",
       "4696                          Kuntloor  Hyderabad    Semi-Furnished   \n",
       "\n",
       "      Tenant Preferred  Bathroom Point of Contact  \n",
       "83    Bachelors/Family         2    Contact Owner  \n",
       "3584  Bachelors/Family         6    Contact Owner  \n",
       "4350  Bachelors/Family         7    Contact Owner  \n",
       "4479            Family         4    Contact Owner  \n",
       "4518  Bachelors/Family         7    Contact Owner  \n",
       "4648  Bachelors/Family         6    Contact Owner  \n",
       "4696  Bachelors/Family         5    Contact Owner  "
      ]
     },
     "execution_count": 112,
     "metadata": {},
     "output_type": "execute_result"
    }
   ],
   "source": [
    "hd[hd['BHK'] == 6]"
   ]
  },
  {
   "cell_type": "code",
   "execution_count": 113,
   "id": "f3f1b0d3",
   "metadata": {},
   "outputs": [
    {
     "data": {
      "text/plain": [
       "<Axes: xlabel='City', ylabel='Rent'>"
      ]
     },
     "execution_count": 113,
     "metadata": {},
     "output_type": "execute_result"
    },
    {
     "data": {
      "image/png": "[encoded data removed]",
      "text/plain": [
       "<Figure size 1000x600 with 1 Axes>"
      ]
     },
     "metadata": {},
     "output_type": "display_data"
    }
   ],
   "source": [
    "plt.figure(figsize=(10,6))\n",
    "sns.barplot(data = hd, x = 'City', y = 'Rent', hue = 'Tenant Preferred')"
   ]
  },
  {
   "cell_type": "markdown",
   "id": "c2c718dd",
   "metadata": {},
   "source": [
    "### Data Preprocessing "
   ]
  },
  {
   "cell_type": "code",
   "execution_count": 114,
   "id": "ab18098e",
   "metadata": {},
   "outputs": [
    {
     "data": {
      "text/plain": [
       "Bathroom\n",
       "2     2285\n",
       "1     1474\n",
       "3      732\n",
       "4      116\n",
       "5       28\n",
       "6        8\n",
       "7        3\n",
       "10       1\n",
       "Name: count, dtype: int64"
      ]
     },
     "execution_count": 114,
     "metadata": {},
     "output_type": "execute_result"
    }
   ],
   "source": [
    "# LMAO, WHAT ARE WE GONNA DO WITH 5-10 BATHROOMS\n",
    "hd['Bathroom'].value_counts()"
   ]
  },
  {
   "cell_type": "code",
   "execution_count": 115,
   "id": "80ec06cf",
   "metadata": {},
   "outputs": [],
   "source": [
    "valid_bathrooms = [1, 2, 3, 4]\n",
    "hd = hd[hd['Bathroom'].isin(valid_bathrooms)]"
   ]
  },
  {
   "cell_type": "code",
   "execution_count": 116,
   "id": "20ea6228",
   "metadata": {},
   "outputs": [
    {
     "data": {
      "text/plain": [
       "<Axes: xlabel='City', ylabel='Rent'>"
      ]
     },
     "execution_count": 116,
     "metadata": {},
     "output_type": "execute_result"
    },
    {
     "data": {
      "image/png": "[encoded data removed]",
      "text/plain": [
       "<Figure size 1000x600 with 1 Axes>"
      ]
     },
     "metadata": {},
     "output_type": "display_data"
    }
   ],
   "source": [
    "plt.figure(figsize=(10,6))\n",
    "sns.barplot(data = hd, x = 'City', y = 'Rent', hue = 'Bathroom')"
   ]
  },
  {
   "cell_type": "code",
   "execution_count": 117,
   "id": "488218a4",
   "metadata": {},
   "outputs": [
    {
     "data": {
      "text/plain": [
       "Bathroom\n",
       "2    2285\n",
       "1    1474\n",
       "3     732\n",
       "4     116\n",
       "Name: count, dtype: int64"
      ]
     },
     "execution_count": 117,
     "metadata": {},
     "output_type": "execute_result"
    }
   ],
   "source": [
    "hd['Bathroom'].value_counts()"
   ]
  },
  {
   "cell_type": "code",
   "execution_count": 118,
   "id": "c0da8e8a",
   "metadata": {},
   "outputs": [
    {
     "data": {
      "text/plain": [
       "BHK\n",
       "2    2261\n",
       "1    1166\n",
       "3    1065\n",
       "4     109\n",
       "5       4\n",
       "6       2\n",
       "Name: count, dtype: int64"
      ]
     },
     "execution_count": 118,
     "metadata": {},
     "output_type": "execute_result"
    }
   ],
   "source": [
    "# Les drop 5 and 6 BHK, cause they arent contributing that much.\n",
    "hd['BHK'].value_counts()"
   ]
  },
  {
   "cell_type": "code",
   "execution_count": 119,
   "id": "42fa4851",
   "metadata": {},
   "outputs": [],
   "source": [
    "valid_rooms = [1, 2, 3, 4]\n",
    "hd = hd[hd['BHK'].isin(valid_rooms)]"
   ]
  },
  {
   "cell_type": "code",
   "execution_count": 120,
   "id": "38a12da5",
   "metadata": {},
   "outputs": [
    {
     "data": {
      "text/plain": [
       "<Axes: xlabel='City', ylabel='Rent'>"
      ]
     },
     "execution_count": 120,
     "metadata": {},
     "output_type": "execute_result"
    },
    {
     "data": {
      "image/png": "[encoded data removed]",
      "text/plain": [
       "<Figure size 1000x600 with 1 Axes>"
      ]
     },
     "metadata": {},
     "output_type": "display_data"
    }
   ],
   "source": [
    "plt.figure(figsize=(10,6))\n",
    "sns.barplot(data = hd, x = 'City', y = 'Rent', hue = 'BHK')"
   ]
  },
  {
   "cell_type": "code",
   "execution_count": 121,
   "id": "48b84ffd",
   "metadata": {},
   "outputs": [
    {
     "data": {
      "text/plain": [
       "BHK\n",
       "2    2261\n",
       "1    1166\n",
       "3    1065\n",
       "4     109\n",
       "Name: count, dtype: int64"
      ]
     },
     "execution_count": 121,
     "metadata": {},
     "output_type": "execute_result"
    }
   ],
   "source": [
    "hd['BHK'].value_counts()"
   ]
  },
  {
   "cell_type": "code",
   "execution_count": 122,
   "id": "125d5802",
   "metadata": {},
   "outputs": [
    {
     "data": {
      "text/html": [
       "<div>\n",
       "<style scoped>\n",
       "    .dataframe tbody tr th:only-of-type {\n",
       "        vertical-align: middle;\n",
       "    }\n",
       "\n",
       "    .dataframe tbody tr th {\n",
       "        vertical-align: top;\n",
       "    }\n",
       "\n",
       "    .dataframe thead th {\n",
       "        text-align: right;\n",
       "    }\n",
       "</style>\n",
       "<table border=\"1\" class=\"dataframe\">\n",
       "  <thead>\n",
       "    <tr style=\"text-align: right;\">\n",
       "      <th></th>\n",
       "      <th>Posted On</th>\n",
       "      <th>BHK</th>\n",
       "      <th>Rent</th>\n",
       "      <th>Size</th>\n",
       "      <th>Floor</th>\n",
       "      <th>Area Type</th>\n",
       "      <th>Area Locality</th>\n",
       "      <th>City</th>\n",
       "      <th>Furnishing Status</th>\n",
       "      <th>Tenant Preferred</th>\n",
       "      <th>Bathroom</th>\n",
       "      <th>Point of Contact</th>\n",
       "    </tr>\n",
       "  </thead>\n",
       "  <tbody>\n",
       "    <tr>\n",
       "      <th>2755</th>\n",
       "      <td>2022-05-16</td>\n",
       "      <td>4</td>\n",
       "      <td>200000</td>\n",
       "      <td>2700</td>\n",
       "      <td>Ground out of 3</td>\n",
       "      <td>Carpet Area</td>\n",
       "      <td>Greater Kailash 1</td>\n",
       "      <td>Delhi</td>\n",
       "      <td>Unfurnished</td>\n",
       "      <td>Bachelors</td>\n",
       "      <td>4</td>\n",
       "      <td>Contact Agent</td>\n",
       "    </tr>\n",
       "    <tr>\n",
       "      <th>798</th>\n",
       "      <td>2022-07-06</td>\n",
       "      <td>4</td>\n",
       "      <td>200000</td>\n",
       "      <td>1900</td>\n",
       "      <td>5 out of 11</td>\n",
       "      <td>Carpet Area</td>\n",
       "      <td>Dheeraj Insignia Apartment, Bandra Kurla Complex</td>\n",
       "      <td>Mumbai</td>\n",
       "      <td>Furnished</td>\n",
       "      <td>Bachelors/Family</td>\n",
       "      <td>3</td>\n",
       "      <td>Contact Agent</td>\n",
       "    </tr>\n",
       "    <tr>\n",
       "      <th>788</th>\n",
       "      <td>2022-05-14</td>\n",
       "      <td>3</td>\n",
       "      <td>200000</td>\n",
       "      <td>1208</td>\n",
       "      <td>5 out of 14</td>\n",
       "      <td>Carpet Area</td>\n",
       "      <td>Khar West</td>\n",
       "      <td>Mumbai</td>\n",
       "      <td>Unfurnished</td>\n",
       "      <td>Bachelors</td>\n",
       "      <td>3</td>\n",
       "      <td>Contact Agent</td>\n",
       "    </tr>\n",
       "    <tr>\n",
       "      <th>832</th>\n",
       "      <td>2022-07-09</td>\n",
       "      <td>3</td>\n",
       "      <td>200000</td>\n",
       "      <td>1350</td>\n",
       "      <td>1 out of 5</td>\n",
       "      <td>Carpet Area</td>\n",
       "      <td>anjali</td>\n",
       "      <td>Mumbai</td>\n",
       "      <td>Furnished</td>\n",
       "      <td>Bachelors</td>\n",
       "      <td>3</td>\n",
       "      <td>Contact Agent</td>\n",
       "    </tr>\n",
       "    <tr>\n",
       "      <th>2577</th>\n",
       "      <td>2022-06-10</td>\n",
       "      <td>4</td>\n",
       "      <td>200000</td>\n",
       "      <td>2300</td>\n",
       "      <td>1 out of 1</td>\n",
       "      <td>Super Area</td>\n",
       "      <td>Shanti Niketan</td>\n",
       "      <td>Delhi</td>\n",
       "      <td>Semi-Furnished</td>\n",
       "      <td>Bachelors/Family</td>\n",
       "      <td>4</td>\n",
       "      <td>Contact Owner</td>\n",
       "    </tr>\n",
       "    <tr>\n",
       "      <th>...</th>\n",
       "      <td>...</td>\n",
       "      <td>...</td>\n",
       "      <td>...</td>\n",
       "      <td>...</td>\n",
       "      <td>...</td>\n",
       "      <td>...</td>\n",
       "      <td>...</td>\n",
       "      <td>...</td>\n",
       "      <td>...</td>\n",
       "      <td>...</td>\n",
       "      <td>...</td>\n",
       "      <td>...</td>\n",
       "    </tr>\n",
       "    <tr>\n",
       "      <th>146</th>\n",
       "      <td>2022-06-05</td>\n",
       "      <td>2</td>\n",
       "      <td>2200</td>\n",
       "      <td>550</td>\n",
       "      <td>2 out of 3</td>\n",
       "      <td>Super Area</td>\n",
       "      <td>Behala silpara</td>\n",
       "      <td>Kolkata</td>\n",
       "      <td>Furnished</td>\n",
       "      <td>Bachelors/Family</td>\n",
       "      <td>1</td>\n",
       "      <td>Contact Owner</td>\n",
       "    </tr>\n",
       "    <tr>\n",
       "      <th>2475</th>\n",
       "      <td>2022-06-22</td>\n",
       "      <td>2</td>\n",
       "      <td>2000</td>\n",
       "      <td>60</td>\n",
       "      <td>1 out of 1</td>\n",
       "      <td>Super Area</td>\n",
       "      <td>Ram Nagar</td>\n",
       "      <td>Delhi</td>\n",
       "      <td>Unfurnished</td>\n",
       "      <td>Bachelors/Family</td>\n",
       "      <td>1</td>\n",
       "      <td>Contact Owner</td>\n",
       "    </tr>\n",
       "    <tr>\n",
       "      <th>471</th>\n",
       "      <td>2022-05-12</td>\n",
       "      <td>1</td>\n",
       "      <td>1800</td>\n",
       "      <td>500</td>\n",
       "      <td>Ground out of 1</td>\n",
       "      <td>Super Area</td>\n",
       "      <td>Shyam Bazar</td>\n",
       "      <td>Kolkata</td>\n",
       "      <td>Semi-Furnished</td>\n",
       "      <td>Bachelors/Family</td>\n",
       "      <td>1</td>\n",
       "      <td>Contact Owner</td>\n",
       "    </tr>\n",
       "    <tr>\n",
       "      <th>285</th>\n",
       "      <td>2022-05-24</td>\n",
       "      <td>1</td>\n",
       "      <td>1500</td>\n",
       "      <td>200</td>\n",
       "      <td>Ground out of 2</td>\n",
       "      <td>Super Area</td>\n",
       "      <td>Santoshpur</td>\n",
       "      <td>Kolkata</td>\n",
       "      <td>Semi-Furnished</td>\n",
       "      <td>Bachelors/Family</td>\n",
       "      <td>1</td>\n",
       "      <td>Contact Owner</td>\n",
       "    </tr>\n",
       "    <tr>\n",
       "      <th>4076</th>\n",
       "      <td>2022-05-31</td>\n",
       "      <td>3</td>\n",
       "      <td>1200</td>\n",
       "      <td>2100</td>\n",
       "      <td>1 out of 3</td>\n",
       "      <td>Carpet Area</td>\n",
       "      <td>Uppal, NH 2 2</td>\n",
       "      <td>Hyderabad</td>\n",
       "      <td>Furnished</td>\n",
       "      <td>Bachelors/Family</td>\n",
       "      <td>3</td>\n",
       "      <td>Contact Owner</td>\n",
       "    </tr>\n",
       "  </tbody>\n",
       "</table>\n",
       "<p>4601 rows × 12 columns</p>\n",
       "</div>"
      ],
      "text/plain": [
       "       Posted On  BHK    Rent  Size            Floor    Area Type  \\\n",
       "2755  2022-05-16    4  200000  2700  Ground out of 3  Carpet Area   \n",
       "798   2022-07-06    4  200000  1900      5 out of 11  Carpet Area   \n",
       "788   2022-05-14    3  200000  1208      5 out of 14  Carpet Area   \n",
       "832   2022-07-09    3  200000  1350       1 out of 5  Carpet Area   \n",
       "2577  2022-06-10    4  200000  2300       1 out of 1   Super Area   \n",
       "...          ...  ...     ...   ...              ...          ...   \n",
       "146   2022-06-05    2    2200   550       2 out of 3   Super Area   \n",
       "2475  2022-06-22    2    2000    60       1 out of 1   Super Area   \n",
       "471   2022-05-12    1    1800   500  Ground out of 1   Super Area   \n",
       "285   2022-05-24    1    1500   200  Ground out of 2   Super Area   \n",
       "4076  2022-05-31    3    1200  2100       1 out of 3  Carpet Area   \n",
       "\n",
       "                                         Area Locality       City  \\\n",
       "2755                                 Greater Kailash 1      Delhi   \n",
       "798   Dheeraj Insignia Apartment, Bandra Kurla Complex     Mumbai   \n",
       "788                                          Khar West     Mumbai   \n",
       "832                                             anjali     Mumbai   \n",
       "2577                                    Shanti Niketan      Delhi   \n",
       "...                                                ...        ...   \n",
       "146                                     Behala silpara    Kolkata   \n",
       "2475                                         Ram Nagar      Delhi   \n",
       "471                                        Shyam Bazar    Kolkata   \n",
       "285                                         Santoshpur    Kolkata   \n",
       "4076                                     Uppal, NH 2 2  Hyderabad   \n",
       "\n",
       "     Furnishing Status  Tenant Preferred  Bathroom Point of Contact  \n",
       "2755       Unfurnished         Bachelors         4    Contact Agent  \n",
       "798          Furnished  Bachelors/Family         3    Contact Agent  \n",
       "788        Unfurnished         Bachelors         3    Contact Agent  \n",
       "832          Furnished         Bachelors         3    Contact Agent  \n",
       "2577    Semi-Furnished  Bachelors/Family         4    Contact Owner  \n",
       "...                ...               ...       ...              ...  \n",
       "146          Furnished  Bachelors/Family         1    Contact Owner  \n",
       "2475       Unfurnished  Bachelors/Family         1    Contact Owner  \n",
       "471     Semi-Furnished  Bachelors/Family         1    Contact Owner  \n",
       "285     Semi-Furnished  Bachelors/Family         1    Contact Owner  \n",
       "4076         Furnished  Bachelors/Family         3    Contact Owner  \n",
       "\n",
       "[4601 rows x 12 columns]"
      ]
     },
     "execution_count": 122,
     "metadata": {},
     "output_type": "execute_result"
    }
   ],
   "source": [
    "hd.sort_values(by='Rent', ascending=False)"
   ]
  },
  {
   "cell_type": "code",
   "execution_count": 123,
   "id": "4b1adfb8",
   "metadata": {},
   "outputs": [
    {
     "data": {
      "text/plain": [
       "Rent\n",
       "False    4590\n",
       "True       11\n",
       "Name: count, dtype: int64"
      ]
     },
     "execution_count": 123,
     "metadata": {},
     "output_type": "execute_result"
    }
   ],
   "source": [
    "(hd['Rent'] == 200000).value_counts()"
   ]
  },
  {
   "cell_type": "code",
   "execution_count": 124,
   "id": "b8dbf4c2",
   "metadata": {},
   "outputs": [],
   "source": [
    "# Dropping rows with Rent higher than 150000, and are Unfurnished\n",
    "hd = hd[(hd['Rent'] <= 150000) | (hd['Furnishing Status'] != 'Unfurnished')]"
   ]
  },
  {
   "cell_type": "code",
   "execution_count": 125,
   "id": "77711af3",
   "metadata": {},
   "outputs": [
    {
     "data": {
      "text/html": [
       "<div>\n",
       "<style scoped>\n",
       "    .dataframe tbody tr th:only-of-type {\n",
       "        vertical-align: middle;\n",
       "    }\n",
       "\n",
       "    .dataframe tbody tr th {\n",
       "        vertical-align: top;\n",
       "    }\n",
       "\n",
       "    .dataframe thead th {\n",
       "        text-align: right;\n",
       "    }\n",
       "</style>\n",
       "<table border=\"1\" class=\"dataframe\">\n",
       "  <thead>\n",
       "    <tr style=\"text-align: right;\">\n",
       "      <th></th>\n",
       "      <th>Posted On</th>\n",
       "      <th>BHK</th>\n",
       "      <th>Rent</th>\n",
       "      <th>Size</th>\n",
       "      <th>Floor</th>\n",
       "      <th>Area Type</th>\n",
       "      <th>Area Locality</th>\n",
       "      <th>City</th>\n",
       "      <th>Furnishing Status</th>\n",
       "      <th>Tenant Preferred</th>\n",
       "      <th>Bathroom</th>\n",
       "      <th>Point of Contact</th>\n",
       "    </tr>\n",
       "  </thead>\n",
       "  <tbody>\n",
       "    <tr>\n",
       "      <th>798</th>\n",
       "      <td>2022-07-06</td>\n",
       "      <td>4</td>\n",
       "      <td>200000</td>\n",
       "      <td>1900</td>\n",
       "      <td>5 out of 11</td>\n",
       "      <td>Carpet Area</td>\n",
       "      <td>Dheeraj Insignia Apartment, Bandra Kurla Complex</td>\n",
       "      <td>Mumbai</td>\n",
       "      <td>Furnished</td>\n",
       "      <td>Bachelors/Family</td>\n",
       "      <td>3</td>\n",
       "      <td>Contact Agent</td>\n",
       "    </tr>\n",
       "    <tr>\n",
       "      <th>832</th>\n",
       "      <td>2022-07-09</td>\n",
       "      <td>3</td>\n",
       "      <td>200000</td>\n",
       "      <td>1350</td>\n",
       "      <td>1 out of 5</td>\n",
       "      <td>Carpet Area</td>\n",
       "      <td>anjali</td>\n",
       "      <td>Mumbai</td>\n",
       "      <td>Furnished</td>\n",
       "      <td>Bachelors</td>\n",
       "      <td>3</td>\n",
       "      <td>Contact Agent</td>\n",
       "    </tr>\n",
       "    <tr>\n",
       "      <th>871</th>\n",
       "      <td>2022-07-09</td>\n",
       "      <td>3</td>\n",
       "      <td>200000</td>\n",
       "      <td>1350</td>\n",
       "      <td>1 out of 5</td>\n",
       "      <td>Carpet Area</td>\n",
       "      <td>Anand niwas</td>\n",
       "      <td>Mumbai</td>\n",
       "      <td>Furnished</td>\n",
       "      <td>Bachelors</td>\n",
       "      <td>3</td>\n",
       "      <td>Contact Agent</td>\n",
       "    </tr>\n",
       "    <tr>\n",
       "      <th>1089</th>\n",
       "      <td>2022-05-16</td>\n",
       "      <td>2</td>\n",
       "      <td>200000</td>\n",
       "      <td>1000</td>\n",
       "      <td>7 out of 8</td>\n",
       "      <td>Carpet Area</td>\n",
       "      <td>Union Park</td>\n",
       "      <td>Mumbai</td>\n",
       "      <td>Furnished</td>\n",
       "      <td>Bachelors/Family</td>\n",
       "      <td>2</td>\n",
       "      <td>Contact Agent</td>\n",
       "    </tr>\n",
       "    <tr>\n",
       "      <th>1115</th>\n",
       "      <td>2022-07-09</td>\n",
       "      <td>3</td>\n",
       "      <td>200000</td>\n",
       "      <td>1400</td>\n",
       "      <td>8 out of 17</td>\n",
       "      <td>Carpet Area</td>\n",
       "      <td>Hill Road, Bandra West</td>\n",
       "      <td>Mumbai</td>\n",
       "      <td>Furnished</td>\n",
       "      <td>Bachelors/Family</td>\n",
       "      <td>3</td>\n",
       "      <td>Contact Agent</td>\n",
       "    </tr>\n",
       "    <tr>\n",
       "      <th>1392</th>\n",
       "      <td>2022-06-04</td>\n",
       "      <td>3</td>\n",
       "      <td>200000</td>\n",
       "      <td>1375</td>\n",
       "      <td>15 out of 60</td>\n",
       "      <td>Carpet Area</td>\n",
       "      <td>Raheja Imperia, Worli</td>\n",
       "      <td>Mumbai</td>\n",
       "      <td>Semi-Furnished</td>\n",
       "      <td>Family</td>\n",
       "      <td>3</td>\n",
       "      <td>Contact Agent</td>\n",
       "    </tr>\n",
       "    <tr>\n",
       "      <th>2577</th>\n",
       "      <td>2022-06-10</td>\n",
       "      <td>4</td>\n",
       "      <td>200000</td>\n",
       "      <td>2300</td>\n",
       "      <td>1 out of 1</td>\n",
       "      <td>Super Area</td>\n",
       "      <td>Shanti Niketan</td>\n",
       "      <td>Delhi</td>\n",
       "      <td>Semi-Furnished</td>\n",
       "      <td>Bachelors/Family</td>\n",
       "      <td>4</td>\n",
       "      <td>Contact Owner</td>\n",
       "    </tr>\n",
       "    <tr>\n",
       "      <th>2990</th>\n",
       "      <td>2022-07-10</td>\n",
       "      <td>3</td>\n",
       "      <td>200000</td>\n",
       "      <td>3000</td>\n",
       "      <td>1 out of 1</td>\n",
       "      <td>Super Area</td>\n",
       "      <td>Madras Boat Club Road</td>\n",
       "      <td>Chennai</td>\n",
       "      <td>Furnished</td>\n",
       "      <td>Family</td>\n",
       "      <td>4</td>\n",
       "      <td>Contact Agent</td>\n",
       "    </tr>\n",
       "    <tr>\n",
       "      <th>3639</th>\n",
       "      <td>2022-06-14</td>\n",
       "      <td>4</td>\n",
       "      <td>200000</td>\n",
       "      <td>2280</td>\n",
       "      <td>2 out of 3</td>\n",
       "      <td>Carpet Area</td>\n",
       "      <td>Mylapore</td>\n",
       "      <td>Chennai</td>\n",
       "      <td>Semi-Furnished</td>\n",
       "      <td>Bachelors/Family</td>\n",
       "      <td>4</td>\n",
       "      <td>Contact Agent</td>\n",
       "    </tr>\n",
       "  </tbody>\n",
       "</table>\n",
       "</div>"
      ],
      "text/plain": [
       "       Posted On  BHK    Rent  Size         Floor    Area Type  \\\n",
       "798   2022-07-06    4  200000  1900   5 out of 11  Carpet Area   \n",
       "832   2022-07-09    3  200000  1350    1 out of 5  Carpet Area   \n",
       "871   2022-07-09    3  200000  1350    1 out of 5  Carpet Area   \n",
       "1089  2022-05-16    2  200000  1000    7 out of 8  Carpet Area   \n",
       "1115  2022-07-09    3  200000  1400   8 out of 17  Carpet Area   \n",
       "1392  2022-06-04    3  200000  1375  15 out of 60  Carpet Area   \n",
       "2577  2022-06-10    4  200000  2300    1 out of 1   Super Area   \n",
       "2990  2022-07-10    3  200000  3000    1 out of 1   Super Area   \n",
       "3639  2022-06-14    4  200000  2280    2 out of 3  Carpet Area   \n",
       "\n",
       "                                         Area Locality     City  \\\n",
       "798   Dheeraj Insignia Apartment, Bandra Kurla Complex   Mumbai   \n",
       "832                                             anjali   Mumbai   \n",
       "871                                        Anand niwas   Mumbai   \n",
       "1089                                        Union Park   Mumbai   \n",
       "1115                            Hill Road, Bandra West   Mumbai   \n",
       "1392                             Raheja Imperia, Worli   Mumbai   \n",
       "2577                                    Shanti Niketan    Delhi   \n",
       "2990                             Madras Boat Club Road  Chennai   \n",
       "3639                                          Mylapore  Chennai   \n",
       "\n",
       "     Furnishing Status  Tenant Preferred  Bathroom Point of Contact  \n",
       "798          Furnished  Bachelors/Family         3    Contact Agent  \n",
       "832          Furnished         Bachelors         3    Contact Agent  \n",
       "871          Furnished         Bachelors         3    Contact Agent  \n",
       "1089         Furnished  Bachelors/Family         2    Contact Agent  \n",
       "1115         Furnished  Bachelors/Family         3    Contact Agent  \n",
       "1392    Semi-Furnished            Family         3    Contact Agent  \n",
       "2577    Semi-Furnished  Bachelors/Family         4    Contact Owner  \n",
       "2990         Furnished            Family         4    Contact Agent  \n",
       "3639    Semi-Furnished  Bachelors/Family         4    Contact Agent  "
      ]
     },
     "execution_count": 125,
     "metadata": {},
     "output_type": "execute_result"
    }
   ],
   "source": [
    "# Lets consider, some of em might be Bunglows.\n",
    "hd[hd['Rent'] == 200000]"
   ]
  },
  {
   "cell_type": "markdown",
   "id": "c641d3cf",
   "metadata": {},
   "source": [
    "Checking if the data got any negative values."
   ]
  },
  {
   "cell_type": "code",
   "execution_count": 126,
   "id": "f091395c",
   "metadata": {},
   "outputs": [
    {
     "data": {
      "text/html": [
       "<div>\n",
       "<style scoped>\n",
       "    .dataframe tbody tr th:only-of-type {\n",
       "        vertical-align: middle;\n",
       "    }\n",
       "\n",
       "    .dataframe tbody tr th {\n",
       "        vertical-align: top;\n",
       "    }\n",
       "\n",
       "    .dataframe thead th {\n",
       "        text-align: right;\n",
       "    }\n",
       "</style>\n",
       "<table border=\"1\" class=\"dataframe\">\n",
       "  <thead>\n",
       "    <tr style=\"text-align: right;\">\n",
       "      <th></th>\n",
       "      <th>Posted On</th>\n",
       "      <th>BHK</th>\n",
       "      <th>Rent</th>\n",
       "      <th>Size</th>\n",
       "      <th>Floor</th>\n",
       "      <th>Area Type</th>\n",
       "      <th>Area Locality</th>\n",
       "      <th>City</th>\n",
       "      <th>Furnishing Status</th>\n",
       "      <th>Tenant Preferred</th>\n",
       "      <th>Bathroom</th>\n",
       "      <th>Point of Contact</th>\n",
       "    </tr>\n",
       "  </thead>\n",
       "  <tbody>\n",
       "  </tbody>\n",
       "</table>\n",
       "</div>"
      ],
      "text/plain": [
       "Empty DataFrame\n",
       "Columns: [Posted On, BHK, Rent, Size, Floor, Area Type, Area Locality, City, Furnishing Status, Tenant Preferred, Bathroom, Point of Contact]\n",
       "Index: []"
      ]
     },
     "execution_count": 126,
     "metadata": {},
     "output_type": "execute_result"
    }
   ],
   "source": [
    "hd[(hd[numeric_cols] < 0).any(axis=1)]"
   ]
  },
  {
   "cell_type": "code",
   "execution_count": 127,
   "id": "1333916d",
   "metadata": {},
   "outputs": [],
   "source": [
    "hd1 = hd.copy()"
   ]
  },
  {
   "cell_type": "code",
   "execution_count": 128,
   "id": "7deeef80",
   "metadata": {},
   "outputs": [
    {
     "data": {
      "text/html": [
       "<div>\n",
       "<style scoped>\n",
       "    .dataframe tbody tr th:only-of-type {\n",
       "        vertical-align: middle;\n",
       "    }\n",
       "\n",
       "    .dataframe tbody tr th {\n",
       "        vertical-align: top;\n",
       "    }\n",
       "\n",
       "    .dataframe thead th {\n",
       "        text-align: right;\n",
       "    }\n",
       "</style>\n",
       "<table border=\"1\" class=\"dataframe\">\n",
       "  <thead>\n",
       "    <tr style=\"text-align: right;\">\n",
       "      <th></th>\n",
       "      <th>Posted On</th>\n",
       "      <th>BHK</th>\n",
       "      <th>Rent</th>\n",
       "      <th>Size</th>\n",
       "      <th>Floor</th>\n",
       "      <th>Area Type</th>\n",
       "      <th>Area Locality</th>\n",
       "      <th>City</th>\n",
       "      <th>Furnishing Status</th>\n",
       "      <th>Tenant Preferred</th>\n",
       "      <th>Bathroom</th>\n",
       "      <th>Point of Contact</th>\n",
       "    </tr>\n",
       "  </thead>\n",
       "  <tbody>\n",
       "    <tr>\n",
       "      <th>1605</th>\n",
       "      <td>2022-05-14</td>\n",
       "      <td>3</td>\n",
       "      <td>55000</td>\n",
       "      <td>1603</td>\n",
       "      <td>6 out of 17</td>\n",
       "      <td>Carpet Area</td>\n",
       "      <td>Magadi Road</td>\n",
       "      <td>Bangalore</td>\n",
       "      <td>Semi-Furnished</td>\n",
       "      <td>Bachelors/Family</td>\n",
       "      <td>3</td>\n",
       "      <td>Contact Agent</td>\n",
       "    </tr>\n",
       "    <tr>\n",
       "      <th>3708</th>\n",
       "      <td>2022-05-22</td>\n",
       "      <td>1</td>\n",
       "      <td>13000</td>\n",
       "      <td>450</td>\n",
       "      <td>1 out of 4</td>\n",
       "      <td>Super Area</td>\n",
       "      <td>Arasankalani</td>\n",
       "      <td>Chennai</td>\n",
       "      <td>Unfurnished</td>\n",
       "      <td>Bachelors</td>\n",
       "      <td>1</td>\n",
       "      <td>Contact Owner</td>\n",
       "    </tr>\n",
       "    <tr>\n",
       "      <th>4540</th>\n",
       "      <td>2022-06-23</td>\n",
       "      <td>2</td>\n",
       "      <td>20000</td>\n",
       "      <td>1200</td>\n",
       "      <td>Ground out of 1</td>\n",
       "      <td>Super Area</td>\n",
       "      <td>Shaikpet</td>\n",
       "      <td>Hyderabad</td>\n",
       "      <td>Semi-Furnished</td>\n",
       "      <td>Bachelors/Family</td>\n",
       "      <td>1</td>\n",
       "      <td>Contact Owner</td>\n",
       "    </tr>\n",
       "    <tr>\n",
       "      <th>4400</th>\n",
       "      <td>2022-05-22</td>\n",
       "      <td>1</td>\n",
       "      <td>13500</td>\n",
       "      <td>700</td>\n",
       "      <td>4 out of 4</td>\n",
       "      <td>Super Area</td>\n",
       "      <td>Gachibowli</td>\n",
       "      <td>Hyderabad</td>\n",
       "      <td>Semi-Furnished</td>\n",
       "      <td>Bachelors/Family</td>\n",
       "      <td>1</td>\n",
       "      <td>Contact Owner</td>\n",
       "    </tr>\n",
       "    <tr>\n",
       "      <th>2687</th>\n",
       "      <td>2022-06-20</td>\n",
       "      <td>3</td>\n",
       "      <td>30000</td>\n",
       "      <td>1600</td>\n",
       "      <td>6 out of 10</td>\n",
       "      <td>Super Area</td>\n",
       "      <td>Highland Tower, Dwarka Sector 12</td>\n",
       "      <td>Delhi</td>\n",
       "      <td>Unfurnished</td>\n",
       "      <td>Bachelors/Family</td>\n",
       "      <td>2</td>\n",
       "      <td>Contact Owner</td>\n",
       "    </tr>\n",
       "  </tbody>\n",
       "</table>\n",
       "</div>"
      ],
      "text/plain": [
       "       Posted On  BHK   Rent  Size            Floor    Area Type  \\\n",
       "1605  2022-05-14    3  55000  1603      6 out of 17  Carpet Area   \n",
       "3708  2022-05-22    1  13000   450       1 out of 4   Super Area   \n",
       "4540  2022-06-23    2  20000  1200  Ground out of 1   Super Area   \n",
       "4400  2022-05-22    1  13500   700       4 out of 4   Super Area   \n",
       "2687  2022-06-20    3  30000  1600      6 out of 10   Super Area   \n",
       "\n",
       "                         Area Locality       City Furnishing Status  \\\n",
       "1605                       Magadi Road  Bangalore    Semi-Furnished   \n",
       "3708                      Arasankalani    Chennai       Unfurnished   \n",
       "4540                          Shaikpet  Hyderabad    Semi-Furnished   \n",
       "4400                        Gachibowli  Hyderabad    Semi-Furnished   \n",
       "2687  Highland Tower, Dwarka Sector 12      Delhi       Unfurnished   \n",
       "\n",
       "      Tenant Preferred  Bathroom Point of Contact  \n",
       "1605  Bachelors/Family         3    Contact Agent  \n",
       "3708         Bachelors         1    Contact Owner  \n",
       "4540  Bachelors/Family         1    Contact Owner  \n",
       "4400  Bachelors/Family         1    Contact Owner  \n",
       "2687  Bachelors/Family         2    Contact Owner  "
      ]
     },
     "execution_count": 128,
     "metadata": {},
     "output_type": "execute_result"
    }
   ],
   "source": [
    "hd1.sample(5)"
   ]
  },
  {
   "cell_type": "code",
   "execution_count": 129,
   "id": "b94519f6",
   "metadata": {},
   "outputs": [],
   "source": [
    "# Dropping unwanted cols\n",
    "drop_col = ['Posted On', 'Floor', 'Area Locality', 'Point of Contact']\n",
    "hd1.drop(columns=drop_col, inplace = True)"
   ]
  },
  {
   "cell_type": "code",
   "execution_count": 130,
   "id": "2712e3ba",
   "metadata": {},
   "outputs": [],
   "source": [
    "hd1 = hd1[hd1['Area Type'] != 'Built Area']"
   ]
  },
  {
   "cell_type": "code",
   "execution_count": 131,
   "id": "a9e53410",
   "metadata": {},
   "outputs": [
    {
     "data": {
      "text/html": [
       "<div>\n",
       "<style scoped>\n",
       "    .dataframe tbody tr th:only-of-type {\n",
       "        vertical-align: middle;\n",
       "    }\n",
       "\n",
       "    .dataframe tbody tr th {\n",
       "        vertical-align: top;\n",
       "    }\n",
       "\n",
       "    .dataframe thead th {\n",
       "        text-align: right;\n",
       "    }\n",
       "</style>\n",
       "<table border=\"1\" class=\"dataframe\">\n",
       "  <thead>\n",
       "    <tr style=\"text-align: right;\">\n",
       "      <th></th>\n",
       "      <th>BHK</th>\n",
       "      <th>Rent</th>\n",
       "      <th>Size</th>\n",
       "      <th>Area Type</th>\n",
       "      <th>City</th>\n",
       "      <th>Furnishing Status</th>\n",
       "      <th>Tenant Preferred</th>\n",
       "      <th>Bathroom</th>\n",
       "    </tr>\n",
       "  </thead>\n",
       "  <tbody>\n",
       "    <tr>\n",
       "      <th>1170</th>\n",
       "      <td>3</td>\n",
       "      <td>140000</td>\n",
       "      <td>1400</td>\n",
       "      <td>Carpet Area</td>\n",
       "      <td>Mumbai</td>\n",
       "      <td>Semi-Furnished</td>\n",
       "      <td>Family</td>\n",
       "      <td>3</td>\n",
       "    </tr>\n",
       "    <tr>\n",
       "      <th>622</th>\n",
       "      <td>1</td>\n",
       "      <td>34000</td>\n",
       "      <td>365</td>\n",
       "      <td>Carpet Area</td>\n",
       "      <td>Mumbai</td>\n",
       "      <td>Furnished</td>\n",
       "      <td>Family</td>\n",
       "      <td>1</td>\n",
       "    </tr>\n",
       "    <tr>\n",
       "      <th>3306</th>\n",
       "      <td>3</td>\n",
       "      <td>29000</td>\n",
       "      <td>1225</td>\n",
       "      <td>Carpet Area</td>\n",
       "      <td>Chennai</td>\n",
       "      <td>Semi-Furnished</td>\n",
       "      <td>Bachelors/Family</td>\n",
       "      <td>3</td>\n",
       "    </tr>\n",
       "    <tr>\n",
       "      <th>3283</th>\n",
       "      <td>1</td>\n",
       "      <td>5000</td>\n",
       "      <td>800</td>\n",
       "      <td>Carpet Area</td>\n",
       "      <td>Chennai</td>\n",
       "      <td>Unfurnished</td>\n",
       "      <td>Bachelors/Family</td>\n",
       "      <td>1</td>\n",
       "    </tr>\n",
       "    <tr>\n",
       "      <th>4006</th>\n",
       "      <td>2</td>\n",
       "      <td>13000</td>\n",
       "      <td>1000</td>\n",
       "      <td>Super Area</td>\n",
       "      <td>Hyderabad</td>\n",
       "      <td>Furnished</td>\n",
       "      <td>Bachelors/Family</td>\n",
       "      <td>2</td>\n",
       "    </tr>\n",
       "  </tbody>\n",
       "</table>\n",
       "</div>"
      ],
      "text/plain": [
       "      BHK    Rent  Size    Area Type       City Furnishing Status  \\\n",
       "1170    3  140000  1400  Carpet Area     Mumbai    Semi-Furnished   \n",
       "622     1   34000   365  Carpet Area     Mumbai         Furnished   \n",
       "3306    3   29000  1225  Carpet Area    Chennai    Semi-Furnished   \n",
       "3283    1    5000   800  Carpet Area    Chennai       Unfurnished   \n",
       "4006    2   13000  1000   Super Area  Hyderabad         Furnished   \n",
       "\n",
       "      Tenant Preferred  Bathroom  \n",
       "1170            Family         3  \n",
       "622             Family         1  \n",
       "3306  Bachelors/Family         3  \n",
       "3283  Bachelors/Family         1  \n",
       "4006  Bachelors/Family         2  "
      ]
     },
     "execution_count": 131,
     "metadata": {},
     "output_type": "execute_result"
    }
   ],
   "source": [
    "hd1.sample(5)"
   ]
  },
  {
   "cell_type": "markdown",
   "id": "c6c0a613",
   "metadata": {},
   "source": [
    "### Data Scaling"
   ]
  },
  {
   "cell_type": "code",
   "execution_count": 132,
   "id": "1ccf5b62",
   "metadata": {},
   "outputs": [
    {
     "name": "stdout",
     "output_type": "stream",
     "text": [
      "['Unfurnished' 'Semi-Furnished' 'Furnished']\n",
      "['Super Area' 'Carpet Area']\n",
      "['Bachelors/Family' 'Bachelors' 'Family']\n"
     ]
    }
   ],
   "source": [
    "print(hd1['Furnishing Status'].unique())\n",
    "print(hd1['Area Type'].unique())\n",
    "print(hd1['Tenant Preferred'].unique())"
   ]
  },
  {
   "cell_type": "code",
   "execution_count": 133,
   "id": "a2b9c2b9",
   "metadata": {},
   "outputs": [],
   "source": [
    "hd1['Furnishing Status'] = hd1['Furnishing Status'].replace(['Furnished', 'Semi-Furnished','Unfurnished'], [2, 1, 0])\n",
    "hd1['Area Type'] = hd1['Area Type'].replace(['Super Area','Carpet Area'],[1,0])\n",
    "hd1['Tenant Preferred'] = hd1['Tenant Preferred'].replace(['Bachelors/Family', 'Bachelors', 'Family'],[2, 1, 0])"
   ]
  },
  {
   "cell_type": "code",
   "execution_count": 134,
   "id": "b436c13e",
   "metadata": {},
   "outputs": [
    {
     "name": "stdout",
     "output_type": "stream",
     "text": [
      "[0 1 2]\n",
      "[1 0]\n",
      "[2 1 0]\n"
     ]
    }
   ],
   "source": [
    "print(hd1['Furnishing Status'].unique())\n",
    "print(hd1['Area Type'].unique())\n",
    "print(hd1['Tenant Preferred'].unique())"
   ]
  },
  {
   "cell_type": "code",
   "execution_count": 135,
   "id": "303ec271",
   "metadata": {},
   "outputs": [
    {
     "data": {
      "text/plain": [
       "array(['Kolkata', 'Mumbai', 'Bangalore', 'Delhi', 'Chennai', 'Hyderabad'],\n",
       "      dtype=object)"
      ]
     },
     "execution_count": 135,
     "metadata": {},
     "output_type": "execute_result"
    }
   ],
   "source": [
    "hd1['City'].unique()"
   ]
  },
  {
   "cell_type": "code",
   "execution_count": 136,
   "id": "0ef922bb",
   "metadata": {},
   "outputs": [
    {
     "data": {
      "text/html": [
       "<div>\n",
       "<style scoped>\n",
       "    .dataframe tbody tr th:only-of-type {\n",
       "        vertical-align: middle;\n",
       "    }\n",
       "\n",
       "    .dataframe tbody tr th {\n",
       "        vertical-align: top;\n",
       "    }\n",
       "\n",
       "    .dataframe thead th {\n",
       "        text-align: right;\n",
       "    }\n",
       "</style>\n",
       "<table border=\"1\" class=\"dataframe\">\n",
       "  <thead>\n",
       "    <tr style=\"text-align: right;\">\n",
       "      <th></th>\n",
       "      <th>BHK</th>\n",
       "      <th>Rent</th>\n",
       "      <th>Size</th>\n",
       "      <th>Area Type</th>\n",
       "      <th>City</th>\n",
       "      <th>Furnishing Status</th>\n",
       "      <th>Tenant Preferred</th>\n",
       "      <th>Bathroom</th>\n",
       "    </tr>\n",
       "  </thead>\n",
       "  <tbody>\n",
       "    <tr>\n",
       "      <th>0</th>\n",
       "      <td>2</td>\n",
       "      <td>10000</td>\n",
       "      <td>1100</td>\n",
       "      <td>1</td>\n",
       "      <td>Kolkata</td>\n",
       "      <td>0</td>\n",
       "      <td>2</td>\n",
       "      <td>2</td>\n",
       "    </tr>\n",
       "    <tr>\n",
       "      <th>1</th>\n",
       "      <td>2</td>\n",
       "      <td>20000</td>\n",
       "      <td>800</td>\n",
       "      <td>1</td>\n",
       "      <td>Kolkata</td>\n",
       "      <td>1</td>\n",
       "      <td>2</td>\n",
       "      <td>1</td>\n",
       "    </tr>\n",
       "    <tr>\n",
       "      <th>2</th>\n",
       "      <td>2</td>\n",
       "      <td>17000</td>\n",
       "      <td>1000</td>\n",
       "      <td>1</td>\n",
       "      <td>Kolkata</td>\n",
       "      <td>1</td>\n",
       "      <td>2</td>\n",
       "      <td>1</td>\n",
       "    </tr>\n",
       "    <tr>\n",
       "      <th>3</th>\n",
       "      <td>2</td>\n",
       "      <td>10000</td>\n",
       "      <td>800</td>\n",
       "      <td>1</td>\n",
       "      <td>Kolkata</td>\n",
       "      <td>0</td>\n",
       "      <td>2</td>\n",
       "      <td>1</td>\n",
       "    </tr>\n",
       "    <tr>\n",
       "      <th>4</th>\n",
       "      <td>2</td>\n",
       "      <td>7500</td>\n",
       "      <td>850</td>\n",
       "      <td>0</td>\n",
       "      <td>Kolkata</td>\n",
       "      <td>0</td>\n",
       "      <td>1</td>\n",
       "      <td>1</td>\n",
       "    </tr>\n",
       "  </tbody>\n",
       "</table>\n",
       "</div>"
      ],
      "text/plain": [
       "   BHK   Rent  Size  Area Type     City  Furnishing Status  Tenant Preferred  \\\n",
       "0    2  10000  1100          1  Kolkata                  0                 2   \n",
       "1    2  20000   800          1  Kolkata                  1                 2   \n",
       "2    2  17000  1000          1  Kolkata                  1                 2   \n",
       "3    2  10000   800          1  Kolkata                  0                 2   \n",
       "4    2   7500   850          0  Kolkata                  0                 1   \n",
       "\n",
       "   Bathroom  \n",
       "0         2  \n",
       "1         1  \n",
       "2         1  \n",
       "3         1  \n",
       "4         1  "
      ]
     },
     "execution_count": 136,
     "metadata": {},
     "output_type": "execute_result"
    }
   ],
   "source": [
    "hd1.head()"
   ]
  },
  {
   "cell_type": "code",
   "execution_count": 137,
   "id": "e8f52742",
   "metadata": {},
   "outputs": [],
   "source": [
    "hd1['City'] = hd1['City'].astype('category')\n",
    "all_cat = hd1['City'].unique()\n",
    "encoder = LabelEncoder()\n",
    "encoder.fit(all_cat)\n",
    "hd1['City'] = encoder.transform(hd1['City'])"
   ]
  },
  {
   "cell_type": "code",
   "execution_count": 138,
   "id": "0b6a0122",
   "metadata": {},
   "outputs": [
    {
     "data": {
      "text/plain": [
       "array([4, 5, 0, 2, 1, 3])"
      ]
     },
     "execution_count": 138,
     "metadata": {},
     "output_type": "execute_result"
    }
   ],
   "source": [
    "hd1['City'].unique()"
   ]
  },
  {
   "cell_type": "code",
   "execution_count": 139,
   "id": "1f392d73",
   "metadata": {},
   "outputs": [
    {
     "data": {
      "text/html": [
       "<div>\n",
       "<style scoped>\n",
       "    .dataframe tbody tr th:only-of-type {\n",
       "        vertical-align: middle;\n",
       "    }\n",
       "\n",
       "    .dataframe tbody tr th {\n",
       "        vertical-align: top;\n",
       "    }\n",
       "\n",
       "    .dataframe thead th {\n",
       "        text-align: right;\n",
       "    }\n",
       "</style>\n",
       "<table border=\"1\" class=\"dataframe\">\n",
       "  <thead>\n",
       "    <tr style=\"text-align: right;\">\n",
       "      <th></th>\n",
       "      <th>BHK</th>\n",
       "      <th>Rent</th>\n",
       "      <th>Size</th>\n",
       "      <th>Area Type</th>\n",
       "      <th>City</th>\n",
       "      <th>Furnishing Status</th>\n",
       "      <th>Tenant Preferred</th>\n",
       "      <th>Bathroom</th>\n",
       "    </tr>\n",
       "  </thead>\n",
       "  <tbody>\n",
       "    <tr>\n",
       "      <th>0</th>\n",
       "      <td>2</td>\n",
       "      <td>10000</td>\n",
       "      <td>1100</td>\n",
       "      <td>1</td>\n",
       "      <td>4</td>\n",
       "      <td>0</td>\n",
       "      <td>2</td>\n",
       "      <td>2</td>\n",
       "    </tr>\n",
       "    <tr>\n",
       "      <th>1</th>\n",
       "      <td>2</td>\n",
       "      <td>20000</td>\n",
       "      <td>800</td>\n",
       "      <td>1</td>\n",
       "      <td>4</td>\n",
       "      <td>1</td>\n",
       "      <td>2</td>\n",
       "      <td>1</td>\n",
       "    </tr>\n",
       "    <tr>\n",
       "      <th>2</th>\n",
       "      <td>2</td>\n",
       "      <td>17000</td>\n",
       "      <td>1000</td>\n",
       "      <td>1</td>\n",
       "      <td>4</td>\n",
       "      <td>1</td>\n",
       "      <td>2</td>\n",
       "      <td>1</td>\n",
       "    </tr>\n",
       "    <tr>\n",
       "      <th>3</th>\n",
       "      <td>2</td>\n",
       "      <td>10000</td>\n",
       "      <td>800</td>\n",
       "      <td>1</td>\n",
       "      <td>4</td>\n",
       "      <td>0</td>\n",
       "      <td>2</td>\n",
       "      <td>1</td>\n",
       "    </tr>\n",
       "    <tr>\n",
       "      <th>4</th>\n",
       "      <td>2</td>\n",
       "      <td>7500</td>\n",
       "      <td>850</td>\n",
       "      <td>0</td>\n",
       "      <td>4</td>\n",
       "      <td>0</td>\n",
       "      <td>1</td>\n",
       "      <td>1</td>\n",
       "    </tr>\n",
       "  </tbody>\n",
       "</table>\n",
       "</div>"
      ],
      "text/plain": [
       "   BHK   Rent  Size  Area Type  City  Furnishing Status  Tenant Preferred  \\\n",
       "0    2  10000  1100          1     4                  0                 2   \n",
       "1    2  20000   800          1     4                  1                 2   \n",
       "2    2  17000  1000          1     4                  1                 2   \n",
       "3    2  10000   800          1     4                  0                 2   \n",
       "4    2   7500   850          0     4                  0                 1   \n",
       "\n",
       "   Bathroom  \n",
       "0         2  \n",
       "1         1  \n",
       "2         1  \n",
       "3         1  \n",
       "4         1  "
      ]
     },
     "execution_count": 139,
     "metadata": {},
     "output_type": "execute_result"
    }
   ],
   "source": [
    "hd1.head()"
   ]
  },
  {
   "cell_type": "markdown",
   "id": "e052c360",
   "metadata": {},
   "source": [
    "Scaling 'Size' Column using MinMax and Standardization and RobustScalar"
   ]
  },
  {
   "cell_type": "code",
   "execution_count": 140,
   "id": "6f8de23b",
   "metadata": {},
   "outputs": [],
   "source": [
    "hd2 = hd1.copy()\n",
    "hd3 = hd1.copy()"
   ]
  },
  {
   "cell_type": "code",
   "execution_count": 141,
   "id": "71028e02",
   "metadata": {},
   "outputs": [
    {
     "data": {
      "text/html": [
       "<div>\n",
       "<style scoped>\n",
       "    .dataframe tbody tr th:only-of-type {\n",
       "        vertical-align: middle;\n",
       "    }\n",
       "\n",
       "    .dataframe tbody tr th {\n",
       "        vertical-align: top;\n",
       "    }\n",
       "\n",
       "    .dataframe thead th {\n",
       "        text-align: right;\n",
       "    }\n",
       "</style>\n",
       "<table border=\"1\" class=\"dataframe\">\n",
       "  <thead>\n",
       "    <tr style=\"text-align: right;\">\n",
       "      <th></th>\n",
       "      <th>BHK</th>\n",
       "      <th>Rent</th>\n",
       "      <th>Size</th>\n",
       "      <th>Area Type</th>\n",
       "      <th>City</th>\n",
       "      <th>Furnishing Status</th>\n",
       "      <th>Tenant Preferred</th>\n",
       "      <th>Bathroom</th>\n",
       "    </tr>\n",
       "  </thead>\n",
       "  <tbody>\n",
       "    <tr>\n",
       "      <th>0</th>\n",
       "      <td>2</td>\n",
       "      <td>10000</td>\n",
       "      <td>1100</td>\n",
       "      <td>1</td>\n",
       "      <td>4</td>\n",
       "      <td>0</td>\n",
       "      <td>2</td>\n",
       "      <td>2</td>\n",
       "    </tr>\n",
       "    <tr>\n",
       "      <th>1</th>\n",
       "      <td>2</td>\n",
       "      <td>20000</td>\n",
       "      <td>800</td>\n",
       "      <td>1</td>\n",
       "      <td>4</td>\n",
       "      <td>1</td>\n",
       "      <td>2</td>\n",
       "      <td>1</td>\n",
       "    </tr>\n",
       "    <tr>\n",
       "      <th>2</th>\n",
       "      <td>2</td>\n",
       "      <td>17000</td>\n",
       "      <td>1000</td>\n",
       "      <td>1</td>\n",
       "      <td>4</td>\n",
       "      <td>1</td>\n",
       "      <td>2</td>\n",
       "      <td>1</td>\n",
       "    </tr>\n",
       "    <tr>\n",
       "      <th>3</th>\n",
       "      <td>2</td>\n",
       "      <td>10000</td>\n",
       "      <td>800</td>\n",
       "      <td>1</td>\n",
       "      <td>4</td>\n",
       "      <td>0</td>\n",
       "      <td>2</td>\n",
       "      <td>1</td>\n",
       "    </tr>\n",
       "    <tr>\n",
       "      <th>4</th>\n",
       "      <td>2</td>\n",
       "      <td>7500</td>\n",
       "      <td>850</td>\n",
       "      <td>0</td>\n",
       "      <td>4</td>\n",
       "      <td>0</td>\n",
       "      <td>1</td>\n",
       "      <td>1</td>\n",
       "    </tr>\n",
       "  </tbody>\n",
       "</table>\n",
       "</div>"
      ],
      "text/plain": [
       "   BHK   Rent  Size  Area Type  City  Furnishing Status  Tenant Preferred  \\\n",
       "0    2  10000  1100          1     4                  0                 2   \n",
       "1    2  20000   800          1     4                  1                 2   \n",
       "2    2  17000  1000          1     4                  1                 2   \n",
       "3    2  10000   800          1     4                  0                 2   \n",
       "4    2   7500   850          0     4                  0                 1   \n",
       "\n",
       "   Bathroom  \n",
       "0         2  \n",
       "1         1  \n",
       "2         1  \n",
       "3         1  \n",
       "4         1  "
      ]
     },
     "execution_count": 141,
     "metadata": {},
     "output_type": "execute_result"
    }
   ],
   "source": [
    "hd2.head()"
   ]
  },
  {
   "cell_type": "code",
   "execution_count": 142,
   "id": "af000468",
   "metadata": {},
   "outputs": [
    {
     "data": {
      "text/html": [
       "<div>\n",
       "<style scoped>\n",
       "    .dataframe tbody tr th:only-of-type {\n",
       "        vertical-align: middle;\n",
       "    }\n",
       "\n",
       "    .dataframe tbody tr th {\n",
       "        vertical-align: top;\n",
       "    }\n",
       "\n",
       "    .dataframe thead th {\n",
       "        text-align: right;\n",
       "    }\n",
       "</style>\n",
       "<table border=\"1\" class=\"dataframe\">\n",
       "  <thead>\n",
       "    <tr style=\"text-align: right;\">\n",
       "      <th></th>\n",
       "      <th>BHK</th>\n",
       "      <th>Rent</th>\n",
       "      <th>Size</th>\n",
       "      <th>Area Type</th>\n",
       "      <th>City</th>\n",
       "      <th>Furnishing Status</th>\n",
       "      <th>Tenant Preferred</th>\n",
       "      <th>Bathroom</th>\n",
       "    </tr>\n",
       "  </thead>\n",
       "  <tbody>\n",
       "    <tr>\n",
       "      <th>0</th>\n",
       "      <td>2</td>\n",
       "      <td>10000</td>\n",
       "      <td>1100</td>\n",
       "      <td>1</td>\n",
       "      <td>4</td>\n",
       "      <td>0</td>\n",
       "      <td>2</td>\n",
       "      <td>2</td>\n",
       "    </tr>\n",
       "    <tr>\n",
       "      <th>1</th>\n",
       "      <td>2</td>\n",
       "      <td>20000</td>\n",
       "      <td>800</td>\n",
       "      <td>1</td>\n",
       "      <td>4</td>\n",
       "      <td>1</td>\n",
       "      <td>2</td>\n",
       "      <td>1</td>\n",
       "    </tr>\n",
       "    <tr>\n",
       "      <th>2</th>\n",
       "      <td>2</td>\n",
       "      <td>17000</td>\n",
       "      <td>1000</td>\n",
       "      <td>1</td>\n",
       "      <td>4</td>\n",
       "      <td>1</td>\n",
       "      <td>2</td>\n",
       "      <td>1</td>\n",
       "    </tr>\n",
       "    <tr>\n",
       "      <th>3</th>\n",
       "      <td>2</td>\n",
       "      <td>10000</td>\n",
       "      <td>800</td>\n",
       "      <td>1</td>\n",
       "      <td>4</td>\n",
       "      <td>0</td>\n",
       "      <td>2</td>\n",
       "      <td>1</td>\n",
       "    </tr>\n",
       "    <tr>\n",
       "      <th>4</th>\n",
       "      <td>2</td>\n",
       "      <td>7500</td>\n",
       "      <td>850</td>\n",
       "      <td>0</td>\n",
       "      <td>4</td>\n",
       "      <td>0</td>\n",
       "      <td>1</td>\n",
       "      <td>1</td>\n",
       "    </tr>\n",
       "  </tbody>\n",
       "</table>\n",
       "</div>"
      ],
      "text/plain": [
       "   BHK   Rent  Size  Area Type  City  Furnishing Status  Tenant Preferred  \\\n",
       "0    2  10000  1100          1     4                  0                 2   \n",
       "1    2  20000   800          1     4                  1                 2   \n",
       "2    2  17000  1000          1     4                  1                 2   \n",
       "3    2  10000   800          1     4                  0                 2   \n",
       "4    2   7500   850          0     4                  0                 1   \n",
       "\n",
       "   Bathroom  \n",
       "0         2  \n",
       "1         1  \n",
       "2         1  \n",
       "3         1  \n",
       "4         1  "
      ]
     },
     "execution_count": 142,
     "metadata": {},
     "output_type": "execute_result"
    }
   ],
   "source": [
    "hd3.head()"
   ]
  },
  {
   "cell_type": "code",
   "execution_count": 143,
   "id": "97aa280b",
   "metadata": {},
   "outputs": [],
   "source": [
    "scaler1 = MinMaxScaler()\n",
    "scaler2 = StandardScaler()\n",
    "scaler3 = RobustScaler()\n",
    "fin1 = scaler1.fit_transform(hd1[['Size']].values.reshape(-1, 1))\n",
    "fin2 = scaler2.fit_transform(hd2[['Size']].values.reshape(-1, 1))\n",
    "fin3 = scaler3.fit_transform(hd3[['Size']].values.reshape(-1, 1))\n",
    "hd1['Size_MM'] = fin1\n",
    "hd2['Size_STD'] = fin2\n",
    "hd3['Size_RBS'] = fin3"
   ]
  },
  {
   "cell_type": "code",
   "execution_count": 144,
   "id": "7c6ce591",
   "metadata": {},
   "outputs": [],
   "source": [
    "hd1.drop(columns=['Size'], inplace = True)\n",
    "hd2.drop(columns=['Size'], inplace = True)\n",
    "hd3.drop(columns=['Size'], inplace = True)"
   ]
  },
  {
   "cell_type": "code",
   "execution_count": 145,
   "id": "d9c33c9d",
   "metadata": {},
   "outputs": [
    {
     "data": {
      "text/html": [
       "<div>\n",
       "<style scoped>\n",
       "    .dataframe tbody tr th:only-of-type {\n",
       "        vertical-align: middle;\n",
       "    }\n",
       "\n",
       "    .dataframe tbody tr th {\n",
       "        vertical-align: top;\n",
       "    }\n",
       "\n",
       "    .dataframe thead th {\n",
       "        text-align: right;\n",
       "    }\n",
       "</style>\n",
       "<table border=\"1\" class=\"dataframe\">\n",
       "  <thead>\n",
       "    <tr style=\"text-align: right;\">\n",
       "      <th></th>\n",
       "      <th>BHK</th>\n",
       "      <th>Rent</th>\n",
       "      <th>Area Type</th>\n",
       "      <th>City</th>\n",
       "      <th>Furnishing Status</th>\n",
       "      <th>Tenant Preferred</th>\n",
       "      <th>Bathroom</th>\n",
       "      <th>Size_MM</th>\n",
       "    </tr>\n",
       "  </thead>\n",
       "  <tbody>\n",
       "    <tr>\n",
       "      <th>0</th>\n",
       "      <td>2</td>\n",
       "      <td>10000</td>\n",
       "      <td>1</td>\n",
       "      <td>4</td>\n",
       "      <td>0</td>\n",
       "      <td>2</td>\n",
       "      <td>2</td>\n",
       "      <td>0.227557</td>\n",
       "    </tr>\n",
       "    <tr>\n",
       "      <th>1</th>\n",
       "      <td>2</td>\n",
       "      <td>20000</td>\n",
       "      <td>1</td>\n",
       "      <td>4</td>\n",
       "      <td>1</td>\n",
       "      <td>2</td>\n",
       "      <td>1</td>\n",
       "      <td>0.164927</td>\n",
       "    </tr>\n",
       "    <tr>\n",
       "      <th>2</th>\n",
       "      <td>2</td>\n",
       "      <td>17000</td>\n",
       "      <td>1</td>\n",
       "      <td>4</td>\n",
       "      <td>1</td>\n",
       "      <td>2</td>\n",
       "      <td>1</td>\n",
       "      <td>0.206681</td>\n",
       "    </tr>\n",
       "    <tr>\n",
       "      <th>3</th>\n",
       "      <td>2</td>\n",
       "      <td>10000</td>\n",
       "      <td>1</td>\n",
       "      <td>4</td>\n",
       "      <td>0</td>\n",
       "      <td>2</td>\n",
       "      <td>1</td>\n",
       "      <td>0.164927</td>\n",
       "    </tr>\n",
       "    <tr>\n",
       "      <th>4</th>\n",
       "      <td>2</td>\n",
       "      <td>7500</td>\n",
       "      <td>0</td>\n",
       "      <td>4</td>\n",
       "      <td>0</td>\n",
       "      <td>1</td>\n",
       "      <td>1</td>\n",
       "      <td>0.175365</td>\n",
       "    </tr>\n",
       "  </tbody>\n",
       "</table>\n",
       "</div>"
      ],
      "text/plain": [
       "   BHK   Rent  Area Type  City  Furnishing Status  Tenant Preferred  Bathroom  \\\n",
       "0    2  10000          1     4                  0                 2         2   \n",
       "1    2  20000          1     4                  1                 2         1   \n",
       "2    2  17000          1     4                  1                 2         1   \n",
       "3    2  10000          1     4                  0                 2         1   \n",
       "4    2   7500          0     4                  0                 1         1   \n",
       "\n",
       "    Size_MM  \n",
       "0  0.227557  \n",
       "1  0.164927  \n",
       "2  0.206681  \n",
       "3  0.164927  \n",
       "4  0.175365  "
      ]
     },
     "execution_count": 145,
     "metadata": {},
     "output_type": "execute_result"
    }
   ],
   "source": [
    "hd1.head()"
   ]
  },
  {
   "cell_type": "code",
   "execution_count": 146,
   "id": "be0e6913",
   "metadata": {},
   "outputs": [
    {
     "data": {
      "text/html": [
       "<div>\n",
       "<style scoped>\n",
       "    .dataframe tbody tr th:only-of-type {\n",
       "        vertical-align: middle;\n",
       "    }\n",
       "\n",
       "    .dataframe tbody tr th {\n",
       "        vertical-align: top;\n",
       "    }\n",
       "\n",
       "    .dataframe thead th {\n",
       "        text-align: right;\n",
       "    }\n",
       "</style>\n",
       "<table border=\"1\" class=\"dataframe\">\n",
       "  <thead>\n",
       "    <tr style=\"text-align: right;\">\n",
       "      <th></th>\n",
       "      <th>BHK</th>\n",
       "      <th>Rent</th>\n",
       "      <th>Area Type</th>\n",
       "      <th>City</th>\n",
       "      <th>Furnishing Status</th>\n",
       "      <th>Tenant Preferred</th>\n",
       "      <th>Bathroom</th>\n",
       "      <th>Size_STD</th>\n",
       "    </tr>\n",
       "  </thead>\n",
       "  <tbody>\n",
       "    <tr>\n",
       "      <th>0</th>\n",
       "      <td>2</td>\n",
       "      <td>10000</td>\n",
       "      <td>1</td>\n",
       "      <td>4</td>\n",
       "      <td>0</td>\n",
       "      <td>2</td>\n",
       "      <td>2</td>\n",
       "      <td>0.352248</td>\n",
       "    </tr>\n",
       "    <tr>\n",
       "      <th>1</th>\n",
       "      <td>2</td>\n",
       "      <td>20000</td>\n",
       "      <td>1</td>\n",
       "      <td>4</td>\n",
       "      <td>1</td>\n",
       "      <td>2</td>\n",
       "      <td>1</td>\n",
       "      <td>-0.215379</td>\n",
       "    </tr>\n",
       "    <tr>\n",
       "      <th>2</th>\n",
       "      <td>2</td>\n",
       "      <td>17000</td>\n",
       "      <td>1</td>\n",
       "      <td>4</td>\n",
       "      <td>1</td>\n",
       "      <td>2</td>\n",
       "      <td>1</td>\n",
       "      <td>0.163039</td>\n",
       "    </tr>\n",
       "    <tr>\n",
       "      <th>3</th>\n",
       "      <td>2</td>\n",
       "      <td>10000</td>\n",
       "      <td>1</td>\n",
       "      <td>4</td>\n",
       "      <td>0</td>\n",
       "      <td>2</td>\n",
       "      <td>1</td>\n",
       "      <td>-0.215379</td>\n",
       "    </tr>\n",
       "    <tr>\n",
       "      <th>4</th>\n",
       "      <td>2</td>\n",
       "      <td>7500</td>\n",
       "      <td>0</td>\n",
       "      <td>4</td>\n",
       "      <td>0</td>\n",
       "      <td>1</td>\n",
       "      <td>1</td>\n",
       "      <td>-0.120775</td>\n",
       "    </tr>\n",
       "  </tbody>\n",
       "</table>\n",
       "</div>"
      ],
      "text/plain": [
       "   BHK   Rent  Area Type  City  Furnishing Status  Tenant Preferred  Bathroom  \\\n",
       "0    2  10000          1     4                  0                 2         2   \n",
       "1    2  20000          1     4                  1                 2         1   \n",
       "2    2  17000          1     4                  1                 2         1   \n",
       "3    2  10000          1     4                  0                 2         1   \n",
       "4    2   7500          0     4                  0                 1         1   \n",
       "\n",
       "   Size_STD  \n",
       "0  0.352248  \n",
       "1 -0.215379  \n",
       "2  0.163039  \n",
       "3 -0.215379  \n",
       "4 -0.120775  "
      ]
     },
     "execution_count": 146,
     "metadata": {},
     "output_type": "execute_result"
    }
   ],
   "source": [
    "hd2.head()"
   ]
  },
  {
   "cell_type": "code",
   "execution_count": 147,
   "id": "80d362d9",
   "metadata": {},
   "outputs": [
    {
     "data": {
      "text/html": [
       "<div>\n",
       "<style scoped>\n",
       "    .dataframe tbody tr th:only-of-type {\n",
       "        vertical-align: middle;\n",
       "    }\n",
       "\n",
       "    .dataframe tbody tr th {\n",
       "        vertical-align: top;\n",
       "    }\n",
       "\n",
       "    .dataframe thead th {\n",
       "        text-align: right;\n",
       "    }\n",
       "</style>\n",
       "<table border=\"1\" class=\"dataframe\">\n",
       "  <thead>\n",
       "    <tr style=\"text-align: right;\">\n",
       "      <th></th>\n",
       "      <th>BHK</th>\n",
       "      <th>Rent</th>\n",
       "      <th>Area Type</th>\n",
       "      <th>City</th>\n",
       "      <th>Furnishing Status</th>\n",
       "      <th>Tenant Preferred</th>\n",
       "      <th>Bathroom</th>\n",
       "      <th>Size_RBS</th>\n",
       "    </tr>\n",
       "  </thead>\n",
       "  <tbody>\n",
       "    <tr>\n",
       "      <th>0</th>\n",
       "      <td>2</td>\n",
       "      <td>10000</td>\n",
       "      <td>1</td>\n",
       "      <td>4</td>\n",
       "      <td>0</td>\n",
       "      <td>2</td>\n",
       "      <td>2</td>\n",
       "      <td>0.456923</td>\n",
       "    </tr>\n",
       "    <tr>\n",
       "      <th>1</th>\n",
       "      <td>2</td>\n",
       "      <td>20000</td>\n",
       "      <td>1</td>\n",
       "      <td>4</td>\n",
       "      <td>1</td>\n",
       "      <td>2</td>\n",
       "      <td>1</td>\n",
       "      <td>-0.004615</td>\n",
       "    </tr>\n",
       "    <tr>\n",
       "      <th>2</th>\n",
       "      <td>2</td>\n",
       "      <td>17000</td>\n",
       "      <td>1</td>\n",
       "      <td>4</td>\n",
       "      <td>1</td>\n",
       "      <td>2</td>\n",
       "      <td>1</td>\n",
       "      <td>0.303077</td>\n",
       "    </tr>\n",
       "    <tr>\n",
       "      <th>3</th>\n",
       "      <td>2</td>\n",
       "      <td>10000</td>\n",
       "      <td>1</td>\n",
       "      <td>4</td>\n",
       "      <td>0</td>\n",
       "      <td>2</td>\n",
       "      <td>1</td>\n",
       "      <td>-0.004615</td>\n",
       "    </tr>\n",
       "    <tr>\n",
       "      <th>4</th>\n",
       "      <td>2</td>\n",
       "      <td>7500</td>\n",
       "      <td>0</td>\n",
       "      <td>4</td>\n",
       "      <td>0</td>\n",
       "      <td>1</td>\n",
       "      <td>1</td>\n",
       "      <td>0.072308</td>\n",
       "    </tr>\n",
       "  </tbody>\n",
       "</table>\n",
       "</div>"
      ],
      "text/plain": [
       "   BHK   Rent  Area Type  City  Furnishing Status  Tenant Preferred  Bathroom  \\\n",
       "0    2  10000          1     4                  0                 2         2   \n",
       "1    2  20000          1     4                  1                 2         1   \n",
       "2    2  17000          1     4                  1                 2         1   \n",
       "3    2  10000          1     4                  0                 2         1   \n",
       "4    2   7500          0     4                  0                 1         1   \n",
       "\n",
       "   Size_RBS  \n",
       "0  0.456923  \n",
       "1 -0.004615  \n",
       "2  0.303077  \n",
       "3 -0.004615  \n",
       "4  0.072308  "
      ]
     },
     "execution_count": 147,
     "metadata": {},
     "output_type": "execute_result"
    }
   ],
   "source": [
    "hd3.head()"
   ]
  },
  {
   "cell_type": "markdown",
   "id": "f4bbed59",
   "metadata": {},
   "source": [
    "### Train-Test Split and Model Training"
   ]
  },
  {
   "cell_type": "code",
   "execution_count": 148,
   "id": "1f6cfcac",
   "metadata": {},
   "outputs": [],
   "source": [
    "# X = hd1.drop(columns='Rent')\n",
    "# y = hd1['Rent']\n",
    "# X = hd2.drop(columns='Rent')\n",
    "# y = hd2['Rent']\n",
    "X = hd3.drop(columns='Rent')\n",
    "y = hd3['Rent']"
   ]
  },
  {
   "cell_type": "code",
   "execution_count": 149,
   "id": "bd8e2b34",
   "metadata": {},
   "outputs": [],
   "source": [
    "X_train, X_test, y_train, y_test = train_test_split(X, y, test_size=0.25, random_state=120) # Test with random_state"
   ]
  },
  {
   "cell_type": "code",
   "execution_count": 150,
   "id": "869cb169",
   "metadata": {},
   "outputs": [
    {
     "name": "stdout",
     "output_type": "stream",
     "text": [
      "Linear Regression RMSE: 21324.75 (+/- 1261.60)\n",
      "Random Forest RMSE: 15764.37 (+/- 1157.32)\n",
      "Gradient Boosting RMSE: 14938.93 (+/- 1023.29)\n",
      "SVR RMSE: 31210.25 (+/- 1307.12)\n",
      "Lasso RMSE: 21324.76 (+/- 1261.71)\n",
      "Ridge RMSE: 21324.70 (+/- 1261.82)\n",
      "Decision Tree RMSE: 20237.55 (+/- 870.45)\n",
      "K-Nearest Neighbors RMSE: 16415.99 (+/- 1473.93)\n"
     ]
    }
   ],
   "source": [
    "models = {\n",
    "    \"Linear Regression\": LinearRegression(),\n",
    "    \"Random Forest\": RandomForestRegressor(),\n",
    "    \"Gradient Boosting\": GradientBoostingRegressor(),\n",
    "    \"SVR\": SVR(),\n",
    "    \"Lasso\": Lasso(),\n",
    "    \"Ridge\": Ridge(),\n",
    "    \"Decision Tree\": DecisionTreeRegressor(),\n",
    "    \"K-Nearest Neighbors\": KNeighborsRegressor()\n",
    "}\n",
    "\n",
    "# Iterating through each model and performing cross-validation\n",
    "for model_name, model in models.items():\n",
    "    scores = cross_val_score(model, X_train, y_train, cv=5, scoring='neg_mean_squared_error')\n",
    "    rmse_scores = np.sqrt(-scores)  # Convert negative MSE to RMSE\n",
    "    mean_rmse = rmse_scores.mean()\n",
    "    std_rmse = rmse_scores.std()\n",
    "    print(f\"{model_name} RMSE: {mean_rmse:.2f} (+/- {std_rmse:.2f})\")\n",
    "    #                                           ^       ^\n",
    "    # It represents the amount of variation or spread in RMSE values "
   ]
  },
  {
   "attachments": {
    "image.png": {
     "image/png": "[encoded data removed]"
    }
   },
   "cell_type": "markdown",
   "id": "8b885b1f",
   "metadata": {},
   "source": [
    "---\n",
    "<br>\n",
    "\n",
    "#### Gradient Boosting and Random-Forest seems the best choice\n",
    "Cross-validation refers to the number of folds or partitions that your dataset is split into for cross-validation. It is commonly known as \"k\" in k-fold cross-validation. In this case, cv=5 means that your dataset is divided into 5 equal parts, or \"folds.\" <br><br>\n",
    "![image.png](attachment:image.png)\n",
    "<br><br>"
   ]
  },
  {
   "cell_type": "code",
   "execution_count": 151,
   "id": "e1712744",
   "metadata": {},
   "outputs": [
    {
     "data": {
      "text/html": [
       "<style>#sk-container-id-2 {color: black;}#sk-container-id-2 pre{padding: 0;}#sk-container-id-2 div.sk-toggleable {background-color: white;}#sk-container-id-2 label.sk-toggleable__label {cursor: pointer;display: block;width: 100%;margin-bottom: 0;padding: 0.3em;box-sizing: border-box;text-align: center;}#sk-container-id-2 label.sk-toggleable__label-arrow:before {content: \"▸\";float: left;margin-right: 0.25em;color: #696969;}#sk-container-id-2 label.sk-toggleable__label-arrow:hover:before {color: black;}#sk-container-id-2 div.sk-estimator:hover label.sk-toggleable__label-arrow:before {color: black;}#sk-container-id-2 div.sk-toggleable__content {max-height: 0;max-width: 0;overflow: hidden;text-align: left;background-color: #f0f8ff;}#sk-container-id-2 div.sk-toggleable__content pre {margin: 0.2em;color: black;border-radius: 0.25em;background-color: #f0f8ff;}#sk-container-id-2 input.sk-toggleable__control:checked~div.sk-toggleable__content {max-height: 200px;max-width: 100%;overflow: auto;}#sk-container-id-2 input.sk-toggleable__control:checked~label.sk-toggleable__label-arrow:before {content: \"▾\";}#sk-container-id-2 div.sk-estimator input.sk-toggleable__control:checked~label.sk-toggleable__label {background-color: #d4ebff;}#sk-container-id-2 div.sk-label input.sk-toggleable__control:checked~label.sk-toggleable__label {background-color: #d4ebff;}#sk-container-id-2 input.sk-hidden--visually {border: 0;clip: rect(1px 1px 1px 1px);clip: rect(1px, 1px, 1px, 1px);height: 1px;margin: -1px;overflow: hidden;padding: 0;position: absolute;width: 1px;}#sk-container-id-2 div.sk-estimator {font-family: monospace;background-color: #f0f8ff;border: 1px dotted black;border-radius: 0.25em;box-sizing: border-box;margin-bottom: 0.5em;}#sk-container-id-2 div.sk-estimator:hover {background-color: #d4ebff;}#sk-container-id-2 div.sk-parallel-item::after {content: \"\";width: 100%;border-bottom: 1px solid gray;flex-grow: 1;}#sk-container-id-2 div.sk-label:hover label.sk-toggleable__label {background-color: #d4ebff;}#sk-container-id-2 div.sk-serial::before {content: \"\";position: absolute;border-left: 1px solid gray;box-sizing: border-box;top: 0;bottom: 0;left: 50%;z-index: 0;}#sk-container-id-2 div.sk-serial {display: flex;flex-direction: column;align-items: center;background-color: white;padding-right: 0.2em;padding-left: 0.2em;position: relative;}#sk-container-id-2 div.sk-item {position: relative;z-index: 1;}#sk-container-id-2 div.sk-parallel {display: flex;align-items: stretch;justify-content: center;background-color: white;position: relative;}#sk-container-id-2 div.sk-item::before, #sk-container-id-2 div.sk-parallel-item::before {content: \"\";position: absolute;border-left: 1px solid gray;box-sizing: border-box;top: 0;bottom: 0;left: 50%;z-index: -1;}#sk-container-id-2 div.sk-parallel-item {display: flex;flex-direction: column;z-index: 1;position: relative;background-color: white;}#sk-container-id-2 div.sk-parallel-item:first-child::after {align-self: flex-end;width: 50%;}#sk-container-id-2 div.sk-parallel-item:last-child::after {align-self: flex-start;width: 50%;}#sk-container-id-2 div.sk-parallel-item:only-child::after {width: 0;}#sk-container-id-2 div.sk-dashed-wrapped {border: 1px dashed gray;margin: 0 0.4em 0.5em 0.4em;box-sizing: border-box;padding-bottom: 0.4em;background-color: white;}#sk-container-id-2 div.sk-label label {font-family: monospace;font-weight: bold;display: inline-block;line-height: 1.2em;}#sk-container-id-2 div.sk-label-container {text-align: center;}#sk-container-id-2 div.sk-container {/* jupyter's `normalize.less` sets `[hidden] { display: none; }` but bootstrap.min.css set `[hidden] { display: none !important; }` so we also need the `!important` here to be able to override the default hidden behavior on the sphinx rendered scikit-learn.org. See: https://github.com/scikit-learn/scikit-learn/issues/21755 */display: inline-block !important;position: relative;}#sk-container-id-2 div.sk-text-repr-fallback {display: none;}</style><div id=\"sk-container-id-2\" class=\"sk-top-container\"><div class=\"sk-text-repr-fallback\"><pre>GradientBoostingRegressor()</pre><b>In a Jupyter environment, please rerun this cell to show the HTML representation or trust the notebook. <br />On GitHub, the HTML representation is unable to render, please try loading this page with nbviewer.org.</b></div><div class=\"sk-container\" hidden><div class=\"sk-item\"><div class=\"sk-estimator sk-toggleable\"><input class=\"sk-toggleable__control sk-hidden--visually\" id=\"sk-estimator-id-2\" type=\"checkbox\" checked><label for=\"sk-estimator-id-2\" class=\"sk-toggleable__label sk-toggleable__label-arrow\">GradientBoostingRegressor</label><div class=\"sk-toggleable__content\"><pre>GradientBoostingRegressor()</pre></div></div></div></div></div>"
      ],
      "text/plain": [
       "GradientBoostingRegressor()"
      ]
     },
     "execution_count": 151,
     "metadata": {},
     "output_type": "execute_result"
    }
   ],
   "source": [
    "model = GradientBoostingRegressor()\n",
    "model.fit(X_train, y_train)"
   ]
  },
  {
   "cell_type": "code",
   "execution_count": 152,
   "id": "378dc0d3",
   "metadata": {},
   "outputs": [],
   "source": [
    "y_pred = model.predict(X_test)"
   ]
  },
  {
   "cell_type": "code",
   "execution_count": 153,
   "id": "14ab6dee",
   "metadata": {},
   "outputs": [
    {
     "name": "stdout",
     "output_type": "stream",
     "text": [
      "(3443, 7)\n",
      "7\n"
     ]
    }
   ],
   "source": [
    "print(X_train.shape)\n",
    "print(X_train.shape[1])"
   ]
  },
  {
   "cell_type": "code",
   "execution_count": 154,
   "id": "2cfe11ed",
   "metadata": {},
   "outputs": [
    {
     "name": "stdout",
     "output_type": "stream",
     "text": [
      "The MSE: 242025684.0\n",
      "The RMSE: 15557.175\n",
      "The MAE: 8861.695\n",
      "The R^2: 0.76\n",
      "The ADJ_R^2: 0.76\n"
     ]
    }
   ],
   "source": [
    "MSE = mean_squared_error(y_test, y_pred)\n",
    "MAE = mean_absolute_error(y_test, y_pred)\n",
    "R2S = r2_score(y_test, y_pred)\n",
    "RMSE = math.sqrt(MSE)\n",
    "# Adjusted R^2\n",
    "n = len(y_test)\n",
    "p = X_train.shape[1] \n",
    "ADJ_R2S = 1 - (1 - R2S) * (n - 1) / (n - p - 1)\n",
    "print(\"The MSE:\", round(MSE,3))\n",
    "print(\"The RMSE:\", round(RMSE,3))\n",
    "print(\"The MAE:\", round(MAE,3))\n",
    "print(\"The R^2:\", round(R2S, 2))\n",
    "print(\"The ADJ_R^2:\", round(ADJ_R2S, 2))"
   ]
  },
  {
   "cell_type": "markdown",
   "id": "d58e3a8e",
   "metadata": {},
   "source": [
    "### Residual Analysis\n",
    " If all residuals lie exactly on the red line, it indicates that the model perfectly fits the data, but that doesn't necessarily mean it's the best model. It might be overfitting the data. We want the residuals to be randomly scattered around the red line, showing no clear patterns or trends, which indicates that the model's assumptions (homoscedasticity and normality) are met."
   ]
  },
  {
   "cell_type": "code",
   "execution_count": 155,
   "id": "e5ad6096",
   "metadata": {},
   "outputs": [],
   "source": [
    "residuals = y_test - y_pred"
   ]
  },
  {
   "cell_type": "code",
   "execution_count": 156,
   "id": "ee8d65f8",
   "metadata": {},
   "outputs": [],
   "source": [
    "data = {'Predicted' : y_pred,\n",
    "           'Residuals' : residuals}\n",
    "analysis = pd.DataFrame(data)"
   ]
  },
  {
   "cell_type": "code",
   "execution_count": 157,
   "id": "a72ea83b",
   "metadata": {},
   "outputs": [
    {
     "data": {
      "image/png": "[encoded data removed]",
      "text/plain": [
       "<Figure size 1000x600 with 1 Axes>"
      ]
     },
     "metadata": {},
     "output_type": "display_data"
    }
   ],
   "source": [
    "# Check for normality of residuals using a histogram and Q-Q plot\n",
    "plt.figure(figsize=(10, 6))\n",
    "sns.histplot(residuals, kde=True)\n",
    "plt.title(\"Residuals Histogram\")\n",
    "plt.show()"
   ]
  },
  {
   "cell_type": "code",
   "execution_count": 158,
   "id": "0f0d9dd0",
   "metadata": {},
   "outputs": [
    {
     "data": {
      "image/png": "[encoded data removed]",
      "text/plain": [
       "<Figure size 1200x600 with 1 Axes>"
      ]
     },
     "metadata": {},
     "output_type": "display_data"
    }
   ],
   "source": [
    "plt.figure(figsize=(12,6))\n",
    "plt.scatter(y_pred, residuals)\n",
    "# Setting the red line at y=0\n",
    "plt.axhline(y=0, color='r', linestyle='-')\n",
    "plt.title(\"Residual Plot\")\n",
    "plt.xlabel(\"Predicted Values\")\n",
    "plt.ylabel(\"Residuals\")\n",
    "plt.show()"
   ]
  },
  {
   "cell_type": "code",
   "execution_count": 159,
   "id": "f7e4e737",
   "metadata": {},
   "outputs": [
    {
     "data": {
      "image/png": "[encoded data removed]",
      "text/plain": [
       "<Figure size 1200x600 with 1 Axes>"
      ]
     },
     "metadata": {},
     "output_type": "display_data"
    }
   ],
   "source": [
    "import scipy.stats as stats\n",
    "import pylab\n",
    "# Check for normality of residuals using a Q-Q plot\n",
    "plt.figure(figsize=(12, 6))\n",
    "stats.probplot(residuals, dist=\"norm\", plot=pylab)\n",
    "pylab.title(\"Q-Q Plot\")\n",
    "pylab.show()"
   ]
  },
  {
   "cell_type": "code",
   "execution_count": 160,
   "id": "32657992",
   "metadata": {},
   "outputs": [
    {
     "name": "stdout",
     "output_type": "stream",
     "text": [
      "The MSE: 259990140.312\n",
      "The RMSE: 16124.21\n",
      "The MAE: 9179.906\n",
      "The R^2: 0.74\n",
      "The ADJ_R^2: 0.74\n"
     ]
    }
   ],
   "source": [
    "model = RandomForestRegressor()\n",
    "model.fit(X_train, y_train)\n",
    "y_pred = model.predict(X_test)\n",
    "\n",
    "MSE = mean_squared_error(y_test, y_pred)\n",
    "MAE = mean_absolute_error(y_test, y_pred)\n",
    "R2S = r2_score(y_test, y_pred)\n",
    "RMSE = math.sqrt(MSE)\n",
    "# Adjusted R^2\n",
    "n = len(y_test)\n",
    "p = X_train.shape[1] \n",
    "ADJ_R2S = 1 - (1 - R2S) * (n - 1) / (n - p - 1)\n",
    "print(\"The MSE:\", round(MSE,3))\n",
    "print(\"The RMSE:\", round(RMSE,3))\n",
    "print(\"The MAE:\", round(MAE,3))\n",
    "print(\"The R^2:\", round(R2S, 2))\n",
    "print(\"The ADJ_R^2:\", round(ADJ_R2S, 2))"
   ]
  },
  {
   "cell_type": "markdown",
   "id": "9b3f38a4",
   "metadata": {},
   "source": [
    "### Hyper-Parameter Tuning (on GBR and RF)"
   ]
  },
  {
   "cell_type": "markdown",
   "id": "f7ad227a",
   "metadata": {},
   "source": [
    "#### GBR Hypertuning"
   ]
  },
  {
   "cell_type": "code",
   "execution_count": 161,
   "id": "84d00b80",
   "metadata": {},
   "outputs": [],
   "source": [
    "parameter_grid_gbr = {\n",
    "    'n_estimators': [100, 125, 150, 175, 200, 225, 250, 275, 300],\n",
    "    'max_depth': [None, 2, 4, 6, 8, 10, 12, 14, 16, 18, 20],\n",
    "    'learning_rate': [0.01, 0.1, 0.2],\n",
    "}\n",
    "gbr_model = GradientBoostingRegressor()"
   ]
  },
  {
   "cell_type": "code",
   "execution_count": 162,
   "id": "679b5b27",
   "metadata": {},
   "outputs": [],
   "source": [
    "grid_search_gbr = GridSearchCV(estimator=gbr_model, param_grid=parameter_grid_gbr,\n",
    "                          scoring='neg_mean_squared_error', cv=5, n_jobs=-1)\n",
    "# n_jobs speeds up HP tuning process by leveraging multiple CPU cores for parallel processing.\n",
    "\n",
    "random_search_gbr = RandomizedSearchCV(estimator=gbr_model, \n",
    "                                   param_distributions = parameter_grid_gbr, \n",
    "                                   scoring='neg_mean_squared_error' ,cv=5, n_iter=10 ,n_jobs=-1)\n",
    "# n_iters determines how many random combination of HP will be evaluated during RandomizedSearch"
   ]
  },
  {
   "cell_type": "code",
   "execution_count": 163,
   "id": "b6438a63",
   "metadata": {},
   "outputs": [
    {
     "name": "stdout",
     "output_type": "stream",
     "text": [
      "{'learning_rate': 0.1, 'max_depth': 4, 'n_estimators': 100}\n"
     ]
    }
   ],
   "source": [
    "grid_search_gbr.fit(X_train, y_train)\n",
    "best_parameter1 = grid_search_gbr.best_params_\n",
    "print(best_parameter1)"
   ]
  },
  {
   "cell_type": "code",
   "execution_count": 164,
   "id": "86aee96b",
   "metadata": {},
   "outputs": [
    {
     "name": "stdout",
     "output_type": "stream",
     "text": [
      "{'n_estimators': 250, 'max_depth': 4, 'learning_rate': 0.01}\n"
     ]
    }
   ],
   "source": [
    "random_search_gbr.fit(X_train, y_train)\n",
    "best_parameter2 = random_search_gbr.best_params_\n",
    "print(best_parameter2)"
   ]
  },
  {
   "cell_type": "code",
   "execution_count": 200,
   "id": "e2a997f8",
   "metadata": {},
   "outputs": [
    {
     "name": "stdout",
     "output_type": "stream",
     "text": [
      "The MSE: 241270134.232\n",
      "The RMSE: 15532.873\n",
      "The MAE: 8851.07\n",
      "The R^2: 0.76\n",
      "The ADJ_R^2: 0.76\n"
     ]
    }
   ],
   "source": [
    "gbr_model = GradientBoostingRegressor(n_estimators=300, max_depth=6, learning_rate=0.01)\n",
    "gbr_model.fit(X_train, y_train)\n",
    "y_pred = gbr_model.predict(X_test)\n",
    "\n",
    "MSE = mean_squared_error(y_test, y_pred)\n",
    "MAE = mean_absolute_error(y_test, y_pred)\n",
    "R2S = r2_score(y_test, y_pred)\n",
    "RMSE = math.sqrt(MSE)\n",
    "# Adjusted R^2\n",
    "n = len(y_test)\n",
    "p = X_train.shape[1] \n",
    "ADJ_R2S = 1 - (1 - R2S) * (n - 1) / (n - p - 1)\n",
    "print(\"The MSE:\", round(MSE,3))\n",
    "print(\"The RMSE:\", round(RMSE,3))\n",
    "print(\"The MAE:\", round(MAE,3))\n",
    "print(\"The R^2:\", round(R2S, 2))\n",
    "print(\"The ADJ_R^2:\", round(ADJ_R2S, 2))"
   ]
  },
  {
   "cell_type": "markdown",
   "id": "d558f63a",
   "metadata": {},
   "source": [
    "#### Random-Forest Hypertuning"
   ]
  },
  {
   "cell_type": "code",
   "execution_count": 166,
   "id": "140d71f5",
   "metadata": {},
   "outputs": [],
   "source": [
    "parameter_grid_rf = {\n",
    "    'n_estimators': [100, 200, 300, 400, 500],\n",
    "    'max_depth': [10, 20, 30, 40, 50, None],\n",
    "    'min_samples_split': [2, 5, 10],\n",
    "    'min_samples_leaf': [1, 2, 4],\n",
    "    'max_features': ['auto', 'sqrt', 'log2', None]\n",
    "}\n",
    "rf_model = RandomForestRegressor()"
   ]
  },
  {
   "cell_type": "code",
   "execution_count": 167,
   "id": "2c27748e",
   "metadata": {},
   "outputs": [],
   "source": [
    "random_search_rf = RandomizedSearchCV(estimator=rf_model, param_distributions=parameter_grid_rf, \n",
    "                                      n_iter=100, cv=5, scoring='neg_mean_squared_error', \n",
    "                                      random_state=42)\n",
    "# n_iters determines how many random combination of HP will be evaluated during RandomizedSearch"
   ]
  },
  {
   "cell_type": "code",
   "execution_count": 168,
   "id": "3ad6cbe0",
   "metadata": {},
   "outputs": [
    {
     "name": "stdout",
     "output_type": "stream",
     "text": [
      "{'n_estimators': 100, 'min_samples_split': 10, 'min_samples_leaf': 4, 'max_features': None, 'max_depth': 20}\n"
     ]
    }
   ],
   "source": [
    "random_search_rf.fit(X_train, y_train)\n",
    "best_parameter = random_search_rf.best_params_\n",
    "print(best_parameter)"
   ]
  },
  {
   "cell_type": "code",
   "execution_count": 207,
   "id": "18e12157",
   "metadata": {},
   "outputs": [
    {
     "name": "stdout",
     "output_type": "stream",
     "text": [
      "The MSE: 233867887.217\n",
      "The RMSE: 15292.74\n",
      "The MAE: 8761.11\n",
      "The R^2: 0.77\n",
      "The ADJ_R^2: 0.77\n"
     ]
    }
   ],
   "source": [
    "rf_model = RandomForestRegressor(n_estimators=250, min_samples_split=10, \n",
    "                                 min_samples_leaf=4, max_features=None, max_depth=20)\n",
    "rf_model.fit(X_train, y_train)\n",
    "y_pred = rf_model.predict(X_test)\n",
    "\n",
    "MSE = mean_squared_error(y_test, y_pred)\n",
    "MAE = mean_absolute_error(y_test, y_pred)\n",
    "R2S = r2_score(y_test, y_pred)\n",
    "RMSE = math.sqrt(MSE)\n",
    "\n",
    "n = len(y_test)\n",
    "p = X_train.shape[1] \n",
    "ADJ_R2S = 1 - (1 - R2S) * (n - 1) / (n - p - 1)\n",
    "print(\"The MSE:\", round(MSE,3))\n",
    "print(\"The RMSE:\", round(RMSE,3))\n",
    "print(\"The MAE:\", round(MAE,3))\n",
    "print(\"The R^2:\", round(R2S, 2))\n",
    "print(\"The ADJ_R^2:\", round(ADJ_R2S, 2))"
   ]
  },
  {
   "cell_type": "markdown",
   "id": "ad1abdcc",
   "metadata": {},
   "source": [
    "#### RF performs well, we'll use this for now"
   ]
  },
  {
   "cell_type": "code",
   "execution_count": 208,
   "id": "a08375e2",
   "metadata": {},
   "outputs": [
    {
     "data": {
      "image/png": "[encoded data removed]",
      "text/plain": [
       "<Figure size 1000x600 with 1 Axes>"
      ]
     },
     "metadata": {},
     "output_type": "display_data"
    }
   ],
   "source": [
    "actual_values = y_test\n",
    "predicted_values = y_pred  \n",
    "\n",
    "plt.figure(figsize=(10, 6))\n",
    "sns.scatterplot(x=actual_values, y=predicted_values)\n",
    "plt.xlabel(\"Actual Values (Rent)\")\n",
    "plt.ylabel(\"Predicted Values (Rent)\")\n",
    "plt.title(\"Actual vs. Predicted Values\")\n",
    "\n",
    "plt.plot([min(actual_values), max(actual_values)], \n",
    "         [min(actual_values), max(actual_values)], color='red')\n",
    "plt.show()"
   ]
  },
  {
   "cell_type": "markdown",
   "id": "feca39bb",
   "metadata": {},
   "source": [
    "### Feature Importance"
   ]
  },
  {
   "cell_type": "code",
   "execution_count": 170,
   "id": "d10e1f9a",
   "metadata": {},
   "outputs": [
    {
     "name": "stdout",
     "output_type": "stream",
     "text": [
      "Size_RBS : 0.446\n",
      "City : 0.384\n",
      "Bathroom : 0.094\n",
      "Area Type : 0.026\n",
      "BHK : 0.026\n",
      "Furnishing Status : 0.022\n",
      "Tenant Preferred : 0.003\n"
     ]
    }
   ],
   "source": [
    "features_imp = gbr_model.feature_importances_\n",
    "importance = sorted(zip(features_imp, X_train.columns), reverse=True)\n",
    "for imp, feat in importance:\n",
    "    print(feat, \":\", round(imp, 3))"
   ]
  },
  {
   "cell_type": "markdown",
   "id": "f1add22c",
   "metadata": {},
   "source": [
    "Apparently, the size of a property (Size_RBS) is a whopping 44.6% important when predicting house rents. I mean, who would have thought that the physical dimensions of a house would matter, right?\n",
    "\n",
    "And let's not forget the sheer brilliance of \"City\" at 38.4% importance. Clearly, the location of a property is just a minor detail when it comes to predicting rent prices.\n",
    "\n",
    "Bathroom, with its earth-shattering 9.4% importance, proves that the number of bathrooms is the true key to the universe.\n",
    "\n",
    "Area Type, BHK, Furnishing Status, and Tenant Preferred, well, they're just there to keep the other features company, right?\n",
    "\n",
    "In conclusion, our feature importance analysis has unlocked the deepest secrets of the universe, and we can now confidently say that the size of a property reigns supreme in the mystical realm of house rent prediction. Size matters, folks!"
   ]
  },
  {
   "cell_type": "code",
   "execution_count": 212,
   "id": "0489ecff",
   "metadata": {},
   "outputs": [],
   "source": [
    "results = pd.DataFrame({'Actual': actual_values, 'Predicted': predicted_values})\n",
    "results = results.round(0)"
   ]
  },
  {
   "cell_type": "code",
   "execution_count": 213,
   "id": "53832201",
   "metadata": {},
   "outputs": [
    {
     "data": {
      "text/html": [
       "<div>\n",
       "<style scoped>\n",
       "    .dataframe tbody tr th:only-of-type {\n",
       "        vertical-align: middle;\n",
       "    }\n",
       "\n",
       "    .dataframe tbody tr th {\n",
       "        vertical-align: top;\n",
       "    }\n",
       "\n",
       "    .dataframe thead th {\n",
       "        text-align: right;\n",
       "    }\n",
       "</style>\n",
       "<table border=\"1\" class=\"dataframe\">\n",
       "  <thead>\n",
       "    <tr style=\"text-align: right;\">\n",
       "      <th></th>\n",
       "      <th>Actual</th>\n",
       "      <th>Predicted</th>\n",
       "    </tr>\n",
       "  </thead>\n",
       "  <tbody>\n",
       "    <tr>\n",
       "      <th>626</th>\n",
       "      <td>85000</td>\n",
       "      <td>64491.0</td>\n",
       "    </tr>\n",
       "    <tr>\n",
       "      <th>3633</th>\n",
       "      <td>34999</td>\n",
       "      <td>25979.0</td>\n",
       "    </tr>\n",
       "    <tr>\n",
       "      <th>1674</th>\n",
       "      <td>15000</td>\n",
       "      <td>24064.0</td>\n",
       "    </tr>\n",
       "    <tr>\n",
       "      <th>1055</th>\n",
       "      <td>130000</td>\n",
       "      <td>90634.0</td>\n",
       "    </tr>\n",
       "    <tr>\n",
       "      <th>719</th>\n",
       "      <td>60000</td>\n",
       "      <td>41868.0</td>\n",
       "    </tr>\n",
       "    <tr>\n",
       "      <th>...</th>\n",
       "      <td>...</td>\n",
       "      <td>...</td>\n",
       "    </tr>\n",
       "    <tr>\n",
       "      <th>3922</th>\n",
       "      <td>23000</td>\n",
       "      <td>26437.0</td>\n",
       "    </tr>\n",
       "    <tr>\n",
       "      <th>1267</th>\n",
       "      <td>53000</td>\n",
       "      <td>26034.0</td>\n",
       "    </tr>\n",
       "    <tr>\n",
       "      <th>2862</th>\n",
       "      <td>10000</td>\n",
       "      <td>8160.0</td>\n",
       "    </tr>\n",
       "    <tr>\n",
       "      <th>2997</th>\n",
       "      <td>10500</td>\n",
       "      <td>16302.0</td>\n",
       "    </tr>\n",
       "    <tr>\n",
       "      <th>4521</th>\n",
       "      <td>9000</td>\n",
       "      <td>14757.0</td>\n",
       "    </tr>\n",
       "  </tbody>\n",
       "</table>\n",
       "<p>1148 rows × 2 columns</p>\n",
       "</div>"
      ],
      "text/plain": [
       "      Actual  Predicted\n",
       "626    85000    64491.0\n",
       "3633   34999    25979.0\n",
       "1674   15000    24064.0\n",
       "1055  130000    90634.0\n",
       "719    60000    41868.0\n",
       "...      ...        ...\n",
       "3922   23000    26437.0\n",
       "1267   53000    26034.0\n",
       "2862   10000     8160.0\n",
       "2997   10500    16302.0\n",
       "4521    9000    14757.0\n",
       "\n",
       "[1148 rows x 2 columns]"
      ]
     },
     "execution_count": 213,
     "metadata": {},
     "output_type": "execute_result"
    }
   ],
   "source": [
    "results"
   ]
  },
  {
   "cell_type": "markdown",
   "id": "95000acb",
   "metadata": {},
   "source": [
    "Lmao this very poor af!!"
   ]
  }
 ],
 "metadata": {
  "kernelspec": {
   "display_name": "Python 3 (ipykernel)",
   "language": "python",
   "name": "python3"
  },
  "language_info": {
   "codemirror_mode": {
    "name": "ipython",
    "version": 3
   },
   "file_extension": ".py",
   "mimetype": "text/x-python",
   "name": "python",
   "nbconvert_exporter": "python",
   "pygments_lexer": "ipython3",
   "version": "3.10.13"
  }
 },
 "nbformat": 4,
 "nbformat_minor": 5
}
