{
 "cells": [
  {
   "cell_type": "code",
   "execution_count": 1,
   "id": "7424891d",
   "metadata": {},
   "outputs": [],
   "source": [
    "import pandas as pd\n",
    "import numpy as np\n",
    "import seaborn as sns\n",
    "import matplotlib.pyplot as plt\n",
    "import warnings\n",
    "warnings.filterwarnings('ignore')"
   ]
  },
  {
   "cell_type": "code",
   "execution_count": 2,
   "id": "cc61f59d",
   "metadata": {},
   "outputs": [
    {
     "ename": "FileNotFoundError",
     "evalue": "[Errno 2] No such file or directory: 'C:\\\\Users\\\\Abhishek\\\\Desktop\\\\Dataset\\\\NewNew\\\\default_on_payment.csv'",
     "output_type": "error",
     "traceback": [
      "\u001b[1;31m---------------------------------------------------------------------------\u001b[0m",
      "\u001b[1;31mFileNotFoundError\u001b[0m                         Traceback (most recent call last)",
      "Cell \u001b[1;32mIn[2], line 1\u001b[0m\n\u001b[1;32m----> 1\u001b[0m df \u001b[38;5;241m=\u001b[39m \u001b[43mpd\u001b[49m\u001b[38;5;241;43m.\u001b[39;49m\u001b[43mread_csv\u001b[49m\u001b[43m(\u001b[49m\u001b[38;5;124;43mr\u001b[39;49m\u001b[38;5;124;43m'\u001b[39;49m\u001b[38;5;124;43mC:\u001b[39;49m\u001b[38;5;124;43m\\\u001b[39;49m\u001b[38;5;124;43mUsers\u001b[39;49m\u001b[38;5;124;43m\\\u001b[39;49m\u001b[38;5;124;43mAbhishek\u001b[39;49m\u001b[38;5;124;43m\\\u001b[39;49m\u001b[38;5;124;43mDesktop\u001b[39;49m\u001b[38;5;124;43m\\\u001b[39;49m\u001b[38;5;124;43mDataset\u001b[39;49m\u001b[38;5;124;43m\\\u001b[39;49m\u001b[38;5;124;43mNewNew\u001b[39;49m\u001b[38;5;124;43m\\\u001b[39;49m\u001b[38;5;124;43mdefault_on_payment.csv\u001b[39;49m\u001b[38;5;124;43m'\u001b[39;49m\u001b[43m)\u001b[49m\n\u001b[0;32m      2\u001b[0m df\n",
      "File \u001b[1;32m~\\anaconda3\\envs\\tf\\lib\\site-packages\\pandas\\io\\parsers\\readers.py:912\u001b[0m, in \u001b[0;36mread_csv\u001b[1;34m(filepath_or_buffer, sep, delimiter, header, names, index_col, usecols, dtype, engine, converters, true_values, false_values, skipinitialspace, skiprows, skipfooter, nrows, na_values, keep_default_na, na_filter, verbose, skip_blank_lines, parse_dates, infer_datetime_format, keep_date_col, date_parser, date_format, dayfirst, cache_dates, iterator, chunksize, compression, thousands, decimal, lineterminator, quotechar, quoting, doublequote, escapechar, comment, encoding, encoding_errors, dialect, on_bad_lines, delim_whitespace, low_memory, memory_map, float_precision, storage_options, dtype_backend)\u001b[0m\n\u001b[0;32m    899\u001b[0m kwds_defaults \u001b[38;5;241m=\u001b[39m _refine_defaults_read(\n\u001b[0;32m    900\u001b[0m     dialect,\n\u001b[0;32m    901\u001b[0m     delimiter,\n\u001b[1;32m   (...)\u001b[0m\n\u001b[0;32m    908\u001b[0m     dtype_backend\u001b[38;5;241m=\u001b[39mdtype_backend,\n\u001b[0;32m    909\u001b[0m )\n\u001b[0;32m    910\u001b[0m kwds\u001b[38;5;241m.\u001b[39mupdate(kwds_defaults)\n\u001b[1;32m--> 912\u001b[0m \u001b[38;5;28;01mreturn\u001b[39;00m \u001b[43m_read\u001b[49m\u001b[43m(\u001b[49m\u001b[43mfilepath_or_buffer\u001b[49m\u001b[43m,\u001b[49m\u001b[43m \u001b[49m\u001b[43mkwds\u001b[49m\u001b[43m)\u001b[49m\n",
      "File \u001b[1;32m~\\anaconda3\\envs\\tf\\lib\\site-packages\\pandas\\io\\parsers\\readers.py:577\u001b[0m, in \u001b[0;36m_read\u001b[1;34m(filepath_or_buffer, kwds)\u001b[0m\n\u001b[0;32m    574\u001b[0m _validate_names(kwds\u001b[38;5;241m.\u001b[39mget(\u001b[38;5;124m\"\u001b[39m\u001b[38;5;124mnames\u001b[39m\u001b[38;5;124m\"\u001b[39m, \u001b[38;5;28;01mNone\u001b[39;00m))\n\u001b[0;32m    576\u001b[0m \u001b[38;5;66;03m# Create the parser.\u001b[39;00m\n\u001b[1;32m--> 577\u001b[0m parser \u001b[38;5;241m=\u001b[39m \u001b[43mTextFileReader\u001b[49m\u001b[43m(\u001b[49m\u001b[43mfilepath_or_buffer\u001b[49m\u001b[43m,\u001b[49m\u001b[43m \u001b[49m\u001b[38;5;241;43m*\u001b[39;49m\u001b[38;5;241;43m*\u001b[39;49m\u001b[43mkwds\u001b[49m\u001b[43m)\u001b[49m\n\u001b[0;32m    579\u001b[0m \u001b[38;5;28;01mif\u001b[39;00m chunksize \u001b[38;5;129;01mor\u001b[39;00m iterator:\n\u001b[0;32m    580\u001b[0m     \u001b[38;5;28;01mreturn\u001b[39;00m parser\n",
      "File \u001b[1;32m~\\anaconda3\\envs\\tf\\lib\\site-packages\\pandas\\io\\parsers\\readers.py:1407\u001b[0m, in \u001b[0;36mTextFileReader.__init__\u001b[1;34m(self, f, engine, **kwds)\u001b[0m\n\u001b[0;32m   1404\u001b[0m     \u001b[38;5;28mself\u001b[39m\u001b[38;5;241m.\u001b[39moptions[\u001b[38;5;124m\"\u001b[39m\u001b[38;5;124mhas_index_names\u001b[39m\u001b[38;5;124m\"\u001b[39m] \u001b[38;5;241m=\u001b[39m kwds[\u001b[38;5;124m\"\u001b[39m\u001b[38;5;124mhas_index_names\u001b[39m\u001b[38;5;124m\"\u001b[39m]\n\u001b[0;32m   1406\u001b[0m \u001b[38;5;28mself\u001b[39m\u001b[38;5;241m.\u001b[39mhandles: IOHandles \u001b[38;5;241m|\u001b[39m \u001b[38;5;28;01mNone\u001b[39;00m \u001b[38;5;241m=\u001b[39m \u001b[38;5;28;01mNone\u001b[39;00m\n\u001b[1;32m-> 1407\u001b[0m \u001b[38;5;28mself\u001b[39m\u001b[38;5;241m.\u001b[39m_engine \u001b[38;5;241m=\u001b[39m \u001b[38;5;28;43mself\u001b[39;49m\u001b[38;5;241;43m.\u001b[39;49m\u001b[43m_make_engine\u001b[49m\u001b[43m(\u001b[49m\u001b[43mf\u001b[49m\u001b[43m,\u001b[49m\u001b[43m \u001b[49m\u001b[38;5;28;43mself\u001b[39;49m\u001b[38;5;241;43m.\u001b[39;49m\u001b[43mengine\u001b[49m\u001b[43m)\u001b[49m\n",
      "File \u001b[1;32m~\\anaconda3\\envs\\tf\\lib\\site-packages\\pandas\\io\\parsers\\readers.py:1661\u001b[0m, in \u001b[0;36mTextFileReader._make_engine\u001b[1;34m(self, f, engine)\u001b[0m\n\u001b[0;32m   1659\u001b[0m     \u001b[38;5;28;01mif\u001b[39;00m \u001b[38;5;124m\"\u001b[39m\u001b[38;5;124mb\u001b[39m\u001b[38;5;124m\"\u001b[39m \u001b[38;5;129;01mnot\u001b[39;00m \u001b[38;5;129;01min\u001b[39;00m mode:\n\u001b[0;32m   1660\u001b[0m         mode \u001b[38;5;241m+\u001b[39m\u001b[38;5;241m=\u001b[39m \u001b[38;5;124m\"\u001b[39m\u001b[38;5;124mb\u001b[39m\u001b[38;5;124m\"\u001b[39m\n\u001b[1;32m-> 1661\u001b[0m \u001b[38;5;28mself\u001b[39m\u001b[38;5;241m.\u001b[39mhandles \u001b[38;5;241m=\u001b[39m \u001b[43mget_handle\u001b[49m\u001b[43m(\u001b[49m\n\u001b[0;32m   1662\u001b[0m \u001b[43m    \u001b[49m\u001b[43mf\u001b[49m\u001b[43m,\u001b[49m\n\u001b[0;32m   1663\u001b[0m \u001b[43m    \u001b[49m\u001b[43mmode\u001b[49m\u001b[43m,\u001b[49m\n\u001b[0;32m   1664\u001b[0m \u001b[43m    \u001b[49m\u001b[43mencoding\u001b[49m\u001b[38;5;241;43m=\u001b[39;49m\u001b[38;5;28;43mself\u001b[39;49m\u001b[38;5;241;43m.\u001b[39;49m\u001b[43moptions\u001b[49m\u001b[38;5;241;43m.\u001b[39;49m\u001b[43mget\u001b[49m\u001b[43m(\u001b[49m\u001b[38;5;124;43m\"\u001b[39;49m\u001b[38;5;124;43mencoding\u001b[39;49m\u001b[38;5;124;43m\"\u001b[39;49m\u001b[43m,\u001b[49m\u001b[43m \u001b[49m\u001b[38;5;28;43;01mNone\u001b[39;49;00m\u001b[43m)\u001b[49m\u001b[43m,\u001b[49m\n\u001b[0;32m   1665\u001b[0m \u001b[43m    \u001b[49m\u001b[43mcompression\u001b[49m\u001b[38;5;241;43m=\u001b[39;49m\u001b[38;5;28;43mself\u001b[39;49m\u001b[38;5;241;43m.\u001b[39;49m\u001b[43moptions\u001b[49m\u001b[38;5;241;43m.\u001b[39;49m\u001b[43mget\u001b[49m\u001b[43m(\u001b[49m\u001b[38;5;124;43m\"\u001b[39;49m\u001b[38;5;124;43mcompression\u001b[39;49m\u001b[38;5;124;43m\"\u001b[39;49m\u001b[43m,\u001b[49m\u001b[43m \u001b[49m\u001b[38;5;28;43;01mNone\u001b[39;49;00m\u001b[43m)\u001b[49m\u001b[43m,\u001b[49m\n\u001b[0;32m   1666\u001b[0m \u001b[43m    \u001b[49m\u001b[43mmemory_map\u001b[49m\u001b[38;5;241;43m=\u001b[39;49m\u001b[38;5;28;43mself\u001b[39;49m\u001b[38;5;241;43m.\u001b[39;49m\u001b[43moptions\u001b[49m\u001b[38;5;241;43m.\u001b[39;49m\u001b[43mget\u001b[49m\u001b[43m(\u001b[49m\u001b[38;5;124;43m\"\u001b[39;49m\u001b[38;5;124;43mmemory_map\u001b[39;49m\u001b[38;5;124;43m\"\u001b[39;49m\u001b[43m,\u001b[49m\u001b[43m \u001b[49m\u001b[38;5;28;43;01mFalse\u001b[39;49;00m\u001b[43m)\u001b[49m\u001b[43m,\u001b[49m\n\u001b[0;32m   1667\u001b[0m \u001b[43m    \u001b[49m\u001b[43mis_text\u001b[49m\u001b[38;5;241;43m=\u001b[39;49m\u001b[43mis_text\u001b[49m\u001b[43m,\u001b[49m\n\u001b[0;32m   1668\u001b[0m \u001b[43m    \u001b[49m\u001b[43merrors\u001b[49m\u001b[38;5;241;43m=\u001b[39;49m\u001b[38;5;28;43mself\u001b[39;49m\u001b[38;5;241;43m.\u001b[39;49m\u001b[43moptions\u001b[49m\u001b[38;5;241;43m.\u001b[39;49m\u001b[43mget\u001b[49m\u001b[43m(\u001b[49m\u001b[38;5;124;43m\"\u001b[39;49m\u001b[38;5;124;43mencoding_errors\u001b[39;49m\u001b[38;5;124;43m\"\u001b[39;49m\u001b[43m,\u001b[49m\u001b[43m \u001b[49m\u001b[38;5;124;43m\"\u001b[39;49m\u001b[38;5;124;43mstrict\u001b[39;49m\u001b[38;5;124;43m\"\u001b[39;49m\u001b[43m)\u001b[49m\u001b[43m,\u001b[49m\n\u001b[0;32m   1669\u001b[0m \u001b[43m    \u001b[49m\u001b[43mstorage_options\u001b[49m\u001b[38;5;241;43m=\u001b[39;49m\u001b[38;5;28;43mself\u001b[39;49m\u001b[38;5;241;43m.\u001b[39;49m\u001b[43moptions\u001b[49m\u001b[38;5;241;43m.\u001b[39;49m\u001b[43mget\u001b[49m\u001b[43m(\u001b[49m\u001b[38;5;124;43m\"\u001b[39;49m\u001b[38;5;124;43mstorage_options\u001b[39;49m\u001b[38;5;124;43m\"\u001b[39;49m\u001b[43m,\u001b[49m\u001b[43m \u001b[49m\u001b[38;5;28;43;01mNone\u001b[39;49;00m\u001b[43m)\u001b[49m\u001b[43m,\u001b[49m\n\u001b[0;32m   1670\u001b[0m \u001b[43m\u001b[49m\u001b[43m)\u001b[49m\n\u001b[0;32m   1671\u001b[0m \u001b[38;5;28;01massert\u001b[39;00m \u001b[38;5;28mself\u001b[39m\u001b[38;5;241m.\u001b[39mhandles \u001b[38;5;129;01mis\u001b[39;00m \u001b[38;5;129;01mnot\u001b[39;00m \u001b[38;5;28;01mNone\u001b[39;00m\n\u001b[0;32m   1672\u001b[0m f \u001b[38;5;241m=\u001b[39m \u001b[38;5;28mself\u001b[39m\u001b[38;5;241m.\u001b[39mhandles\u001b[38;5;241m.\u001b[39mhandle\n",
      "File \u001b[1;32m~\\anaconda3\\envs\\tf\\lib\\site-packages\\pandas\\io\\common.py:859\u001b[0m, in \u001b[0;36mget_handle\u001b[1;34m(path_or_buf, mode, encoding, compression, memory_map, is_text, errors, storage_options)\u001b[0m\n\u001b[0;32m    854\u001b[0m \u001b[38;5;28;01melif\u001b[39;00m \u001b[38;5;28misinstance\u001b[39m(handle, \u001b[38;5;28mstr\u001b[39m):\n\u001b[0;32m    855\u001b[0m     \u001b[38;5;66;03m# Check whether the filename is to be opened in binary mode.\u001b[39;00m\n\u001b[0;32m    856\u001b[0m     \u001b[38;5;66;03m# Binary mode does not support 'encoding' and 'newline'.\u001b[39;00m\n\u001b[0;32m    857\u001b[0m     \u001b[38;5;28;01mif\u001b[39;00m ioargs\u001b[38;5;241m.\u001b[39mencoding \u001b[38;5;129;01mand\u001b[39;00m \u001b[38;5;124m\"\u001b[39m\u001b[38;5;124mb\u001b[39m\u001b[38;5;124m\"\u001b[39m \u001b[38;5;129;01mnot\u001b[39;00m \u001b[38;5;129;01min\u001b[39;00m ioargs\u001b[38;5;241m.\u001b[39mmode:\n\u001b[0;32m    858\u001b[0m         \u001b[38;5;66;03m# Encoding\u001b[39;00m\n\u001b[1;32m--> 859\u001b[0m         handle \u001b[38;5;241m=\u001b[39m \u001b[38;5;28;43mopen\u001b[39;49m\u001b[43m(\u001b[49m\n\u001b[0;32m    860\u001b[0m \u001b[43m            \u001b[49m\u001b[43mhandle\u001b[49m\u001b[43m,\u001b[49m\n\u001b[0;32m    861\u001b[0m \u001b[43m            \u001b[49m\u001b[43mioargs\u001b[49m\u001b[38;5;241;43m.\u001b[39;49m\u001b[43mmode\u001b[49m\u001b[43m,\u001b[49m\n\u001b[0;32m    862\u001b[0m \u001b[43m            \u001b[49m\u001b[43mencoding\u001b[49m\u001b[38;5;241;43m=\u001b[39;49m\u001b[43mioargs\u001b[49m\u001b[38;5;241;43m.\u001b[39;49m\u001b[43mencoding\u001b[49m\u001b[43m,\u001b[49m\n\u001b[0;32m    863\u001b[0m \u001b[43m            \u001b[49m\u001b[43merrors\u001b[49m\u001b[38;5;241;43m=\u001b[39;49m\u001b[43merrors\u001b[49m\u001b[43m,\u001b[49m\n\u001b[0;32m    864\u001b[0m \u001b[43m            \u001b[49m\u001b[43mnewline\u001b[49m\u001b[38;5;241;43m=\u001b[39;49m\u001b[38;5;124;43m\"\u001b[39;49m\u001b[38;5;124;43m\"\u001b[39;49m\u001b[43m,\u001b[49m\n\u001b[0;32m    865\u001b[0m \u001b[43m        \u001b[49m\u001b[43m)\u001b[49m\n\u001b[0;32m    866\u001b[0m     \u001b[38;5;28;01melse\u001b[39;00m:\n\u001b[0;32m    867\u001b[0m         \u001b[38;5;66;03m# Binary mode\u001b[39;00m\n\u001b[0;32m    868\u001b[0m         handle \u001b[38;5;241m=\u001b[39m \u001b[38;5;28mopen\u001b[39m(handle, ioargs\u001b[38;5;241m.\u001b[39mmode)\n",
      "\u001b[1;31mFileNotFoundError\u001b[0m: [Errno 2] No such file or directory: 'C:\\\\Users\\\\Abhishek\\\\Desktop\\\\Dataset\\\\NewNew\\\\default_on_payment.csv'"
     ]
    }
   ],
   "source": [
    "df = pd.read_csv(r'C:\\Users\\Abhishek\\Desktop\\Dataset\\NewNew\\default_on_payment.csv')\n",
    "df"
   ]
  },
  {
   "cell_type": "code",
   "execution_count": null,
   "id": "fd0e0014",
   "metadata": {},
   "outputs": [],
   "source": [
    "df.columns"
   ]
  },
  {
   "cell_type": "code",
   "execution_count": null,
   "id": "45063906",
   "metadata": {},
   "outputs": [],
   "source": [
    "df.info()"
   ]
  },
  {
   "cell_type": "code",
   "execution_count": null,
   "id": "4d540940",
   "metadata": {},
   "outputs": [],
   "source": [
    "df.isna().sum()"
   ]
  },
  {
   "cell_type": "code",
   "execution_count": null,
   "id": "fbb0a7d4",
   "metadata": {},
   "outputs": [],
   "source": [
    "sns.barplot(y=df.Age,x=df.Savings_Acc,data=df)"
   ]
  },
  {
   "cell_type": "code",
   "execution_count": null,
   "id": "aa6f5a3e",
   "metadata": {},
   "outputs": [],
   "source": [
    "plt.figure(figsize=(40,17))\n",
    "sns.barplot(x=df.Duration_in_Months,y=df.Age,data=df)"
   ]
  },
  {
   "cell_type": "code",
   "execution_count": null,
   "id": "25f2b09a",
   "metadata": {},
   "outputs": [],
   "source": [
    "sns.barplot(y=df.Age,x=df.Job,data=df)"
   ]
  },
  {
   "cell_type": "code",
   "execution_count": null,
   "id": "23582b5d",
   "metadata": {},
   "outputs": [],
   "source": []
  },
  {
   "cell_type": "code",
   "execution_count": null,
   "id": "63c42037",
   "metadata": {},
   "outputs": [],
   "source": [
    "df=df.drop(['Customer_ID'],axis=1)"
   ]
  },
  {
   "cell_type": "code",
   "execution_count": null,
   "id": "fd35a256",
   "metadata": {},
   "outputs": [],
   "source": [
    "df"
   ]
  },
  {
   "cell_type": "code",
   "execution_count": null,
   "id": "f7e7ea36",
   "metadata": {},
   "outputs": [],
   "source": [
    "df.info()"
   ]
  },
  {
   "cell_type": "markdown",
   "id": "a48eeb8f",
   "metadata": {},
   "source": [
    "## Converting Object columns in Numeric Categorical data "
   ]
  },
  {
   "cell_type": "code",
   "execution_count": null,
   "id": "0a6e86ee",
   "metadata": {},
   "outputs": [],
   "source": []
  },
  {
   "cell_type": "code",
   "execution_count": null,
   "id": "74207bd1",
   "metadata": {},
   "outputs": [],
   "source": [
    "X = df.drop(['Count','Default_On_Payment'],axis=1)\n",
    "y = df[['Default_On_Payment']]"
   ]
  },
  {
   "cell_type": "code",
   "execution_count": null,
   "id": "fa233bb6",
   "metadata": {},
   "outputs": [],
   "source": [
    "# for c in X.select_dtypes(include='object').columns:\n",
    "#     X[c] = label_encoder.fit_transform(X[c])\n",
    "X.info()"
   ]
  },
  {
   "cell_type": "code",
   "execution_count": null,
   "id": "29ac9aff",
   "metadata": {},
   "outputs": [],
   "source": [
    "X = pd.get_dummies(X,columns=['Status_Checking_Acc','Credit_History','Purposre_Credit_Taken','Savings_Acc','Years_At_Present_Employment','Marital_Status_Gender','Other_Debtors_Guarantors','Other_Inst_Plans ','Property','Housing','Job','Telephone','Foreign_Worker'],drop_first=True)"
   ]
  },
  {
   "cell_type": "code",
   "execution_count": null,
   "id": "58d417c6",
   "metadata": {},
   "outputs": [],
   "source": [
    "# X"
   ]
  },
  {
   "cell_type": "code",
   "execution_count": null,
   "id": "5b7eccd2",
   "metadata": {},
   "outputs": [],
   "source": [
    "# X.isna().sum()"
   ]
  },
  {
   "cell_type": "code",
   "execution_count": null,
   "id": "a5fc489c",
   "metadata": {},
   "outputs": [],
   "source": [
    "# sns.distplot(X.Age)"
   ]
  },
  {
   "cell_type": "code",
   "execution_count": null,
   "id": "0b95a6c7",
   "metadata": {},
   "outputs": [],
   "source": [
    "# plt.figure(figsize=(40,20))\n",
    "# sns.heatmap(X.corr(),annot=True)"
   ]
  },
  {
   "cell_type": "code",
   "execution_count": null,
   "id": "48b1c60b",
   "metadata": {},
   "outputs": [],
   "source": []
  },
  {
   "cell_type": "code",
   "execution_count": null,
   "id": "31d3a815",
   "metadata": {
    "scrolled": true
   },
   "outputs": [],
   "source": [
    "# X"
   ]
  },
  {
   "cell_type": "markdown",
   "id": "2b9bd665",
   "metadata": {},
   "source": [
    "## Spliting Data"
   ]
  },
  {
   "cell_type": "code",
   "execution_count": null,
   "id": "1500b8c2",
   "metadata": {},
   "outputs": [],
   "source": [
    "from sklearn.model_selection import train_test_split\n",
    "X_train,X_test,y_train,y_test = train_test_split(X,y,test_size=0.3,random_state=7)"
   ]
  },
  {
   "cell_type": "code",
   "execution_count": null,
   "id": "f50ca6d1",
   "metadata": {},
   "outputs": [],
   "source": [
    "print('Size of X_train: ',X_train.shape)\n",
    "print('Size of X_test: ',X_test.shape)\n",
    "print('Size of y_train: ',y_train.shape)\n",
    "print('Size of y_test: ',y_test.shape)"
   ]
  },
  {
   "cell_type": "code",
   "execution_count": null,
   "id": "8dad5991",
   "metadata": {},
   "outputs": [],
   "source": [
    "from sklearn.linear_model import LogisticRegression\n",
    "from sklearn.metrics import confusion_matrix,recall_score,accuracy_score,roc_auc_score,roc_curve,f1_score,precision_score"
   ]
  },
  {
   "cell_type": "code",
   "execution_count": null,
   "id": "5ac7b220",
   "metadata": {},
   "outputs": [],
   "source": [
    "# #  Defining the confusion matrix\n",
    "# def make_confusion_matrix(y_actual,y_predict,labels=[1,0]):\n",
    "#     '''\n",
    "#     y_predict: prediction of clsdd\n",
    "#     y_sctual : ground truth\n",
    "#     '''\n",
    "    \n",
    "#     cm=confusion_matrix(y_actual,y_predict,labels=[1,0])\n",
    "#     df_cm = pd.DataFrame(cm, index=[i for i in ['Payment Defaukter','Not Defailter']],\n",
    "#                     columns = [i for i in ['Payment Defaulter','Not Defailter']])\n",
    "#     group_counts = ['{0:0.0f}'.format(value) for value in \n",
    "#                    cm.flatten()]\n",
    "#     group_percentages = ['{0:.2%}'.format(value) for value in\n",
    "#                          cm.flatten()/np.sum(cm)]\n",
    "#     labels = [f\"{v1}\\n{v2}\" for v1,v2 in\n",
    "#              zip(group_counts,group_percentages)]\n",
    "#     plt.figure(figsize=(10,7))\n",
    "#     sns.heatmap(df_cm,annot=labels,fmt='')\n",
    "#     plt.ylabel('True label')\n",
    "#     plt.xlabel('Predicted label')"
   ]
  },
  {
   "cell_type": "code",
   "execution_count": null,
   "id": "d2a07ed2",
   "metadata": {},
   "outputs": [],
   "source": [
    "def make_confusion_matrix(y_actual, y_predict, labels=[1, 0]):\n",
    "    \"\"\"\n",
    "    y_predict: prediction of class\n",
    "    y_actual: ground truth\n",
    "    \"\"\"\n",
    "    \n",
    "    cm = confusion_matrix(y_actual, y_predict, labels=labels)\n",
    "    \n",
    "    df_cm = pd.DataFrame(cm, index=[\"Payment Defaulter\", \"Not Defaulter\"],\n",
    "                         columns=[\"Payment Defaulter\", \"Not Defaulter\"])\n",
    "\n",
    "    group_counts = [\"{0:0.0f}\".format(value) for value in cm.flatten()]\n",
    "    group_percentages = [\"{0:.2%}\".format(value) for value in cm.flatten() / np.sum(cm)]\n",
    "    \n",
    "    labels = [f\"{v1}\\n{v2}\" for v1, v2 in zip(group_counts, group_percentages)]\n",
    "    labels = np.asarray(labels).reshape(2, 2)\n",
    "\n",
    "    plt.figure(figsize=(10, 7))\n",
    "    sns.heatmap(df_cm, annot=labels, fmt=\"\", cmap=\"Blues\")\n",
    "    plt.ylabel(\"True label\")\n",
    "    plt.xlabel(\"Predicted labels\")\n",
    "    plt.show()\n",
    "\n",
    "# Example usage:\n",
    "# make_confusion_matrix(y_true, y_pred)"
   ]
  },
  {
   "cell_type": "markdown",
   "id": "ba5ce073",
   "metadata": {},
   "source": [
    "#  Using sklearn to make model"
   ]
  },
  {
   "cell_type": "code",
   "execution_count": null,
   "id": "0a846dda",
   "metadata": {},
   "outputs": [],
   "source": []
  },
  {
   "cell_type": "code",
   "execution_count": null,
   "id": "56e028a1",
   "metadata": {},
   "outputs": [],
   "source": [
    "logreg = LogisticRegression()"
   ]
  },
  {
   "cell_type": "code",
   "execution_count": null,
   "id": "83e89d7a",
   "metadata": {},
   "outputs": [],
   "source": [
    "logreg.fit(X_train,y_train)"
   ]
  },
  {
   "cell_type": "markdown",
   "id": "3bd491b3",
   "metadata": {},
   "source": [
    "## Predicting on the train set with default cutoff to be 0.5"
   ]
  },
  {
   "cell_type": "code",
   "execution_count": null,
   "id": "4e37a5ec",
   "metadata": {},
   "outputs": [],
   "source": []
  },
  {
   "cell_type": "raw",
   "id": "66c9c9db",
   "metadata": {},
   "source": [
    "pred_train = logreg.predict(X_train)\n",
    "make_confusion_matrix(y_train,pred_train)"
   ]
  },
  {
   "cell_type": "code",
   "execution_count": null,
   "id": "82eaaeaf",
   "metadata": {},
   "outputs": [],
   "source": [
    "recall_score(y_train,pred_train)"
   ]
  },
  {
   "cell_type": "code",
   "execution_count": null,
   "id": "ed2ec62c",
   "metadata": {},
   "outputs": [],
   "source": [
    "accuracy_score(y_train,pred_train)"
   ]
  },
  {
   "cell_type": "markdown",
   "id": "6211799f",
   "metadata": {},
   "source": [
    "## Testing on test data "
   ]
  },
  {
   "cell_type": "code",
   "execution_count": null,
   "id": "92c0a416",
   "metadata": {},
   "outputs": [],
   "source": [
    "pred_test = logreg.predict(X_test)"
   ]
  },
  {
   "cell_type": "code",
   "execution_count": null,
   "id": "ab875ef5",
   "metadata": {},
   "outputs": [],
   "source": [
    "make_confusion_matrix(y_test,pred_test)"
   ]
  },
  {
   "cell_type": "code",
   "execution_count": null,
   "id": "25454493",
   "metadata": {},
   "outputs": [],
   "source": [
    "accuracy_score(y_test,pred_test)"
   ]
  },
  {
   "cell_type": "code",
   "execution_count": null,
   "id": "5d02b991",
   "metadata": {},
   "outputs": [],
   "source": [
    "recall_score(y_test,pred_test)"
   ]
  },
  {
   "cell_type": "code",
   "execution_count": null,
   "id": "41817ad0",
   "metadata": {},
   "outputs": [],
   "source": [
    "##"
   ]
  },
  {
   "cell_type": "code",
   "execution_count": null,
   "id": "8262d265",
   "metadata": {},
   "outputs": [],
   "source": [
    "logit_roc_auc = roc_auc_score(y_test,logreg.predict_proba(X_test)[:,1])\n",
    "fpr,tpr,threshold = roc_curve(y_test, logreg.predict_proba(X_test)[:,1])\n",
    "plt.figure(figsize=(13,8))\n",
    "plt.plot(fpr,tpr,label='Logistic Regression (area = %0.2f)' % logit_roc_auc)\n",
    "plt.plot([0,1],[0,1],'r--')\n",
    "plt.xlim([0.0,1.0])\n",
    "plt.ylim([0.0,1.05])\n",
    "plt.xlabel('False Positive Rate (fpr)')\n",
    "plt.ylabel('True Positive Rate (tpe)')\n",
    "plt.title('Receiver Operator Characteristic')\n",
    "plt.legend(loc='lower right')\n",
    "plt.savefig('Log_ROC')\n",
    "plt.show()"
   ]
  },
  {
   "cell_type": "code",
   "execution_count": null,
   "id": "7ad7a2bc",
   "metadata": {},
   "outputs": [],
   "source": []
  },
  {
   "cell_type": "code",
   "execution_count": null,
   "id": "19153eba",
   "metadata": {},
   "outputs": [],
   "source": [
    "train_pred_prob = logreg.predict_proba(X_train)[:,1]\n",
    "train_pred_prob"
   ]
  },
  {
   "cell_type": "code",
   "execution_count": null,
   "id": "da09ab95",
   "metadata": {
    "scrolled": false
   },
   "outputs": [],
   "source": [
    "column_names = ['Cutoff_Prob','TP','FN','TN','FP','P','N']\n",
    "\n",
    "cutoff_data = pd.DataFrame(columns=column_names)\n",
    "Cutoff_Prob = np.arange(0,1.01,0.01)\n",
    "\n",
    "for cutoff in Cutoff_Prob:\n",
    "    y_train['pred_y'] = (train_pred_prob > cutoff).astype('int64')\n",
    "    TP = np.logical_and((y_train.pred_y == 1), (y_train.Default_On_Payment == 1)).sum()\n",
    "    FN = np.logical_and((y_train.pred_y == 0), (y_train.Default_On_Payment == 1)).sum()\n",
    "    TN = np.logical_and((y_train.pred_y == 0), (y_train.Default_On_Payment == 0)).sum()\n",
    "    FP = np.logical_and((y_train.pred_y == 1), (y_train.Default_On_Payment == 0)).sum()\n",
    "    \n",
    "    P = TP + FN\n",
    "    N = TN + FP\n",
    "    \n",
    "    temp_data = {'Cutoff_Prob': cutoff,\n",
    "                \"TP\": TP,\n",
    "                \"FN\": FN,\n",
    "                \"TN\": TN,\n",
    "                \"FP\": FP,\n",
    "                \"P\": P,\n",
    "                \"N\": N}\n",
    "    \n",
    "    cutoff_data  = cutoff_data.append(temp_data,ignore_index=True)\n",
    "    \n",
    "# Dropping the pred_y colommns from y_train data\n",
    "y_train.drop('pred_y',axis=1,inplace=True)"
   ]
  },
  {
   "cell_type": "markdown",
   "id": "06251693",
   "metadata": {},
   "source": [
    "## We have got the basic cutoff data. Let us now get all the features needed to decide the cutoff "
   ]
  },
  {
   "cell_type": "code",
   "execution_count": null,
   "id": "87ad976e",
   "metadata": {},
   "outputs": [],
   "source": [
    "cutoff_data['Sn'] = cutoff_data['TP']/cutoff_data['P']\n",
    "cutoff_data['Sp'] = cutoff_data['TN']/cutoff_data['N']\n",
    "cutoff_data['Dist'] = ((1-cutoff_data['Sn'])**2 + (1-cutoff_data['Sp'])**2)**0.5 \n",
    "cutoff_data['KS'] = ((cutoff_data['TP']/cutoff_data['P']) - (cutoff_data['FP']/cutoff_data['N'])).abs()\n",
    "cutoff_data['Re'] =  cutoff_data['TP']/cutoff_data['P']\n",
    "cutoff_data['Pr'] = cutoff_data['TP']/(cutoff_data['TP'] + cutoff_data['FP'])\n",
    "cutoff_data['tpr'] = cutoff_data['Re']\n",
    "cutoff_data['fpr'] = 1 - cutoff_data['Sp']\n",
    "cutoff_data['f1'] = 2 * (cutoff_data['Pr'] * cutoff_data['Re'])/(cutoff_data['Pr'] + cutoff_data['Re'])\n",
    "\n"
   ]
  },
  {
   "cell_type": "code",
   "execution_count": null,
   "id": "5b48590f",
   "metadata": {},
   "outputs": [],
   "source": [
    "cutoff_data.head()"
   ]
  },
  {
   "cell_type": "code",
   "execution_count": null,
   "id": "0b3d0676",
   "metadata": {},
   "outputs": [],
   "source": []
  },
  {
   "cell_type": "code",
   "execution_count": null,
   "id": "cfe8756a",
   "metadata": {},
   "outputs": [],
   "source": [
    "dist_cutoff = cutoff_data.loc[np.argmin(cutoff_data['Dist']),'Cutoff_Prob']\n",
    "ks_cutoff = cutoff_data.loc[np.argmax(cutoff_data['KS']),'Cutoff_Prob']\n",
    "f1_cutoff = cutoff_data.loc[np.argmax(cutoff_data['f1']),'Cutoff_Prob']"
   ]
  },
  {
   "cell_type": "code",
   "execution_count": null,
   "id": "fdabbf5d",
   "metadata": {},
   "outputs": [],
   "source": [
    "print('The dist cutoff determined is: ',dist_cutoff)\n",
    "print('The KS cutoff determined is: ',ks_cutoff)\n",
    "print('The f1 cutoff determined is: ',f1_cutoff)"
   ]
  },
  {
   "cell_type": "code",
   "execution_count": null,
   "id": "9c5d9741",
   "metadata": {},
   "outputs": [],
   "source": [
    "cutoffs = [dist_cutoff,ks_cutoff,f1_cutoff]\n",
    "\n",
    "for cutoff in cutoffs:\n",
    "    y_pred_train = (logreg.predict_proba(X_train)[:,1] > cutoff).astype(int)\n",
    "    y_pred_test = (logreg.predict_proba(X_test)[:,1] > cutoff).astype(int)\n",
    "    \n",
    "    print('Using the cutoff value as : ', cutoff)\n",
    "    print('Accuracy on train data: ',accuracy_score(y_train,y_pred_train))\n",
    "    print('Accuracy on test data : ',accuracy_score(y_test,y_pred_test))\n",
    "    print('Recall on train data: ', recall_score(y_train,y_pred_train))\n",
    "    print('Recall on test data: ', recall_score(y_test,y_pred_test))\n",
    "    print('Pression on train data: ',precision_score(y_train,y_pred_train))\n",
    "    print('Precision on test data: ',precision_score(y_test,y_pred_test))\n",
    "    print('f1 score on train data: ',f1_score(y_train,y_pred_train))\n",
    "    print('f1 score on train data: ',f1_score(y_test,y_pred_test))\n",
    "    print('\\n')\n",
    "    \n",
    "    "
   ]
  },
  {
   "cell_type": "code",
   "execution_count": null,
   "id": "52698576",
   "metadata": {},
   "outputs": [],
   "source": []
  }
 ],
 "metadata": {
  "kernelspec": {
   "display_name": "Python 3 (ipykernel)",
   "language": "python",
   "name": "python3"
  },
  "language_info": {
   "codemirror_mode": {
    "name": "ipython",
    "version": 3
   },
   "file_extension": ".py",
   "mimetype": "text/x-python",
   "name": "python",
   "nbconvert_exporter": "python",
   "pygments_lexer": "ipython3",
   "version": "3.8.18"
  }
 },
 "nbformat": 4,
 "nbformat_minor": 5
}
