{
 "cells": [
  {
   "cell_type": "markdown",
   "id": "f77f940a",
   "metadata": {},
   "source": [
    "---\n",
    "# Customer Churn Prediction \n",
    "---"
   ]
  },
  {
   "cell_type": "markdown",
   "id": "9d755bb6",
   "metadata": {},
   "source": [
    "| Column Name       | Description                                  | Data Type   |\n",
    "|-------------------|----------------------------------------------|-------------|\n",
    "| customerID        | Unique customer identifier                   | Object      |\n",
    "| gender            | Customer's gender (Male or Female)          | Object      |\n",
    "| SeniorCitizen     | Senior citizen status (1 for Yes, 0 for No) | Integer     |\n",
    "| Partner           | Whether the customer has a partner (Yes/No) | Object      |\n",
    "| Dependents        | Whether the customer has family members or dependents who are also using the same service or subscription (Yes/No)| Object      |\n",
    "| tenure            | Number of months customer stayed            | Integer     |\n",
    "| PhoneService      | Phone service status (Yes or No)            | Object      |\n",
    "| MultipleLines     | Multiple phone lines status (Yes/No/No svc) | Object      |\n",
    "| InternetService   | Internet service provider (DSL, Fiber, No)  | Object      |\n",
    "| OnlineSecurity    | Online security status (Yes/No/No svc)      | Object      |\n",
    "| OnlineBackup      | Online backup status (Yes/No/No svc)        | Object      |\n",
    "| DeviceProtection  | Device protection status (Yes/No/No svc)    | Object      |\n",
    "| TechSupport       | Tech support status (Yes/No/No svc)         | Object      |\n",
    "| StreamingTV       | Streaming TV status (Yes/No/No svc)         | Object      |\n",
    "| StreamingMovies   | Streaming movies status (Yes/No/No svc)     | Object      |\n",
    "| Contract          | Contract type (Month-to-month, 1 yr, 2 yr)  | Object      |\n",
    "| PaperlessBilling  | Paperless billing status (Yes/No)           | Object      |\n",
    "| PaymentMethod     | Payment method chosen by customer           | Object      |\n",
    "| MonthlyCharges    | Monthly charges incurred by the customer   | Float       |\n",
    "| TotalCharges      | Total charges incurred by the customer     | Object      |\n",
    "| Churn             | Churn status (Yes/No)...measure of customers leaving the business                        | Object      |"
   ]
  },
  {
   "cell_type": "markdown",
   "id": "568cf5a8",
   "metadata": {},
   "source": [
    "### Import Libraries"
   ]
  },
  {
   "cell_type": "code",
   "execution_count": 249,
   "id": "0005d602",
   "metadata": {},
   "outputs": [],
   "source": [
    "import pandas as pd\n",
    "import numpy as np\n",
    "import seaborn as sns\n",
    "import matplotlib.pyplot as plt\n",
    "%matplotlib inline\n",
    "import tensorflow as tf\n",
    "from tensorflow import keras\n",
    "from sklearn.preprocessing import MinMaxScaler\n",
    "from sklearn.linear_model import LogisticRegression\n",
    "from sklearn.ensemble import RandomForestClassifier\n",
    "from sklearn.metrics import f1_score, precision_score, recall_score, r2_score\n",
    "from sklearn.metrics import accuracy_score, classification_report, confusion_matrix"
   ]
  },
  {
   "cell_type": "code",
   "execution_count": 250,
   "id": "b9575336",
   "metadata": {},
   "outputs": [
    {
     "name": "stdout",
     "output_type": "stream",
     "text": [
      "<class 'pandas.core.frame.DataFrame'>\n",
      "RangeIndex: 7043 entries, 0 to 7042\n",
      "Data columns (total 21 columns):\n",
      " #   Column            Non-Null Count  Dtype  \n",
      "---  ------            --------------  -----  \n",
      " 0   customerID        7043 non-null   object \n",
      " 1   gender            7043 non-null   object \n",
      " 2   SeniorCitizen     7043 non-null   int64  \n",
      " 3   Partner           7043 non-null   object \n",
      " 4   Dependents        7043 non-null   object \n",
      " 5   tenure            7043 non-null   int64  \n",
      " 6   PhoneService      7043 non-null   object \n",
      " 7   MultipleLines     7043 non-null   object \n",
      " 8   InternetService   7043 non-null   object \n",
      " 9   OnlineSecurity    7043 non-null   object \n",
      " 10  OnlineBackup      7043 non-null   object \n",
      " 11  DeviceProtection  7043 non-null   object \n",
      " 12  TechSupport       7043 non-null   object \n",
      " 13  StreamingTV       7043 non-null   object \n",
      " 14  StreamingMovies   7043 non-null   object \n",
      " 15  Contract          7043 non-null   object \n",
      " 16  PaperlessBilling  7043 non-null   object \n",
      " 17  PaymentMethod     7043 non-null   object \n",
      " 18  MonthlyCharges    7043 non-null   float64\n",
      " 19  TotalCharges      7043 non-null   object \n",
      " 20  Churn             7043 non-null   object \n",
      "dtypes: float64(1), int64(2), object(18)\n",
      "memory usage: 1.1+ MB\n"
     ]
    }
   ],
   "source": [
    "cc = pd.read_csv('telco_customer_churn.csv')\n",
    "cc.info()"
   ]
  },
  {
   "cell_type": "code",
   "execution_count": 251,
   "id": "e0aef6aa",
   "metadata": {},
   "outputs": [],
   "source": [
    "# cc.isnull().sum()\n",
    "# No null values"
   ]
  },
  {
   "cell_type": "code",
   "execution_count": 252,
   "id": "4449bee5",
   "metadata": {},
   "outputs": [
    {
     "data": {
      "text/plain": [
       "(7043, 21)"
      ]
     },
     "execution_count": 252,
     "metadata": {},
     "output_type": "execute_result"
    }
   ],
   "source": [
    "cc.shape"
   ]
  },
  {
   "cell_type": "code",
   "execution_count": 253,
   "id": "77bb9342",
   "metadata": {},
   "outputs": [
    {
     "data": {
      "image/png": "[encoded data removed]",
      "text/plain": [
       "<Figure size 1000x500 with 1 Axes>"
      ]
     },
     "metadata": {},
     "output_type": "display_data"
    }
   ],
   "source": [
    "# Tenure means the number of months the customer has stayed with the company\n",
    "plt.figure(figsize=(10, 5))\n",
    "sns.histplot(data=cc, x='tenure', hue='Churn', bins=30, kde=False, common_norm=False)\n",
    "\n",
    "plt.xlabel('Tenure (Number of Months)')\n",
    "plt.ylabel('Count')\n",
    "plt.title('Distribution of Tenure by Churn')\n",
    "\n",
    "plt.show()"
   ]
  },
  {
   "cell_type": "markdown",
   "id": "5edf6ffe",
   "metadata": {},
   "source": [
    "### Data Cleaning"
   ]
  },
  {
   "cell_type": "code",
   "execution_count": 254,
   "id": "70b594b6",
   "metadata": {},
   "outputs": [
    {
     "data": {
      "text/plain": [
       "0         29.85\n",
       "1       1889.50\n",
       "2        108.15\n",
       "3       1840.75\n",
       "4        151.65\n",
       "         ...   \n",
       "7038    1990.50\n",
       "7039    7362.90\n",
       "7040     346.45\n",
       "7041     306.60\n",
       "7042    6844.50\n",
       "Name: TotalCharges, Length: 7043, dtype: float64"
      ]
     },
     "execution_count": 254,
     "metadata": {},
     "output_type": "execute_result"
    }
   ],
   "source": [
    "# pd.to_numeric(cc['TotalCharges'])\n",
    "# ValueError: Unable to parse string \" \" at position 488\n",
    "pd.to_numeric(cc['TotalCharges'], errors = 'coerce') # It works but..."
   ]
  },
  {
   "cell_type": "code",
   "execution_count": 255,
   "id": "fe43d387",
   "metadata": {},
   "outputs": [
    {
     "name": "stdout",
     "output_type": "stream",
     "text": [
      "Null values in TotalCharges: 11\n"
     ]
    }
   ],
   "source": [
    "# ...we got null values to deal with.\n",
    "print(\"Null values in TotalCharges:\", pd.to_numeric(cc['TotalCharges'], errors = 'coerce').isnull().sum())"
   ]
  },
  {
   "cell_type": "code",
   "execution_count": 256,
   "id": "66a7ed4e",
   "metadata": {},
   "outputs": [
    {
     "data": {
      "text/html": [
       "<div>\n",
       "<style scoped>\n",
       "    .dataframe tbody tr th:only-of-type {\n",
       "        vertical-align: middle;\n",
       "    }\n",
       "\n",
       "    .dataframe tbody tr th {\n",
       "        vertical-align: top;\n",
       "    }\n",
       "\n",
       "    .dataframe thead th {\n",
       "        text-align: right;\n",
       "    }\n",
       "</style>\n",
       "<table border=\"1\" class=\"dataframe\">\n",
       "  <thead>\n",
       "    <tr style=\"text-align: right;\">\n",
       "      <th></th>\n",
       "      <th>customerID</th>\n",
       "      <th>gender</th>\n",
       "      <th>SeniorCitizen</th>\n",
       "      <th>Partner</th>\n",
       "      <th>Dependents</th>\n",
       "      <th>tenure</th>\n",
       "      <th>PhoneService</th>\n",
       "      <th>MultipleLines</th>\n",
       "      <th>InternetService</th>\n",
       "      <th>OnlineSecurity</th>\n",
       "      <th>...</th>\n",
       "      <th>DeviceProtection</th>\n",
       "      <th>TechSupport</th>\n",
       "      <th>StreamingTV</th>\n",
       "      <th>StreamingMovies</th>\n",
       "      <th>Contract</th>\n",
       "      <th>PaperlessBilling</th>\n",
       "      <th>PaymentMethod</th>\n",
       "      <th>MonthlyCharges</th>\n",
       "      <th>TotalCharges</th>\n",
       "      <th>Churn</th>\n",
       "    </tr>\n",
       "  </thead>\n",
       "  <tbody>\n",
       "    <tr>\n",
       "      <th>488</th>\n",
       "      <td>4472-LVYGI</td>\n",
       "      <td>Female</td>\n",
       "      <td>0</td>\n",
       "      <td>Yes</td>\n",
       "      <td>Yes</td>\n",
       "      <td>0</td>\n",
       "      <td>No</td>\n",
       "      <td>No phone service</td>\n",
       "      <td>DSL</td>\n",
       "      <td>Yes</td>\n",
       "      <td>...</td>\n",
       "      <td>Yes</td>\n",
       "      <td>Yes</td>\n",
       "      <td>Yes</td>\n",
       "      <td>No</td>\n",
       "      <td>Two year</td>\n",
       "      <td>Yes</td>\n",
       "      <td>Bank transfer (automatic)</td>\n",
       "      <td>52.55</td>\n",
       "      <td></td>\n",
       "      <td>No</td>\n",
       "    </tr>\n",
       "    <tr>\n",
       "      <th>753</th>\n",
       "      <td>3115-CZMZD</td>\n",
       "      <td>Male</td>\n",
       "      <td>0</td>\n",
       "      <td>No</td>\n",
       "      <td>Yes</td>\n",
       "      <td>0</td>\n",
       "      <td>Yes</td>\n",
       "      <td>No</td>\n",
       "      <td>No</td>\n",
       "      <td>No internet service</td>\n",
       "      <td>...</td>\n",
       "      <td>No internet service</td>\n",
       "      <td>No internet service</td>\n",
       "      <td>No internet service</td>\n",
       "      <td>No internet service</td>\n",
       "      <td>Two year</td>\n",
       "      <td>No</td>\n",
       "      <td>Mailed check</td>\n",
       "      <td>20.25</td>\n",
       "      <td></td>\n",
       "      <td>No</td>\n",
       "    </tr>\n",
       "    <tr>\n",
       "      <th>936</th>\n",
       "      <td>5709-LVOEQ</td>\n",
       "      <td>Female</td>\n",
       "      <td>0</td>\n",
       "      <td>Yes</td>\n",
       "      <td>Yes</td>\n",
       "      <td>0</td>\n",
       "      <td>Yes</td>\n",
       "      <td>No</td>\n",
       "      <td>DSL</td>\n",
       "      <td>Yes</td>\n",
       "      <td>...</td>\n",
       "      <td>Yes</td>\n",
       "      <td>No</td>\n",
       "      <td>Yes</td>\n",
       "      <td>Yes</td>\n",
       "      <td>Two year</td>\n",
       "      <td>No</td>\n",
       "      <td>Mailed check</td>\n",
       "      <td>80.85</td>\n",
       "      <td></td>\n",
       "      <td>No</td>\n",
       "    </tr>\n",
       "    <tr>\n",
       "      <th>1082</th>\n",
       "      <td>4367-NUYAO</td>\n",
       "      <td>Male</td>\n",
       "      <td>0</td>\n",
       "      <td>Yes</td>\n",
       "      <td>Yes</td>\n",
       "      <td>0</td>\n",
       "      <td>Yes</td>\n",
       "      <td>Yes</td>\n",
       "      <td>No</td>\n",
       "      <td>No internet service</td>\n",
       "      <td>...</td>\n",
       "      <td>No internet service</td>\n",
       "      <td>No internet service</td>\n",
       "      <td>No internet service</td>\n",
       "      <td>No internet service</td>\n",
       "      <td>Two year</td>\n",
       "      <td>No</td>\n",
       "      <td>Mailed check</td>\n",
       "      <td>25.75</td>\n",
       "      <td></td>\n",
       "      <td>No</td>\n",
       "    </tr>\n",
       "    <tr>\n",
       "      <th>1340</th>\n",
       "      <td>1371-DWPAZ</td>\n",
       "      <td>Female</td>\n",
       "      <td>0</td>\n",
       "      <td>Yes</td>\n",
       "      <td>Yes</td>\n",
       "      <td>0</td>\n",
       "      <td>No</td>\n",
       "      <td>No phone service</td>\n",
       "      <td>DSL</td>\n",
       "      <td>Yes</td>\n",
       "      <td>...</td>\n",
       "      <td>Yes</td>\n",
       "      <td>Yes</td>\n",
       "      <td>Yes</td>\n",
       "      <td>No</td>\n",
       "      <td>Two year</td>\n",
       "      <td>No</td>\n",
       "      <td>Credit card (automatic)</td>\n",
       "      <td>56.05</td>\n",
       "      <td></td>\n",
       "      <td>No</td>\n",
       "    </tr>\n",
       "    <tr>\n",
       "      <th>3331</th>\n",
       "      <td>7644-OMVMY</td>\n",
       "      <td>Male</td>\n",
       "      <td>0</td>\n",
       "      <td>Yes</td>\n",
       "      <td>Yes</td>\n",
       "      <td>0</td>\n",
       "      <td>Yes</td>\n",
       "      <td>No</td>\n",
       "      <td>No</td>\n",
       "      <td>No internet service</td>\n",
       "      <td>...</td>\n",
       "      <td>No internet service</td>\n",
       "      <td>No internet service</td>\n",
       "      <td>No internet service</td>\n",
       "      <td>No internet service</td>\n",
       "      <td>Two year</td>\n",
       "      <td>No</td>\n",
       "      <td>Mailed check</td>\n",
       "      <td>19.85</td>\n",
       "      <td></td>\n",
       "      <td>No</td>\n",
       "    </tr>\n",
       "    <tr>\n",
       "      <th>3826</th>\n",
       "      <td>3213-VVOLG</td>\n",
       "      <td>Male</td>\n",
       "      <td>0</td>\n",
       "      <td>Yes</td>\n",
       "      <td>Yes</td>\n",
       "      <td>0</td>\n",
       "      <td>Yes</td>\n",
       "      <td>Yes</td>\n",
       "      <td>No</td>\n",
       "      <td>No internet service</td>\n",
       "      <td>...</td>\n",
       "      <td>No internet service</td>\n",
       "      <td>No internet service</td>\n",
       "      <td>No internet service</td>\n",
       "      <td>No internet service</td>\n",
       "      <td>Two year</td>\n",
       "      <td>No</td>\n",
       "      <td>Mailed check</td>\n",
       "      <td>25.35</td>\n",
       "      <td></td>\n",
       "      <td>No</td>\n",
       "    </tr>\n",
       "    <tr>\n",
       "      <th>4380</th>\n",
       "      <td>2520-SGTTA</td>\n",
       "      <td>Female</td>\n",
       "      <td>0</td>\n",
       "      <td>Yes</td>\n",
       "      <td>Yes</td>\n",
       "      <td>0</td>\n",
       "      <td>Yes</td>\n",
       "      <td>No</td>\n",
       "      <td>No</td>\n",
       "      <td>No internet service</td>\n",
       "      <td>...</td>\n",
       "      <td>No internet service</td>\n",
       "      <td>No internet service</td>\n",
       "      <td>No internet service</td>\n",
       "      <td>No internet service</td>\n",
       "      <td>Two year</td>\n",
       "      <td>No</td>\n",
       "      <td>Mailed check</td>\n",
       "      <td>20.00</td>\n",
       "      <td></td>\n",
       "      <td>No</td>\n",
       "    </tr>\n",
       "    <tr>\n",
       "      <th>5218</th>\n",
       "      <td>2923-ARZLG</td>\n",
       "      <td>Male</td>\n",
       "      <td>0</td>\n",
       "      <td>Yes</td>\n",
       "      <td>Yes</td>\n",
       "      <td>0</td>\n",
       "      <td>Yes</td>\n",
       "      <td>No</td>\n",
       "      <td>No</td>\n",
       "      <td>No internet service</td>\n",
       "      <td>...</td>\n",
       "      <td>No internet service</td>\n",
       "      <td>No internet service</td>\n",
       "      <td>No internet service</td>\n",
       "      <td>No internet service</td>\n",
       "      <td>One year</td>\n",
       "      <td>Yes</td>\n",
       "      <td>Mailed check</td>\n",
       "      <td>19.70</td>\n",
       "      <td></td>\n",
       "      <td>No</td>\n",
       "    </tr>\n",
       "    <tr>\n",
       "      <th>6670</th>\n",
       "      <td>4075-WKNIU</td>\n",
       "      <td>Female</td>\n",
       "      <td>0</td>\n",
       "      <td>Yes</td>\n",
       "      <td>Yes</td>\n",
       "      <td>0</td>\n",
       "      <td>Yes</td>\n",
       "      <td>Yes</td>\n",
       "      <td>DSL</td>\n",
       "      <td>No</td>\n",
       "      <td>...</td>\n",
       "      <td>Yes</td>\n",
       "      <td>Yes</td>\n",
       "      <td>Yes</td>\n",
       "      <td>No</td>\n",
       "      <td>Two year</td>\n",
       "      <td>No</td>\n",
       "      <td>Mailed check</td>\n",
       "      <td>73.35</td>\n",
       "      <td></td>\n",
       "      <td>No</td>\n",
       "    </tr>\n",
       "    <tr>\n",
       "      <th>6754</th>\n",
       "      <td>2775-SEFEE</td>\n",
       "      <td>Male</td>\n",
       "      <td>0</td>\n",
       "      <td>No</td>\n",
       "      <td>Yes</td>\n",
       "      <td>0</td>\n",
       "      <td>Yes</td>\n",
       "      <td>Yes</td>\n",
       "      <td>DSL</td>\n",
       "      <td>Yes</td>\n",
       "      <td>...</td>\n",
       "      <td>No</td>\n",
       "      <td>Yes</td>\n",
       "      <td>No</td>\n",
       "      <td>No</td>\n",
       "      <td>Two year</td>\n",
       "      <td>Yes</td>\n",
       "      <td>Bank transfer (automatic)</td>\n",
       "      <td>61.90</td>\n",
       "      <td></td>\n",
       "      <td>No</td>\n",
       "    </tr>\n",
       "  </tbody>\n",
       "</table>\n",
       "<p>11 rows × 21 columns</p>\n",
       "</div>"
      ],
      "text/plain": [
       "      customerID  gender  SeniorCitizen Partner Dependents  tenure  \\\n",
       "488   4472-LVYGI  Female              0     Yes        Yes       0   \n",
       "753   3115-CZMZD    Male              0      No        Yes       0   \n",
       "936   5709-LVOEQ  Female              0     Yes        Yes       0   \n",
       "1082  4367-NUYAO    Male              0     Yes        Yes       0   \n",
       "1340  1371-DWPAZ  Female              0     Yes        Yes       0   \n",
       "3331  7644-OMVMY    Male              0     Yes        Yes       0   \n",
       "3826  3213-VVOLG    Male              0     Yes        Yes       0   \n",
       "4380  2520-SGTTA  Female              0     Yes        Yes       0   \n",
       "5218  2923-ARZLG    Male              0     Yes        Yes       0   \n",
       "6670  4075-WKNIU  Female              0     Yes        Yes       0   \n",
       "6754  2775-SEFEE    Male              0      No        Yes       0   \n",
       "\n",
       "     PhoneService     MultipleLines InternetService       OnlineSecurity  ...  \\\n",
       "488            No  No phone service             DSL                  Yes  ...   \n",
       "753           Yes                No              No  No internet service  ...   \n",
       "936           Yes                No             DSL                  Yes  ...   \n",
       "1082          Yes               Yes              No  No internet service  ...   \n",
       "1340           No  No phone service             DSL                  Yes  ...   \n",
       "3331          Yes                No              No  No internet service  ...   \n",
       "3826          Yes               Yes              No  No internet service  ...   \n",
       "4380          Yes                No              No  No internet service  ...   \n",
       "5218          Yes                No              No  No internet service  ...   \n",
       "6670          Yes               Yes             DSL                   No  ...   \n",
       "6754          Yes               Yes             DSL                  Yes  ...   \n",
       "\n",
       "         DeviceProtection          TechSupport          StreamingTV  \\\n",
       "488                   Yes                  Yes                  Yes   \n",
       "753   No internet service  No internet service  No internet service   \n",
       "936                   Yes                   No                  Yes   \n",
       "1082  No internet service  No internet service  No internet service   \n",
       "1340                  Yes                  Yes                  Yes   \n",
       "3331  No internet service  No internet service  No internet service   \n",
       "3826  No internet service  No internet service  No internet service   \n",
       "4380  No internet service  No internet service  No internet service   \n",
       "5218  No internet service  No internet service  No internet service   \n",
       "6670                  Yes                  Yes                  Yes   \n",
       "6754                   No                  Yes                   No   \n",
       "\n",
       "          StreamingMovies  Contract PaperlessBilling  \\\n",
       "488                    No  Two year              Yes   \n",
       "753   No internet service  Two year               No   \n",
       "936                   Yes  Two year               No   \n",
       "1082  No internet service  Two year               No   \n",
       "1340                   No  Two year               No   \n",
       "3331  No internet service  Two year               No   \n",
       "3826  No internet service  Two year               No   \n",
       "4380  No internet service  Two year               No   \n",
       "5218  No internet service  One year              Yes   \n",
       "6670                   No  Two year               No   \n",
       "6754                   No  Two year              Yes   \n",
       "\n",
       "                  PaymentMethod MonthlyCharges  TotalCharges Churn  \n",
       "488   Bank transfer (automatic)          52.55                  No  \n",
       "753                Mailed check          20.25                  No  \n",
       "936                Mailed check          80.85                  No  \n",
       "1082               Mailed check          25.75                  No  \n",
       "1340    Credit card (automatic)          56.05                  No  \n",
       "3331               Mailed check          19.85                  No  \n",
       "3826               Mailed check          25.35                  No  \n",
       "4380               Mailed check          20.00                  No  \n",
       "5218               Mailed check          19.70                  No  \n",
       "6670               Mailed check          73.35                  No  \n",
       "6754  Bank transfer (automatic)          61.90                  No  \n",
       "\n",
       "[11 rows x 21 columns]"
      ]
     },
     "execution_count": 256,
     "metadata": {},
     "output_type": "execute_result"
    }
   ],
   "source": [
    "cc[pd.to_numeric(cc['TotalCharges'], errors = 'coerce').isnull()]"
   ]
  },
  {
   "cell_type": "code",
   "execution_count": 257,
   "id": "6e045687",
   "metadata": {},
   "outputs": [],
   "source": [
    "# Converting dtype of TotalCharges from string to integer/float \n",
    "cc.TotalCharges = pd.to_numeric(cc['TotalCharges'], errors = 'coerce')"
   ]
  },
  {
   "cell_type": "code",
   "execution_count": 258,
   "id": "8a4a9038",
   "metadata": {},
   "outputs": [],
   "source": [
    "# Filling null values with mean of TotalCharges\n",
    "mean_value = cc['TotalCharges'].mean()\n",
    "cc['TotalCharges'].fillna(mean_value, inplace=True)"
   ]
  },
  {
   "cell_type": "code",
   "execution_count": 259,
   "id": "b7b791bd",
   "metadata": {},
   "outputs": [
    {
     "data": {
      "text/plain": [
       "0"
      ]
     },
     "execution_count": 259,
     "metadata": {},
     "output_type": "execute_result"
    }
   ],
   "source": [
    "cc.TotalCharges.isnull().sum()"
   ]
  },
  {
   "cell_type": "code",
   "execution_count": 260,
   "id": "d4f6c742",
   "metadata": {},
   "outputs": [],
   "source": [
    "# Dropping unwanted columns\n",
    "cc.drop('customerID', axis='columns', inplace = True)"
   ]
  },
  {
   "cell_type": "code",
   "execution_count": 261,
   "id": "3cc1ff46",
   "metadata": {},
   "outputs": [
    {
     "data": {
      "text/plain": [
       "gender               object\n",
       "SeniorCitizen         int64\n",
       "Partner              object\n",
       "Dependents           object\n",
       "tenure                int64\n",
       "PhoneService         object\n",
       "MultipleLines        object\n",
       "InternetService      object\n",
       "OnlineSecurity       object\n",
       "OnlineBackup         object\n",
       "DeviceProtection     object\n",
       "TechSupport          object\n",
       "StreamingTV          object\n",
       "StreamingMovies      object\n",
       "Contract             object\n",
       "PaperlessBilling     object\n",
       "PaymentMethod        object\n",
       "MonthlyCharges      float64\n",
       "TotalCharges        float64\n",
       "Churn                object\n",
       "dtype: object"
      ]
     },
     "execution_count": 261,
     "metadata": {},
     "output_type": "execute_result"
    }
   ],
   "source": [
    "cc.dtypes"
   ]
  },
  {
   "cell_type": "markdown",
   "id": "8483fc6d",
   "metadata": {},
   "source": [
    "### Dealing with Outliers"
   ]
  },
  {
   "cell_type": "code",
   "execution_count": 262,
   "id": "a6a07151",
   "metadata": {},
   "outputs": [],
   "source": [
    "def var_summary(x):\n",
    "# UC = MEAN + 2 STD\n",
    "    uc = x.mean()+(2*x.std())\n",
    "    lc = x.mean()-(2*x.std())\n",
    "    \n",
    "    for i in x:\n",
    "        if i<lc or i>uc:\n",
    "            count = 1             # This means that column is having an OUTLier\n",
    "        else:\n",
    "            count = 0             # That column in not having an outliers\n",
    "            \n",
    "    outlier_flag = count\n",
    "    return pd.Series([x.count(), x.isnull().sum(), x.sum(), x.mean(), x.median(),  x.std(), \n",
    "                      x.var(), x.min(), x.quantile(0.01), x.quantile(0.05),x.quantile(0.10),\n",
    "                      x.quantile(0.25),x.quantile(0.50),x.quantile(0.75), \n",
    "                      x.quantile(0.90),x.quantile(0.95), x.quantile(0.99),x.max() , \n",
    "                      lc , uc,outlier_flag],\n",
    "                  index=['N', 'NMISS', 'SUM', 'MEAN','MEDIAN', 'STD', 'VAR', 'MIN', \n",
    "                         'P1' , 'P5' ,'P10' ,'P25' ,'P50' ,'P75' ,'P90' ,'P95' ,'P99' ,\n",
    "                         'MAX','LC','UC','outlier_flag'])"
   ]
  },
  {
   "cell_type": "code",
   "execution_count": 263,
   "id": "899006dd",
   "metadata": {},
   "outputs": [],
   "source": [
    "numeric_columns = ['tenure', 'MonthlyCharges', 'TotalCharges']"
   ]
  },
  {
   "cell_type": "code",
   "execution_count": 264,
   "id": "c424992c",
   "metadata": {},
   "outputs": [
    {
     "data": {
      "text/html": [
       "<div>\n",
       "<style scoped>\n",
       "    .dataframe tbody tr th:only-of-type {\n",
       "        vertical-align: middle;\n",
       "    }\n",
       "\n",
       "    .dataframe tbody tr th {\n",
       "        vertical-align: top;\n",
       "    }\n",
       "\n",
       "    .dataframe thead th {\n",
       "        text-align: right;\n",
       "    }\n",
       "</style>\n",
       "<table border=\"1\" class=\"dataframe\">\n",
       "  <thead>\n",
       "    <tr style=\"text-align: right;\">\n",
       "      <th></th>\n",
       "      <th>tenure</th>\n",
       "      <th>MonthlyCharges</th>\n",
       "      <th>TotalCharges</th>\n",
       "    </tr>\n",
       "  </thead>\n",
       "  <tbody>\n",
       "    <tr>\n",
       "      <th>N</th>\n",
       "      <td>7043.000000</td>\n",
       "      <td>7043.000000</td>\n",
       "      <td>7.043000e+03</td>\n",
       "    </tr>\n",
       "    <tr>\n",
       "      <th>NMISS</th>\n",
       "      <td>0.000000</td>\n",
       "      <td>0.000000</td>\n",
       "      <td>0.000000e+00</td>\n",
       "    </tr>\n",
       "    <tr>\n",
       "      <th>SUM</th>\n",
       "      <td>227990.000000</td>\n",
       "      <td>456116.600000</td>\n",
       "      <td>1.608129e+07</td>\n",
       "    </tr>\n",
       "    <tr>\n",
       "      <th>MEAN</th>\n",
       "      <td>32.371149</td>\n",
       "      <td>64.761692</td>\n",
       "      <td>2.283300e+03</td>\n",
       "    </tr>\n",
       "    <tr>\n",
       "      <th>MEDIAN</th>\n",
       "      <td>29.000000</td>\n",
       "      <td>70.350000</td>\n",
       "      <td>1.400550e+03</td>\n",
       "    </tr>\n",
       "    <tr>\n",
       "      <th>STD</th>\n",
       "      <td>24.559481</td>\n",
       "      <td>30.090047</td>\n",
       "      <td>2.265000e+03</td>\n",
       "    </tr>\n",
       "    <tr>\n",
       "      <th>VAR</th>\n",
       "      <td>603.168108</td>\n",
       "      <td>905.410934</td>\n",
       "      <td>5.130226e+06</td>\n",
       "    </tr>\n",
       "    <tr>\n",
       "      <th>MIN</th>\n",
       "      <td>0.000000</td>\n",
       "      <td>18.250000</td>\n",
       "      <td>1.880000e+01</td>\n",
       "    </tr>\n",
       "    <tr>\n",
       "      <th>P1</th>\n",
       "      <td>1.000000</td>\n",
       "      <td>19.200000</td>\n",
       "      <td>1.990000e+01</td>\n",
       "    </tr>\n",
       "    <tr>\n",
       "      <th>P5</th>\n",
       "      <td>1.000000</td>\n",
       "      <td>19.650000</td>\n",
       "      <td>4.965000e+01</td>\n",
       "    </tr>\n",
       "    <tr>\n",
       "      <th>P10</th>\n",
       "      <td>2.000000</td>\n",
       "      <td>20.050000</td>\n",
       "      <td>8.461000e+01</td>\n",
       "    </tr>\n",
       "    <tr>\n",
       "      <th>P25</th>\n",
       "      <td>9.000000</td>\n",
       "      <td>35.500000</td>\n",
       "      <td>4.022250e+02</td>\n",
       "    </tr>\n",
       "    <tr>\n",
       "      <th>P50</th>\n",
       "      <td>29.000000</td>\n",
       "      <td>70.350000</td>\n",
       "      <td>1.400550e+03</td>\n",
       "    </tr>\n",
       "    <tr>\n",
       "      <th>P75</th>\n",
       "      <td>55.000000</td>\n",
       "      <td>89.850000</td>\n",
       "      <td>3.786600e+03</td>\n",
       "    </tr>\n",
       "    <tr>\n",
       "      <th>P90</th>\n",
       "      <td>69.000000</td>\n",
       "      <td>102.600000</td>\n",
       "      <td>5.973690e+03</td>\n",
       "    </tr>\n",
       "    <tr>\n",
       "      <th>P95</th>\n",
       "      <td>72.000000</td>\n",
       "      <td>107.400000</td>\n",
       "      <td>6.921025e+03</td>\n",
       "    </tr>\n",
       "    <tr>\n",
       "      <th>P99</th>\n",
       "      <td>72.000000</td>\n",
       "      <td>114.729000</td>\n",
       "      <td>8.039256e+03</td>\n",
       "    </tr>\n",
       "    <tr>\n",
       "      <th>MAX</th>\n",
       "      <td>72.000000</td>\n",
       "      <td>118.750000</td>\n",
       "      <td>8.684800e+03</td>\n",
       "    </tr>\n",
       "    <tr>\n",
       "      <th>LC</th>\n",
       "      <td>-16.747813</td>\n",
       "      <td>4.581598</td>\n",
       "      <td>-2.246700e+03</td>\n",
       "    </tr>\n",
       "    <tr>\n",
       "      <th>UC</th>\n",
       "      <td>81.490111</td>\n",
       "      <td>124.941787</td>\n",
       "      <td>6.813301e+03</td>\n",
       "    </tr>\n",
       "    <tr>\n",
       "      <th>outlier_flag</th>\n",
       "      <td>0.000000</td>\n",
       "      <td>0.000000</td>\n",
       "      <td>1.000000e+00</td>\n",
       "    </tr>\n",
       "  </tbody>\n",
       "</table>\n",
       "</div>"
      ],
      "text/plain": [
       "                     tenure  MonthlyCharges  TotalCharges\n",
       "N               7043.000000     7043.000000  7.043000e+03\n",
       "NMISS              0.000000        0.000000  0.000000e+00\n",
       "SUM           227990.000000   456116.600000  1.608129e+07\n",
       "MEAN              32.371149       64.761692  2.283300e+03\n",
       "MEDIAN            29.000000       70.350000  1.400550e+03\n",
       "STD               24.559481       30.090047  2.265000e+03\n",
       "VAR              603.168108      905.410934  5.130226e+06\n",
       "MIN                0.000000       18.250000  1.880000e+01\n",
       "P1                 1.000000       19.200000  1.990000e+01\n",
       "P5                 1.000000       19.650000  4.965000e+01\n",
       "P10                2.000000       20.050000  8.461000e+01\n",
       "P25                9.000000       35.500000  4.022250e+02\n",
       "P50               29.000000       70.350000  1.400550e+03\n",
       "P75               55.000000       89.850000  3.786600e+03\n",
       "P90               69.000000      102.600000  5.973690e+03\n",
       "P95               72.000000      107.400000  6.921025e+03\n",
       "P99               72.000000      114.729000  8.039256e+03\n",
       "MAX               72.000000      118.750000  8.684800e+03\n",
       "LC               -16.747813        4.581598 -2.246700e+03\n",
       "UC                81.490111      124.941787  6.813301e+03\n",
       "outlier_flag       0.000000        0.000000  1.000000e+00"
      ]
     },
     "execution_count": 264,
     "metadata": {},
     "output_type": "execute_result"
    }
   ],
   "source": [
    "cc[numeric_columns].apply(lambda x: var_summary(x))"
   ]
  },
  {
   "cell_type": "code",
   "execution_count": 265,
   "id": "af7ea0a2",
   "metadata": {},
   "outputs": [
    {
     "data": {
      "image/png": "[encoded data removed]",
      "text/plain": [
       "<Figure size 1000x600 with 1 Axes>"
      ]
     },
     "metadata": {},
     "output_type": "display_data"
    }
   ],
   "source": [
    "plt.figure(figsize=(10, 6))\n",
    "sns.histplot(cc['TotalCharges'], kde=True, bins = 10)\n",
    "plt.title('Histogram of TotalCharges')\n",
    "plt.xlabel('TotalCharges')\n",
    "plt.show()"
   ]
  },
  {
   "cell_type": "markdown",
   "id": "5e883b25",
   "metadata": {},
   "source": [
    "#### With Imputation \n",
    "Replacing the outliers in the 'TotalCharges' column with the mean values"
   ]
  },
  {
   "cell_type": "code",
   "execution_count": 266,
   "id": "19f2cce7",
   "metadata": {},
   "outputs": [],
   "source": [
    "# mtc = cc['TotalCharges'].median()\n",
    "# cc['TotalCharges'] = cc['TotalCharges'].apply(lambda x: mtc if abs(x) > 2 else x)"
   ]
  },
  {
   "cell_type": "markdown",
   "id": "fa8a8ca8",
   "metadata": {},
   "source": [
    "#### Removing the Outliers (Not-Recommended)"
   ]
  },
  {
   "cell_type": "code",
   "execution_count": 267,
   "id": "d31bf021",
   "metadata": {},
   "outputs": [],
   "source": [
    "# cc.shape"
   ]
  },
  {
   "cell_type": "code",
   "execution_count": 268,
   "id": "5878bc22",
   "metadata": {},
   "outputs": [],
   "source": [
    "# Define a Z-Score threshold for outliers (e.g., 2 or 3 standard deviations)\n",
    "# threshold = 2 \n",
    "# z_scores = stats.zscore(cc['TotalCharges'])\n",
    "# Create a new column with Z-Score values\n",
    "# cc['Z_Score'] = z_scores"
   ]
  },
  {
   "cell_type": "code",
   "execution_count": 269,
   "id": "7815678b",
   "metadata": {},
   "outputs": [],
   "source": [
    "# Finding rows with outliers\n",
    "# outlier_rows = cc[abs(z_scores) > threshold]\n",
    "# outlier_rows"
   ]
  },
  {
   "cell_type": "code",
   "execution_count": 270,
   "id": "29c5da1d",
   "metadata": {},
   "outputs": [],
   "source": [
    "# cc = cc[abs(z_scores) <= threshold]"
   ]
  },
  {
   "cell_type": "code",
   "execution_count": 271,
   "id": "d79dfd56",
   "metadata": {},
   "outputs": [],
   "source": [
    "# cc.shape"
   ]
  },
  {
   "cell_type": "code",
   "execution_count": 272,
   "id": "a82aec2c",
   "metadata": {},
   "outputs": [],
   "source": [
    "# cc.drop('Z_Score', axis='columns', inplace = True)"
   ]
  },
  {
   "cell_type": "markdown",
   "id": "2614a7ea",
   "metadata": {},
   "source": [
    "#### Log Transformation \n",
    "Instead of imputing or removing outliers, we can also use log transformations to make our model less sensitive to extreme values."
   ]
  },
  {
   "cell_type": "code",
   "execution_count": 273,
   "id": "9d335cae",
   "metadata": {},
   "outputs": [],
   "source": [
    "# Apply log transformation to the feature with outliers\n",
    "# cc['TotalCharges'] = np.log1p(cc['TotalCharges'])"
   ]
  },
  {
   "cell_type": "markdown",
   "id": "00d9d225",
   "metadata": {},
   "source": [
    "#### Winsorization (Recommended)\n",
    "Winsorization caps extreme values at a specified threshold."
   ]
  },
  {
   "cell_type": "code",
   "execution_count": 274,
   "id": "0b14144e",
   "metadata": {},
   "outputs": [],
   "source": [
    "lower_bound = cc['TotalCharges'].quantile(0.01)\n",
    "upper_bound = cc['TotalCharges'].quantile(0.99)\n",
    "cc['TotalCharges'] = cc['TotalCharges'].clip(lower_bound, upper_bound)"
   ]
  },
  {
   "cell_type": "code",
   "execution_count": 275,
   "id": "cc2d4a07",
   "metadata": {},
   "outputs": [
    {
     "data": {
      "text/html": [
       "<div>\n",
       "<style scoped>\n",
       "    .dataframe tbody tr th:only-of-type {\n",
       "        vertical-align: middle;\n",
       "    }\n",
       "\n",
       "    .dataframe tbody tr th {\n",
       "        vertical-align: top;\n",
       "    }\n",
       "\n",
       "    .dataframe thead th {\n",
       "        text-align: right;\n",
       "    }\n",
       "</style>\n",
       "<table border=\"1\" class=\"dataframe\">\n",
       "  <thead>\n",
       "    <tr style=\"text-align: right;\">\n",
       "      <th></th>\n",
       "      <th>tenure</th>\n",
       "      <th>MonthlyCharges</th>\n",
       "      <th>TotalCharges</th>\n",
       "    </tr>\n",
       "  </thead>\n",
       "  <tbody>\n",
       "    <tr>\n",
       "      <th>N</th>\n",
       "      <td>7043.000000</td>\n",
       "      <td>7043.000000</td>\n",
       "      <td>7.043000e+03</td>\n",
       "    </tr>\n",
       "    <tr>\n",
       "      <th>NMISS</th>\n",
       "      <td>0.000000</td>\n",
       "      <td>0.000000</td>\n",
       "      <td>0.000000e+00</td>\n",
       "    </tr>\n",
       "    <tr>\n",
       "      <th>SUM</th>\n",
       "      <td>227990.000000</td>\n",
       "      <td>456116.600000</td>\n",
       "      <td>1.606329e+07</td>\n",
       "    </tr>\n",
       "    <tr>\n",
       "      <th>MEAN</th>\n",
       "      <td>32.371149</td>\n",
       "      <td>64.761692</td>\n",
       "      <td>2.280745e+03</td>\n",
       "    </tr>\n",
       "    <tr>\n",
       "      <th>MEDIAN</th>\n",
       "      <td>29.000000</td>\n",
       "      <td>70.350000</td>\n",
       "      <td>1.400550e+03</td>\n",
       "    </tr>\n",
       "    <tr>\n",
       "      <th>STD</th>\n",
       "      <td>24.559481</td>\n",
       "      <td>30.090047</td>\n",
       "      <td>2.258271e+03</td>\n",
       "    </tr>\n",
       "    <tr>\n",
       "      <th>VAR</th>\n",
       "      <td>603.168108</td>\n",
       "      <td>905.410934</td>\n",
       "      <td>5.099788e+06</td>\n",
       "    </tr>\n",
       "    <tr>\n",
       "      <th>MIN</th>\n",
       "      <td>0.000000</td>\n",
       "      <td>18.250000</td>\n",
       "      <td>1.990000e+01</td>\n",
       "    </tr>\n",
       "    <tr>\n",
       "      <th>P1</th>\n",
       "      <td>1.000000</td>\n",
       "      <td>19.200000</td>\n",
       "      <td>1.990000e+01</td>\n",
       "    </tr>\n",
       "    <tr>\n",
       "      <th>P5</th>\n",
       "      <td>1.000000</td>\n",
       "      <td>19.650000</td>\n",
       "      <td>4.965000e+01</td>\n",
       "    </tr>\n",
       "    <tr>\n",
       "      <th>P10</th>\n",
       "      <td>2.000000</td>\n",
       "      <td>20.050000</td>\n",
       "      <td>8.461000e+01</td>\n",
       "    </tr>\n",
       "    <tr>\n",
       "      <th>P25</th>\n",
       "      <td>9.000000</td>\n",
       "      <td>35.500000</td>\n",
       "      <td>4.022250e+02</td>\n",
       "    </tr>\n",
       "    <tr>\n",
       "      <th>P50</th>\n",
       "      <td>29.000000</td>\n",
       "      <td>70.350000</td>\n",
       "      <td>1.400550e+03</td>\n",
       "    </tr>\n",
       "    <tr>\n",
       "      <th>P75</th>\n",
       "      <td>55.000000</td>\n",
       "      <td>89.850000</td>\n",
       "      <td>3.786600e+03</td>\n",
       "    </tr>\n",
       "    <tr>\n",
       "      <th>P90</th>\n",
       "      <td>69.000000</td>\n",
       "      <td>102.600000</td>\n",
       "      <td>5.973690e+03</td>\n",
       "    </tr>\n",
       "    <tr>\n",
       "      <th>P95</th>\n",
       "      <td>72.000000</td>\n",
       "      <td>107.400000</td>\n",
       "      <td>6.921025e+03</td>\n",
       "    </tr>\n",
       "    <tr>\n",
       "      <th>P99</th>\n",
       "      <td>72.000000</td>\n",
       "      <td>114.729000</td>\n",
       "      <td>8.037867e+03</td>\n",
       "    </tr>\n",
       "    <tr>\n",
       "      <th>MAX</th>\n",
       "      <td>72.000000</td>\n",
       "      <td>118.750000</td>\n",
       "      <td>8.039256e+03</td>\n",
       "    </tr>\n",
       "    <tr>\n",
       "      <th>LC</th>\n",
       "      <td>-16.747813</td>\n",
       "      <td>4.581598</td>\n",
       "      <td>-2.235797e+03</td>\n",
       "    </tr>\n",
       "    <tr>\n",
       "      <th>UC</th>\n",
       "      <td>81.490111</td>\n",
       "      <td>124.941787</td>\n",
       "      <td>6.797287e+03</td>\n",
       "    </tr>\n",
       "    <tr>\n",
       "      <th>outlier_flag</th>\n",
       "      <td>0.000000</td>\n",
       "      <td>0.000000</td>\n",
       "      <td>1.000000e+00</td>\n",
       "    </tr>\n",
       "  </tbody>\n",
       "</table>\n",
       "</div>"
      ],
      "text/plain": [
       "                     tenure  MonthlyCharges  TotalCharges\n",
       "N               7043.000000     7043.000000  7.043000e+03\n",
       "NMISS              0.000000        0.000000  0.000000e+00\n",
       "SUM           227990.000000   456116.600000  1.606329e+07\n",
       "MEAN              32.371149       64.761692  2.280745e+03\n",
       "MEDIAN            29.000000       70.350000  1.400550e+03\n",
       "STD               24.559481       30.090047  2.258271e+03\n",
       "VAR              603.168108      905.410934  5.099788e+06\n",
       "MIN                0.000000       18.250000  1.990000e+01\n",
       "P1                 1.000000       19.200000  1.990000e+01\n",
       "P5                 1.000000       19.650000  4.965000e+01\n",
       "P10                2.000000       20.050000  8.461000e+01\n",
       "P25                9.000000       35.500000  4.022250e+02\n",
       "P50               29.000000       70.350000  1.400550e+03\n",
       "P75               55.000000       89.850000  3.786600e+03\n",
       "P90               69.000000      102.600000  5.973690e+03\n",
       "P95               72.000000      107.400000  6.921025e+03\n",
       "P99               72.000000      114.729000  8.037867e+03\n",
       "MAX               72.000000      118.750000  8.039256e+03\n",
       "LC               -16.747813        4.581598 -2.235797e+03\n",
       "UC                81.490111      124.941787  6.797287e+03\n",
       "outlier_flag       0.000000        0.000000  1.000000e+00"
      ]
     },
     "execution_count": 275,
     "metadata": {},
     "output_type": "execute_result"
    }
   ],
   "source": [
    "cc[numeric_columns].apply(lambda x: var_summary(x))"
   ]
  },
  {
   "cell_type": "code",
   "execution_count": 276,
   "id": "6fdaefbd",
   "metadata": {},
   "outputs": [
    {
     "data": {
      "text/html": [
       "<div>\n",
       "<style scoped>\n",
       "    .dataframe tbody tr th:only-of-type {\n",
       "        vertical-align: middle;\n",
       "    }\n",
       "\n",
       "    .dataframe tbody tr th {\n",
       "        vertical-align: top;\n",
       "    }\n",
       "\n",
       "    .dataframe thead th {\n",
       "        text-align: right;\n",
       "    }\n",
       "</style>\n",
       "<table border=\"1\" class=\"dataframe\">\n",
       "  <thead>\n",
       "    <tr style=\"text-align: right;\">\n",
       "      <th></th>\n",
       "      <th>gender</th>\n",
       "      <th>SeniorCitizen</th>\n",
       "      <th>Partner</th>\n",
       "      <th>Dependents</th>\n",
       "      <th>tenure</th>\n",
       "      <th>PhoneService</th>\n",
       "      <th>MultipleLines</th>\n",
       "      <th>InternetService</th>\n",
       "      <th>OnlineSecurity</th>\n",
       "      <th>OnlineBackup</th>\n",
       "      <th>DeviceProtection</th>\n",
       "      <th>TechSupport</th>\n",
       "      <th>StreamingTV</th>\n",
       "      <th>StreamingMovies</th>\n",
       "      <th>Contract</th>\n",
       "      <th>PaperlessBilling</th>\n",
       "      <th>PaymentMethod</th>\n",
       "      <th>MonthlyCharges</th>\n",
       "      <th>TotalCharges</th>\n",
       "      <th>Churn</th>\n",
       "    </tr>\n",
       "  </thead>\n",
       "  <tbody>\n",
       "    <tr>\n",
       "      <th>2756</th>\n",
       "      <td>Female</td>\n",
       "      <td>0</td>\n",
       "      <td>No</td>\n",
       "      <td>No</td>\n",
       "      <td>1</td>\n",
       "      <td>Yes</td>\n",
       "      <td>No</td>\n",
       "      <td>No</td>\n",
       "      <td>No internet service</td>\n",
       "      <td>No internet service</td>\n",
       "      <td>No internet service</td>\n",
       "      <td>No internet service</td>\n",
       "      <td>No internet service</td>\n",
       "      <td>No internet service</td>\n",
       "      <td>Month-to-month</td>\n",
       "      <td>No</td>\n",
       "      <td>Mailed check</td>\n",
       "      <td>20.95</td>\n",
       "      <td>20.95</td>\n",
       "      <td>Yes</td>\n",
       "    </tr>\n",
       "    <tr>\n",
       "      <th>82</th>\n",
       "      <td>Female</td>\n",
       "      <td>0</td>\n",
       "      <td>Yes</td>\n",
       "      <td>No</td>\n",
       "      <td>7</td>\n",
       "      <td>Yes</td>\n",
       "      <td>No</td>\n",
       "      <td>Fiber optic</td>\n",
       "      <td>No</td>\n",
       "      <td>No</td>\n",
       "      <td>Yes</td>\n",
       "      <td>No</td>\n",
       "      <td>No</td>\n",
       "      <td>No</td>\n",
       "      <td>Month-to-month</td>\n",
       "      <td>Yes</td>\n",
       "      <td>Bank transfer (automatic)</td>\n",
       "      <td>75.15</td>\n",
       "      <td>496.90</td>\n",
       "      <td>Yes</td>\n",
       "    </tr>\n",
       "    <tr>\n",
       "      <th>5357</th>\n",
       "      <td>Male</td>\n",
       "      <td>0</td>\n",
       "      <td>Yes</td>\n",
       "      <td>No</td>\n",
       "      <td>60</td>\n",
       "      <td>Yes</td>\n",
       "      <td>No</td>\n",
       "      <td>No</td>\n",
       "      <td>No internet service</td>\n",
       "      <td>No internet service</td>\n",
       "      <td>No internet service</td>\n",
       "      <td>No internet service</td>\n",
       "      <td>No internet service</td>\n",
       "      <td>No internet service</td>\n",
       "      <td>Two year</td>\n",
       "      <td>No</td>\n",
       "      <td>Mailed check</td>\n",
       "      <td>19.95</td>\n",
       "      <td>1258.15</td>\n",
       "      <td>No</td>\n",
       "    </tr>\n",
       "    <tr>\n",
       "      <th>2040</th>\n",
       "      <td>Male</td>\n",
       "      <td>0</td>\n",
       "      <td>Yes</td>\n",
       "      <td>No</td>\n",
       "      <td>71</td>\n",
       "      <td>Yes</td>\n",
       "      <td>Yes</td>\n",
       "      <td>DSL</td>\n",
       "      <td>Yes</td>\n",
       "      <td>Yes</td>\n",
       "      <td>Yes</td>\n",
       "      <td>Yes</td>\n",
       "      <td>Yes</td>\n",
       "      <td>Yes</td>\n",
       "      <td>Two year</td>\n",
       "      <td>No</td>\n",
       "      <td>Bank transfer (automatic)</td>\n",
       "      <td>90.55</td>\n",
       "      <td>6404.00</td>\n",
       "      <td>No</td>\n",
       "    </tr>\n",
       "    <tr>\n",
       "      <th>6953</th>\n",
       "      <td>Female</td>\n",
       "      <td>1</td>\n",
       "      <td>No</td>\n",
       "      <td>No</td>\n",
       "      <td>13</td>\n",
       "      <td>Yes</td>\n",
       "      <td>Yes</td>\n",
       "      <td>Fiber optic</td>\n",
       "      <td>No</td>\n",
       "      <td>No</td>\n",
       "      <td>No</td>\n",
       "      <td>No</td>\n",
       "      <td>No</td>\n",
       "      <td>Yes</td>\n",
       "      <td>Month-to-month</td>\n",
       "      <td>Yes</td>\n",
       "      <td>Electronic check</td>\n",
       "      <td>82.00</td>\n",
       "      <td>1127.20</td>\n",
       "      <td>Yes</td>\n",
       "    </tr>\n",
       "  </tbody>\n",
       "</table>\n",
       "</div>"
      ],
      "text/plain": [
       "      gender  SeniorCitizen Partner Dependents  tenure PhoneService  \\\n",
       "2756  Female              0      No         No       1          Yes   \n",
       "82    Female              0     Yes         No       7          Yes   \n",
       "5357    Male              0     Yes         No      60          Yes   \n",
       "2040    Male              0     Yes         No      71          Yes   \n",
       "6953  Female              1      No         No      13          Yes   \n",
       "\n",
       "     MultipleLines InternetService       OnlineSecurity         OnlineBackup  \\\n",
       "2756            No              No  No internet service  No internet service   \n",
       "82              No     Fiber optic                   No                   No   \n",
       "5357            No              No  No internet service  No internet service   \n",
       "2040           Yes             DSL                  Yes                  Yes   \n",
       "6953           Yes     Fiber optic                   No                   No   \n",
       "\n",
       "         DeviceProtection          TechSupport          StreamingTV  \\\n",
       "2756  No internet service  No internet service  No internet service   \n",
       "82                    Yes                   No                   No   \n",
       "5357  No internet service  No internet service  No internet service   \n",
       "2040                  Yes                  Yes                  Yes   \n",
       "6953                   No                   No                   No   \n",
       "\n",
       "          StreamingMovies        Contract PaperlessBilling  \\\n",
       "2756  No internet service  Month-to-month               No   \n",
       "82                     No  Month-to-month              Yes   \n",
       "5357  No internet service        Two year               No   \n",
       "2040                  Yes        Two year               No   \n",
       "6953                  Yes  Month-to-month              Yes   \n",
       "\n",
       "                  PaymentMethod  MonthlyCharges  TotalCharges Churn  \n",
       "2756               Mailed check           20.95         20.95   Yes  \n",
       "82    Bank transfer (automatic)           75.15        496.90   Yes  \n",
       "5357               Mailed check           19.95       1258.15    No  \n",
       "2040  Bank transfer (automatic)           90.55       6404.00    No  \n",
       "6953           Electronic check           82.00       1127.20   Yes  "
      ]
     },
     "execution_count": 276,
     "metadata": {},
     "output_type": "execute_result"
    }
   ],
   "source": [
    "cc.sample(5)"
   ]
  },
  {
   "cell_type": "markdown",
   "id": "4e52f31f",
   "metadata": {},
   "source": [
    "### Data Scaling"
   ]
  },
  {
   "cell_type": "code",
   "execution_count": 277,
   "id": "076207b7",
   "metadata": {},
   "outputs": [
    {
     "name": "stdout",
     "output_type": "stream",
     "text": [
      "gender ['Female' 'Male']\n",
      "Partner ['Yes' 'No']\n",
      "Dependents ['No' 'Yes']\n",
      "PhoneService ['No' 'Yes']\n",
      "MultipleLines ['No phone service' 'No' 'Yes']\n",
      "InternetService ['DSL' 'Fiber optic' 'No']\n",
      "OnlineSecurity ['No' 'Yes' 'No internet service']\n",
      "OnlineBackup ['Yes' 'No' 'No internet service']\n",
      "DeviceProtection ['No' 'Yes' 'No internet service']\n",
      "TechSupport ['No' 'Yes' 'No internet service']\n",
      "StreamingTV ['No' 'Yes' 'No internet service']\n",
      "StreamingMovies ['No' 'Yes' 'No internet service']\n",
      "Contract ['Month-to-month' 'One year' 'Two year']\n",
      "PaperlessBilling ['Yes' 'No']\n",
      "PaymentMethod ['Electronic check' 'Mailed check' 'Bank transfer (automatic)'\n",
      " 'Credit card (automatic)']\n",
      "Churn ['No' 'Yes']\n"
     ]
    }
   ],
   "source": [
    "# Replacing unnescessary data \n",
    "for col in cc:\n",
    "    if cc[col].dtypes == 'object':\n",
    "        print(col ,cc[col].unique())"
   ]
  },
  {
   "cell_type": "code",
   "execution_count": 278,
   "id": "83254fd4",
   "metadata": {},
   "outputs": [],
   "source": [
    "cc.replace('No phone service', 'No', inplace = True)\n",
    "cc.replace('No internet service', 'No', inplace = True)"
   ]
  },
  {
   "cell_type": "code",
   "execution_count": 279,
   "id": "537672db",
   "metadata": {},
   "outputs": [
    {
     "name": "stdout",
     "output_type": "stream",
     "text": [
      "gender ['Female' 'Male']\n",
      "Partner ['Yes' 'No']\n",
      "Dependents ['No' 'Yes']\n",
      "PhoneService ['No' 'Yes']\n",
      "MultipleLines ['No' 'Yes']\n",
      "InternetService ['DSL' 'Fiber optic' 'No']\n",
      "OnlineSecurity ['No' 'Yes']\n",
      "OnlineBackup ['Yes' 'No']\n",
      "DeviceProtection ['No' 'Yes']\n",
      "TechSupport ['No' 'Yes']\n",
      "StreamingTV ['No' 'Yes']\n",
      "StreamingMovies ['No' 'Yes']\n",
      "Contract ['Month-to-month' 'One year' 'Two year']\n",
      "PaperlessBilling ['Yes' 'No']\n",
      "PaymentMethod ['Electronic check' 'Mailed check' 'Bank transfer (automatic)'\n",
      " 'Credit card (automatic)']\n",
      "Churn ['No' 'Yes']\n"
     ]
    }
   ],
   "source": [
    "for col in cc:\n",
    "    if cc[col].dtypes == 'object':\n",
    "        print(col ,cc[col].unique())"
   ]
  },
  {
   "cell_type": "code",
   "execution_count": 280,
   "id": "27bdc5b6",
   "metadata": {},
   "outputs": [
    {
     "name": "stdout",
     "output_type": "stream",
     "text": [
      "['Partner', 'Dependents', 'PhoneService', 'MultipleLines', 'OnlineSecurity', 'OnlineBackup', 'DeviceProtection', 'TechSupport', 'StreamingTV', 'StreamingMovies', 'PaperlessBilling', 'Churn']\n"
     ]
    }
   ],
   "source": [
    "yes_no_cols = []\n",
    "for col in cc:\n",
    "    unique_cols = cc[col].unique()\n",
    "    if sorted(unique_cols) == ['No', 'Yes']:\n",
    "        yes_no_cols.append(col)\n",
    "\n",
    "print(yes_no_cols)"
   ]
  },
  {
   "cell_type": "code",
   "execution_count": 281,
   "id": "4f20ce10",
   "metadata": {},
   "outputs": [],
   "source": [
    "# Replacing catcategorical data with binary values\n",
    "for col in yes_no_cols:\n",
    "    cc[col].replace({'Yes': 1, 'No': 0}, inplace=  True)"
   ]
  },
  {
   "cell_type": "code",
   "execution_count": 282,
   "id": "41a752ae",
   "metadata": {},
   "outputs": [
    {
     "name": "stdout",
     "output_type": "stream",
     "text": [
      "gender ['Female' 'Male']\n",
      "InternetService ['DSL' 'Fiber optic' 'No']\n",
      "Contract ['Month-to-month' 'One year' 'Two year']\n",
      "PaymentMethod ['Electronic check' 'Mailed check' 'Bank transfer (automatic)'\n",
      " 'Credit card (automatic)']\n"
     ]
    }
   ],
   "source": [
    "for col in cc:\n",
    "    if cc[col].dtypes == 'object':\n",
    "        print(col ,cc[col].unique())"
   ]
  },
  {
   "cell_type": "code",
   "execution_count": 283,
   "id": "72af7f61",
   "metadata": {},
   "outputs": [],
   "source": [
    "cc['gender'].replace({'Male': 0, 'Female': 1}, inplace = True)"
   ]
  },
  {
   "cell_type": "code",
   "execution_count": 284,
   "id": "bf1c2e14",
   "metadata": {},
   "outputs": [
    {
     "name": "stdout",
     "output_type": "stream",
     "text": [
      "InternetService ['DSL' 'Fiber optic' 'No']\n",
      "Contract ['Month-to-month' 'One year' 'Two year']\n",
      "PaymentMethod ['Electronic check' 'Mailed check' 'Bank transfer (automatic)'\n",
      " 'Credit card (automatic)']\n"
     ]
    }
   ],
   "source": [
    "for col in cc:\n",
    "    if cc[col].dtypes == 'object':\n",
    "        print(col ,cc[col].unique())"
   ]
  },
  {
   "cell_type": "markdown",
   "id": "c36fb8d1",
   "metadata": {},
   "source": [
    "If you have many categorical features or features with high cardinality (many unique values), this can lead to a significant increase in the number of columns and data size.\n",
    "\n",
    "Whereas for us, our cardinality is 3"
   ]
  },
  {
   "cell_type": "code",
   "execution_count": 285,
   "id": "58a0674f",
   "metadata": {},
   "outputs": [],
   "source": [
    "cc1 = pd.get_dummies(data = cc, columns=['InternetService', 'Contract', 'PaymentMethod'])"
   ]
  },
  {
   "cell_type": "code",
   "execution_count": 286,
   "id": "a3ac335d",
   "metadata": {},
   "outputs": [
    {
     "data": {
      "text/html": [
       "<div>\n",
       "<style scoped>\n",
       "    .dataframe tbody tr th:only-of-type {\n",
       "        vertical-align: middle;\n",
       "    }\n",
       "\n",
       "    .dataframe tbody tr th {\n",
       "        vertical-align: top;\n",
       "    }\n",
       "\n",
       "    .dataframe thead th {\n",
       "        text-align: right;\n",
       "    }\n",
       "</style>\n",
       "<table border=\"1\" class=\"dataframe\">\n",
       "  <thead>\n",
       "    <tr style=\"text-align: right;\">\n",
       "      <th></th>\n",
       "      <th>gender</th>\n",
       "      <th>SeniorCitizen</th>\n",
       "      <th>Partner</th>\n",
       "      <th>Dependents</th>\n",
       "      <th>tenure</th>\n",
       "      <th>PhoneService</th>\n",
       "      <th>MultipleLines</th>\n",
       "      <th>OnlineSecurity</th>\n",
       "      <th>OnlineBackup</th>\n",
       "      <th>DeviceProtection</th>\n",
       "      <th>...</th>\n",
       "      <th>InternetService_DSL</th>\n",
       "      <th>InternetService_Fiber optic</th>\n",
       "      <th>InternetService_No</th>\n",
       "      <th>Contract_Month-to-month</th>\n",
       "      <th>Contract_One year</th>\n",
       "      <th>Contract_Two year</th>\n",
       "      <th>PaymentMethod_Bank transfer (automatic)</th>\n",
       "      <th>PaymentMethod_Credit card (automatic)</th>\n",
       "      <th>PaymentMethod_Electronic check</th>\n",
       "      <th>PaymentMethod_Mailed check</th>\n",
       "    </tr>\n",
       "  </thead>\n",
       "  <tbody>\n",
       "    <tr>\n",
       "      <th>0</th>\n",
       "      <td>1</td>\n",
       "      <td>0</td>\n",
       "      <td>1</td>\n",
       "      <td>0</td>\n",
       "      <td>1</td>\n",
       "      <td>0</td>\n",
       "      <td>0</td>\n",
       "      <td>0</td>\n",
       "      <td>1</td>\n",
       "      <td>0</td>\n",
       "      <td>...</td>\n",
       "      <td>True</td>\n",
       "      <td>False</td>\n",
       "      <td>False</td>\n",
       "      <td>True</td>\n",
       "      <td>False</td>\n",
       "      <td>False</td>\n",
       "      <td>False</td>\n",
       "      <td>False</td>\n",
       "      <td>True</td>\n",
       "      <td>False</td>\n",
       "    </tr>\n",
       "    <tr>\n",
       "      <th>1</th>\n",
       "      <td>0</td>\n",
       "      <td>0</td>\n",
       "      <td>0</td>\n",
       "      <td>0</td>\n",
       "      <td>34</td>\n",
       "      <td>1</td>\n",
       "      <td>0</td>\n",
       "      <td>1</td>\n",
       "      <td>0</td>\n",
       "      <td>1</td>\n",
       "      <td>...</td>\n",
       "      <td>True</td>\n",
       "      <td>False</td>\n",
       "      <td>False</td>\n",
       "      <td>False</td>\n",
       "      <td>True</td>\n",
       "      <td>False</td>\n",
       "      <td>False</td>\n",
       "      <td>False</td>\n",
       "      <td>False</td>\n",
       "      <td>True</td>\n",
       "    </tr>\n",
       "    <tr>\n",
       "      <th>2</th>\n",
       "      <td>0</td>\n",
       "      <td>0</td>\n",
       "      <td>0</td>\n",
       "      <td>0</td>\n",
       "      <td>2</td>\n",
       "      <td>1</td>\n",
       "      <td>0</td>\n",
       "      <td>1</td>\n",
       "      <td>1</td>\n",
       "      <td>0</td>\n",
       "      <td>...</td>\n",
       "      <td>True</td>\n",
       "      <td>False</td>\n",
       "      <td>False</td>\n",
       "      <td>True</td>\n",
       "      <td>False</td>\n",
       "      <td>False</td>\n",
       "      <td>False</td>\n",
       "      <td>False</td>\n",
       "      <td>False</td>\n",
       "      <td>True</td>\n",
       "    </tr>\n",
       "    <tr>\n",
       "      <th>3</th>\n",
       "      <td>0</td>\n",
       "      <td>0</td>\n",
       "      <td>0</td>\n",
       "      <td>0</td>\n",
       "      <td>45</td>\n",
       "      <td>0</td>\n",
       "      <td>0</td>\n",
       "      <td>1</td>\n",
       "      <td>0</td>\n",
       "      <td>1</td>\n",
       "      <td>...</td>\n",
       "      <td>True</td>\n",
       "      <td>False</td>\n",
       "      <td>False</td>\n",
       "      <td>False</td>\n",
       "      <td>True</td>\n",
       "      <td>False</td>\n",
       "      <td>True</td>\n",
       "      <td>False</td>\n",
       "      <td>False</td>\n",
       "      <td>False</td>\n",
       "    </tr>\n",
       "    <tr>\n",
       "      <th>4</th>\n",
       "      <td>1</td>\n",
       "      <td>0</td>\n",
       "      <td>0</td>\n",
       "      <td>0</td>\n",
       "      <td>2</td>\n",
       "      <td>1</td>\n",
       "      <td>0</td>\n",
       "      <td>0</td>\n",
       "      <td>0</td>\n",
       "      <td>0</td>\n",
       "      <td>...</td>\n",
       "      <td>False</td>\n",
       "      <td>True</td>\n",
       "      <td>False</td>\n",
       "      <td>True</td>\n",
       "      <td>False</td>\n",
       "      <td>False</td>\n",
       "      <td>False</td>\n",
       "      <td>False</td>\n",
       "      <td>True</td>\n",
       "      <td>False</td>\n",
       "    </tr>\n",
       "  </tbody>\n",
       "</table>\n",
       "<p>5 rows × 27 columns</p>\n",
       "</div>"
      ],
      "text/plain": [
       "   gender  SeniorCitizen  Partner  Dependents  tenure  PhoneService  \\\n",
       "0       1              0        1           0       1             0   \n",
       "1       0              0        0           0      34             1   \n",
       "2       0              0        0           0       2             1   \n",
       "3       0              0        0           0      45             0   \n",
       "4       1              0        0           0       2             1   \n",
       "\n",
       "   MultipleLines  OnlineSecurity  OnlineBackup  DeviceProtection  ...  \\\n",
       "0              0               0             1                 0  ...   \n",
       "1              0               1             0                 1  ...   \n",
       "2              0               1             1                 0  ...   \n",
       "3              0               1             0                 1  ...   \n",
       "4              0               0             0                 0  ...   \n",
       "\n",
       "   InternetService_DSL  InternetService_Fiber optic  InternetService_No  \\\n",
       "0                 True                        False               False   \n",
       "1                 True                        False               False   \n",
       "2                 True                        False               False   \n",
       "3                 True                        False               False   \n",
       "4                False                         True               False   \n",
       "\n",
       "   Contract_Month-to-month  Contract_One year  Contract_Two year  \\\n",
       "0                     True              False              False   \n",
       "1                    False               True              False   \n",
       "2                     True              False              False   \n",
       "3                    False               True              False   \n",
       "4                     True              False              False   \n",
       "\n",
       "   PaymentMethod_Bank transfer (automatic)  \\\n",
       "0                                    False   \n",
       "1                                    False   \n",
       "2                                    False   \n",
       "3                                     True   \n",
       "4                                    False   \n",
       "\n",
       "   PaymentMethod_Credit card (automatic)  PaymentMethod_Electronic check  \\\n",
       "0                                  False                            True   \n",
       "1                                  False                           False   \n",
       "2                                  False                           False   \n",
       "3                                  False                           False   \n",
       "4                                  False                            True   \n",
       "\n",
       "   PaymentMethod_Mailed check  \n",
       "0                       False  \n",
       "1                        True  \n",
       "2                        True  \n",
       "3                       False  \n",
       "4                       False  \n",
       "\n",
       "[5 rows x 27 columns]"
      ]
     },
     "execution_count": 286,
     "metadata": {},
     "output_type": "execute_result"
    }
   ],
   "source": [
    "cc1.head()"
   ]
  },
  {
   "cell_type": "code",
   "execution_count": 287,
   "id": "510de1e9",
   "metadata": {},
   "outputs": [
    {
     "name": "stdout",
     "output_type": "stream",
     "text": [
      "['InternetService_DSL', 'InternetService_Fiber optic', 'InternetService_No', 'Contract_Month-to-month', 'Contract_One year', 'Contract_Two year', 'PaymentMethod_Bank transfer (automatic)', 'PaymentMethod_Credit card (automatic)', 'PaymentMethod_Electronic check', 'PaymentMethod_Mailed check']\n"
     ]
    }
   ],
   "source": [
    "# Finding bool columns\n",
    "bool_cols = []\n",
    "for col in cc1:\n",
    "    if cc1[col].dtypes == 'bool':\n",
    "        bool_cols.append(col)\n",
    "\n",
    "print(bool_cols)"
   ]
  },
  {
   "cell_type": "code",
   "execution_count": 288,
   "id": "6c4335aa",
   "metadata": {},
   "outputs": [],
   "source": [
    "# Converting booleans into integer dtypes\n",
    "for col in bool_cols:\n",
    "    cc1[col] = cc1[col].astype(int)"
   ]
  },
  {
   "cell_type": "code",
   "execution_count": 289,
   "id": "63071941",
   "metadata": {},
   "outputs": [],
   "source": [
    "# Scaling the remaining columns \n",
    "cols_to_scale = ['tenure', 'MonthlyCharges', 'TotalCharges']\n",
    "scaler = MinMaxScaler()\n",
    "cc1[cols_to_scale] = scaler.fit_transform(cc1[cols_to_scale])"
   ]
  },
  {
   "cell_type": "code",
   "execution_count": 290,
   "id": "b8ccd4f6",
   "metadata": {},
   "outputs": [
    {
     "name": "stdout",
     "output_type": "stream",
     "text": [
      "gender [1 0]\n",
      "SeniorCitizen [0 1]\n",
      "Partner [1 0]\n",
      "Dependents [0 1]\n",
      "tenure [0.01388889 0.47222222 0.02777778 0.625      0.11111111 0.30555556\n",
      " 0.13888889 0.38888889 0.86111111 0.18055556 0.22222222 0.80555556\n",
      " 0.68055556 0.34722222 0.95833333 0.72222222 0.98611111 0.29166667\n",
      " 0.16666667 0.41666667 0.65277778 1.         0.23611111 0.375\n",
      " 0.06944444 0.63888889 0.15277778 0.97222222 0.875      0.59722222\n",
      " 0.20833333 0.83333333 0.25       0.91666667 0.125      0.04166667\n",
      " 0.43055556 0.69444444 0.88888889 0.77777778 0.09722222 0.58333333\n",
      " 0.48611111 0.66666667 0.40277778 0.90277778 0.52777778 0.94444444\n",
      " 0.44444444 0.76388889 0.51388889 0.5        0.56944444 0.08333333\n",
      " 0.05555556 0.45833333 0.93055556 0.31944444 0.79166667 0.84722222\n",
      " 0.19444444 0.27777778 0.73611111 0.55555556 0.81944444 0.33333333\n",
      " 0.61111111 0.26388889 0.75       0.70833333 0.36111111 0.\n",
      " 0.54166667]\n",
      "PhoneService [0 1]\n",
      "MultipleLines [0 1]\n",
      "OnlineSecurity [0 1]\n",
      "OnlineBackup [1 0]\n",
      "DeviceProtection [0 1]\n",
      "TechSupport [0 1]\n",
      "StreamingTV [0 1]\n",
      "StreamingMovies [0 1]\n",
      "PaperlessBilling [1 0]\n",
      "MonthlyCharges [0.11542289 0.38507463 0.35422886 ... 0.44626866 0.25820896 0.60149254]\n",
      "TotalCharges [0.00124075 0.23313593 0.01100462 ... 0.04072023 0.035751   0.85101597]\n",
      "Churn [0 1]\n",
      "InternetService_DSL [1 0]\n",
      "InternetService_Fiber optic [0 1]\n",
      "InternetService_No [0 1]\n",
      "Contract_Month-to-month [1 0]\n",
      "Contract_One year [0 1]\n",
      "Contract_Two year [0 1]\n",
      "PaymentMethod_Bank transfer (automatic) [0 1]\n",
      "PaymentMethod_Credit card (automatic) [0 1]\n",
      "PaymentMethod_Electronic check [1 0]\n",
      "PaymentMethod_Mailed check [0 1]\n"
     ]
    }
   ],
   "source": [
    "for col in cc1:\n",
    "    print(col ,cc1[col].unique())"
   ]
  },
  {
   "cell_type": "code",
   "execution_count": 291,
   "id": "4cf16910",
   "metadata": {
    "scrolled": true
   },
   "outputs": [
    {
     "name": "stdout",
     "output_type": "stream",
     "text": [
      "Churn                                      1.000000\n",
      "Contract_Month-to-month                    0.405103\n",
      "InternetService_Fiber optic                0.308020\n",
      "PaymentMethod_Electronic check             0.301919\n",
      "MonthlyCharges                             0.193356\n",
      "PaperlessBilling                           0.191825\n",
      "SeniorCitizen                              0.150889\n",
      "StreamingTV                                0.063228\n",
      "StreamingMovies                            0.061382\n",
      "MultipleLines                              0.040102\n",
      "PhoneService                               0.011942\n",
      "gender                                     0.008612\n",
      "DeviceProtection                          -0.066160\n",
      "OnlineBackup                              -0.082255\n",
      "PaymentMethod_Mailed check                -0.091683\n",
      "PaymentMethod_Bank transfer (automatic)   -0.117937\n",
      "InternetService_DSL                       -0.124214\n",
      "PaymentMethod_Credit card (automatic)     -0.134302\n",
      "Partner                                   -0.150448\n",
      "Dependents                                -0.164221\n",
      "TechSupport                               -0.164674\n",
      "OnlineSecurity                            -0.171226\n",
      "Contract_One year                         -0.177820\n",
      "TotalCharges                              -0.199455\n",
      "InternetService_No                        -0.227890\n",
      "Contract_Two year                         -0.302253\n",
      "tenure                                    -0.352229\n",
      "Name: Churn, dtype: float64\n"
     ]
    }
   ],
   "source": [
    "correlation_matrix = cc1.corr()\n",
    "churn_correlations = correlation_matrix[\"Churn\"].sort_values(ascending=False)\n",
    "print(churn_correlations)"
   ]
  },
  {
   "cell_type": "markdown",
   "id": "f8421565",
   "metadata": {},
   "source": [
    "- A positive correlation (e.g., values close to 1) suggests that as the values in the other column increase, the likelihood of churn increases. For example, \"Contract_Month-to-month\" and \"InternetService_Fiber optic\" have positive correlations with churn, indicating that customers with month-to-month contracts or fiber optic internet service are more likely to churn.\n",
    "<br><br>\n",
    "- A negative correlation (e.g., values close to -1) suggests that as the values in the other column increase, the likelihood of churn decreases. For example, \"tenure\" has a negative correlation with churn, suggesting that customers with longer tenure are less likely to churn.\n",
    "<br><br>\n",
    "- Correlation values close to 0 indicate a weak linear relationship between the columns. For example, \"gender\" and \"PhoneService\" have correlation values close to 0, suggesting that these factors have little to no impact on churn."
   ]
  },
  {
   "cell_type": "code",
   "execution_count": 292,
   "id": "5650ee45",
   "metadata": {},
   "outputs": [
    {
     "data": {
      "image/png": "[encoded data removed]",
      "text/plain": [
       "<Figure size 1200x1000 with 2 Axes>"
      ]
     },
     "metadata": {},
     "output_type": "display_data"
    }
   ],
   "source": [
    "corr_matrix = cc1.corr()\n",
    "plt.figure(figsize=(12, 10))\n",
    "sns.heatmap(corr_matrix)\n",
    "plt.title('Correlation Heatmap')\n",
    "plt.show()"
   ]
  },
  {
   "cell_type": "markdown",
   "id": "b604e4ec",
   "metadata": {},
   "source": [
    "## Building Model"
   ]
  },
  {
   "cell_type": "code",
   "execution_count": 293,
   "id": "4574f2e4",
   "metadata": {},
   "outputs": [],
   "source": [
    "from sklearn.model_selection import train_test_split\n",
    "X = cc1.drop('Churn', axis = 'columns')\n",
    "y = cc1['Churn']\n",
    "X_train, X_test, y_train, y_test = train_test_split(X, y, test_size=0.2, random_state=42)"
   ]
  },
  {
   "cell_type": "code",
   "execution_count": 294,
   "id": "620a9ccb",
   "metadata": {},
   "outputs": [
    {
     "data": {
      "text/html": [
       "<style>#sk-container-id-5 {color: black;}#sk-container-id-5 pre{padding: 0;}#sk-container-id-5 div.sk-toggleable {background-color: white;}#sk-container-id-5 label.sk-toggleable__label {cursor: pointer;display: block;width: 100%;margin-bottom: 0;padding: 0.3em;box-sizing: border-box;text-align: center;}#sk-container-id-5 label.sk-toggleable__label-arrow:before {content: \"▸\";float: left;margin-right: 0.25em;color: #696969;}#sk-container-id-5 label.sk-toggleable__label-arrow:hover:before {color: black;}#sk-container-id-5 div.sk-estimator:hover label.sk-toggleable__label-arrow:before {color: black;}#sk-container-id-5 div.sk-toggleable__content {max-height: 0;max-width: 0;overflow: hidden;text-align: left;background-color: #f0f8ff;}#sk-container-id-5 div.sk-toggleable__content pre {margin: 0.2em;color: black;border-radius: 0.25em;background-color: #f0f8ff;}#sk-container-id-5 input.sk-toggleable__control:checked~div.sk-toggleable__content {max-height: 200px;max-width: 100%;overflow: auto;}#sk-container-id-5 input.sk-toggleable__control:checked~label.sk-toggleable__label-arrow:before {content: \"▾\";}#sk-container-id-5 div.sk-estimator input.sk-toggleable__control:checked~label.sk-toggleable__label {background-color: #d4ebff;}#sk-container-id-5 div.sk-label input.sk-toggleable__control:checked~label.sk-toggleable__label {background-color: #d4ebff;}#sk-container-id-5 input.sk-hidden--visually {border: 0;clip: rect(1px 1px 1px 1px);clip: rect(1px, 1px, 1px, 1px);height: 1px;margin: -1px;overflow: hidden;padding: 0;position: absolute;width: 1px;}#sk-container-id-5 div.sk-estimator {font-family: monospace;background-color: #f0f8ff;border: 1px dotted black;border-radius: 0.25em;box-sizing: border-box;margin-bottom: 0.5em;}#sk-container-id-5 div.sk-estimator:hover {background-color: #d4ebff;}#sk-container-id-5 div.sk-parallel-item::after {content: \"\";width: 100%;border-bottom: 1px solid gray;flex-grow: 1;}#sk-container-id-5 div.sk-label:hover label.sk-toggleable__label {background-color: #d4ebff;}#sk-container-id-5 div.sk-serial::before {content: \"\";position: absolute;border-left: 1px solid gray;box-sizing: border-box;top: 0;bottom: 0;left: 50%;z-index: 0;}#sk-container-id-5 div.sk-serial {display: flex;flex-direction: column;align-items: center;background-color: white;padding-right: 0.2em;padding-left: 0.2em;position: relative;}#sk-container-id-5 div.sk-item {position: relative;z-index: 1;}#sk-container-id-5 div.sk-parallel {display: flex;align-items: stretch;justify-content: center;background-color: white;position: relative;}#sk-container-id-5 div.sk-item::before, #sk-container-id-5 div.sk-parallel-item::before {content: \"\";position: absolute;border-left: 1px solid gray;box-sizing: border-box;top: 0;bottom: 0;left: 50%;z-index: -1;}#sk-container-id-5 div.sk-parallel-item {display: flex;flex-direction: column;z-index: 1;position: relative;background-color: white;}#sk-container-id-5 div.sk-parallel-item:first-child::after {align-self: flex-end;width: 50%;}#sk-container-id-5 div.sk-parallel-item:last-child::after {align-self: flex-start;width: 50%;}#sk-container-id-5 div.sk-parallel-item:only-child::after {width: 0;}#sk-container-id-5 div.sk-dashed-wrapped {border: 1px dashed gray;margin: 0 0.4em 0.5em 0.4em;box-sizing: border-box;padding-bottom: 0.4em;background-color: white;}#sk-container-id-5 div.sk-label label {font-family: monospace;font-weight: bold;display: inline-block;line-height: 1.2em;}#sk-container-id-5 div.sk-label-container {text-align: center;}#sk-container-id-5 div.sk-container {/* jupyter's `normalize.less` sets `[hidden] { display: none; }` but bootstrap.min.css set `[hidden] { display: none !important; }` so we also need the `!important` here to be able to override the default hidden behavior on the sphinx rendered scikit-learn.org. See: https://github.com/scikit-learn/scikit-learn/issues/21755 */display: inline-block !important;position: relative;}#sk-container-id-5 div.sk-text-repr-fallback {display: none;}</style><div id=\"sk-container-id-5\" class=\"sk-top-container\"><div class=\"sk-text-repr-fallback\"><pre>LogisticRegression(random_state=42)</pre><b>In a Jupyter environment, please rerun this cell to show the HTML representation or trust the notebook. <br />On GitHub, the HTML representation is unable to render, please try loading this page with nbviewer.org.</b></div><div class=\"sk-container\" hidden><div class=\"sk-item\"><div class=\"sk-estimator sk-toggleable\"><input class=\"sk-toggleable__control sk-hidden--visually\" id=\"sk-estimator-id-5\" type=\"checkbox\" checked><label for=\"sk-estimator-id-5\" class=\"sk-toggleable__label sk-toggleable__label-arrow\">LogisticRegression</label><div class=\"sk-toggleable__content\"><pre>LogisticRegression(random_state=42)</pre></div></div></div></div></div>"
      ],
      "text/plain": [
       "LogisticRegression(random_state=42)"
      ]
     },
     "execution_count": 294,
     "metadata": {},
     "output_type": "execute_result"
    }
   ],
   "source": [
    "model = LogisticRegression(random_state=42)\n",
    "model.fit(X_train, y_train)"
   ]
  },
  {
   "cell_type": "markdown",
   "id": "5629b169",
   "metadata": {},
   "source": [
    "### Prediction"
   ]
  },
  {
   "cell_type": "code",
   "execution_count": 295,
   "id": "8440d5b0",
   "metadata": {},
   "outputs": [
    {
     "data": {
      "text/plain": [
       "array([1, 0, 0, 1, 0, 0, 0, 0, 0, 0], dtype=int64)"
      ]
     },
     "execution_count": 295,
     "metadata": {},
     "output_type": "execute_result"
    }
   ],
   "source": [
    "yp = model.predict(X_test)\n",
    "yp[:10]"
   ]
  },
  {
   "cell_type": "code",
   "execution_count": 296,
   "id": "033a7492",
   "metadata": {},
   "outputs": [
    {
     "data": {
      "text/plain": [
       "185     1\n",
       "2715    0\n",
       "3825    0\n",
       "1807    1\n",
       "132     0\n",
       "1263    1\n",
       "3732    0\n",
       "1672    0\n",
       "811     1\n",
       "2526    1\n",
       "Name: Churn, dtype: int64"
      ]
     },
     "execution_count": 296,
     "metadata": {},
     "output_type": "execute_result"
    }
   ],
   "source": [
    "y_test[:10]"
   ]
  },
  {
   "cell_type": "code",
   "execution_count": 297,
   "id": "d98d1d62",
   "metadata": {},
   "outputs": [
    {
     "data": {
      "text/plain": [
       "[1, 0, 0, 1, 0, 0, 0, 0, 0, 0]"
      ]
     },
     "execution_count": 297,
     "metadata": {},
     "output_type": "execute_result"
    }
   ],
   "source": [
    "y_pred = []\n",
    "for ele in yp:\n",
    "    if ele > 0.5:\n",
    "        y_pred.append(1)\n",
    "    else:\n",
    "        y_pred.append(0)\n",
    "        \n",
    "y_pred[:10]"
   ]
  },
  {
   "cell_type": "code",
   "execution_count": 298,
   "id": "91aa7b2a",
   "metadata": {},
   "outputs": [
    {
     "name": "stdout",
     "output_type": "stream",
     "text": [
      "R-squared (R²): 0.8\n",
      "R-squared (R²): 1.0\n"
     ]
    }
   ],
   "source": [
    "# how well your model fits the data.\n",
    "r_squared = r2_score(y_test, y_pred)\n",
    "print(\"R-squared (R²):\", round(r_squared,2)*10)\n",
    "print(\"R-squared (R²):\", round(r_squared,1)*10)"
   ]
  },
  {
   "cell_type": "markdown",
   "id": "2b747f83",
   "metadata": {},
   "source": [
    "Adjusted R² penalizes the inclusion of unnecessary predictors and provides a more realistic assessment of a model's fit"
   ]
  },
  {
   "cell_type": "code",
   "execution_count": 299,
   "id": "139449c4",
   "metadata": {},
   "outputs": [
    {
     "name": "stdout",
     "output_type": "stream",
     "text": [
      "Adjusted R-squared (Adjusted R²): 0.6\n",
      "Adjusted R-squared (Adjusted R²): 1.0\n"
     ]
    }
   ],
   "source": [
    "n = len(y_test)  # Number of data points\n",
    "p = X_test.shape[1]  # Number of predictors (features)\n",
    "\n",
    "adjusted_r_squared = 1 - (1 - r_squared) * (n - 1) / (n - p - 1)\n",
    "print(\"Adjusted R-squared (Adjusted R²):\", round(adjusted_r_squared,2)*10)\n",
    "print(\"Adjusted R-squared (Adjusted R²):\", round(adjusted_r_squared,1)*10)"
   ]
  },
  {
   "cell_type": "code",
   "execution_count": 300,
   "id": "1a5c6f15",
   "metadata": {},
   "outputs": [
    {
     "name": "stdout",
     "output_type": "stream",
     "text": [
      "Accuracy: 82.0\n",
      "Classification Report:\n",
      "              precision    recall  f1-score   support\n",
      "\n",
      "           0       0.86      0.90      0.88      1036\n",
      "           1       0.69      0.59      0.64       373\n",
      "\n",
      "    accuracy                           0.82      1409\n",
      "   macro avg       0.77      0.75      0.76      1409\n",
      "weighted avg       0.81      0.82      0.82      1409\n",
      "\n"
     ]
    }
   ],
   "source": [
    "y_pred = model.predict(X_test)\n",
    "accuracy = accuracy_score(y_test, y_pred)\n",
    "print(\"Accuracy:\", round(accuracy,2)*100)\n",
    "\n",
    "print(\"Classification Report:\")\n",
    "print(classification_report(y_test, y_pred))"
   ]
  },
  {
   "cell_type": "code",
   "execution_count": 301,
   "id": "a9d129f7",
   "metadata": {},
   "outputs": [
    {
     "name": "stdout",
     "output_type": "stream",
     "text": [
      "tf.Tensor(\n",
      "[[936 100]\n",
      " [152 221]], shape=(2, 2), dtype=int32)\n"
     ]
    }
   ],
   "source": [
    "print(tf.math.confusion_matrix(labels = y_test, predictions= y_pred))"
   ]
  },
  {
   "cell_type": "code",
   "execution_count": 302,
   "id": "9a30d099",
   "metadata": {},
   "outputs": [
    {
     "data": {
      "text/plain": [
       "Text(50.722222222222214, 0.5, 'Truth')"
      ]
     },
     "execution_count": 302,
     "metadata": {},
     "output_type": "execute_result"
    },
    {
     "data": {
      "image/png": "[encoded data removed]",
      "text/plain": [
       "<Figure size 640x480 with 2 Axes>"
      ]
     },
     "metadata": {},
     "output_type": "display_data"
    }
   ],
   "source": [
    "cm = tf.math.confusion_matrix(labels = y_test, predictions= y_pred)\n",
    "sns.heatmap(cm, annot=True, fmt='d')\n",
    "plt.xlabel(\"Predicted\")\n",
    "plt.ylabel(\"Truth\")"
   ]
  },
  {
   "cell_type": "markdown",
   "id": "ef7ce34e",
   "metadata": {},
   "source": [
    "- **True Positives (TP):** These are cases where the model correctly predicted the positive class. In our matrix, there are (approx) 221 true positives (bottom-right corner). These are customers who were correctly predicted to churn.\n",
    "<br><br>\n",
    "- **True Negatives (TN):** These are cases where the model correctly predicted the negative class. In our matrix, there are (approx) 936 true negatives (top-left corner). These are customers who were correctly predicted not to churn.\n",
    "<br><br>\n",
    "- **False Positives (FP):** These are cases where our model incorrectly predicted the positive class when it should have predicted the negative class. There are 100 false positives (top-right corner). These are customers who were incorrectly predicted to churn when they didn't (Type I error).\n",
    "<br><br>\n",
    "- **False Negatives (FN):** These are cases where the model incorrectly predicted the negative class when it should have predicted the positive class. There are 152 false negatives (bottom-left corner). These are customers who were incorrectly predicted not to churn when they did (Type II error).\n",
    "<br><br>\n",
    "Accuracy can be calculated as (TP + TN) / (TP + TN + FP + FN), and it represents the overall correctness of predictions. \n",
    "<br><br>\n",
    "So, in our case, accuracy would be approximately (221 + 936) / (221 + 936 + 100 + 152)."
   ]
  },
  {
   "cell_type": "code",
   "execution_count": 303,
   "id": "7edd23ae",
   "metadata": {},
   "outputs": [
    {
     "name": "stdout",
     "output_type": "stream",
     "text": [
      "                                    Feature  Coefficient\n",
      "15                             TotalCharges     1.156243\n",
      "17              InternetService_Fiber optic     0.811282\n",
      "19                  Contract_Month-to-month     0.706101\n",
      "13                         PaperlessBilling     0.331154\n",
      "12                          StreamingMovies     0.304787\n",
      "24           PaymentMethod_Electronic check     0.270726\n",
      "6                             MultipleLines     0.252329\n",
      "11                              StreamingTV     0.201661\n",
      "1                             SeniorCitizen     0.157397\n",
      "0                                    gender     0.052172\n",
      "2                                   Partner     0.045645\n",
      "20                        Contract_One year     0.032697\n",
      "16                      InternetService_DSL    -0.007973\n",
      "9                          DeviceProtection    -0.019055\n",
      "22  PaymentMethod_Bank transfer (automatic)    -0.061466\n",
      "25               PaymentMethod_Mailed check    -0.064126\n",
      "14                           MonthlyCharges    -0.117329\n",
      "23    PaymentMethod_Credit card (automatic)    -0.146713\n",
      "3                                Dependents    -0.165275\n",
      "8                              OnlineBackup    -0.171924\n",
      "10                              TechSupport    -0.345042\n",
      "7                            OnlineSecurity    -0.432119\n",
      "5                              PhoneService    -0.550172\n",
      "21                        Contract_Two year    -0.740377\n",
      "18                       InternetService_No    -0.804888\n",
      "4                                    tenure    -3.062512\n"
     ]
    }
   ],
   "source": [
    "# Which features have the most significant impact on churn prediction?\n",
    "# It indicates the impact (coefficients) of each feature on churn prediction.\n",
    "coefficients = pd.DataFrame({\n",
    "    'Feature': X.columns,\n",
    "    'Coefficient': model.coef_[0]\n",
    "})\n",
    "coefficients = coefficients.sort_values(by='Coefficient', ascending=False)\n",
    "print(coefficients)"
   ]
  },
  {
   "cell_type": "markdown",
   "id": "376baf61",
   "metadata": {},
   "source": [
    "- Features with larger absolute coefficients have a more significant impact on churn prediction. In this case, \"TotalCharges\" has the highest positive coefficient (1.156243), indicating it has the most significant positive impact on predicting churn. <br><br>\n",
    "- Features with positive coefficients (e.g., \"TotalCharges,\" \"InternetService_Fiber optic\") are positively associated with churn. In other words, as these features increase, the likelihood of churn also increases. Conversely, features with negative coefficients (e.g., \"PhoneService,\" \"Contract_Two year\") are negatively associated with churn. An increase in these features is associated with a lower likelihood of churn. <br><br>\n",
    "- The 'tenure' is associated with a decrease of approximately 3.062 in the log-odds of churn. This suggests that longer tenure is negatively correlated with churn, meaning that customers who have been with the service for a longer time are less likely to churn."
   ]
  },
  {
   "cell_type": "markdown",
   "id": "cbb3e990",
   "metadata": {},
   "source": [
    "# Random Test"
   ]
  },
  {
   "cell_type": "code",
   "execution_count": 304,
   "id": "3b7e8a5b",
   "metadata": {},
   "outputs": [],
   "source": [
    "from sklearn.model_selection import cross_val_score\n",
    "from sklearn.svm import SVC\n",
    "\n",
    "classifiers = {\n",
    "    \"Logistic Regression\": LogisticRegression(),\n",
    "    \"Random Forest\": RandomForestClassifier(),\n",
    "    \"Support Vector Machine\": SVC()\n",
    "}"
   ]
  },
  {
   "cell_type": "code",
   "execution_count": 305,
   "id": "4ec2bab0",
   "metadata": {},
   "outputs": [
    {
     "data": {
      "text/plain": [
       "dict_items([('Logistic Regression', LogisticRegression()), ('Random Forest', RandomForestClassifier()), ('Support Vector Machine', SVC())])"
      ]
     },
     "execution_count": 305,
     "metadata": {},
     "output_type": "execute_result"
    }
   ],
   "source": [
    "classifiers.items()"
   ]
  },
  {
   "cell_type": "code",
   "execution_count": 306,
   "id": "70b2948e",
   "metadata": {},
   "outputs": [
    {
     "name": "stdout",
     "output_type": "stream",
     "text": [
      "Logistic Regression: Mean Accuracy = 0.80, Standard Deviation = 0.01\n",
      "Random Forest: Mean Accuracy = 0.79, Standard Deviation = 0.01\n",
      "Support Vector Machine: Mean Accuracy = 0.80, Standard Deviation = 0.01\n"
     ]
    }
   ],
   "source": [
    "# Evaluating each classifier using cross-validation\n",
    "results = {}\n",
    "for name, clf in classifiers.items():\n",
    "    scores = cross_val_score(clf, X, y, cv=5, scoring='accuracy')\n",
    "    results[name] = scores\n",
    "\n",
    "for name, scores in results.items():\n",
    "    print(f\"{name}: Mean Accuracy = {scores.mean():.2f}, Standard Deviation = {scores.std():.2f}\")"
   ]
  }
 ],
 "metadata": {
  "kernelspec": {
   "display_name": "Python 3 (ipykernel)",
   "language": "python",
   "name": "python3"
  },
  "language_info": {
   "codemirror_mode": {
    "name": "ipython",
    "version": 3
   },
   "file_extension": ".py",
   "mimetype": "text/x-python",
   "name": "python",
   "nbconvert_exporter": "python",
   "pygments_lexer": "ipython3",
   "version": "3.10.13"
  }
 },
 "nbformat": 4,
 "nbformat_minor": 5
}
